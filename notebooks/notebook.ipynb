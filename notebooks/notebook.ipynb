{
  "cells": [
    {
      "cell_type": "markdown",
      "source": "# Project 3: Image recognizion. (Melanoma)\n### Group 7: Emma, Laurits, Malthe, Mads og Jonas\n",
      "metadata": {
        "tags": [],
        "cell_id": "00000-07be400d-1a96-4a7d-882d-66f4480cd571",
        "deepnote_cell_type": "markdown"
      }
    },
    {
      "cell_type": "markdown",
      "source": "## Loading the Libraries",
      "metadata": {
        "tags": [],
        "cell_id": "00001-94edeab5-5e09-4f26-9176-4f9e7cb8b471",
        "deepnote_cell_type": "markdown"
      }
    },
    {
      "cell_type": "code",
      "metadata": {
        "tags": [],
        "cell_id": "00002-a8756e48-22e5-4dfe-8de7-1268ab1d28ca",
        "deepnote_to_be_reexecuted": false,
        "source_hash": "f0bc0d60",
        "execution_millis": 8776,
        "execution_start": 1618923026457,
        "deepnote_cell_type": "code"
      },
      "source": "!apt update\n!apt install ffmpeg libsm6 libxext6 -y\n\n!pip install opencv-python\n!pip install --upgrade pip\n\n# needed to import cv2 and check photos for bluriness DONT DELETE",
      "execution_count": 46,
      "outputs": [
        {
          "name": "stdout",
          "text": "Hit:1 http://deb.debian.org/debian buster InRelease\nHit:2 http://deb.debian.org/debian buster-updates InRelease\nHit:3 http://security.debian.org/debian-security buster/updates InRelease\n\n\n\nAll packages are up to date.\n\n\n\nffmpeg is already the newest version (7:4.1.6-1~deb10u1).\nlibsm6 is already the newest version (2:1.2.3-1).\nlibxext6 is already the newest version (2:1.3.3-1+b2).\n0 upgraded, 0 newly installed, 0 to remove and 0 not upgraded.\nRequirement already satisfied: opencv-python in /root/venv/lib/python3.7/site-packages (4.5.1.48)\nRequirement already satisfied: numpy>=1.14.5 in /shared-libs/python3.7/py/lib/python3.7/site-packages (from opencv-python) (1.19.5)\nRequirement already satisfied: pip in /root/venv/lib/python3.7/site-packages (21.0.1)\n",
          "output_type": "stream"
        }
      ]
    },
    {
      "cell_type": "code",
      "metadata": {
        "tags": [],
        "cell_id": "00002-1a2f0d32-0af7-4d40-8553-20e881c36c1e",
        "deepnote_to_be_reexecuted": false,
        "source_hash": "52b96ab5",
        "execution_millis": 1,
        "execution_start": 1618923035242,
        "deepnote_cell_type": "code"
      },
      "source": "import numpy as np\nimport matplotlib.pyplot as plt\nimport os \nimport fyp2021p3_group00_functions as util\nimport pandas as pd\nfrom skimage import morphology\nfrom skimage import filters\nfrom skimage.morphology import opening\nimport cv2\nfrom sklearn.model_selection import train_test_split\nfrom skimage.exposure import is_low_contrast\nfrom scipy.ndimage import rotate",
      "execution_count": 47,
      "outputs": []
    },
    {
      "cell_type": "markdown",
      "source": "## Functions",
      "metadata": {
        "tags": [],
        "cell_id": "00003-3ef04e4d-5679-4eaa-ad42-5982c70f8a5e",
        "deepnote_cell_type": "markdown"
      }
    },
    {
      "cell_type": "code",
      "metadata": {
        "tags": [],
        "cell_id": "00004-1975218a-b0ce-4d72-a33a-94c154720b9b",
        "deepnote_to_be_reexecuted": false,
        "source_hash": "fc663aac",
        "execution_millis": 10,
        "execution_start": 1618923035244,
        "deepnote_cell_type": "code"
      },
      "source": "def check_quality(image_id_jpg, minimum_resolution):\n    \n    \"\"\" A Function that returns the number of pixels in an image that can\n    be used to check whether the image is low or high quality\"\"\"\n\n    im = plt.imread(PICTURES[image_id_jpg])\n    resolution = im.shape\n    num_of_pixels = resolution[0]*resolution[1]\n    return num_of_pixels",
      "execution_count": 48,
      "outputs": []
    },
    {
      "cell_type": "code",
      "source": "def low_quality_pictures(resulotion, dictionary_):\n    not_fine = 0\n    fine = 0\n    popped_image = []\n\n    for i in dictionary_:   \n        x = check_quality(str(i), High_Definition)\n        if x >= High_Definition:\n            fine += 1\n        else: \n            not_fine += 1\n            popped_image.append(i)\n\n    # then we pop the images from the dictionary PICTURES that are low quality \n    for i in popped_image:\n        dictionary_.pop(i)\n\n    print('Fine: {0}, Not fine: {1}'.format(fine, not_fine))\n    print('Image popped from the dict: {0}'.format(popped_image))",
      "metadata": {
        "tags": [],
        "cell_id": "00006-c7ddd2f6-656e-4b3a-982e-c0961439b836",
        "deepnote_to_be_reexecuted": false,
        "source_hash": "8643e465",
        "execution_start": 1618923035262,
        "execution_millis": 0,
        "deepnote_cell_type": "code"
      },
      "outputs": [],
      "execution_count": 49
    },
    {
      "cell_type": "code",
      "source": "def bluriness(dictionary_):\n    \n    \"\"\"This function takes a dictionary and checks whether the images\n    in the dictionary are blurry or sharp and then removes the blurry images\n    from the dictionary.\"\"\"\n\n    blurry_images = []\n    not_blurry = 0\n    blurry = 0\n    for key, value in dictionary_.items():   \n        x = cv2.imread(str(value))\n        v = cv2.Laplacian(x, cv2.CV_64F).var()\n        if v > 10:\n            not_blurry += 1\n        else: \n            blurry += 1\n            blurry_images.append(key)\n\n# now we delete the images from the dictionary that are blurry\n    for i in blurry_images:\n        dictionary_.pop(i)\n\n    print('Not Blurry: {0}'.format(not_blurry))\n    print('Blurry: {0}'.format(blurry))\n    print(\"Blurry Images: {0}\".format(blurry_images))",
      "metadata": {
        "tags": [],
        "cell_id": "00006-be2760ff-fd69-4b14-9183-963d8e11ffc6",
        "deepnote_to_be_reexecuted": false,
        "source_hash": "4b4ed7e1",
        "execution_millis": 8,
        "execution_start": 1618923035267,
        "deepnote_cell_type": "code"
      },
      "outputs": [],
      "execution_count": 50
    },
    {
      "cell_type": "code",
      "source": "def contrast(dictionary_):\n\n    \"\"\" The function takes a dictionary of images with the path as a value \n\tto input and checks the contrast of the image\"\"\"\n\n    high = 0\n    low = 0\n    low_ = []\n    for key, value in dictionary_.items():\n        x = cv2.imread(str(value))\n        y = is_low_contrast(x)\n        if y == True:\n            low += 1\n            low_.append(key)\n        else:\n            high += 1\n            \n    #Removes the low contrast from the PICTURES\n    for i in low_:\n        dictionary_.pop(i)\n\n    print('Number of Images with High Contrast: {0}'.format(high))\n    print('Number of Images with Low Contrast: {0}'.format(low))\n    print(\"Images with Low Contrast: {0}\".format(low_))",
      "metadata": {
        "tags": [],
        "cell_id": "00008-992dacaf-7bfa-430d-9812-69244c5d5cf7",
        "deepnote_to_be_reexecuted": false,
        "source_hash": "4967b90d",
        "execution_start": 1618923322214,
        "execution_millis": 1,
        "deepnote_cell_type": "code"
      },
      "outputs": [],
      "execution_count": 58
    },
    {
      "cell_type": "markdown",
      "source": "## Loading the data",
      "metadata": {
        "tags": [],
        "cell_id": "00004-4392844a-5173-4a9a-a8e7-2143ece5609b",
        "deepnote_cell_type": "markdown"
      }
    },
    {
      "cell_type": "code",
      "metadata": {
        "tags": [],
        "cell_id": "00005-6cd65a7a-98d6-45a3-9880-980e16c9e99b",
        "deepnote_to_be_reexecuted": false,
        "source_hash": "80c80765",
        "execution_millis": 151,
        "output_cleared": false,
        "execution_start": 1618924853784,
        "deepnote_cell_type": "code"
      },
      "source": "# First we make the path to the data\nPATH = {}\nPATH[\"data\"] =\"../data\"\n\n#print(PATH)\n#Then we load the path for all the diffirent as keys to their names.\nPICTURES = {}\nfor path, subdirs, files in os.walk(PATH[\"data\"]):\n    for picture in files:\n        # Making sure that we exclude the .csv from the dictionary, to only include images (ie. png and jpg files)\n        if not str(picture).count(\".csv\", (len(picture) - 4),len(picture)):\n            PICTURES[picture] = os.path.normpath(os.path.join(path, picture))\n\n# Remove a last file from the PICTURES dictonary\nPICTURES.pop(\".DS_Store\")\n\nimages = pd.read_csv(\"../data/example_ground_truth.csv\")\nimages['id'] = images['image_id']\nimage_way = pd.DataFrame.from_dict(PICTURES, orient='index')\nimage_way['id'] = image_way.index\nfor number, name in enumerate(iterable = image_way['id']):\n    image_way['id'][number] = name[0:12]\nimage_merge = images.merge(image_way, left_on ='image_id' , right_on = 'id', how = 'outer')\nimage_merge['healthy'] = 1-image_merge['melanoma']-image_merge['seborrheic_keratosis']\nimage_merge = image_merge.rename(columns ={0: 'path'})\nimage_merge['mask'] = image_merge['path'].str.contains('png')\nimage_merge['raw'] = image_merge['path'].str.contains('jpg')\n# Reworking images to contain name and helath of all the images to use later.\nimages = images.dropna(axis=0)\nimages = images[images['seborrheic_keratosis']!= 1]\n",
      "execution_count": 60,
      "outputs": []
    },
    {
      "cell_type": "markdown",
      "source": "# Task 0: Explore the Data\n\nGo through the data (csv file, images, segmentations) that you have available\nto understand what’s available to you, and write a brief description. Decide if\nthis data is sufficient, or if cleaning is needed. For example, what do you do with\nthe images that are malignant (cancer), but not of the class you want to focus\non? Are there images of low quality? Etc. You are allowed to search for and add\nother public dataset, to this set of images.",
      "metadata": {
        "tags": [],
        "cell_id": "00013-0410f06b-5a01-494d-a1df-0ac880c34e77",
        "deepnote_cell_type": "markdown"
      }
    },
    {
      "cell_type": "markdown",
      "source": "##### Description of Data: \nThe data includes 150 images of skin lesions and then another 150 images of the same images in segmentations, whereby the image is zoomed in. Besides this the data also includes the Superpixel of some of the images. ",
      "metadata": {
        "tags": [],
        "cell_id": "00014-61812bf2-357a-4ef1-80ff-42c7d71cd030",
        "deepnote_cell_type": "markdown"
      }
    },
    {
      "cell_type": "code",
      "metadata": {
        "tags": [],
        "cell_id": "00015-84749028-f474-436f-88a2-a5d8cd2730db",
        "deepnote_to_be_reexecuted": false,
        "source_hash": "a63a4e0a",
        "execution_millis": 23,
        "execution_start": 1618924857698,
        "deepnote_cell_type": "code"
      },
      "source": "# Loading the data into a dataframe and classifying based on class\nimage_info = pd.read_csv(\"../data/example_ground_truth.csv\")\ncancer_free = image_info[(image_info['melanoma']== 0) & (image_info['seborrheic_keratosis']==0)]\nmelanoma = image_info[image_info['melanoma'] == 1]\nkeratosis = image_info[image_info['seborrheic_keratosis']==1]\n\n#image_info\nprint(\"image_info: {0}, cancer_free: {1}, melanoma: {2}, keratosis: {3}\"\n.format(image_info.shape, cancer_free.shape, melanoma.shape, keratosis.shape))\n",
      "execution_count": 61,
      "outputs": [
        {
          "name": "stdout",
          "text": "image_info: (150, 3), cancer_free: (78, 3), melanoma: (30, 3), keratosis: (42, 3)\n",
          "output_type": "stream"
        }
      ]
    },
    {
      "cell_type": "code",
      "metadata": {
        "tags": [],
        "cell_id": "00018-c377c34b-1394-4c65-8ea4-7bf20ac5700f",
        "deepnote_to_be_reexecuted": false,
        "source_hash": "e49fd9d5",
        "execution_millis": 32,
        "execution_start": 1618924864158,
        "deepnote_cell_type": "code"
      },
      "source": "# put keratosis image id's into a list to use later\nlist_keratosis = []\nfor i in keratosis[\"image_id\"]:\n    list_keratosis.append(i)\n\n# deleting the keratosis images in the dictionary PICTURES\n# length of dictiionary has changed from 357 to 275 images\nfor i in list_keratosis:\n    n = (i + '.jpg')\n    x = (i + '_segmentation.png')\n    y = (i + '_superpixels.png')\n    if n in PICTURES:\n        PICTURES.pop(n)\n    if x in PICTURES:\n        PICTURES.pop(x)\n    if y in PICTURES:\n        PICTURES.pop(y)\n\n#now we remove the superpixels\nsuper_pixels = []\n\nfor i in PICTURES:\n   if '_superpixels.png' in i:\n        super_pixels.append(i)\n\nfor i in super_pixels:\n    PICTURES.pop(i)\n\nprint(len(PICTURES))",
      "execution_count": 62,
      "outputs": [
        {
          "name": "stdout",
          "text": "217\n",
          "output_type": "stream"
        }
      ]
    },
    {
      "cell_type": "markdown",
      "source": "## Checking for duplicates",
      "metadata": {
        "tags": [],
        "cell_id": "00013-853c5f7f-f4ec-43e4-84df-c7aff94508cd",
        "deepnote_cell_type": "markdown"
      }
    },
    {
      "cell_type": "code",
      "metadata": {
        "tags": [],
        "cell_id": "00017-ae5083f3-244f-42b5-ae93-ee0e6a7c3efa",
        "deepnote_to_be_reexecuted": false,
        "source_hash": "72802f34",
        "execution_millis": 10,
        "output_cleared": false,
        "execution_start": 1618923035510,
        "deepnote_cell_type": "code"
      },
      "source": "\"\"\" First we check for duplicates\"\"\"\n\n#Checks for duplicated image IDs in image_info\nimage_id = set()\nnot_unique_id = 0\nfor i in image_info['image_id']:\n    if i not in image_id:\n        image_id.add(i)\n    else:\n        not_unique += 1\nprint('Number of duplicates image id: {0}'.format(not_unique_id))\n\n#Checks that there is no duplicates in the pictures\nimage_unique = set()\nnot_unique_image = 0\nfor i in PICTURES:\n    if i not in image_unique:\n        image_unique.add(i)\n    else:\n        not_unique_image += 1\nprint('Number of duplicates images: {0}'.format(not_unique_image))\n\n\"\"\"Then we checks that all ID's has a corresponding image, and vice versa\"\"\"\n\n# cancer free and melanoma image id's is loaded into sets\ncf = set(i for i in cancer_free['image_id'])\nmel = set(i for i in melanoma['image_id'])\n\nno_image = set()\n\n#Checks that all IDs in image info is in example folders\nfor i in cf:\n    n = (i + '.jpg')\n    if n not in PICTURES:\n        no_image.add(i)\n\nfor i in mel:\n    n = (i + '.jpg')\n    if n not in PICTURES:\n        no_image.add(i)\n\nprint('No image: {0}'.format(len(no_image)))\n\n#Checks that all pictures in example image folder has a image ID in image_info\nno_ID = set()\n\nfor i in PICTURES:\n    x = i[0:12] #The first 12 characters is the ID\n    if x not in image_id :\n        no_ID.add(i)\nprint('No ID in image_info: {0}'.format(len(no_ID)))\n",
      "execution_count": 54,
      "outputs": [
        {
          "name": "stdout",
          "text": "Number of duplicates image id: 0\nNumber of duplicates images: 0\nNo image: 0\nNo ID in image_info: 0\n",
          "output_type": "stream"
        }
      ]
    },
    {
      "cell_type": "markdown",
      "source": "## Cleaning the Data\n\nIn the following cell the dataset of images is cleaned for the following three criteria:\n\n- Resolution\n- Blurriness/Sharpness\n- Contrast\n\nThe images that do not fit the criteria are removed from the image dictionary.",
      "metadata": {
        "tags": [],
        "cell_id": "00015-ba653751-9f53-4716-963d-7d468d77ea66",
        "deepnote_cell_type": "markdown"
      }
    },
    {
      "cell_type": "code",
      "metadata": {
        "tags": [],
        "cell_id": "00016-b9b040eb-ae19-492a-960c-8ac3328e3b37",
        "deepnote_to_be_reexecuted": false,
        "source_hash": "afc60951",
        "execution_millis": 37227,
        "output_cleared": false,
        "execution_start": 1618923035511,
        "deepnote_cell_type": "code"
      },
      "source": "## Checking the quality of images\nHigh_Definition = 1920*1080\nlow_quality_pictures(High_Definition, PICTURES)",
      "execution_count": 55,
      "outputs": [
        {
          "name": "stdout",
          "text": "Fine: 213, Not fine: 4\nImage popped from the dict: ['ISIC_0010459_segmentation.png', 'ISIC_0009995_segmentation.png', 'ISIC_0010459.jpg', 'ISIC_0009995.jpg']\n",
          "output_type": "stream"
        }
      ]
    },
    {
      "cell_type": "code",
      "metadata": {
        "tags": [],
        "cell_id": "00021-c1068cec-c556-41e4-8ade-fed311c7d9db",
        "deepnote_to_be_reexecuted": false,
        "source_hash": "a886f949",
        "execution_millis": 111998,
        "execution_start": 1618923072733,
        "deepnote_cell_type": "code"
      },
      "source": "## Now we check how many of the photos are blurry and remove them from the dictionary\nbluriness(PICTURES)\n",
      "execution_count": 56,
      "outputs": [
        {
          "name": "stdout",
          "text": "Not Blurry: 208\nBlurry: 5\nBlurry Images: ['ISIC_0012400.jpg', 'ISIC_0013082.jpg', 'ISIC_0012288.jpg', 'ISIC_0014162.jpg', 'ISIC_0013104.jpg']\n",
          "output_type": "stream"
        }
      ]
    },
    {
      "cell_type": "markdown",
      "source": "Now we will check the colour quality by checking the contrast level.\n\nTo check the contrast of an image we use the function is_low_contrast from the library skimage.exposure. \n\nhttps://scikit-image.org/docs/dev/api/skimage.exposure.html#re0c68370bb9d-1",
      "metadata": {
        "tags": [],
        "cell_id": "00020-cb46c441-634c-4723-800c-9059397bd401",
        "deepnote_cell_type": "markdown"
      }
    },
    {
      "cell_type": "code",
      "metadata": {
        "tags": [],
        "cell_id": "00023-3084839f-f822-49fd-809d-955e76e02295",
        "deepnote_to_be_reexecuted": false,
        "source_hash": "d7e5ce44",
        "execution_millis": 100782,
        "execution_start": 1618923184719,
        "deepnote_cell_type": "code"
      },
      "source": "## Now we check how many of the photos are with a high contrast, \n## and removes the ones that are low from the dictionary\ncontrast(PICTURES)",
      "execution_count": 57,
      "outputs": [
        {
          "name": "stdout",
          "text": "Number of Images with High Contrast: 206\nNumber of Images with Low Contrast: 2\nImages with Low Contrast: ['ISIC_0013527_segmentation.png', 'ISIC_0012965_segmentation.png']\n",
          "output_type": "stream"
        }
      ]
    },
    {
      "cell_type": "markdown",
      "source": "## External Data",
      "metadata": {
        "tags": [],
        "cell_id": "00024-4f1837d3-3188-4a6f-9482-6a5d23ee419d",
        "deepnote_cell_type": "markdown"
      }
    },
    {
      "cell_type": "markdown",
      "source": "First we load the data and clean it with the same criteria used on the previous data in the dictionary named PICTURES.",
      "metadata": {
        "tags": [],
        "cell_id": "00023-c6cd88f8-54da-4e77-960a-9eb0d4faa594",
        "deepnote_cell_type": "markdown"
      }
    },
    {
      "cell_type": "code",
      "source": "test = pd.read_csv(\"..data/ISIC2018_Task3_Training_GroundTruth.csv\")\n",
      "metadata": {
        "tags": [],
        "cell_id": "00024-779dab04-cba9-4ef8-9e6c-012a92697cf3",
        "deepnote_to_be_reexecuted": false,
        "source_hash": "3fd7703c",
        "execution_millis": 32,
        "execution_start": 1618924891926,
        "deepnote_cell_type": "code"
      },
      "outputs": [
        {
          "output_type": "error",
          "ename": "FileNotFoundError",
          "evalue": "[Errno 2] No such file or directory: '..data/ISIC2018_Task3_Training_GroundTruth.csv'",
          "traceback": [
            "\u001b[0;31m---------------------------------------------------------------------------\u001b[0m",
            "\u001b[0;31mFileNotFoundError\u001b[0m                         Traceback (most recent call last)",
            "\u001b[0;32m<ipython-input-66-86e4345d15f4>\u001b[0m in \u001b[0;36m<module>\u001b[0;34m\u001b[0m\n\u001b[0;32m----> 1\u001b[0;31m \u001b[0mtest\u001b[0m \u001b[0;34m=\u001b[0m \u001b[0mpd\u001b[0m\u001b[0;34m.\u001b[0m\u001b[0mread_csv\u001b[0m\u001b[0;34m(\u001b[0m\u001b[0;34m\"..data/ISIC2018_Task3_Training_GroundTruth.csv\"\u001b[0m\u001b[0;34m)\u001b[0m\u001b[0;34m\u001b[0m\u001b[0;34m\u001b[0m\u001b[0m\n\u001b[0m",
            "\u001b[0;32m/shared-libs/python3.7/py/lib/python3.7/site-packages/pandas/io/parsers.py\u001b[0m in \u001b[0;36mread_csv\u001b[0;34m(filepath_or_buffer, sep, delimiter, header, names, index_col, usecols, squeeze, prefix, mangle_dupe_cols, dtype, engine, converters, true_values, false_values, skipinitialspace, skiprows, skipfooter, nrows, na_values, keep_default_na, na_filter, verbose, skip_blank_lines, parse_dates, infer_datetime_format, keep_date_col, date_parser, dayfirst, cache_dates, iterator, chunksize, compression, thousands, decimal, lineterminator, quotechar, quoting, doublequote, escapechar, comment, encoding, dialect, error_bad_lines, warn_bad_lines, delim_whitespace, low_memory, memory_map, float_precision, storage_options)\u001b[0m\n\u001b[1;32m    608\u001b[0m     \u001b[0mkwds\u001b[0m\u001b[0;34m.\u001b[0m\u001b[0mupdate\u001b[0m\u001b[0;34m(\u001b[0m\u001b[0mkwds_defaults\u001b[0m\u001b[0;34m)\u001b[0m\u001b[0;34m\u001b[0m\u001b[0;34m\u001b[0m\u001b[0m\n\u001b[1;32m    609\u001b[0m \u001b[0;34m\u001b[0m\u001b[0m\n\u001b[0;32m--> 610\u001b[0;31m     \u001b[0;32mreturn\u001b[0m \u001b[0m_read\u001b[0m\u001b[0;34m(\u001b[0m\u001b[0mfilepath_or_buffer\u001b[0m\u001b[0;34m,\u001b[0m \u001b[0mkwds\u001b[0m\u001b[0;34m)\u001b[0m\u001b[0;34m\u001b[0m\u001b[0;34m\u001b[0m\u001b[0m\n\u001b[0m\u001b[1;32m    611\u001b[0m \u001b[0;34m\u001b[0m\u001b[0m\n\u001b[1;32m    612\u001b[0m \u001b[0;34m\u001b[0m\u001b[0m\n",
            "\u001b[0;32m/shared-libs/python3.7/py/lib/python3.7/site-packages/pandas/io/parsers.py\u001b[0m in \u001b[0;36m_read\u001b[0;34m(filepath_or_buffer, kwds)\u001b[0m\n\u001b[1;32m    460\u001b[0m \u001b[0;34m\u001b[0m\u001b[0m\n\u001b[1;32m    461\u001b[0m     \u001b[0;31m# Create the parser.\u001b[0m\u001b[0;34m\u001b[0m\u001b[0;34m\u001b[0m\u001b[0;34m\u001b[0m\u001b[0m\n\u001b[0;32m--> 462\u001b[0;31m     \u001b[0mparser\u001b[0m \u001b[0;34m=\u001b[0m \u001b[0mTextFileReader\u001b[0m\u001b[0;34m(\u001b[0m\u001b[0mfilepath_or_buffer\u001b[0m\u001b[0;34m,\u001b[0m \u001b[0;34m**\u001b[0m\u001b[0mkwds\u001b[0m\u001b[0;34m)\u001b[0m\u001b[0;34m\u001b[0m\u001b[0;34m\u001b[0m\u001b[0m\n\u001b[0m\u001b[1;32m    463\u001b[0m \u001b[0;34m\u001b[0m\u001b[0m\n\u001b[1;32m    464\u001b[0m     \u001b[0;32mif\u001b[0m \u001b[0mchunksize\u001b[0m \u001b[0;32mor\u001b[0m \u001b[0miterator\u001b[0m\u001b[0;34m:\u001b[0m\u001b[0;34m\u001b[0m\u001b[0;34m\u001b[0m\u001b[0m\n",
            "\u001b[0;32m/shared-libs/python3.7/py/lib/python3.7/site-packages/pandas/io/parsers.py\u001b[0m in \u001b[0;36m__init__\u001b[0;34m(self, f, engine, **kwds)\u001b[0m\n\u001b[1;32m    817\u001b[0m             \u001b[0mself\u001b[0m\u001b[0;34m.\u001b[0m\u001b[0moptions\u001b[0m\u001b[0;34m[\u001b[0m\u001b[0;34m\"has_index_names\"\u001b[0m\u001b[0;34m]\u001b[0m \u001b[0;34m=\u001b[0m \u001b[0mkwds\u001b[0m\u001b[0;34m[\u001b[0m\u001b[0;34m\"has_index_names\"\u001b[0m\u001b[0;34m]\u001b[0m\u001b[0;34m\u001b[0m\u001b[0;34m\u001b[0m\u001b[0m\n\u001b[1;32m    818\u001b[0m \u001b[0;34m\u001b[0m\u001b[0m\n\u001b[0;32m--> 819\u001b[0;31m         \u001b[0mself\u001b[0m\u001b[0;34m.\u001b[0m\u001b[0m_engine\u001b[0m \u001b[0;34m=\u001b[0m \u001b[0mself\u001b[0m\u001b[0;34m.\u001b[0m\u001b[0m_make_engine\u001b[0m\u001b[0;34m(\u001b[0m\u001b[0mself\u001b[0m\u001b[0;34m.\u001b[0m\u001b[0mengine\u001b[0m\u001b[0;34m)\u001b[0m\u001b[0;34m\u001b[0m\u001b[0;34m\u001b[0m\u001b[0m\n\u001b[0m\u001b[1;32m    820\u001b[0m \u001b[0;34m\u001b[0m\u001b[0m\n\u001b[1;32m    821\u001b[0m     \u001b[0;32mdef\u001b[0m \u001b[0mclose\u001b[0m\u001b[0;34m(\u001b[0m\u001b[0mself\u001b[0m\u001b[0;34m)\u001b[0m\u001b[0;34m:\u001b[0m\u001b[0;34m\u001b[0m\u001b[0;34m\u001b[0m\u001b[0m\n",
            "\u001b[0;32m/shared-libs/python3.7/py/lib/python3.7/site-packages/pandas/io/parsers.py\u001b[0m in \u001b[0;36m_make_engine\u001b[0;34m(self, engine)\u001b[0m\n\u001b[1;32m   1048\u001b[0m             )\n\u001b[1;32m   1049\u001b[0m         \u001b[0;31m# error: Too many arguments for \"ParserBase\"\u001b[0m\u001b[0;34m\u001b[0m\u001b[0;34m\u001b[0m\u001b[0;34m\u001b[0m\u001b[0m\n\u001b[0;32m-> 1050\u001b[0;31m         \u001b[0;32mreturn\u001b[0m \u001b[0mmapping\u001b[0m\u001b[0;34m[\u001b[0m\u001b[0mengine\u001b[0m\u001b[0;34m]\u001b[0m\u001b[0;34m(\u001b[0m\u001b[0mself\u001b[0m\u001b[0;34m.\u001b[0m\u001b[0mf\u001b[0m\u001b[0;34m,\u001b[0m \u001b[0;34m**\u001b[0m\u001b[0mself\u001b[0m\u001b[0;34m.\u001b[0m\u001b[0moptions\u001b[0m\u001b[0;34m)\u001b[0m  \u001b[0;31m# type: ignore[call-arg]\u001b[0m\u001b[0;34m\u001b[0m\u001b[0;34m\u001b[0m\u001b[0m\n\u001b[0m\u001b[1;32m   1051\u001b[0m \u001b[0;34m\u001b[0m\u001b[0m\n\u001b[1;32m   1052\u001b[0m     \u001b[0;32mdef\u001b[0m \u001b[0m_failover_to_python\u001b[0m\u001b[0;34m(\u001b[0m\u001b[0mself\u001b[0m\u001b[0;34m)\u001b[0m\u001b[0;34m:\u001b[0m\u001b[0;34m\u001b[0m\u001b[0;34m\u001b[0m\u001b[0m\n",
            "\u001b[0;32m/shared-libs/python3.7/py/lib/python3.7/site-packages/pandas/io/parsers.py\u001b[0m in \u001b[0;36m__init__\u001b[0;34m(self, src, **kwds)\u001b[0m\n\u001b[1;32m   1865\u001b[0m \u001b[0;34m\u001b[0m\u001b[0m\n\u001b[1;32m   1866\u001b[0m         \u001b[0;31m# open handles\u001b[0m\u001b[0;34m\u001b[0m\u001b[0;34m\u001b[0m\u001b[0;34m\u001b[0m\u001b[0m\n\u001b[0;32m-> 1867\u001b[0;31m         \u001b[0mself\u001b[0m\u001b[0;34m.\u001b[0m\u001b[0m_open_handles\u001b[0m\u001b[0;34m(\u001b[0m\u001b[0msrc\u001b[0m\u001b[0;34m,\u001b[0m \u001b[0mkwds\u001b[0m\u001b[0;34m)\u001b[0m\u001b[0;34m\u001b[0m\u001b[0;34m\u001b[0m\u001b[0m\n\u001b[0m\u001b[1;32m   1868\u001b[0m         \u001b[0;32massert\u001b[0m \u001b[0mself\u001b[0m\u001b[0;34m.\u001b[0m\u001b[0mhandles\u001b[0m \u001b[0;32mis\u001b[0m \u001b[0;32mnot\u001b[0m \u001b[0;32mNone\u001b[0m\u001b[0;34m\u001b[0m\u001b[0;34m\u001b[0m\u001b[0m\n\u001b[1;32m   1869\u001b[0m         \u001b[0;32mfor\u001b[0m \u001b[0mkey\u001b[0m \u001b[0;32min\u001b[0m \u001b[0;34m(\u001b[0m\u001b[0;34m\"storage_options\"\u001b[0m\u001b[0;34m,\u001b[0m \u001b[0;34m\"encoding\"\u001b[0m\u001b[0;34m,\u001b[0m \u001b[0;34m\"memory_map\"\u001b[0m\u001b[0;34m,\u001b[0m \u001b[0;34m\"compression\"\u001b[0m\u001b[0;34m)\u001b[0m\u001b[0;34m:\u001b[0m\u001b[0;34m\u001b[0m\u001b[0;34m\u001b[0m\u001b[0m\n",
            "\u001b[0;32m/shared-libs/python3.7/py/lib/python3.7/site-packages/pandas/io/parsers.py\u001b[0m in \u001b[0;36m_open_handles\u001b[0;34m(self, src, kwds)\u001b[0m\n\u001b[1;32m   1366\u001b[0m             \u001b[0mcompression\u001b[0m\u001b[0;34m=\u001b[0m\u001b[0mkwds\u001b[0m\u001b[0;34m.\u001b[0m\u001b[0mget\u001b[0m\u001b[0;34m(\u001b[0m\u001b[0;34m\"compression\"\u001b[0m\u001b[0;34m,\u001b[0m \u001b[0;32mNone\u001b[0m\u001b[0;34m)\u001b[0m\u001b[0;34m,\u001b[0m\u001b[0;34m\u001b[0m\u001b[0;34m\u001b[0m\u001b[0m\n\u001b[1;32m   1367\u001b[0m             \u001b[0mmemory_map\u001b[0m\u001b[0;34m=\u001b[0m\u001b[0mkwds\u001b[0m\u001b[0;34m.\u001b[0m\u001b[0mget\u001b[0m\u001b[0;34m(\u001b[0m\u001b[0;34m\"memory_map\"\u001b[0m\u001b[0;34m,\u001b[0m \u001b[0;32mFalse\u001b[0m\u001b[0;34m)\u001b[0m\u001b[0;34m,\u001b[0m\u001b[0;34m\u001b[0m\u001b[0;34m\u001b[0m\u001b[0m\n\u001b[0;32m-> 1368\u001b[0;31m             \u001b[0mstorage_options\u001b[0m\u001b[0;34m=\u001b[0m\u001b[0mkwds\u001b[0m\u001b[0;34m.\u001b[0m\u001b[0mget\u001b[0m\u001b[0;34m(\u001b[0m\u001b[0;34m\"storage_options\"\u001b[0m\u001b[0;34m,\u001b[0m \u001b[0;32mNone\u001b[0m\u001b[0;34m)\u001b[0m\u001b[0;34m,\u001b[0m\u001b[0;34m\u001b[0m\u001b[0;34m\u001b[0m\u001b[0m\n\u001b[0m\u001b[1;32m   1369\u001b[0m         )\n\u001b[1;32m   1370\u001b[0m \u001b[0;34m\u001b[0m\u001b[0m\n",
            "\u001b[0;32m/shared-libs/python3.7/py/lib/python3.7/site-packages/pandas/io/common.py\u001b[0m in \u001b[0;36mget_handle\u001b[0;34m(path_or_buf, mode, encoding, compression, memory_map, is_text, errors, storage_options)\u001b[0m\n\u001b[1;32m    645\u001b[0m                 \u001b[0mencoding\u001b[0m\u001b[0;34m=\u001b[0m\u001b[0mioargs\u001b[0m\u001b[0;34m.\u001b[0m\u001b[0mencoding\u001b[0m\u001b[0;34m,\u001b[0m\u001b[0;34m\u001b[0m\u001b[0;34m\u001b[0m\u001b[0m\n\u001b[1;32m    646\u001b[0m                 \u001b[0merrors\u001b[0m\u001b[0;34m=\u001b[0m\u001b[0merrors\u001b[0m\u001b[0;34m,\u001b[0m\u001b[0;34m\u001b[0m\u001b[0;34m\u001b[0m\u001b[0m\n\u001b[0;32m--> 647\u001b[0;31m                 \u001b[0mnewline\u001b[0m\u001b[0;34m=\u001b[0m\u001b[0;34m\"\"\u001b[0m\u001b[0;34m,\u001b[0m\u001b[0;34m\u001b[0m\u001b[0;34m\u001b[0m\u001b[0m\n\u001b[0m\u001b[1;32m    648\u001b[0m             )\n\u001b[1;32m    649\u001b[0m         \u001b[0;32melse\u001b[0m\u001b[0;34m:\u001b[0m\u001b[0;34m\u001b[0m\u001b[0;34m\u001b[0m\u001b[0m\n",
            "\u001b[0;31mFileNotFoundError\u001b[0m: [Errno 2] No such file or directory: '..data/ISIC2018_Task3_Training_GroundTruth.csv'"
          ]
        }
      ],
      "execution_count": 66
    },
    {
      "cell_type": "markdown",
      "source": "could look into...\n\nhttps://arxiv.org/abs/1910.13268\n\nhttps://www.ncbi.nlm.nih.gov/pmc/articles/PMC7479321/\n\nHentet data her:\nhttps://challenge.isic-archive.com/data#2018",
      "metadata": {
        "tags": [],
        "cell_id": "00025-05aa063e-e66f-43e9-9c82-29f1a8a3fbf7",
        "deepnote_cell_type": "markdown"
      }
    },
    {
      "cell_type": "markdown",
      "source": "# Task 1: Implement Two Features\nChoose one of the ABC (Asymetry, Border or Color) features and implement a function to measure it for one\nimage. While you are doing this, you might want to create “toy” images where\nyou already know the results, for example a circle should be less asymmetric\nthan an ellipse, etc.\nOnce you are satisfied with your implementations, run them on all your\nimages, and examine the feature distributions for each class, for example using\nscatter plots. Do you see differences between the classes?",
      "metadata": {
        "tags": [],
        "cell_id": "00014-bd3fff0c-78b3-4120-b6dd-c94f2ef74d8f",
        "deepnote_cell_type": "markdown"
      }
    },
    {
      "cell_type": "markdown",
      "source": "## Asymmetry",
      "metadata": {
        "tags": [],
        "cell_id": "00020-f1da71f7-e40c-4d42-8d63-e3bcad4b1d33",
        "deepnote_cell_type": "markdown"
      }
    },
    {
      "cell_type": "code",
      "metadata": {
        "tags": [],
        "cell_id": "00029-03a0417c-a0ee-452f-9804-a6b6f74289a4",
        "deepnote_to_be_reexecuted": false,
        "source_hash": "d1adb2d",
        "execution_millis": 1,
        "execution_start": 1618771026961,
        "deepnote_cell_type": "code"
      },
      "source": "# Group 1 cropping\n# https://codereview.stackexchange.com/questions/132914/crop-black-border-of-image-using-numpy\n\ndef crop_image(img):\n# Get the image from the red channel (we need a 2D array)\n# Red channel is just as good as any other since all layers have black outside lesion\n# Check if 3 dimensional for compatility with segmentation images\n    if len(img.shape) == 3:\n        img_red = img[:,:, 0]\n        # Create mask for all pixels non-black\n        mask = img_red != 0\n        # Handle our black and white segmentation masks\n    else:\n        mask = img != 0\n\n    # Selects every column and row that contains at least 1 none black pixel\n    lesion_row_numbers, lesion_column_numbers = np.ix_(mask.any(1), mask.any(0))\n    return img[lesion_row_numbers, lesion_column_numbers]",
      "execution_count": null,
      "outputs": []
    },
    {
      "cell_type": "code",
      "metadata": {
        "tags": [],
        "cell_id": "00029-d3047c58-4b6d-4840-8c50-9daba3e7688f",
        "deepnote_to_be_reexecuted": false,
        "source_hash": "c5dac649",
        "execution_millis": 0,
        "execution_start": 1618834772081,
        "deepnote_cell_type": "code"
      },
      "source": "import math\n\ndef test_asymmetry(mask):\n\n    x_min, x_max, y_min, y_max = get_mask_size(mask)\n\n    mask_cropped = mask[y_min-50:y_max+50, x_min-50:x_max+50]\n\n    for angle in range(0,180, 45):\n        print(angle)\n\n        rotated_mask = rotate(mask_cropped,angle)\n        \n        x_min, x_max, y_min, y_max = get_mask_size(rotated_mask)\n\n        # View left half of the x-axis\n        x_half = math.floor((x_max - x_min) / 2) # Gives us the middle \n\n        mask_x_half_left = rotated_mask[:, :int(x_half)]\n        mask_x_half_right = rotated_mask[:, int(x_half):]\n\n        mask_x_half_right_flipped = np.fliplr(mask_x_half_right)\n\n        fig, axes = plt.subplots(nrows=1, ncols=5, figsize=(7, 4))\n        axes[0].imshow(mask_cropped,cmap='gray')\n        axes[1].imshow(rotated_mask, cmap=\"gray\")\n        axes[2].imshow(mask_x_half_left,cmap='gray')\n        axes[3].imshow(mask_x_half_right,cmap='gray')\n        axes[4].imshow(mask_x_half_right_flipped,cmap='gray')\n        fig.tight_layout()\n\n        x_diff = mask_x_half_left - mask_x_half_right_flipped\n\n        # Fold in half y-axis\n        y_half = math.floor((y_max - y_min) / 2) # Gives us the middle \n\n        mask_y_half_left = rotated_mask[:int(y_half), :]\n        mask_y_half_right = rotated_mask[int(y_half):, :]\n\n        mask_y_half_right_flipped = np.flipud(mask_y_half_right)\n\n        y_diff = mask_y_half_left - mask_y_half_right_flipped\n\n        # Calculing diff\n\n        gray1 = np.count_nonzero(x_diff == 0)\n        non_gray1 = np.count_nonzero(x_diff)\n\n        print(\"X diff\", non_gray1)\n\n        gray1 = np.count_nonzero(y_diff == 0)\n        non_gray1 = np.count_nonzero(y_diff)\n\n        print(\"Y diff\", non_gray1)\n",
      "execution_count": null,
      "outputs": []
    },
    {
      "cell_type": "code",
      "metadata": {
        "tags": [],
        "cell_id": "00021-f1c873ea-3438-462a-a002-0ae714892f8c",
        "deepnote_to_be_reexecuted": false,
        "source_hash": "85f2b8ae",
        "execution_millis": 1237,
        "execution_start": 1618834773713,
        "deepnote_cell_type": "code"
      },
      "source": "# har ikke fået lavet det til en funktion endnu\n\n#import matplotlib.image as mpimg\n#import cv2\n\n\n\n\n# Cropping the mask\nmask = plt.imread('../data/example_segmentation/ISIC_0004337_segmentation.png')\n\ntest_asymmetry(mask)\n\n\n# x_min, x_max, y_min, y_max = get_mask_size(mask)\n\n# mask_cropped = mask[y_min-5:y_max+5, x_min-5:x_max+5]\n\n# # View left half of the x-axis\n# x_half = (x_max - x_min) / 2 + x_min # Gives us the middle \n\n# mask_x_half_left = mask[y_min-5:y_max+5, x_min-5:int(x_half)]\n# mask_x_half_right = mask[y_min-5:y_max+5, int(x_half):x_max+5]\n\n# mask_x_half_right_flipped = np.fliplr(mask_x_half_right)\n\n# x_diff = mask_x_half_left - mask_x_half_right_flipped\n\n# # Fold in half y-axis\n# y_half = (y_max - y_min) / 2 + y_min # Gives us the middle \n\n# mask_y_half_left = mask[y_min-5:int(y_half), x_min-5:x_max+5]\n# mask_y_half_right = mask[int(y_half):y_max+5, x_min-5:x_max+5]\n\n# mask_y_half_right_flipped = np.flipud(mask_y_half_right)\n\n# y_diff = mask_y_half_left - mask_y_half_right_flipped\n\n\n# # Calculing diff\n\n# gray1 = np.count_nonzero(x_diff == 0)\n# non_gray1 = np.count_nonzero(x_diff)\n\n# print(non_gray1)\n\n# gray1 = np.count_nonzero(y_diff == 0)\n# non_gray1 = np.count_nonzero(y_diff)\n\n# print(non_gray1)\n\n# # Displaying the output for vertical\n# fig, axes = plt.subplots(nrows=1, ncols=5, figsize=(7, 4))\n# axes[0].imshow(mask_cropped,cmap='gray')\n# axes[1].imshow(mask_cropped_rotate, cmap=\"gray\")\n# axes[2].imshow(mask_x_half_left,cmap='gray')\n# axes[3].imshow(mask_x_half_right,cmap='gray')\n# axes[4].imshow(x_diff,cmap='gray')\n# fig.tight_layout()\n\n# fig, axes = plt.subplots(nrows=1, ncols=4, figsize=(7, 4))\n# axes[0].imshow(mask_cropped,cmap='gray')\n# axes[1].imshow(mask_y_half_left,cmap='gray')\n# axes[2].imshow(mask_y_half_right,cmap='gray')\n# axes[3].imshow(y_diff,cmap=\"gray\")\n# fig.tight_layout()\n\n# # Flipping the mask vertically and horizontally\n# mask_ver = np.fliplr(mask_cropped)\n# mask_hor = np.flipud(mask_cropped)\n\n\n\n\n\n# # Displaying the output for horizontal\n# fig, axes = plt.subplots(nrows=1, ncols=2, figsize=(7, 4))\n# axes[0].imshow(mask_cropped,cmap='gray')\n# axes[1].imshow(mask_hor,cmap='gray')\n# fig.tight_layout()\n\n",
      "execution_count": null,
      "outputs": [
        {
          "name": "stdout",
          "text": "0\n",
          "output_type": "stream"
        },
        {
          "output_type": "error",
          "ename": "ValueError",
          "evalue": "operands could not be broadcast together with shapes (558,320) (558,322) ",
          "traceback": [
            "\u001b[0;31m---------------------------------------------------------------------------\u001b[0m",
            "\u001b[0;31mValueError\u001b[0m                                Traceback (most recent call last)",
            "\u001b[0;32m<ipython-input-90-e2cf569e0817>\u001b[0m in \u001b[0;36m<module>\u001b[0;34m\u001b[0m\n\u001b[1;32m     10\u001b[0m \u001b[0mmask\u001b[0m \u001b[0;34m=\u001b[0m \u001b[0mplt\u001b[0m\u001b[0;34m.\u001b[0m\u001b[0mimread\u001b[0m\u001b[0;34m(\u001b[0m\u001b[0;34m'../data/example_segmentation/ISIC_0004337_segmentation.png'\u001b[0m\u001b[0;34m)\u001b[0m\u001b[0;34m\u001b[0m\u001b[0;34m\u001b[0m\u001b[0m\n\u001b[1;32m     11\u001b[0m \u001b[0;34m\u001b[0m\u001b[0m\n\u001b[0;32m---> 12\u001b[0;31m \u001b[0mtest_asymmetry\u001b[0m\u001b[0;34m(\u001b[0m\u001b[0mmask\u001b[0m\u001b[0;34m)\u001b[0m\u001b[0;34m\u001b[0m\u001b[0;34m\u001b[0m\u001b[0m\n\u001b[0m\u001b[1;32m     13\u001b[0m \u001b[0;34m\u001b[0m\u001b[0m\n\u001b[1;32m     14\u001b[0m \u001b[0;34m\u001b[0m\u001b[0m\n",
            "\u001b[0;32m<ipython-input-89-2bef33933be0>\u001b[0m in \u001b[0;36mtest_asymmetry\u001b[0;34m(mask)\u001b[0m\n\u001b[1;32m     30\u001b[0m         \u001b[0mfig\u001b[0m\u001b[0;34m.\u001b[0m\u001b[0mtight_layout\u001b[0m\u001b[0;34m(\u001b[0m\u001b[0;34m)\u001b[0m\u001b[0;34m\u001b[0m\u001b[0;34m\u001b[0m\u001b[0m\n\u001b[1;32m     31\u001b[0m \u001b[0;34m\u001b[0m\u001b[0m\n\u001b[0;32m---> 32\u001b[0;31m         \u001b[0mx_diff\u001b[0m \u001b[0;34m=\u001b[0m \u001b[0mmask_x_half_left\u001b[0m \u001b[0;34m-\u001b[0m \u001b[0mmask_x_half_right_flipped\u001b[0m\u001b[0;34m\u001b[0m\u001b[0;34m\u001b[0m\u001b[0m\n\u001b[0m\u001b[1;32m     33\u001b[0m \u001b[0;34m\u001b[0m\u001b[0m\n\u001b[1;32m     34\u001b[0m         \u001b[0;31m# Fold in half y-axis\u001b[0m\u001b[0;34m\u001b[0m\u001b[0;34m\u001b[0m\u001b[0;34m\u001b[0m\u001b[0m\n",
            "\u001b[0;31mValueError\u001b[0m: operands could not be broadcast together with shapes (558,320) (558,322) "
          ]
        },
        {
          "data": {
            "text/plain": "<Figure size 504x288 with 5 Axes>",
            "image/png": "[encoded data removed]"
          },
          "metadata": {
            "needs_background": "light"
          },
          "output_type": "display_data"
        }
      ]
    },
    {
      "cell_type": "code",
      "metadata": {
        "tags": [],
        "cell_id": "00025-f180ddb5-9b50-4506-8f59-7293507340e7",
        "deepnote_to_be_reexecuted": false,
        "source_hash": "88365b70",
        "execution_millis": 381,
        "execution_start": 1618773146241,
        "deepnote_cell_type": "code"
      },
      "source": "# Subtract the masks from each other to get the difference\n\nimage_diff1 = mask_cropped - mask_ver\nimage_diff2 = mask_cropped - mask_hor\n\n# Counting number of gray and non-gray pixels\ngray1 = np.count_nonzero(image_diff1 == 0)\nnon_gray1 = np.count_nonzero(image_diff1)\n\nprint(non_gray1)\n\ngray2 = np.count_nonzero(image_diff2 == 0)\nnon_gray2 = np.count_nonzero(image_diff2)\n\nprint(non_gray2)\n\nfig, axes = plt.subplots(nrows=1, ncols=2, figsize=(7, 4))\naxes[0].imshow(image_diff1,cmap='gray')\naxes[1].imshow(image_diff2,cmap='gray')\nfig.tight_layout()",
      "execution_count": null,
      "outputs": [
        {
          "name": "stdout",
          "text": "20202\n14010\n",
          "output_type": "stream"
        },
        {
          "data": {
            "text/plain": "<Figure size 504x288 with 2 Axes>",
            "image/png": "[encoded data removed]"
          },
          "metadata": {
            "needs_background": "light"
          },
          "output_type": "display_data"
        }
      ]
    },
    {
      "cell_type": "code",
      "metadata": {
        "tags": [],
        "cell_id": "00032-026679c1-c605-421a-9176-2c51fd421990",
        "deepnote_to_be_reexecuted": true,
        "source_hash": "bc70e32a",
        "execution_millis": 13,
        "deepnote_cell_type": "code"
      },
      "source": "# Inspect an entire np array (only consists of -1, 0, 1)\n#import sys\n#np.set_printoptions(threshold=sys.maxsize)\n#image_diff1\n\n# Counting number of gray and non-gray pixels\ngray1 = np.count_nonzero(image_diff1 == 0)\nnon_gray1 = np.count_nonzero(image_diff1)\n\ngray2 = np.count_nonzero(image_diff2 == 0)\nnon_gray2 = np.count_nonzero(image_diff2)\n\nprint(\"Left picture\")\nprint(\"Number of gray pixels is \" + str(gray1))\nprint(\"Number of non-gray pixels is \" + str(non_gray1))\nprint(\"Number of gray pixels compared to non-gray pixels is \" + str(gray1 / non_gray1))\nprint(\" \")\nprint(\"Right picture\")\nprint(\"Number of gray pixels is \" + str(gray2))\nprint(\"Number of non-gray pixels is \" + str(non_gray2))\nprint(\"Number of gray pixels compared to non-gray pixels is \" + str(gray2 / non_gray2))\nprint(\" \")",
      "execution_count": null,
      "outputs": [
        {
          "name": "stdout",
          "text": "Left picture\nNumber of gray pixels is 325194\nNumber of non-gray pixels is 19306\nNumber of gray pixels compared to non-gray pixels is 16.84419351496944\n \nRight picture\nNumber of gray pixels is 325738\nNumber of non-gray pixels is 18762\nNumber of gray pixels compared to non-gray pixels is 17.361581920903955\n \n",
          "output_type": "stream"
        }
      ]
    },
    {
      "cell_type": "code",
      "metadata": {
        "tags": [],
        "cell_id": "00033-b5f17335-1ee9-4b9c-a25b-6a818e07616a",
        "deepnote_to_be_reexecuted": true,
        "source_hash": "89fad3ba",
        "deepnote_cell_type": "code"
      },
      "source": "# Getting a symmetry value - Ivan Petrov's implementation\n# He uses a list of lists with points of the outline as input\n\ndef symcheck(outline):\n    left={}\n    right={}\n    outlineset=set([x[0] for x in outline])#making a set with all column numbers in the outline\n    rowset=set([x[1] for x in outline])#making a set with all row numbers in the outline\n    mincol=min(outlineset)\n    maxcol=max(outlineset)\n    minrow=min(rowset)\n    maxrow=max(rowset)\n    middlerow=round((maxrow+minrow)/2)\n    #checking if the shape is even or odd, assigning a middle column based on that\n    if (maxcol+mincol) % 2!=1:\n        middlecol=int((maxcol+mincol)/2+0.5)\n        for i in range(mincol,middlecol):#making dictinaries for both sides where entries are {column:[rows with pixels]}\n            left[i]=[]\n        for i in range(middlecol+1,maxcol+1):\n            right[i]=[]\n        for i in outline:\n            if i[0]<middlecol:\n                left[i[0]].append(i[1])\n            elif i[0]>middlecol:\n                right[i[0]].append(i[1])\n        even=False\n    else:#same thing but for even values of width\n        middlecol=[int((maxcol+mincol)/2),int((maxcol+mincol)/2+1)]\n        for i in range(mincol,middlecol[0]):\n            left[i]=[]\n        for i in range(middlecol[1]+1,maxcol+1):\n            right[i]=[]\n        for i in outline:\n            if i[0]<middlecol[0]:\n                left[i[0]].append(i[1])\n            elif i[0]>middlecol[1]:\n                right[i[0]].append(i[1])\n        even=True\n    if [] in left.values() or [] in right.values():\n        return False\n    leftcounter=mincol#setting the start values for both \n    rightcounter=maxcol\n    leftdistance=0\n    rightdistance=0\n    for i in range(len(left)):\n        for j in left[leftcounter]:\n            curlist=right[rightcounter]#finding corresponding list on the other side\n            distancelist=[abs(x-j) for x in curlist]\n            closest=curlist[distancelist.index(min(distancelist))]#getting the closest pixel\n            if even==True:\n                leftdistance=leftdistance+math.sqrt((abs(j-middlerow)**2)+(abs(leftcounter-middlecol[0])**2))\n                rightdistance=rightdistance+math.sqrt((abs(rightcounter-middlecol[1])**2)+(abs(closest-middlerow)**2))\n            else:\n                leftdistance=leftdistance+math.sqrt((abs(j-middlerow)**2)+(abs(leftcounter-middlecol)**2))\n                rightdistance=rightdistance+math.sqrt((abs(rightcounter-middlecol)**2)+(abs(closest-middlerow)**2))\n        leftcounter+=1\n        rightcounter-=1\n    print('The vertical symmetry value for this shape is:',abs(rightdistance-leftdistance))\n    return abs(rightdistance-leftdistance)",
      "execution_count": null,
      "outputs": []
    },
    {
      "cell_type": "markdown",
      "source": "### The following two cells can maybe be deleted",
      "metadata": {
        "tags": [],
        "cell_id": "00034-839a988d-70a6-42d4-95df-a6c8794b0b91",
        "deepnote_cell_type": "text-cell-h3"
      }
    },
    {
      "cell_type": "code",
      "metadata": {
        "tags": [],
        "cell_id": "00031-6dc3be43-734b-4e1b-8fe4-35e0c9786b21",
        "deepnote_to_be_reexecuted": true,
        "source_hash": "c8107e7f",
        "execution_millis": 14,
        "deepnote_cell_type": "code"
      },
      "source": "#Trying to compute percentage of non-gray pixels\n\narr = mask_cropped - mask_ver\n#list1 = arr.tolist()\n#print(list1)\n#plt.hist(image_diff1)\n\n#res = (len([ele for ele in list1 if -0.50 > ele > 0.5]) / len(list1)) * 100\n\n#percentage of black elements/pixels\nres1 = (len(list(filter(lambda ele: ele > 0.5, arr.any()))) / len(arr.any())) * 100\n  \n#percentage of white elements/pixels\nres2 = (len(list(filter(lambda ele: ele < -0.5, arr.any()))) / len(arr.any())) * 100\n\nres = res1 + res2\nprint(\"non-gray elements percentage : \" + str(res))",
      "execution_count": null,
      "outputs": [
        {
          "output_type": "error",
          "ename": "TypeError",
          "evalue": "'numpy.bool_' object is not iterable",
          "traceback": [
            "\u001b[0;31m---------------------------------------------------------------------------\u001b[0m",
            "\u001b[0;31mTypeError\u001b[0m                                 Traceback (most recent call last)",
            "\u001b[0;32m<ipython-input-18-3577a0d68174>\u001b[0m in \u001b[0;36m<module>\u001b[0;34m\u001b[0m\n\u001b[1;32m      9\u001b[0m \u001b[0;34m\u001b[0m\u001b[0m\n\u001b[1;32m     10\u001b[0m \u001b[0;31m#percentage of black elements/pixels\u001b[0m\u001b[0;34m\u001b[0m\u001b[0;34m\u001b[0m\u001b[0;34m\u001b[0m\u001b[0m\n\u001b[0;32m---> 11\u001b[0;31m \u001b[0mres1\u001b[0m \u001b[0;34m=\u001b[0m \u001b[0;34m(\u001b[0m\u001b[0mlen\u001b[0m\u001b[0;34m(\u001b[0m\u001b[0mlist\u001b[0m\u001b[0;34m(\u001b[0m\u001b[0mfilter\u001b[0m\u001b[0;34m(\u001b[0m\u001b[0;32mlambda\u001b[0m \u001b[0mele\u001b[0m\u001b[0;34m:\u001b[0m \u001b[0mele\u001b[0m \u001b[0;34m>\u001b[0m \u001b[0;36m0.5\u001b[0m\u001b[0;34m,\u001b[0m \u001b[0marr\u001b[0m\u001b[0;34m.\u001b[0m\u001b[0many\u001b[0m\u001b[0;34m(\u001b[0m\u001b[0;34m)\u001b[0m\u001b[0;34m)\u001b[0m\u001b[0;34m)\u001b[0m\u001b[0;34m)\u001b[0m \u001b[0;34m/\u001b[0m \u001b[0mlen\u001b[0m\u001b[0;34m(\u001b[0m\u001b[0marr\u001b[0m\u001b[0;34m.\u001b[0m\u001b[0many\u001b[0m\u001b[0;34m(\u001b[0m\u001b[0;34m)\u001b[0m\u001b[0;34m)\u001b[0m\u001b[0;34m)\u001b[0m \u001b[0;34m*\u001b[0m \u001b[0;36m100\u001b[0m\u001b[0;34m\u001b[0m\u001b[0;34m\u001b[0m\u001b[0m\n\u001b[0m\u001b[1;32m     12\u001b[0m \u001b[0;34m\u001b[0m\u001b[0m\n\u001b[1;32m     13\u001b[0m \u001b[0;31m#percentage of white elements/pixels\u001b[0m\u001b[0;34m\u001b[0m\u001b[0;34m\u001b[0m\u001b[0;34m\u001b[0m\u001b[0m\n",
            "\u001b[0;31mTypeError\u001b[0m: 'numpy.bool_' object is not iterable"
          ]
        }
      ]
    },
    {
      "cell_type": "code",
      "metadata": {
        "tags": [],
        "cell_id": "00021-8870f35f-5fa9-4b10-9a86-ee0b03ddd067",
        "deepnote_to_be_reexecuted": true,
        "source_hash": "27eefcd8",
        "execution_millis": 68,
        "deepnote_cell_type": "code"
      },
      "source": "# Subtracting images to see non-overlapping parts\n\ndef get_difference(image_path_1, image_path_2, cnt):\n    image1 = cv2.imread(image_path_1)\n    image2 = cv2.imread(image_path_2)\n    difference = cv2.subtract(image1, image2)\n    Conv_hsv_Gray = cv2.cvtColor(difference, cv2.COLOR_BGR2GRAY)\n    ret, mask = cv2.threshold(Conv_hsv_Gray, 0, 255,cv2.THRESH_BINARY_INV |cv2.THRESH_OTSU)\n    difference[mask != 255] = [0, 0, 255]\n    image1[mask != 255] = [0, 0, 255]\n    image2[mask != 255] = [0, 0, 255]\n    #cv2.imwrite(root_path + str(filename) + '{}.png'.format(lista[1]), roi_r)\n    cv2.imwrite('image_path_1' + str(cnt) + '.png', image1)\n\nget_difference(mask_cropped, mask_ver, 1)\nget_difference(mask_cropped, mask_hor, 1)\n\n\n#astype(float)",
      "execution_count": null,
      "outputs": [
        {
          "output_type": "error",
          "ename": "TypeError",
          "evalue": "Can't convert object of type 'numpy.ndarray' to 'str' for 'filename'",
          "traceback": [
            "\u001b[0;31m---------------------------------------------------------------------------\u001b[0m",
            "\u001b[0;31mTypeError\u001b[0m                                 Traceback (most recent call last)",
            "\u001b[0;32m<ipython-input-81-c0086c9daf65>\u001b[0m in \u001b[0;36m<module>\u001b[0;34m\u001b[0m\n\u001b[1;32m     13\u001b[0m     \u001b[0mcv2\u001b[0m\u001b[0;34m.\u001b[0m\u001b[0mimwrite\u001b[0m\u001b[0;34m(\u001b[0m\u001b[0;34m'image_path_1'\u001b[0m \u001b[0;34m+\u001b[0m \u001b[0mstr\u001b[0m\u001b[0;34m(\u001b[0m\u001b[0mcnt\u001b[0m\u001b[0;34m)\u001b[0m \u001b[0;34m+\u001b[0m \u001b[0;34m'.png'\u001b[0m\u001b[0;34m,\u001b[0m \u001b[0mstr\u001b[0m\u001b[0;34m(\u001b[0m\u001b[0mimage1\u001b[0m\u001b[0;34m)\u001b[0m\u001b[0;34m)\u001b[0m\u001b[0;34m\u001b[0m\u001b[0;34m\u001b[0m\u001b[0m\n\u001b[1;32m     14\u001b[0m \u001b[0;34m\u001b[0m\u001b[0m\n\u001b[0;32m---> 15\u001b[0;31m \u001b[0mget_difference\u001b[0m\u001b[0;34m(\u001b[0m\u001b[0mmask_cropped\u001b[0m\u001b[0;34m,\u001b[0m \u001b[0mmask_ver\u001b[0m\u001b[0;34m,\u001b[0m \u001b[0;36m1\u001b[0m\u001b[0;34m)\u001b[0m\u001b[0;34m\u001b[0m\u001b[0;34m\u001b[0m\u001b[0m\n\u001b[0m\u001b[1;32m     16\u001b[0m \u001b[0mget_difference\u001b[0m\u001b[0;34m(\u001b[0m\u001b[0mmask_cropped\u001b[0m\u001b[0;34m,\u001b[0m \u001b[0mmask_hor\u001b[0m\u001b[0;34m,\u001b[0m \u001b[0;36m1\u001b[0m\u001b[0;34m)\u001b[0m\u001b[0;34m\u001b[0m\u001b[0;34m\u001b[0m\u001b[0m\n\u001b[1;32m     17\u001b[0m \u001b[0;34m\u001b[0m\u001b[0m\n",
            "\u001b[0;32m<ipython-input-81-c0086c9daf65>\u001b[0m in \u001b[0;36mget_difference\u001b[0;34m(image_path_1, image_path_2, cnt)\u001b[0m\n\u001b[1;32m      2\u001b[0m \u001b[0;34m\u001b[0m\u001b[0m\n\u001b[1;32m      3\u001b[0m \u001b[0;32mdef\u001b[0m \u001b[0mget_difference\u001b[0m\u001b[0;34m(\u001b[0m\u001b[0mimage_path_1\u001b[0m\u001b[0;34m,\u001b[0m \u001b[0mimage_path_2\u001b[0m\u001b[0;34m,\u001b[0m \u001b[0mcnt\u001b[0m\u001b[0;34m)\u001b[0m\u001b[0;34m:\u001b[0m\u001b[0;34m\u001b[0m\u001b[0;34m\u001b[0m\u001b[0m\n\u001b[0;32m----> 4\u001b[0;31m     \u001b[0mimage1\u001b[0m \u001b[0;34m=\u001b[0m \u001b[0mcv2\u001b[0m\u001b[0;34m.\u001b[0m\u001b[0mimread\u001b[0m\u001b[0;34m(\u001b[0m\u001b[0mimage_path_1\u001b[0m\u001b[0;34m)\u001b[0m\u001b[0;34m\u001b[0m\u001b[0;34m\u001b[0m\u001b[0m\n\u001b[0m\u001b[1;32m      5\u001b[0m     \u001b[0mimage2\u001b[0m \u001b[0;34m=\u001b[0m \u001b[0mcv2\u001b[0m\u001b[0;34m.\u001b[0m\u001b[0mimread\u001b[0m\u001b[0;34m(\u001b[0m\u001b[0mimage_path_2\u001b[0m\u001b[0;34m)\u001b[0m\u001b[0;34m\u001b[0m\u001b[0;34m\u001b[0m\u001b[0m\n\u001b[1;32m      6\u001b[0m     \u001b[0mdifference\u001b[0m \u001b[0;34m=\u001b[0m \u001b[0mcv2\u001b[0m\u001b[0;34m.\u001b[0m\u001b[0msubtract\u001b[0m\u001b[0;34m(\u001b[0m\u001b[0mimage1\u001b[0m\u001b[0;34m,\u001b[0m \u001b[0mimage2\u001b[0m\u001b[0;34m)\u001b[0m\u001b[0;34m\u001b[0m\u001b[0;34m\u001b[0m\u001b[0m\n",
            "\u001b[0;31mTypeError\u001b[0m: Can't convert object of type 'numpy.ndarray' to 'str' for 'filename'"
          ]
        }
      ]
    },
    {
      "cell_type": "markdown",
      "source": "## Border",
      "metadata": {
        "tags": [],
        "cell_id": "00022-15828be1-33a6-4355-9f5a-6edd1d958035",
        "deepnote_cell_type": "markdown"
      }
    },
    {
      "cell_type": "code",
      "metadata": {
        "tags": [],
        "cell_id": "00023-424b25a0-aca6-4b58-a63c-9fce627ad9f4",
        "deepnote_to_be_reexecuted": true,
        "source_hash": "7eab6981",
        "execution_millis": 296,
        "deepnote_cell_type": "code"
      },
      "source": "from skimage.morphology import opening\ndef find_border(mask):\n    \"\"\"Returns a ratio between the surcumfrance and the area of a mask. \n    It returns 0 for a perfect circle, and increasingly higher returns for larger \n    surcomfrance compared with area.\"\"\"\n    # Using the fact that all values within the area of the mask is 1, \n    # the area is equal to the sum of the mask\n    ones = np.sum(mask)\n    # Applying a gausian border to find the surcumfrance\n    border = filters.difference_of_gaussians(mask,1) \n    # Reducing the size of the border.\n\n    border = np.where((border < -0.01) & (border > 0.01), 1, border)\n    border = np.where(border < 0.01 , 0, border)\n\n\n    surcumfrance = np.sum(border)\n\n    #plt.imshow(border, cmap='gray')\n\n    Compactness = surcumfrance**2/ones*12\n\n\n    return(Compactness)\n\nfind_border(mask)\ntest_square = np.pad(np.ones((100,200)), pad_width = 5, constant_values=0)\ntest_big_square = np.pad(np.ones((1000,2000)), pad_width = 5, constant_values=0)\n# find_border(test_big_square)\n# find_border(test_square)\n\n# Idea from https://stackoverflow.com/questions/10031580/how-to-write-simple-geometric-shapes-into-numpy-arrays\nxx, yy = np.mgrid[:200, :200]\n\ncircle = (xx - 100) ** 2 + (yy - 100) ** 2\ncircle1 = np.where(circle < 1500, 1, circle)\ncircle1 = np.where(circle1 > 1, 0, circle1)\ncircle2 = np.where(circle < 1850, 1, circle)\ncircle2 = np.where(circle2 > 1, 0, circle2)\n# find_border(circle1)\n# find_border(circle2)\n\n\n\n\n",
      "execution_count": null,
      "outputs": []
    },
    {
      "cell_type": "markdown",
      "source": "## Colour",
      "metadata": {
        "tags": [],
        "cell_id": "00024-5f533f11-966c-441c-b586-77e89ff6601b",
        "deepnote_cell_type": "markdown"
      }
    },
    {
      "cell_type": "code",
      "metadata": {
        "tags": [],
        "cell_id": "00022-1c9ba73c-3de2-4286-ac65-b2ad43293398",
        "deepnote_to_be_reexecuted": true,
        "source_hash": "48385b73",
        "execution_millis": 23,
        "deepnote_cell_type": "code"
      },
      "source": "import matplotlib.pyplot as plt\nimport numpy as np\n\n# from skimage.data import astronaut\n# from skimage.color import rgb2gray\nfrom skimage.color import label2rgb\n# from skimage.filters import sobel\nfrom skimage.segmentation import slic\nfrom skimage.segmentation import mark_boundaries\nfrom skimage.util import img_as_float\n\ndef test_color(image, mask):\n    # Have to do this in order for skimage to work properly\n    mask = img_as_float(mask[::2, ::2])\n    image = img_as_float(image[::2, ::2])\n\n    segments = slic(image, n_segments= 20, compactness=3,sigma= 5, max_iter=10, mask=mask)\n\n    blended_colors = label2rgb(segments, image, kind=\"avg\", bg_label=0)\n\n    specific_colors = np.unique(blended_colors)\n\n    # Average of the colors of the lesion\n    # Subtract the highest color spot from the average\n\n    skin_color_treshold = 0.3\n    to_avg = []\n\n    for spot_color in specific_colors:\n        if spot_color > skin_color_treshold:\n            to_avg.append(spot_color)\n\n    highest = specific_colors[-1]\n    average = sum(to_avg) / len(to_avg)\n\n    return highest - average\n\n    # -----\n\n    # Okay method to test for cancer\n\n    # for i in range(-2, -10, -1): # Check the color difference from the 9 highest valued segments\n    #     #print(highest - specific_colors[i])\n    #     if ((highest - specific_colors[i]) > threshold):\n    #         print(\"Cancerous\")\n    #         break\n\n\n    # fig, axes = plt.subplots(nrows=2, ncols=2, figsize=(14, 8))\n    # axes[0][0].imshow(mask)\n    # axes[0][1].imshow(image)\n    # axes[1][0].imshow(blended_colors)\n    # axes[1][1].imshow(mark_boundaries(image, segments, color=(0,0,0)))\n    # fig.tight_layout()\n\n# # Threshold\n# threshold_for_cancer = 0.18\n\n# # Cancer free\n# x_min, x_max, y_min, y_max = get_mask_size('../data/example_segmentation/ISIC_0004337_segmentation.png')\n\n# mask = plt.imread('../data/example_segmentation/ISIC_0004337_segmentation.png')\n# mask = mask[x_min:x_max, y_min:y_max]\n\n# image = plt.imread('../data/example_image/ISIC_0004337.jpg')\n# image = image[x_min:x_max, y_min:y_max]\n\n# diff = test_color(image, mask)\n\n# if diff > threshold_for_cancer:\n#     print(\"Cancerous\")\n# else:\n#     print(\"Not Cancerous\")\n# # ---------- # ----------\n\n# x_min, x_max, y_min, y_max = get_mask_size(mask)\n\n# mask = plt.imread('../data/example_segmentation/ISIC_0013010_segmentation.png')\n# mask = mask[x_min:x_max, y_min:y_max]\n\n# image = plt.imread('../data/example_image/ISIC_0013010.jpg')\n# image = image[x_min:x_max, y_min:y_max]\n\n# diff = test_color(image, mask)\n\n# if diff > threshold_for_cancer:\n#     print(\"Cancerous\")\n# else:\n#     print(\"Not Cancerous\")\n\n# Cancer\n# mask = plt.imread('../data/example_segmentation/ISIC_0014809_segmentation.png')\n# mask = mask[1000:4500, 1500:5000]\n\n# image = plt.imread('../data/example_image/ISIC_0014809.jpg')\n# image = image[1000:4500, 1500:5000]\n\n# test_color(image, mask)\n# --------\n# mask = plt.imread('../data/example_segmentation/ISIC_0013663_segmentation.png')\n# mask = mask[0:2450, 1300:3100]\n\n# image = plt.imread('../data/example_image/ISIC_0013663.jpg')\n# image = image[0:2450, 1300:3100]\n\n# test_color(image, mask)\n",
      "execution_count": null,
      "outputs": []
    },
    {
      "cell_type": "markdown",
      "source": "# Task 2: Predict the diagnosis\nSplit your data so that you are have training data and hold-out test data. Use\nthe training data to train different classifiers and investigate their parameters.\nOnce you made a choice, evaluate your classifier on the hold-out test data. Think\nof different metrics you can use, and different ways to present your results.",
      "metadata": {
        "tags": [],
        "cell_id": "00015-e5ac7833-d133-44a4-9de5-648399a98b3a",
        "deepnote_cell_type": "markdown"
      }
    },
    {
      "cell_type": "code",
      "metadata": {
        "tags": [],
        "cell_id": "00040-0f25c4b0-a832-4ef4-b346-243f01d32315",
        "deepnote_to_be_reexecuted": false,
        "source_hash": "ed2a27a3",
        "execution_millis": 224,
        "execution_start": 1618834405177,
        "deepnote_cell_type": "code"
      },
      "source": "def get_mask_size(mask):\n\n    i, j = np.where(mask)\n\n    x_min = j.min()\n    x_max = j.max()\n    y_min = i.min()\n    y_max = i.max()\n\n    # mask_size = np.argwhere(mask == 1)\n\n    # x_min = 10000000\n    # x_max = 0\n    # y_min = 10000000\n    # y_max = 0\n\n    # for i in mask_size:\n    #     if i[1] < x_min:\n    #         x_min = i[1]\n    #     elif i[1] > x_max:\n    #         x_max = i[1]\n    #     if i[0] < y_min:\n    #         y_min = i[0]\n    #     elif i[0] > y_max:\n    #         y_max = i[0]\n\n    return x_min, x_max, y_min, y_max\n    \n\nmask = plt.imread('../data/example_segmentation/ISIC_0013010_segmentation.png')\n\nx_min, x_max, y_min, y_max = get_mask_size(mask)\nprint(\"x_min: \", x_min)\nprint(\"x_max: \", x_max)\nplt.imshow(mask[y_min:y_max, x_min:x_max])\n",
      "execution_count": null,
      "outputs": [
        {
          "name": "stdout",
          "text": "x_min:  1340\nx_max:  1745\n",
          "output_type": "stream"
        },
        {
          "output_type": "execute_result",
          "execution_count": 78,
          "data": {
            "text/plain": "<matplotlib.image.AxesImage at 0x7fdec1b1d9d0>"
          },
          "metadata": {}
        },
        {
          "data": {
            "text/plain": "<Figure size 432x288 with 1 Axes>",
            "image/png": "[encoded data removed]"
          },
          "metadata": {
            "needs_background": "light"
          },
          "output_type": "display_data"
        }
      ]
    },
    {
      "cell_type": "markdown",
      "source": "## Preparing machine learning\nThe data is split into training and the data that will be learned on, and the features are extracted",
      "metadata": {
        "tags": [],
        "cell_id": "00026-5d34e33a-9866-4ee6-baa2-c874e005a231",
        "deepnote_cell_type": "markdown"
      }
    },
    {
      "cell_type": "code",
      "metadata": {
        "tags": [],
        "cell_id": "00044-c13059b3-fde7-4625-bdab-c0c414e96fe3",
        "deepnote_to_be_reexecuted": true,
        "source_hash": "6a4be8e",
        "execution_millis": 28,
        "deepnote_cell_type": "code"
      },
      "source": "picture_frame = pd.DataFrame.from_dict(PICTURES, orient='index',)\npicture_frame.drop([\"training_data.csv\", \"factors.csv\"], inplace = True)\npicture_frame",
      "execution_count": null,
      "outputs": [
        {
          "output_type": "execute_result",
          "execution_count": 11,
          "data": {
            "application/vnd.deepnote.dataframe.v2+json": {
              "row_count": 358,
              "column_count": 1,
              "columns": [
                {
                  "name": 0,
                  "dtype": "object",
                  "stats": {
                    "unique_count": 358,
                    "nan_count": 0,
                    "categories": [
                      {
                        "name": "../data/example_segmentation/ISIC_0012222_segmentation.png",
                        "count": 1
                      },
                      {
                        "name": "../data/example_segmentation/ISIC_0007332_segmentation.png",
                        "count": 1
                      },
                      {
                        "name": "356 others",
                        "count": 356
                      }
                    ]
                  }
                },
                {
                  "name": "_deepnote_index_column",
                  "dtype": "object"
                }
              ],
              "rows_top": [
                {
                  "0": "../data/example_segmentation/ISIC_0012222_segmentation.png",
                  "_deepnote_index_column": "ISIC_0012222_segmentation.png"
                },
                {
                  "0": "../data/example_segmentation/ISIC_0007332_segmentation.png",
                  "_deepnote_index_column": "ISIC_0007332_segmentation.png"
                },
                {
                  "0": "../data/example_segmentation/ISIC_0012746_segmentation.png",
                  "_deepnote_index_column": "ISIC_0012746_segmentation.png"
                },
                {
                  "0": "../data/example_segmentation/ISIC_0013010_segmentation.png",
                  "_deepnote_index_column": "ISIC_0013010_segmentation.png"
                },
                {
                  "0": "../data/example_segmentation/ISIC_0013215_segmentation.png",
                  "_deepnote_index_column": "ISIC_0013215_segmentation.png"
                },
                {
                  "0": "../data/example_segmentation/ISIC_0003539_segmentation.png",
                  "_deepnote_index_column": "ISIC_0003539_segmentation.png"
                },
                {
                  "0": "../data/example_segmentation/ISIC_0015372_segmentation.png",
                  "_deepnote_index_column": "ISIC_0015372_segmentation.png"
                },
                {
                  "0": "../data/example_segmentation/ISIC_0014712_segmentation.png",
                  "_deepnote_index_column": "ISIC_0014712_segmentation.png"
                },
                {
                  "0": "../data/example_segmentation/ISIC_0012660_segmentation.png",
                  "_deepnote_index_column": "ISIC_0012660_segmentation.png"
                },
                {
                  "0": "../data/example_segmentation/ISIC_0013561_segmentation.png",
                  "_deepnote_index_column": "ISIC_0013561_segmentation.png"
                },
                {
                  "0": "../data/example_segmentation/ISIC_0007528_segmentation.png",
                  "_deepnote_index_column": "ISIC_0007528_segmentation.png"
                },
                {
                  "0": "../data/example_segmentation/ISIC_0012254_segmentation.png",
                  "_deepnote_index_column": "ISIC_0012254_segmentation.png"
                },
                {
                  "0": "../data/example_segmentation/ISIC_0007344_segmentation.png",
                  "_deepnote_index_column": "ISIC_0007344_segmentation.png"
                },
                {
                  "0": "../data/example_segmentation/ISIC_0007141_segmentation.png",
                  "_deepnote_index_column": "ISIC_0007141_segmentation.png"
                },
                {
                  "0": "../data/example_segmentation/ISIC_0012956_segmentation.png",
                  "_deepnote_index_column": "ISIC_0012956_segmentation.png"
                },
                {
                  "0": "../data/example_segmentation/ISIC_0014635_segmentation.png",
                  "_deepnote_index_column": "ISIC_0014635_segmentation.png"
                },
                {
                  "0": "../data/example_segmentation/ISIC_0004337_segmentation.png",
                  "_deepnote_index_column": "ISIC_0004337_segmentation.png"
                },
                {
                  "0": "../data/example_segmentation/ISIC_0014382_segmentation.png",
                  "_deepnote_index_column": "ISIC_0014382_segmentation.png"
                },
                {
                  "0": "../data/example_segmentation/ISIC_0001871_segmentation.png",
                  "_deepnote_index_column": "ISIC_0001871_segmentation.png"
                },
                {
                  "0": "../data/example_segmentation/ISIC_0014620_segmentation.png",
                  "_deepnote_index_column": "ISIC_0014620_segmentation.png"
                },
                {
                  "0": "../data/example_segmentation/ISIC_0015313_segmentation.png",
                  "_deepnote_index_column": "ISIC_0015313_segmentation.png"
                },
                {
                  "0": "../data/example_segmentation/ISIC_0008025_segmentation.png",
                  "_deepnote_index_column": "ISIC_0008025_segmentation.png"
                },
                {
                  "0": "../data/example_segmentation/ISIC_0014623_segmentation.png",
                  "_deepnote_index_column": "ISIC_0014623_segmentation.png"
                },
                {
                  "0": "../data/example_segmentation/ISIC_0015243_segmentation.png",
                  "_deepnote_index_column": "ISIC_0015243_segmentation.png"
                },
                {
                  "0": "../data/example_segmentation/ISIC_0012306_segmentation.png",
                  "_deepnote_index_column": "ISIC_0012306_segmentation.png"
                },
                {
                  "0": "../data/example_segmentation/ISIC_0012256_segmentation.png",
                  "_deepnote_index_column": "ISIC_0012256_segmentation.png"
                },
                {
                  "0": "../data/example_segmentation/ISIC_0012160_segmentation.png",
                  "_deepnote_index_column": "ISIC_0012160_segmentation.png"
                },
                {
                  "0": "../data/example_segmentation/ISIC_0014217_segmentation.png",
                  "_deepnote_index_column": "ISIC_0014217_segmentation.png"
                },
                {
                  "0": "../data/example_segmentation/ISIC_0014608_segmentation.png",
                  "_deepnote_index_column": "ISIC_0014608_segmentation.png"
                },
                {
                  "0": "../data/example_segmentation/ISIC_0007156_segmentation.png",
                  "_deepnote_index_column": "ISIC_0007156_segmentation.png"
                },
                {
                  "0": "../data/example_segmentation/ISIC_0012313_segmentation.png",
                  "_deepnote_index_column": "ISIC_0012313_segmentation.png"
                },
                {
                  "0": "../data/example_segmentation/ISIC_0015256_segmentation.png",
                  "_deepnote_index_column": "ISIC_0015256_segmentation.png"
                },
                {
                  "0": "../data/example_segmentation/ISIC_0013637_segmentation.png",
                  "_deepnote_index_column": "ISIC_0013637_segmentation.png"
                },
                {
                  "0": "../data/example_segmentation/ISIC_0013501_segmentation.png",
                  "_deepnote_index_column": "ISIC_0013501_segmentation.png"
                },
                {
                  "0": "../data/example_segmentation/ISIC_0013562_segmentation.png",
                  "_deepnote_index_column": "ISIC_0013562_segmentation.png"
                },
                {
                  "0": "../data/example_segmentation/ISIC_0013549_segmentation.png",
                  "_deepnote_index_column": "ISIC_0013549_segmentation.png"
                },
                {
                  "0": "../data/example_segmentation/ISIC_0014038_segmentation.png",
                  "_deepnote_index_column": "ISIC_0014038_segmentation.png"
                },
                {
                  "0": "../data/example_segmentation/ISIC_0014637_segmentation.png",
                  "_deepnote_index_column": "ISIC_0014637_segmentation.png"
                },
                {
                  "0": "../data/example_segmentation/ISIC_0012221_segmentation.png",
                  "_deepnote_index_column": "ISIC_0012221_segmentation.png"
                },
                {
                  "0": "../data/example_segmentation/ISIC_0003657_segmentation.png",
                  "_deepnote_index_column": "ISIC_0003657_segmentation.png"
                },
                {
                  "0": "../data/example_segmentation/ISIC_0013421_segmentation.png",
                  "_deepnote_index_column": "ISIC_0013421_segmentation.png"
                },
                {
                  "0": "../data/example_segmentation/ISIC_0012720_segmentation.png",
                  "_deepnote_index_column": "ISIC_0012720_segmentation.png"
                },
                {
                  "0": "../data/example_segmentation/ISIC_0013491_segmentation.png",
                  "_deepnote_index_column": "ISIC_0013491_segmentation.png"
                },
                {
                  "0": "../data/example_segmentation/ISIC_0014624_segmentation.png",
                  "_deepnote_index_column": "ISIC_0014624_segmentation.png"
                },
                {
                  "0": "../data/example_segmentation/ISIC_0012159_segmentation.png",
                  "_deepnote_index_column": "ISIC_0012159_segmentation.png"
                },
                {
                  "0": "../data/example_segmentation/ISIC_0013702_segmentation.png",
                  "_deepnote_index_column": "ISIC_0013702_segmentation.png"
                },
                {
                  "0": "../data/example_segmentation/ISIC_0006671_segmentation.png",
                  "_deepnote_index_column": "ISIC_0006671_segmentation.png"
                },
                {
                  "0": "../data/example_segmentation/ISIC_0001769_segmentation.png",
                  "_deepnote_index_column": "ISIC_0001769_segmentation.png"
                },
                {
                  "0": "../data/example_segmentation/ISIC_0012417_segmentation.png",
                  "_deepnote_index_column": "ISIC_0012417_segmentation.png"
                },
                {
                  "0": "../data/example_segmentation/ISIC_0014989_segmentation.png",
                  "_deepnote_index_column": "ISIC_0014989_segmentation.png"
                },
                {
                  "0": "../data/example_segmentation/ISIC_0013127_segmentation.png",
                  "_deepnote_index_column": "ISIC_0013127_segmentation.png"
                },
                {
                  "0": "../data/example_segmentation/ISIC_0012547_segmentation.png",
                  "_deepnote_index_column": "ISIC_0012547_segmentation.png"
                },
                {
                  "0": "../data/example_segmentation/ISIC_0014211_segmentation.png",
                  "_deepnote_index_column": "ISIC_0014211_segmentation.png"
                },
                {
                  "0": "../data/example_segmentation/ISIC_0008524_segmentation.png",
                  "_deepnote_index_column": "ISIC_0008524_segmentation.png"
                },
                {
                  "0": "../data/example_segmentation/ISIC_0014857_segmentation.png",
                  "_deepnote_index_column": "ISIC_0014857_segmentation.png"
                },
                {
                  "0": "../data/example_segmentation/ISIC_0013132_segmentation.png",
                  "_deepnote_index_column": "ISIC_0013132_segmentation.png"
                },
                {
                  "0": "../data/example_segmentation/ISIC_0015043_segmentation.png",
                  "_deepnote_index_column": "ISIC_0015043_segmentation.png"
                },
                {
                  "0": "../data/example_segmentation/ISIC_0012876_segmentation.png",
                  "_deepnote_index_column": "ISIC_0012876_segmentation.png"
                },
                {
                  "0": "../data/example_segmentation/ISIC_0014618_segmentation.png",
                  "_deepnote_index_column": "ISIC_0014618_segmentation.png"
                },
                {
                  "0": "../data/example_segmentation/ISIC_0014212_segmentation.png",
                  "_deepnote_index_column": "ISIC_0014212_segmentation.png"
                },
                {
                  "0": "../data/example_segmentation/ISIC_0014809_segmentation.png",
                  "_deepnote_index_column": "ISIC_0014809_segmentation.png"
                },
                {
                  "0": "../data/example_segmentation/ISIC_0014558_segmentation.png",
                  "_deepnote_index_column": "ISIC_0014558_segmentation.png"
                },
                {
                  "0": "../data/example_segmentation/ISIC_0012316_segmentation.png",
                  "_deepnote_index_column": "ISIC_0012316_segmentation.png"
                },
                {
                  "0": "../data/example_segmentation/ISIC_0015401_segmentation.png",
                  "_deepnote_index_column": "ISIC_0015401_segmentation.png"
                },
                {
                  "0": "../data/example_segmentation/ISIC_0014633_segmentation.png",
                  "_deepnote_index_column": "ISIC_0014633_segmentation.png"
                },
                {
                  "0": "../data/example_segmentation/ISIC_0013651_segmentation.png",
                  "_deepnote_index_column": "ISIC_0013651_segmentation.png"
                },
                {
                  "0": "../data/example_segmentation/ISIC_0013632_segmentation.png",
                  "_deepnote_index_column": "ISIC_0013632_segmentation.png"
                },
                {
                  "0": "../data/example_segmentation/ISIC_0012927_segmentation.png",
                  "_deepnote_index_column": "ISIC_0012927_segmentation.png"
                },
                {
                  "0": "../data/example_segmentation/ISIC_0014572_segmentation.png",
                  "_deepnote_index_column": "ISIC_0014572_segmentation.png"
                },
                {
                  "0": "../data/example_segmentation/ISIC_0014178_segmentation.png",
                  "_deepnote_index_column": "ISIC_0014178_segmentation.png"
                },
                {
                  "0": "../data/example_segmentation/ISIC_0012400_segmentation.png",
                  "_deepnote_index_column": "ISIC_0012400_segmentation.png"
                },
                {
                  "0": "../data/example_segmentation/ISIC_0013644_segmentation.png",
                  "_deepnote_index_column": "ISIC_0013644_segmentation.png"
                },
                {
                  "0": "../data/example_segmentation/ISIC_0006815_segmentation.png",
                  "_deepnote_index_column": "ISIC_0006815_segmentation.png"
                },
                {
                  "0": "../data/example_segmentation/ISIC_0007235_segmentation.png",
                  "_deepnote_index_column": "ISIC_0007235_segmentation.png"
                },
                {
                  "0": "../data/example_segmentation/ISIC_0006914_segmentation.png",
                  "_deepnote_index_column": "ISIC_0006914_segmentation.png"
                },
                {
                  "0": "../data/example_segmentation/ISIC_0012143_segmentation.png",
                  "_deepnote_index_column": "ISIC_0012143_segmentation.png"
                },
                {
                  "0": "../data/example_segmentation/ISIC_0012380_segmentation.png",
                  "_deepnote_index_column": "ISIC_0012380_segmentation.png"
                },
                {
                  "0": "../data/example_segmentation/ISIC_0014937_segmentation.png",
                  "_deepnote_index_column": "ISIC_0014937_segmentation.png"
                },
                {
                  "0": "../data/example_segmentation/ISIC_0013663_segmentation.png",
                  "_deepnote_index_column": "ISIC_0013663_segmentation.png"
                },
                {
                  "0": "../data/example_segmentation/ISIC_0014601_segmentation.png",
                  "_deepnote_index_column": "ISIC_0014601_segmentation.png"
                },
                {
                  "0": "../data/example_segmentation/ISIC_0015496_segmentation.png",
                  "_deepnote_index_column": "ISIC_0015496_segmentation.png"
                },
                {
                  "0": "../data/example_segmentation/ISIC_0007796_segmentation.png",
                  "_deepnote_index_column": "ISIC_0007796_segmentation.png"
                },
                {
                  "0": "../data/example_segmentation/ISIC_0013128_segmentation.png",
                  "_deepnote_index_column": "ISIC_0013128_segmentation.png"
                },
                {
                  "0": "../data/example_segmentation/ISIC_0003462_segmentation.png",
                  "_deepnote_index_column": "ISIC_0003462_segmentation.png"
                },
                {
                  "0": "../data/example_segmentation/ISIC_0015445_segmentation.png",
                  "_deepnote_index_column": "ISIC_0015445_segmentation.png"
                },
                {
                  "0": "../data/example_segmentation/ISIC_0015483_segmentation.png",
                  "_deepnote_index_column": "ISIC_0015483_segmentation.png"
                },
                {
                  "0": "../data/example_segmentation/ISIC_0012191_segmentation.png",
                  "_deepnote_index_column": "ISIC_0012191_segmentation.png"
                },
                {
                  "0": "../data/example_segmentation/ISIC_0003582_segmentation.png",
                  "_deepnote_index_column": "ISIC_0003582_segmentation.png"
                },
                {
                  "0": "../data/example_segmentation/ISIC_0012109_segmentation.png",
                  "_deepnote_index_column": "ISIC_0012109_segmentation.png"
                },
                {
                  "0": "../data/example_segmentation/ISIC_0012201_segmentation.png",
                  "_deepnote_index_column": "ISIC_0012201_segmentation.png"
                },
                {
                  "0": "../data/example_segmentation/ISIC_0007241_segmentation.png",
                  "_deepnote_index_column": "ISIC_0007241_segmentation.png"
                },
                {
                  "0": "../data/example_segmentation/ISIC_0014310_segmentation.png",
                  "_deepnote_index_column": "ISIC_0014310_segmentation.png"
                },
                {
                  "0": "../data/example_segmentation/ISIC_0014985_segmentation.png",
                  "_deepnote_index_column": "ISIC_0014985_segmentation.png"
                },
                {
                  "0": "../data/example_segmentation/ISIC_0014616_segmentation.png",
                  "_deepnote_index_column": "ISIC_0014616_segmentation.png"
                },
                {
                  "0": "../data/example_segmentation/ISIC_0001852_segmentation.png",
                  "_deepnote_index_column": "ISIC_0001852_segmentation.png"
                },
                {
                  "0": "../data/example_segmentation/ISIC_0012383_segmentation.png",
                  "_deepnote_index_column": "ISIC_0012383_segmentation.png"
                },
                {
                  "0": "../data/example_segmentation/ISIC_0012684_segmentation.png",
                  "_deepnote_index_column": "ISIC_0012684_segmentation.png"
                },
                {
                  "0": "../data/example_segmentation/ISIC_0013082_segmentation.png",
                  "_deepnote_index_column": "ISIC_0013082_segmentation.png"
                },
                {
                  "0": "../data/example_segmentation/ISIC_0014162_segmentation.png",
                  "_deepnote_index_column": "ISIC_0014162_segmentation.png"
                },
                {
                  "0": "../data/example_segmentation/ISIC_0014568_segmentation.png",
                  "_deepnote_index_column": "ISIC_0014568_segmentation.png"
                },
                {
                  "0": "../data/example_segmentation/ISIC_0012288_segmentation.png",
                  "_deepnote_index_column": "ISIC_0012288_segmentation.png"
                },
                {
                  "0": "../data/example_segmentation/ISIC_0014302_segmentation.png",
                  "_deepnote_index_column": "ISIC_0014302_segmentation.png"
                },
                {
                  "0": "../data/example_segmentation/ISIC_0013518_segmentation.png",
                  "_deepnote_index_column": "ISIC_0013518_segmentation.png"
                },
                {
                  "0": "../data/example_segmentation/ISIC_0010459_segmentation.png",
                  "_deepnote_index_column": "ISIC_0010459_segmentation.png"
                },
                {
                  "0": "../data/example_segmentation/ISIC_0014139_segmentation.png",
                  "_deepnote_index_column": "ISIC_0014139_segmentation.png"
                },
                {
                  "0": "../data/example_segmentation/ISIC_0013793_segmentation.png",
                  "_deepnote_index_column": "ISIC_0013793_segmentation.png"
                },
                {
                  "0": "../data/example_segmentation/ISIC_0014610_segmentation.png",
                  "_deepnote_index_column": "ISIC_0014610_segmentation.png"
                },
                {
                  "0": "../data/example_segmentation/ISIC_0012206_segmentation.png",
                  "_deepnote_index_column": "ISIC_0012206_segmentation.png"
                },
                {
                  "0": "../data/example_segmentation/ISIC_0012335_segmentation.png",
                  "_deepnote_index_column": "ISIC_0012335_segmentation.png"
                },
                {
                  "0": "../data/example_segmentation/ISIC_0013736_segmentation.png",
                  "_deepnote_index_column": "ISIC_0013736_segmentation.png"
                },
                {
                  "0": "../data/example_segmentation/ISIC_0015627_segmentation.png",
                  "_deepnote_index_column": "ISIC_0015627_segmentation.png"
                },
                {
                  "0": "../data/example_segmentation/ISIC_0012492_segmentation.png",
                  "_deepnote_index_column": "ISIC_0012492_segmentation.png"
                },
                {
                  "0": "../data/example_segmentation/ISIC_0014945_segmentation.png",
                  "_deepnote_index_column": "ISIC_0014945_segmentation.png"
                },
                {
                  "0": "../data/example_segmentation/ISIC_0013188_segmentation.png",
                  "_deepnote_index_column": "ISIC_0013188_segmentation.png"
                },
                {
                  "0": "../data/example_segmentation/ISIC_0012959_segmentation.png",
                  "_deepnote_index_column": "ISIC_0012959_segmentation.png"
                },
                {
                  "0": "../data/example_segmentation/ISIC_0013863_segmentation.png",
                  "_deepnote_index_column": "ISIC_0013863_segmentation.png"
                },
                {
                  "0": "../data/example_segmentation/ISIC_0013527_segmentation.png",
                  "_deepnote_index_column": "ISIC_0013527_segmentation.png"
                },
                {
                  "0": "../data/example_segmentation/ISIC_0006651_segmentation.png",
                  "_deepnote_index_column": "ISIC_0006651_segmentation.png"
                },
                {
                  "0": "../data/example_segmentation/ISIC_0014597_segmentation.png",
                  "_deepnote_index_column": "ISIC_0014597_segmentation.png"
                },
                {
                  "0": "../data/example_segmentation/ISIC_0003805_segmentation.png",
                  "_deepnote_index_column": "ISIC_0003805_segmentation.png"
                },
                {
                  "0": "../data/example_segmentation/ISIC_0012099_segmentation.png",
                  "_deepnote_index_column": "ISIC_0012099_segmentation.png"
                },
                {
                  "0": "../data/example_segmentation/ISIC_0013945_segmentation.png",
                  "_deepnote_index_column": "ISIC_0013945_segmentation.png"
                },
                {
                  "0": "../data/example_segmentation/ISIC_0015124_segmentation.png",
                  "_deepnote_index_column": "ISIC_0015124_segmentation.png"
                },
                {
                  "0": "../data/example_segmentation/ISIC_0014611_segmentation.png",
                  "_deepnote_index_column": "ISIC_0014611_segmentation.png"
                },
                {
                  "0": "../data/example_segmentation/ISIC_0013828_segmentation.png",
                  "_deepnote_index_column": "ISIC_0013828_segmentation.png"
                },
                {
                  "0": "../data/example_segmentation/ISIC_0015144_segmentation.png",
                  "_deepnote_index_column": "ISIC_0015144_segmentation.png"
                },
                {
                  "0": "../data/example_segmentation/ISIC_0015211_segmentation.png",
                  "_deepnote_index_column": "ISIC_0015211_segmentation.png"
                },
                {
                  "0": "../data/example_segmentation/ISIC_0012151_segmentation.png",
                  "_deepnote_index_column": "ISIC_0012151_segmentation.png"
                },
                {
                  "0": "../data/example_segmentation/ISIC_0012538_segmentation.png",
                  "_deepnote_index_column": "ISIC_0012538_segmentation.png"
                },
                {
                  "0": "../data/example_segmentation/ISIC_0015443_segmentation.png",
                  "_deepnote_index_column": "ISIC_0015443_segmentation.png"
                },
                {
                  "0": "../data/example_segmentation/ISIC_0009995_segmentation.png",
                  "_deepnote_index_column": "ISIC_0009995_segmentation.png"
                },
                {
                  "0": "../data/example_segmentation/ISIC_0012204_segmentation.png",
                  "_deepnote_index_column": "ISIC_0012204_segmentation.png"
                },
                {
                  "0": "../data/example_segmentation/ISIC_0014055_segmentation.png",
                  "_deepnote_index_column": "ISIC_0014055_segmentation.png"
                },
                {
                  "0": "../data/example_segmentation/ISIC_0012127_segmentation.png",
                  "_deepnote_index_column": "ISIC_0012127_segmentation.png"
                },
                {
                  "0": "../data/example_segmentation/ISIC_0013898_segmentation.png",
                  "_deepnote_index_column": "ISIC_0013898_segmentation.png"
                },
                {
                  "0": "../data/example_segmentation/ISIC_0015062_segmentation.png",
                  "_deepnote_index_column": "ISIC_0015062_segmentation.png"
                },
                {
                  "0": "../data/example_segmentation/ISIC_0012513_segmentation.png",
                  "_deepnote_index_column": "ISIC_0012513_segmentation.png"
                },
                {
                  "0": "../data/example_segmentation/ISIC_0014946_segmentation.png",
                  "_deepnote_index_column": "ISIC_0014946_segmentation.png"
                },
                {
                  "0": "../data/example_segmentation/ISIC_0014428_segmentation.png",
                  "_deepnote_index_column": "ISIC_0014428_segmentation.png"
                },
                {
                  "0": "../data/example_segmentation/ISIC_0012434_segmentation.png",
                  "_deepnote_index_column": "ISIC_0012434_segmentation.png"
                },
                {
                  "0": "../data/example_segmentation/ISIC_0013232_segmentation.png",
                  "_deepnote_index_column": "ISIC_0013232_segmentation.png"
                },
                {
                  "0": "../data/example_segmentation/ISIC_0014688_segmentation.png",
                  "_deepnote_index_column": "ISIC_0014688_segmentation.png"
                },
                {
                  "0": "../data/example_segmentation/ISIC_0013104_segmentation.png",
                  "_deepnote_index_column": "ISIC_0013104_segmentation.png"
                },
                {
                  "0": "../data/example_segmentation/ISIC_0014931_segmentation.png",
                  "_deepnote_index_column": "ISIC_0014931_segmentation.png"
                },
                {
                  "0": "../data/example_segmentation/ISIC_0012965_segmentation.png",
                  "_deepnote_index_column": "ISIC_0012965_segmentation.png"
                },
                {
                  "0": "../data/example_segmentation/ISIC_0012210_segmentation.png",
                  "_deepnote_index_column": "ISIC_0012210_segmentation.png"
                },
                {
                  "0": "../data/example_segmentation/ISIC_0014979_segmentation.png",
                  "_deepnote_index_column": "ISIC_0014979_segmentation.png"
                },
                {
                  "0": "../data/example_segmentation/ISIC_0012126_segmentation.png",
                  "_deepnote_index_column": "ISIC_0012126_segmentation.png"
                },
                {
                  "0": "../data/example_segmentation/ISIC_0014037_segmentation.png",
                  "_deepnote_index_column": "ISIC_0014037_segmentation.png"
                },
                {
                  "0": "../data/example_segmentation/ISIC_0014829_segmentation.png",
                  "_deepnote_index_column": "ISIC_0014829_segmentation.png"
                },
                {
                  "0": "../data/example_image/ISIC_0014601.jpg",
                  "_deepnote_index_column": "ISIC_0014601.jpg"
                },
                {
                  "0": "../data/example_image/ISIC_0014809_superpixels.png",
                  "_deepnote_index_column": "ISIC_0014809_superpixels.png"
                },
                {
                  "0": "../data/example_image/ISIC_0015372_superpixels.png",
                  "_deepnote_index_column": "ISIC_0015372_superpixels.png"
                },
                {
                  "0": "../data/example_image/ISIC_0013561.jpg",
                  "_deepnote_index_column": "ISIC_0013561.jpg"
                },
                {
                  "0": "../data/example_image/ISIC_0012288_superpixels.png",
                  "_deepnote_index_column": "ISIC_0012288_superpixels.png"
                },
                {
                  "0": "../data/example_image/ISIC_0007241.jpg",
                  "_deepnote_index_column": "ISIC_0007241.jpg"
                },
                {
                  "0": "../data/example_image/ISIC_0007156.jpg",
                  "_deepnote_index_column": "ISIC_0007156.jpg"
                },
                {
                  "0": "../data/example_image/ISIC_0014608.jpg",
                  "_deepnote_index_column": "ISIC_0014608.jpg"
                },
                {
                  "0": "../data/example_image/ISIC_0013702_superpixels.png",
                  "_deepnote_index_column": "ISIC_0013702_superpixels.png"
                },
                {
                  "0": "../data/example_image/ISIC_0001871.jpg",
                  "_deepnote_index_column": "ISIC_0001871.jpg"
                },
                {
                  "0": "../data/example_image/ISIC_0014212.jpg",
                  "_deepnote_index_column": "ISIC_0014212.jpg"
                },
                {
                  "0": "../data/example_image/ISIC_0015483.jpg",
                  "_deepnote_index_column": "ISIC_0015483.jpg"
                },
                {
                  "0": "../data/example_image/ISIC_0012160.jpg",
                  "_deepnote_index_column": "ISIC_0012160.jpg"
                },
                {
                  "0": "../data/example_image/ISIC_0012417.jpg",
                  "_deepnote_index_column": "ISIC_0012417.jpg"
                },
                {
                  "0": "../data/example_image/ISIC_0014989.jpg",
                  "_deepnote_index_column": "ISIC_0014989.jpg"
                },
                {
                  "0": "../data/example_image/ISIC_0015496_superpixels.png",
                  "_deepnote_index_column": "ISIC_0015496_superpixels.png"
                },
                {
                  "0": "../data/example_image/ISIC_0013663_superpixels.png",
                  "_deepnote_index_column": "ISIC_0013663_superpixels.png"
                },
                {
                  "0": "../data/example_image/ISIC_0014558.jpg",
                  "_deepnote_index_column": "ISIC_0014558.jpg"
                },
                {
                  "0": "../data/example_image/ISIC_0012313.jpg",
                  "_deepnote_index_column": "ISIC_0012313.jpg"
                },
                {
                  "0": "../data/example_image/ISIC_0014139.jpg",
                  "_deepnote_index_column": "ISIC_0014139.jpg"
                },
                {
                  "0": "../data/example_image/ISIC_0013132.jpg",
                  "_deepnote_index_column": "ISIC_0013132.jpg"
                },
                {
                  "0": "../data/example_image/ISIC_0013644.jpg",
                  "_deepnote_index_column": "ISIC_0013644.jpg"
                },
                {
                  "0": "../data/example_image/ISIC_0014633.jpg",
                  "_deepnote_index_column": "ISIC_0014633.jpg"
                },
                {
                  "0": "../data/example_image/ISIC_0012127.jpg",
                  "_deepnote_index_column": "ISIC_0012127.jpg"
                },
                {
                  "0": "../data/example_image/ISIC_0014809.jpg",
                  "_deepnote_index_column": "ISIC_0014809.jpg"
                },
                {
                  "0": "../data/example_image/ISIC_0012221.jpg",
                  "_deepnote_index_column": "ISIC_0012221.jpg"
                },
                {
                  "0": "../data/example_image/ISIC_0013215-20210416-085826.jpg",
                  "_deepnote_index_column": "ISIC_0013215-20210416-085826.jpg"
                },
                {
                  "0": "../data/example_image/ISIC_0015372.jpg",
                  "_deepnote_index_column": "ISIC_0015372.jpg"
                },
                {
                  "0": "../data/example_image/ISIC_0015256.jpg",
                  "_deepnote_index_column": "ISIC_0015256.jpg"
                },
                {
                  "0": "../data/example_image/ISIC_0013518_superpixels.png",
                  "_deepnote_index_column": "ISIC_0013518_superpixels.png"
                },
                {
                  "0": "../data/example_image/ISIC_0012959.jpg",
                  "_deepnote_index_column": "ISIC_0012959.jpg"
                },
                {
                  "0": "../data/example_image/ISIC_0014688.jpg",
                  "_deepnote_index_column": "ISIC_0014688.jpg"
                },
                {
                  "0": "../data/example_image/ISIC_0014979_superpixels.png",
                  "_deepnote_index_column": "ISIC_0014979_superpixels.png"
                },
                {
                  "0": "../data/example_image/ISIC_0014946_superpixels.png",
                  "_deepnote_index_column": "ISIC_0014946_superpixels.png"
                },
                {
                  "0": "../data/example_image/ISIC_0015062.jpg",
                  "_deepnote_index_column": "ISIC_0015062.jpg"
                },
                {
                  "0": "../data/example_image/ISIC_0012254.jpg",
                  "_deepnote_index_column": "ISIC_0012254.jpg"
                },
                {
                  "0": "../data/example_image/ISIC_0012143.jpg",
                  "_deepnote_index_column": "ISIC_0012143.jpg"
                },
                {
                  "0": "../data/example_image/ISIC_0010459.jpg",
                  "_deepnote_index_column": "ISIC_0010459.jpg"
                },
                {
                  "0": "../data/example_image/ISIC_0001852.jpg",
                  "_deepnote_index_column": "ISIC_0001852.jpg"
                },
                {
                  "0": "../data/example_image/ISIC_0014829_superpixels.png",
                  "_deepnote_index_column": "ISIC_0014829_superpixels.png"
                },
                {
                  "0": "../data/example_image/ISIC_0013945.jpg",
                  "_deepnote_index_column": "ISIC_0013945.jpg"
                },
                {
                  "0": "../data/example_image/ISIC_0014382_superpixels.png",
                  "_deepnote_index_column": "ISIC_0014382_superpixels.png"
                },
                {
                  "0": "../data/example_image/ISIC_0015211.jpg",
                  "_deepnote_index_column": "ISIC_0015211.jpg"
                },
                {
                  "0": "../data/example_image/ISIC_0013828.jpg",
                  "_deepnote_index_column": "ISIC_0013828.jpg"
                },
                {
                  "0": "../data/example_image/ISIC_0012434.jpg",
                  "_deepnote_index_column": "ISIC_0012434.jpg"
                },
                {
                  "0": "../data/example_image/ISIC_0015627_superpixels.png",
                  "_deepnote_index_column": "ISIC_0015627_superpixels.png"
                },
                {
                  "0": "../data/example_image/ISIC_0015443.jpg",
                  "_deepnote_index_column": "ISIC_0015443.jpg"
                },
                {
                  "0": "../data/example_image/ISIC_0014712_superpixels.png",
                  "_deepnote_index_column": "ISIC_0014712_superpixels.png"
                },
                {
                  "0": "../data/example_image/ISIC_0012965.jpg",
                  "_deepnote_index_column": "ISIC_0012965.jpg"
                },
                {
                  "0": "../data/example_image/ISIC_0013736.jpg",
                  "_deepnote_index_column": "ISIC_0013736.jpg"
                },
                {
                  "0": "../data/example_image/ISIC_0015124_superpixels.png",
                  "_deepnote_index_column": "ISIC_0015124_superpixels.png"
                },
                {
                  "0": "../data/example_image/ISIC_0013421.jpg",
                  "_deepnote_index_column": "ISIC_0013421.jpg"
                },
                {
                  "0": "../data/example_image/ISIC_0014572.jpg",
                  "_deepnote_index_column": "ISIC_0014572.jpg"
                },
                {
                  "0": "../data/example_image/ISIC_0004337.jpg",
                  "_deepnote_index_column": "ISIC_0004337.jpg"
                },
                {
                  "0": "../data/example_image/ISIC_0014037.jpg",
                  "_deepnote_index_column": "ISIC_0014037.jpg"
                },
                {
                  "0": "../data/example_image/ISIC_0006651.jpg",
                  "_deepnote_index_column": "ISIC_0006651.jpg"
                },
                {
                  "0": "../data/example_image/ISIC_0007528.jpg",
                  "_deepnote_index_column": "ISIC_0007528.jpg"
                },
                {
                  "0": "../data/example_image/ISIC_0014610.jpg",
                  "_deepnote_index_column": "ISIC_0014610.jpg"
                },
                {
                  "0": "../data/example_image/ISIC_0012513_superpixels.png",
                  "_deepnote_index_column": "ISIC_0012513_superpixels.png"
                },
                {
                  "0": "../data/example_image/ISIC_0014635.jpg",
                  "_deepnote_index_column": "ISIC_0014635.jpg"
                },
                {
                  "0": "../data/example_image/ISIC_0012126.jpg",
                  "_deepnote_index_column": "ISIC_0012126.jpg"
                },
                {
                  "0": "../data/example_image/ISIC_0012547.jpg",
                  "_deepnote_index_column": "ISIC_0012547.jpg"
                },
                {
                  "0": "../data/example_image/ISIC_0013010.jpg",
                  "_deepnote_index_column": "ISIC_0013010.jpg"
                },
                {
                  "0": "../data/example_image/ISIC_0014217_superpixels.png",
                  "_deepnote_index_column": "ISIC_0014217_superpixels.png"
                },
                {
                  "0": "../data/example_image/ISIC_0015627.jpg",
                  "_deepnote_index_column": "ISIC_0015627.jpg"
                },
                {
                  "0": "../data/example_image/ISIC_0003539.jpg",
                  "_deepnote_index_column": "ISIC_0003539.jpg"
                },
                {
                  "0": "../data/example_image/ISIC_0015211_superpixels.png",
                  "_deepnote_index_column": "ISIC_0015211_superpixels.png"
                },
                {
                  "0": "../data/example_image/ISIC_0015144_superpixels.png",
                  "_deepnote_index_column": "ISIC_0015144_superpixels.png"
                },
                {
                  "0": "../data/example_image/ISIC_0013637.jpg",
                  "_deepnote_index_column": "ISIC_0013637.jpg"
                },
                {
                  "0": "../data/example_image/ISIC_0015124.jpg",
                  "_deepnote_index_column": "ISIC_0015124.jpg"
                },
                {
                  "0": "../data/example_image/ISIC_0013527.jpg",
                  "_deepnote_index_column": "ISIC_0013527.jpg"
                },
                {
                  "0": "../data/example_image/ISIC_0013549_superpixels.png",
                  "_deepnote_index_column": "ISIC_0013549_superpixels.png"
                },
                {
                  "0": "../data/example_image/ISIC_0014302.jpg",
                  "_deepnote_index_column": "ISIC_0014302.jpg"
                },
                {
                  "0": "../data/example_image/ISIC_0012383.jpg",
                  "_deepnote_index_column": "ISIC_0012383.jpg"
                },
                {
                  "0": "../data/example_image/ISIC_0014178.jpg",
                  "_deepnote_index_column": "ISIC_0014178.jpg"
                },
                {
                  "0": "../data/example_image/ISIC_0014945_superpixels.png",
                  "_deepnote_index_column": "ISIC_0014945_superpixels.png"
                },
                {
                  "0": "../data/example_image/ISIC_0015313_superpixels.png",
                  "_deepnote_index_column": "ISIC_0015313_superpixels.png"
                },
                {
                  "0": "../data/example_image/ISIC_0007235.jpg",
                  "_deepnote_index_column": "ISIC_0007235.jpg"
                },
                {
                  "0": "../data/example_image/ISIC_0001769.jpg",
                  "_deepnote_index_column": "ISIC_0001769.jpg"
                },
                {
                  "0": "../data/example_image/ISIC_0014857_superpixels.png",
                  "_deepnote_index_column": "ISIC_0014857_superpixels.png"
                },
                {
                  "0": "../data/example_image/ISIC_0012746.jpg",
                  "_deepnote_index_column": "ISIC_0012746.jpg"
                },
                {
                  "0": "../data/example_image/ISIC_0014558_superpixels.png",
                  "_deepnote_index_column": "ISIC_0014558_superpixels.png"
                },
                {
                  "0": "../data/example_image/ISIC_0014055.jpg",
                  "_deepnote_index_column": "ISIC_0014055.jpg"
                },
                {
                  "0": "../data/example_image/ISIC_0008025.jpg",
                  "_deepnote_index_column": "ISIC_0008025.jpg"
                },
                {
                  "0": "../data/example_image/ISIC_0012204.jpg",
                  "_deepnote_index_column": "ISIC_0012204.jpg"
                },
                {
                  "0": "../data/example_image/ISIC_0015243_superpixels.png",
                  "_deepnote_index_column": "ISIC_0015243_superpixels.png"
                },
                {
                  "0": "../data/example_image/ISIC_0014688_superpixels.png",
                  "_deepnote_index_column": "ISIC_0014688_superpixels.png"
                },
                {
                  "0": "../data/example_image/ISIC_0013793.jpg",
                  "_deepnote_index_column": "ISIC_0013793.jpg"
                },
                {
                  "0": "../data/example_image/ISIC_0007141.jpg",
                  "_deepnote_index_column": "ISIC_0007141.jpg"
                },
                {
                  "0": "../data/example_image/ISIC_0014611.jpg",
                  "_deepnote_index_column": "ISIC_0014611.jpg"
                },
                {
                  "0": "../data/example_image/ISIC_0015443_superpixels.png",
                  "_deepnote_index_column": "ISIC_0015443_superpixels.png"
                },
                {
                  "0": "../data/example_image/ISIC_0014937_superpixels.png",
                  "_deepnote_index_column": "ISIC_0014937_superpixels.png"
                },
                {
                  "0": "../data/example_image/ISIC_0014857.jpg",
                  "_deepnote_index_column": "ISIC_0014857.jpg"
                },
                {
                  "0": "../data/example_image/ISIC_0014382.jpg",
                  "_deepnote_index_column": "ISIC_0014382.jpg"
                },
                {
                  "0": "../data/example_image/ISIC_0014038.jpg",
                  "_deepnote_index_column": "ISIC_0014038.jpg"
                },
                {
                  "0": "../data/example_image/ISIC_0014616.jpg",
                  "_deepnote_index_column": "ISIC_0014616.jpg"
                },
                {
                  "0": "../data/example_image/ISIC_0015445.jpg",
                  "_deepnote_index_column": "ISIC_0015445.jpg"
                },
                {
                  "0": "../data/example_image/ISIC_0014618.jpg",
                  "_deepnote_index_column": "ISIC_0014618.jpg"
                },
                {
                  "0": "../data/example_image/ISIC_0012400_superpixels.png",
                  "_deepnote_index_column": "ISIC_0012400_superpixels.png"
                },
                {
                  "0": "../data/example_image/ISIC_0015401_superpixels.png",
                  "_deepnote_index_column": "ISIC_0015401_superpixels.png"
                },
                {
                  "0": "../data/example_image/ISIC_0012400.jpg",
                  "_deepnote_index_column": "ISIC_0012400.jpg"
                },
                {
                  "0": "../data/example_image/ISIC_0012956.jpg",
                  "_deepnote_index_column": "ISIC_0012956.jpg"
                },
                {
                  "0": "../data/example_image/ISIC_0013702.jpg",
                  "_deepnote_index_column": "ISIC_0013702.jpg"
                },
                {
                  "0": "../data/example_image/ISIC_0014597.jpg",
                  "_deepnote_index_column": "ISIC_0014597.jpg"
                },
                {
                  "0": "../data/example_image/ISIC_0007332.jpg",
                  "_deepnote_index_column": "ISIC_0007332.jpg"
                },
                {
                  "0": "../data/example_image/ISIC_0013632_superpixels.png",
                  "_deepnote_index_column": "ISIC_0013632_superpixels.png"
                },
                {
                  "0": "../data/example_image/ISIC_0014623.jpg",
                  "_deepnote_index_column": "ISIC_0014623.jpg"
                },
                {
                  "0": "../data/example_image/ISIC_0014946.jpg",
                  "_deepnote_index_column": "ISIC_0014946.jpg"
                },
                {
                  "0": "../data/example_image/ISIC_0013945_superpixels.png",
                  "_deepnote_index_column": "ISIC_0013945_superpixels.png"
                },
                {
                  "0": "../data/example_image/ISIC_0003582.jpg",
                  "_deepnote_index_column": "ISIC_0003582.jpg"
                },
                {
                  "0": "../data/example_image/ISIC_0014624.jpg",
                  "_deepnote_index_column": "ISIC_0014624.jpg"
                },
                {
                  "0": "../data/example_image/ISIC_0013188.jpg",
                  "_deepnote_index_column": "ISIC_0013188.jpg"
                },
                {
                  "0": "../data/example_image/ISIC_0014428_superpixels.png",
                  "_deepnote_index_column": "ISIC_0014428_superpixels.png"
                },
                {
                  "0": "../data/example_image/ISIC_0013232.jpg",
                  "_deepnote_index_column": "ISIC_0013232.jpg"
                },
                {
                  "0": "../data/example_image/ISIC_0003805.jpg",
                  "_deepnote_index_column": "ISIC_0003805.jpg"
                },
                {
                  "0": "../data/example_image/ISIC_0013421_superpixels.png",
                  "_deepnote_index_column": "ISIC_0013421_superpixels.png"
                },
                {
                  "0": "../data/example_image/ISIC_0012335.jpg",
                  "_deepnote_index_column": "ISIC_0012335.jpg"
                },
                {
                  "0": "../data/example_image/ISIC_0012492.jpg",
                  "_deepnote_index_column": "ISIC_0012492.jpg"
                },
                {
                  "0": "../data/example_image/ISIC_0014302_superpixels.png",
                  "_deepnote_index_column": "ISIC_0014302_superpixels.png"
                },
                {
                  "0": "../data/example_image/ISIC_0013736_superpixels.png",
                  "_deepnote_index_column": "ISIC_0013736_superpixels.png"
                },
                {
                  "0": "../data/example_image/ISIC_0014979.jpg",
                  "_deepnote_index_column": "ISIC_0014979.jpg"
                },
                {
                  "0": "../data/example_image/ISIC_0006815.jpg",
                  "_deepnote_index_column": "ISIC_0006815.jpg"
                },
                {
                  "0": "../data/example_image/ISIC_0012492_superpixels.png",
                  "_deepnote_index_column": "ISIC_0012492_superpixels.png"
                },
                {
                  "0": "../data/example_image/ISIC_0014428.jpg",
                  "_deepnote_index_column": "ISIC_0014428.jpg"
                },
                {
                  "0": "../data/example_image/ISIC_0015445_superpixels.png",
                  "_deepnote_index_column": "ISIC_0015445_superpixels.png"
                },
                {
                  "0": "../data/example_image/ISIC_0014931_superpixels.png",
                  "_deepnote_index_column": "ISIC_0014931_superpixels.png"
                },
                {
                  "0": "../data/example_image/ISIC_0012256.jpg",
                  "_deepnote_index_column": "ISIC_0012256.jpg"
                },
                {
                  "0": "../data/example_image/ISIC_0014937.jpg",
                  "_deepnote_index_column": "ISIC_0014937.jpg"
                },
                {
                  "0": "../data/example_image/ISIC_0012876.jpg",
                  "_deepnote_index_column": "ISIC_0012876.jpg"
                },
                {
                  "0": "../data/example_image/ISIC_0014310.jpg",
                  "_deepnote_index_column": "ISIC_0014310.jpg"
                },
                {
                  "0": "../data/example_image/ISIC_0013863.jpg",
                  "_deepnote_index_column": "ISIC_0013863.jpg"
                },
                {
                  "0": "../data/example_image/ISIC_0013128.jpg",
                  "_deepnote_index_column": "ISIC_0013128.jpg"
                },
                {
                  "0": "../data/example_image/ISIC_0013549.jpg",
                  "_deepnote_index_column": "ISIC_0013549.jpg"
                },
                {
                  "0": "../data/example_image/ISIC_0015483_superpixels.png",
                  "_deepnote_index_column": "ISIC_0015483_superpixels.png"
                },
                {
                  "0": "../data/example_image/ISIC_0012927.jpg",
                  "_deepnote_index_column": "ISIC_0012927.jpg"
                },
                {
                  "0": "../data/example_image/ISIC_0007344.jpg",
                  "_deepnote_index_column": "ISIC_0007344.jpg"
                },
                {
                  "0": "../data/example_image/ISIC_0015144.jpg",
                  "_deepnote_index_column": "ISIC_0015144.jpg"
                },
                {
                  "0": "../data/example_image/ISIC_0015401.jpg",
                  "_deepnote_index_column": "ISIC_0015401.jpg"
                },
                {
                  "0": "../data/example_image/ISIC_0014620.jpg",
                  "_deepnote_index_column": "ISIC_0014620.jpg"
                },
                {
                  "0": "../data/example_image/ISIC_0014945.jpg",
                  "_deepnote_index_column": "ISIC_0014945.jpg"
                },
                {
                  "0": "../data/example_image/ISIC_0003462.jpg",
                  "_deepnote_index_column": "ISIC_0003462.jpg"
                },
                {
                  "0": "../data/example_image/ISIC_0014985.jpg",
                  "_deepnote_index_column": "ISIC_0014985.jpg"
                },
                {
                  "0": "../data/example_image/ISIC_0006815_superpixels.png",
                  "_deepnote_index_column": "ISIC_0006815_superpixels.png"
                },
                {
                  "0": "../data/example_image/ISIC_0012316.jpg",
                  "_deepnote_index_column": "ISIC_0012316.jpg"
                },
                {
                  "0": "../data/example_image/ISIC_0012538.jpg",
                  "_deepnote_index_column": "ISIC_0012538.jpg"
                },
                {
                  "0": "../data/example_image/ISIC_0014712.jpg",
                  "_deepnote_index_column": "ISIC_0014712.jpg"
                },
                {
                  "0": "../data/example_image/ISIC_0012159.jpg",
                  "_deepnote_index_column": "ISIC_0012159.jpg"
                },
                {
                  "0": "../data/example_image/ISIC_0014985_superpixels.png",
                  "_deepnote_index_column": "ISIC_0014985_superpixels.png"
                },
                {
                  "0": "../data/example_image/ISIC_0015313.jpg",
                  "_deepnote_index_column": "ISIC_0015313.jpg"
                },
                {
                  "0": "../data/example_image/ISIC_0009995.jpg",
                  "_deepnote_index_column": "ISIC_0009995.jpg"
                },
                {
                  "0": "../data/example_image/ISIC_0014211_superpixels.png",
                  "_deepnote_index_column": "ISIC_0014211_superpixels.png"
                },
                {
                  "0": "../data/example_image/ISIC_0008524.jpg",
                  "_deepnote_index_column": "ISIC_0008524.jpg"
                },
                {
                  "0": "../data/example_image/ISIC_0014217.jpg",
                  "_deepnote_index_column": "ISIC_0014217.jpg"
                },
                {
                  "0": "../data/example_image/ISIC_0013082.jpg",
                  "_deepnote_index_column": "ISIC_0013082.jpg"
                },
                {
                  "0": "../data/example_image/ISIC_0012380.jpg",
                  "_deepnote_index_column": "ISIC_0012380.jpg"
                },
                {
                  "0": "../data/example_image/ISIC_0015043.jpg",
                  "_deepnote_index_column": "ISIC_0015043.jpg"
                },
                {
                  "0": "../data/example_image/ISIC_0013898_superpixels.png",
                  "_deepnote_index_column": "ISIC_0013898_superpixels.png"
                },
                {
                  "0": "../data/example_image/ISIC_0012099.jpg",
                  "_deepnote_index_column": "ISIC_0012099.jpg"
                },
                {
                  "0": "../data/example_image/ISIC_0013215.jpg",
                  "_deepnote_index_column": "ISIC_0013215.jpg"
                },
                {
                  "0": "../data/example_image/ISIC_0014568.jpg",
                  "_deepnote_index_column": "ISIC_0014568.jpg"
                },
                {
                  "0": "../data/example_image/ISIC_0012417_superpixels.png",
                  "_deepnote_index_column": "ISIC_0012417_superpixels.png"
                },
                {
                  "0": "../data/example_image/ISIC_0013898.jpg",
                  "_deepnote_index_column": "ISIC_0013898.jpg"
                },
                {
                  "0": "../data/example_image/ISIC_0013518.jpg",
                  "_deepnote_index_column": "ISIC_0013518.jpg"
                },
                {
                  "0": "../data/example_image/ISIC_0013491.jpg",
                  "_deepnote_index_column": "ISIC_0013491.jpg"
                },
                {
                  "0": "../data/example_image/ISIC_0012288.jpg",
                  "_deepnote_index_column": "ISIC_0012288.jpg"
                },
                {
                  "0": "../data/example_image/ISIC_0015062_superpixels.png",
                  "_deepnote_index_column": "ISIC_0015062_superpixels.png"
                },
                {
                  "0": "../data/example_image/ISIC_0012383_superpixels.png",
                  "_deepnote_index_column": "ISIC_0012383_superpixels.png"
                },
                {
                  "0": "../data/example_image/ISIC_0012222.jpg",
                  "_deepnote_index_column": "ISIC_0012222.jpg"
                },
                {
                  "0": "../data/example_image/ISIC_0015043_superpixels.png",
                  "_deepnote_index_column": "ISIC_0015043_superpixels.png"
                },
                {
                  "0": "../data/example_image/ISIC_0013651.jpg",
                  "_deepnote_index_column": "ISIC_0013651.jpg"
                },
                {
                  "0": "../data/example_image/ISIC_0013127.jpg",
                  "_deepnote_index_column": "ISIC_0013127.jpg"
                },
                {
                  "0": "../data/example_image/ISIC_0012306.jpg",
                  "_deepnote_index_column": "ISIC_0012306.jpg"
                },
                {
                  "0": "../data/example_image/ISIC_0014931.jpg",
                  "_deepnote_index_column": "ISIC_0014931.jpg"
                },
                {
                  "0": "../data/example_image/ISIC_0012191.jpg",
                  "_deepnote_index_column": "ISIC_0012191.jpg"
                },
                {
                  "0": "../data/example_image/ISIC_0014310_superpixels.png",
                  "_deepnote_index_column": "ISIC_0014310_superpixels.png"
                },
                {
                  "0": "../data/example_image/ISIC_0014038_superpixels.png",
                  "_deepnote_index_column": "ISIC_0014038_superpixels.png"
                },
                {
                  "0": "../data/example_image/ISIC_0015256_superpixels.png",
                  "_deepnote_index_column": "ISIC_0015256_superpixels.png"
                },
                {
                  "0": "../data/example_image/ISIC_0015496.jpg",
                  "_deepnote_index_column": "ISIC_0015496.jpg"
                },
                {
                  "0": "../data/example_image/ISIC_0012109.jpg",
                  "_deepnote_index_column": "ISIC_0012109.jpg"
                },
                {
                  "0": "../data/example_image/ISIC_0014055_superpixels.png",
                  "_deepnote_index_column": "ISIC_0014055_superpixels.png"
                },
                {
                  "0": "../data/example_image/ISIC_0013501.jpg",
                  "_deepnote_index_column": "ISIC_0013501.jpg"
                },
                {
                  "0": "../data/example_image/ISIC_0012720.jpg",
                  "_deepnote_index_column": "ISIC_0012720.jpg"
                },
                {
                  "0": "../data/example_image/ISIC_0012513.jpg",
                  "_deepnote_index_column": "ISIC_0012513.jpg"
                },
                {
                  "0": "../data/example_image/ISIC_0008524_superpixels.png",
                  "_deepnote_index_column": "ISIC_0008524_superpixels.png"
                },
                {
                  "0": "../data/example_image/ISIC_0014212_superpixels.png",
                  "_deepnote_index_column": "ISIC_0014212_superpixels.png"
                },
                {
                  "0": "../data/example_image/ISIC_0013663.jpg",
                  "_deepnote_index_column": "ISIC_0013663.jpg"
                },
                {
                  "0": "../data/example_image/ISIC_0014829.jpg",
                  "_deepnote_index_column": "ISIC_0014829.jpg"
                },
                {
                  "0": "../data/example_image/ISIC_0012210.jpg",
                  "_deepnote_index_column": "ISIC_0012210.jpg"
                },
                {
                  "0": "../data/example_image/ISIC_0014162.jpg",
                  "_deepnote_index_column": "ISIC_0014162.jpg"
                },
                {
                  "0": "../data/example_image/ISIC_0013104.jpg",
                  "_deepnote_index_column": "ISIC_0013104.jpg"
                },
                {
                  "0": "../data/example_image/ISIC_0014989_superpixels.png",
                  "_deepnote_index_column": "ISIC_0014989_superpixels.png"
                },
                {
                  "0": "../data/example_image/ISIC_0012201.jpg",
                  "_deepnote_index_column": "ISIC_0012201.jpg"
                },
                {
                  "0": "../data/example_image/ISIC_0012660.jpg",
                  "_deepnote_index_column": "ISIC_0012660.jpg"
                },
                {
                  "0": "../data/example_image/ISIC_0013637_superpixels.png",
                  "_deepnote_index_column": "ISIC_0013637_superpixels.png"
                },
                {
                  "0": "../data/example_image/ISIC_0012206.jpg",
                  "_deepnote_index_column": "ISIC_0012206.jpg"
                },
                {
                  "0": "../data/example_image/ISIC_0013501_superpixels.png",
                  "_deepnote_index_column": "ISIC_0013501_superpixels.png"
                },
                {
                  "0": "../data/example_image/ISIC_0013562.jpg",
                  "_deepnote_index_column": "ISIC_0013562.jpg"
                },
                {
                  "0": "../data/example_image/ISIC_0014211.jpg",
                  "_deepnote_index_column": "ISIC_0014211.jpg"
                },
                {
                  "0": "../data/example_image/ISIC_0012151.jpg",
                  "_deepnote_index_column": "ISIC_0012151.jpg"
                },
                {
                  "0": "../data/example_image/ISIC_0013632.jpg",
                  "_deepnote_index_column": "ISIC_0013632.jpg"
                },
                {
                  "0": "../data/example_image/ISIC_0006914.jpg",
                  "_deepnote_index_column": "ISIC_0006914.jpg"
                },
                {
                  "0": "../data/example_image/ISIC_0007796.jpg",
                  "_deepnote_index_column": "ISIC_0007796.jpg"
                },
                {
                  "0": "../data/example_image/ISIC_0006671.jpg",
                  "_deepnote_index_column": "ISIC_0006671.jpg"
                },
                {
                  "0": "../data/example_image/ISIC_0014637.jpg",
                  "_deepnote_index_column": "ISIC_0014637.jpg"
                },
                {
                  "0": "../data/example_image/ISIC_0003657.jpg",
                  "_deepnote_index_column": "ISIC_0003657.jpg"
                },
                {
                  "0": "../data/example_image/ISIC_0012256_superpixels.png",
                  "_deepnote_index_column": "ISIC_0012256_superpixels.png"
                },
                {
                  "0": "../data/example_image/ISIC_0015243.jpg",
                  "_deepnote_index_column": "ISIC_0015243.jpg"
                },
                {
                  "0": "../data/example_image/ISIC_0012684.jpg",
                  "_deepnote_index_column": "ISIC_0012684.jpg"
                }
              ],
              "rows_bottom": null
            },
            "text/plain": "                                                                               0\nISIC_0012222_segmentation.png  ../data/example_segmentation/ISIC_0012222_segm...\nISIC_0007332_segmentation.png  ../data/example_segmentation/ISIC_0007332_segm...\nISIC_0012746_segmentation.png  ../data/example_segmentation/ISIC_0012746_segm...\nISIC_0013010_segmentation.png  ../data/example_segmentation/ISIC_0013010_segm...\nISIC_0013215_segmentation.png  ../data/example_segmentation/ISIC_0013215_segm...\n...                                                                          ...\nISIC_0014637.jpg                          ../data/example_image/ISIC_0014637.jpg\nISIC_0003657.jpg                          ../data/example_image/ISIC_0003657.jpg\nISIC_0012256_superpixels.png   ../data/example_image/ISIC_0012256_superpixels...\nISIC_0015243.jpg                          ../data/example_image/ISIC_0015243.jpg\nISIC_0012684.jpg                          ../data/example_image/ISIC_0012684.jpg\n\n[358 rows x 1 columns]",
            "text/html": "<div>\n<style scoped>\n    .dataframe tbody tr th:only-of-type {\n        vertical-align: middle;\n    }\n\n    .dataframe tbody tr th {\n        vertical-align: top;\n    }\n\n    .dataframe thead th {\n        text-align: right;\n    }\n</style>\n<table border=\"1\" class=\"dataframe\">\n  <thead>\n    <tr style=\"text-align: right;\">\n      <th></th>\n      <th>0</th>\n    </tr>\n  </thead>\n  <tbody>\n    <tr>\n      <th>ISIC_0012222_segmentation.png</th>\n      <td>../data/example_segmentation/ISIC_0012222_segm...</td>\n    </tr>\n    <tr>\n      <th>ISIC_0007332_segmentation.png</th>\n      <td>../data/example_segmentation/ISIC_0007332_segm...</td>\n    </tr>\n    <tr>\n      <th>ISIC_0012746_segmentation.png</th>\n      <td>../data/example_segmentation/ISIC_0012746_segm...</td>\n    </tr>\n    <tr>\n      <th>ISIC_0013010_segmentation.png</th>\n      <td>../data/example_segmentation/ISIC_0013010_segm...</td>\n    </tr>\n    <tr>\n      <th>ISIC_0013215_segmentation.png</th>\n      <td>../data/example_segmentation/ISIC_0013215_segm...</td>\n    </tr>\n    <tr>\n      <th>...</th>\n      <td>...</td>\n    </tr>\n    <tr>\n      <th>ISIC_0014637.jpg</th>\n      <td>../data/example_image/ISIC_0014637.jpg</td>\n    </tr>\n    <tr>\n      <th>ISIC_0003657.jpg</th>\n      <td>../data/example_image/ISIC_0003657.jpg</td>\n    </tr>\n    <tr>\n      <th>ISIC_0012256_superpixels.png</th>\n      <td>../data/example_image/ISIC_0012256_superpixels...</td>\n    </tr>\n    <tr>\n      <th>ISIC_0015243.jpg</th>\n      <td>../data/example_image/ISIC_0015243.jpg</td>\n    </tr>\n    <tr>\n      <th>ISIC_0012684.jpg</th>\n      <td>../data/example_image/ISIC_0012684.jpg</td>\n    </tr>\n  </tbody>\n</table>\n<p>358 rows × 1 columns</p>\n</div>"
          },
          "metadata": {}
        }
      ]
    },
    {
      "cell_type": "code",
      "metadata": {
        "tags": [],
        "cell_id": "00043-e17a539b-1dac-4320-b728-b81e062f86b6",
        "deepnote_to_be_reexecuted": false,
        "source_hash": "d1417aa7",
        "execution_millis": 6,
        "execution_start": 1618861295927,
        "deepnote_cell_type": "code"
      },
      "source": "counts, unique = np.unique(y_train, return_counts=True)\nprint(counts, unique)",
      "execution_count": null,
      "outputs": [
        {
          "name": "stdout",
          "text": "[0. 1.] [56 19]\n",
          "output_type": "stream"
        }
      ]
    },
    {
      "cell_type": "code",
      "metadata": {
        "tags": [],
        "cell_id": "00040-d069cfca-74b4-495d-98bf-541536d5e3d5",
        "deepnote_to_be_reexecuted": false,
        "source_hash": "cf5a895",
        "execution_millis": 3,
        "execution_start": 1618862212882,
        "deepnote_cell_type": "code"
      },
      "source": "# This takes a very long time. Run this at your own risk...\n\nx_train, x_test, y_train, y_test = train_test_split(images['image_id'], images['melanoma'], test_size = 0.3, random_state = 4)\n\n# x_train_data = []\n# for test, picture in enumerate(x_train):\n#     test_picture = list(image_merge['path'][image_merge['image_id'] == picture])\n#     print(\"name_found\")\n#     #print(test_picture)\n#     # Load in the mask and picture\n#     temp = []\n#     mask = plt.imread(test_picture[0])\n#     raw_pict = plt.imread(test_picture[-1])\n#     print(\"Picture loaded\")\n#     # Finding the boundaries of the mask.\n#     x_min, x_max, y_min, y_max = get_mask_size(mask)\n#     # \n#     if x_min > 5:\n#         mask = mask[:, x_min-5:]\n#         raw_pict = raw_pict[:, x_min-5:]\n#     if y_min > 5:\n#         mask = mask[y_min-5:,:]\n#         raw_pict = raw_pict[y_min-5:,:]    \n#     if x_max < mask.shape[1]:\n#         mask = mask[:,:x_max+5]\n#         raw_pict = raw_pict[:,:x_max+5]\n#     if  y_max < mask.shape[0]:\n#         mask = mask[:y_max+5,:]\n#         raw_pict = raw_pict[:y_max+5,:]\n#     print(\"mask-fitted\")\n#     temp.append(find_border(mask))\n#     print(\"border found\")\n#     temp.append(test_color(raw_pict,mask))\n#     print(\"colour found\")\n#     x_train_data.append(temp)\n#     print(test)\n    \n# x_test_data = []\n# for test, picture in enumerate(x_test):\n#     test_picture = list(image_merge['path'][image_merge['image_id'] == picture])\n#     #print(test_picture)\n#     # Load in the mask and picture\n#     temp = []\n#     mask = plt.imread(test_picture[0])\n#     raw_pict = plt.imread(test_picture[-1])\n#     # Finding the boundaries of the mask.\n#     x_min, x_max, y_min, y_max = get_mask_size(mask)\n#     # Only applying the border if the \n#     if x_min > 5:\n#         mask = mask[:, x_min-5:]\n#         raw_pict = raw_pict[:, x_min-5:]\n#     if y_min > 5:\n#         mask = mask[y_min-5:,:]\n#         raw_pict = raw_pict[y_min-5:,:]    \n#     if x_max < mask.shape[1]:\n#         mask = mask[:,:x_max+5]\n#         raw_pict = raw_pict[:,:x_max+5]\n#     if  y_max < mask.shape[0]:\n#         mask = mask[:y_max+5,:]\n#         raw_pict = raw_pict[:y_max+5,:]\n#     temp.append(find_border(mask))\n#     temp.append(test_color(raw_pict,mask))\n#     x_test_data.append(temp)\n#     print(test)\n\n# # print(x_train_data)",
      "execution_count": null,
      "outputs": []
    },
    {
      "cell_type": "code",
      "metadata": {
        "tags": [],
        "cell_id": "00047-90e324ba-4075-4859-bb06-5ee0fdb68cc1",
        "deepnote_to_be_reexecuted": true,
        "source_hash": "adb61069",
        "execution_millis": 2103,
        "deepnote_cell_type": "code"
      },
      "source": "problems = [\"ISIC_0015313\" , \"ISIC_0013828\", \"ISIC_0015211\"]\ntest_picture = list(image_merge['path'][image_merge['image_id'] == problems[0]])\nmask = plt.imread(test_picture[0])\nplt.imshow(mask)\nprint(get_mask_size(mask))\nprint(mask.shape)",
      "execution_count": null,
      "outputs": [
        {
          "name": "stdout",
          "text": "(0, 5642, 0, 4315)\n(4419, 6688)\n",
          "output_type": "stream"
        },
        {
          "data": {
            "text/plain": "<Figure size 432x288 with 1 Axes>",
            "image/png": "[encoded data removed]"
          },
          "metadata": {
            "needs_background": "light"
          },
          "output_type": "display_data"
        }
      ]
    },
    {
      "cell_type": "markdown",
      "source": "### Making the test\nWith the data gathered, we triain the model",
      "metadata": {
        "tags": [],
        "cell_id": "00041-570e94c0-21ee-4484-ae85-11aa5b40f524",
        "deepnote_cell_type": "markdown"
      }
    },
    {
      "cell_type": "code",
      "metadata": {
        "tags": [],
        "cell_id": "00041-ef3e8b2e-5d5c-4902-b2ee-c1cb96ddfd28",
        "deepnote_to_be_reexecuted": true,
        "source_hash": "b6ad4608",
        "execution_millis": 0,
        "deepnote_cell_type": "code"
      },
      "source": "# df_train = pd.DataFrame.from_records(x_train_data, columns = (\"compactness\", \"colour\"))\n# df_train.to_csv(\"../data/training_data.csv\")\n# df_test= pd.DataFrame.from_records(x_test_data, columns = (\"compactness\", \"colour\"))\n# df_test.to_csv(\"../data/test_data.csv\")",
      "execution_count": null,
      "outputs": []
    },
    {
      "cell_type": "code",
      "metadata": {
        "tags": [],
        "cell_id": "00052-ec43a881-1ff7-4838-937d-30bcb58f730a",
        "deepnote_to_be_reexecuted": true,
        "source_hash": "e9dc025f",
        "execution_millis": 8,
        "deepnote_cell_type": "code"
      },
      "source": "df_test",
      "execution_count": null,
      "outputs": [
        {
          "output_type": "execute_result",
          "execution_count": 18,
          "data": {
            "application/vnd.deepnote.dataframe.v2+json": {
              "row_count": 33,
              "column_count": 2,
              "columns": [
                {
                  "name": "compactness",
                  "dtype": "float64",
                  "stats": {
                    "unique_count": 33,
                    "nan_count": 0,
                    "min": "8.808482493525876",
                    "max": "25.09928791998398",
                    "histogram": [
                      {
                        "bin_start": 8.808482493525876,
                        "bin_end": 10.437563036171687,
                        "count": 13
                      },
                      {
                        "bin_start": 10.437563036171687,
                        "bin_end": 12.066643578817496,
                        "count": 2
                      },
                      {
                        "bin_start": 12.066643578817496,
                        "bin_end": 13.695724121463307,
                        "count": 1
                      },
                      {
                        "bin_start": 13.695724121463307,
                        "bin_end": 15.324804664109116,
                        "count": 3
                      },
                      {
                        "bin_start": 15.324804664109116,
                        "bin_end": 16.953885206754926,
                        "count": 5
                      },
                      {
                        "bin_start": 16.953885206754926,
                        "bin_end": 18.58296574940074,
                        "count": 4
                      },
                      {
                        "bin_start": 18.58296574940074,
                        "bin_end": 20.212046292046548,
                        "count": 2
                      },
                      {
                        "bin_start": 20.212046292046548,
                        "bin_end": 21.84112683469236,
                        "count": 1
                      },
                      {
                        "bin_start": 21.84112683469236,
                        "bin_end": 23.47020737733817,
                        "count": 1
                      },
                      {
                        "bin_start": 23.47020737733817,
                        "bin_end": 25.09928791998398,
                        "count": 1
                      }
                    ]
                  }
                },
                {
                  "name": "colour",
                  "dtype": "float64",
                  "stats": {
                    "unique_count": 33,
                    "nan_count": 0,
                    "min": "0.10158331485584937",
                    "max": "0.33855138043790056",
                    "histogram": [
                      {
                        "bin_start": 0.10158331485584937,
                        "bin_end": 0.12528012141405448,
                        "count": 2
                      },
                      {
                        "bin_start": 0.12528012141405448,
                        "bin_end": 0.14897692797225962,
                        "count": 4
                      },
                      {
                        "bin_start": 0.14897692797225962,
                        "bin_end": 0.17267373453046472,
                        "count": 4
                      },
                      {
                        "bin_start": 0.17267373453046472,
                        "bin_end": 0.19637054108866986,
                        "count": 8
                      },
                      {
                        "bin_start": 0.19637054108866986,
                        "bin_end": 0.22006734764687497,
                        "count": 5
                      },
                      {
                        "bin_start": 0.22006734764687497,
                        "bin_end": 0.24376415420508007,
                        "count": 3
                      },
                      {
                        "bin_start": 0.24376415420508007,
                        "bin_end": 0.2674609607632852,
                        "count": 1
                      },
                      {
                        "bin_start": 0.2674609607632852,
                        "bin_end": 0.29115776732149035,
                        "count": 2
                      },
                      {
                        "bin_start": 0.29115776732149035,
                        "bin_end": 0.3148545738796954,
                        "count": 2
                      },
                      {
                        "bin_start": 0.3148545738796954,
                        "bin_end": 0.33855138043790056,
                        "count": 2
                      }
                    ]
                  }
                },
                {
                  "name": "_deepnote_index_column",
                  "dtype": "int64"
                }
              ],
              "rows_top": [
                {
                  "compactness": 9.850088481306567,
                  "colour": 0.24125946419579647,
                  "_deepnote_index_column": 0
                },
                {
                  "compactness": 9.364706752332141,
                  "colour": 0.16139606767591363,
                  "_deepnote_index_column": 1
                },
                {
                  "compactness": 15.61083004930915,
                  "colour": 0.2047400871042575,
                  "_deepnote_index_column": 2
                },
                {
                  "compactness": 14.537474089346397,
                  "colour": 0.2525452733039856,
                  "_deepnote_index_column": 3
                },
                {
                  "compactness": 13.088989472137325,
                  "colour": 0.18759380352241373,
                  "_deepnote_index_column": 4
                },
                {
                  "compactness": 9.770455540880874,
                  "colour": 0.21973170523911167,
                  "_deepnote_index_column": 5
                },
                {
                  "compactness": 20.59453917746149,
                  "colour": 0.29926235675811763,
                  "_deepnote_index_column": 6
                },
                {
                  "compactness": 9.307642246135181,
                  "colour": 0.14630521919596784,
                  "_deepnote_index_column": 7
                },
                {
                  "compactness": 9.215936379516656,
                  "colour": 0.16897190896854397,
                  "_deepnote_index_column": 8
                },
                {
                  "compactness": 17.410129290247426,
                  "colour": 0.19158778229159296,
                  "_deepnote_index_column": 9
                },
                {
                  "compactness": 25.09928791998398,
                  "colour": 0.31745048718793056,
                  "_deepnote_index_column": 10
                },
                {
                  "compactness": 9.23704972725585,
                  "colour": 0.1558020942667333,
                  "_deepnote_index_column": 11
                },
                {
                  "compactness": 16.779666495361464,
                  "colour": 0.10158331485584937,
                  "_deepnote_index_column": 12
                },
                {
                  "compactness": 9.62270699373303,
                  "colour": 0.1927541360415581,
                  "_deepnote_index_column": 13
                },
                {
                  "compactness": 9.687153063126557,
                  "colour": 0.20732443282525437,
                  "_deepnote_index_column": 14
                },
                {
                  "compactness": 13.966191147371584,
                  "colour": 0.13570623939023896,
                  "_deepnote_index_column": 15
                },
                {
                  "compactness": 9.261266043728526,
                  "colour": 0.14970650797981333,
                  "_deepnote_index_column": 16
                },
                {
                  "compactness": 8.808482493525876,
                  "colour": 0.33855138043790056,
                  "_deepnote_index_column": 17
                },
                {
                  "compactness": 16.453652608686316,
                  "colour": 0.17671603289027926,
                  "_deepnote_index_column": 18
                },
                {
                  "compactness": 17.848065030122577,
                  "colour": 0.19697215199602824,
                  "_deepnote_index_column": 19
                },
                {
                  "compactness": 17.86323792876363,
                  "colour": 0.2172964148838603,
                  "_deepnote_index_column": 20
                },
                {
                  "compactness": 9.638317109630643,
                  "colour": 0.17510707989400498,
                  "_deepnote_index_column": 21
                },
                {
                  "compactness": 15.732169214184697,
                  "colour": 0.2739765591552982,
                  "_deepnote_index_column": 22
                },
                {
                  "compactness": 10.673681050139416,
                  "colour": 0.17923029437985083,
                  "_deepnote_index_column": 23
                },
                {
                  "compactness": 17.058631859646155,
                  "colour": 0.17989654920408044,
                  "_deepnote_index_column": 24
                },
                {
                  "compactness": 19.322976605301424,
                  "colour": 0.30931490659713745,
                  "_deepnote_index_column": 25
                },
                {
                  "compactness": 15.859342120806406,
                  "colour": 0.23744574189186096,
                  "_deepnote_index_column": 26
                },
                {
                  "compactness": 9.039452922680766,
                  "colour": 0.27229823156902144,
                  "_deepnote_index_column": 27
                },
                {
                  "compactness": 23.404579906252295,
                  "colour": 0.11394776866911505,
                  "_deepnote_index_column": 28
                },
                {
                  "compactness": 19.44368821324617,
                  "colour": 0.13086251106528646,
                  "_deepnote_index_column": 29
                },
                {
                  "compactness": 10.01445125855713,
                  "colour": 0.1379436767235533,
                  "_deepnote_index_column": 30
                },
                {
                  "compactness": 11.235288490480313,
                  "colour": 0.19002736035836354,
                  "_deepnote_index_column": 31
                },
                {
                  "compactness": 14.498301162238878,
                  "colour": 0.22252628422097087,
                  "_deepnote_index_column": 32
                }
              ],
              "rows_bottom": null
            },
            "text/plain": "    compactness    colour\n0      9.850088  0.241259\n1      9.364707  0.161396\n2     15.610830  0.204740\n3     14.537474  0.252545\n4     13.088989  0.187594\n5      9.770456  0.219732\n6     20.594539  0.299262\n7      9.307642  0.146305\n8      9.215936  0.168972\n9     17.410129  0.191588\n10    25.099288  0.317450\n11     9.237050  0.155802\n12    16.779666  0.101583\n13     9.622707  0.192754\n14     9.687153  0.207324\n15    13.966191  0.135706\n16     9.261266  0.149707\n17     8.808482  0.338551\n18    16.453653  0.176716\n19    17.848065  0.196972\n20    17.863238  0.217296\n21     9.638317  0.175107\n22    15.732169  0.273977\n23    10.673681  0.179230\n24    17.058632  0.179897\n25    19.322977  0.309315\n26    15.859342  0.237446\n27     9.039453  0.272298\n28    23.404580  0.113948\n29    19.443688  0.130863\n30    10.014451  0.137944\n31    11.235288  0.190027\n32    14.498301  0.222526",
            "text/html": "<div>\n<style scoped>\n    .dataframe tbody tr th:only-of-type {\n        vertical-align: middle;\n    }\n\n    .dataframe tbody tr th {\n        vertical-align: top;\n    }\n\n    .dataframe thead th {\n        text-align: right;\n    }\n</style>\n<table border=\"1\" class=\"dataframe\">\n  <thead>\n    <tr style=\"text-align: right;\">\n      <th></th>\n      <th>compactness</th>\n      <th>colour</th>\n    </tr>\n  </thead>\n  <tbody>\n    <tr>\n      <th>0</th>\n      <td>9.850088</td>\n      <td>0.241259</td>\n    </tr>\n    <tr>\n      <th>1</th>\n      <td>9.364707</td>\n      <td>0.161396</td>\n    </tr>\n    <tr>\n      <th>2</th>\n      <td>15.610830</td>\n      <td>0.204740</td>\n    </tr>\n    <tr>\n      <th>3</th>\n      <td>14.537474</td>\n      <td>0.252545</td>\n    </tr>\n    <tr>\n      <th>4</th>\n      <td>13.088989</td>\n      <td>0.187594</td>\n    </tr>\n    <tr>\n      <th>5</th>\n      <td>9.770456</td>\n      <td>0.219732</td>\n    </tr>\n    <tr>\n      <th>6</th>\n      <td>20.594539</td>\n      <td>0.299262</td>\n    </tr>\n    <tr>\n      <th>7</th>\n      <td>9.307642</td>\n      <td>0.146305</td>\n    </tr>\n    <tr>\n      <th>8</th>\n      <td>9.215936</td>\n      <td>0.168972</td>\n    </tr>\n    <tr>\n      <th>9</th>\n      <td>17.410129</td>\n      <td>0.191588</td>\n    </tr>\n    <tr>\n      <th>10</th>\n      <td>25.099288</td>\n      <td>0.317450</td>\n    </tr>\n    <tr>\n      <th>11</th>\n      <td>9.237050</td>\n      <td>0.155802</td>\n    </tr>\n    <tr>\n      <th>12</th>\n      <td>16.779666</td>\n      <td>0.101583</td>\n    </tr>\n    <tr>\n      <th>13</th>\n      <td>9.622707</td>\n      <td>0.192754</td>\n    </tr>\n    <tr>\n      <th>14</th>\n      <td>9.687153</td>\n      <td>0.207324</td>\n    </tr>\n    <tr>\n      <th>15</th>\n      <td>13.966191</td>\n      <td>0.135706</td>\n    </tr>\n    <tr>\n      <th>16</th>\n      <td>9.261266</td>\n      <td>0.149707</td>\n    </tr>\n    <tr>\n      <th>17</th>\n      <td>8.808482</td>\n      <td>0.338551</td>\n    </tr>\n    <tr>\n      <th>18</th>\n      <td>16.453653</td>\n      <td>0.176716</td>\n    </tr>\n    <tr>\n      <th>19</th>\n      <td>17.848065</td>\n      <td>0.196972</td>\n    </tr>\n    <tr>\n      <th>20</th>\n      <td>17.863238</td>\n      <td>0.217296</td>\n    </tr>\n    <tr>\n      <th>21</th>\n      <td>9.638317</td>\n      <td>0.175107</td>\n    </tr>\n    <tr>\n      <th>22</th>\n      <td>15.732169</td>\n      <td>0.273977</td>\n    </tr>\n    <tr>\n      <th>23</th>\n      <td>10.673681</td>\n      <td>0.179230</td>\n    </tr>\n    <tr>\n      <th>24</th>\n      <td>17.058632</td>\n      <td>0.179897</td>\n    </tr>\n    <tr>\n      <th>25</th>\n      <td>19.322977</td>\n      <td>0.309315</td>\n    </tr>\n    <tr>\n      <th>26</th>\n      <td>15.859342</td>\n      <td>0.237446</td>\n    </tr>\n    <tr>\n      <th>27</th>\n      <td>9.039453</td>\n      <td>0.272298</td>\n    </tr>\n    <tr>\n      <th>28</th>\n      <td>23.404580</td>\n      <td>0.113948</td>\n    </tr>\n    <tr>\n      <th>29</th>\n      <td>19.443688</td>\n      <td>0.130863</td>\n    </tr>\n    <tr>\n      <th>30</th>\n      <td>10.014451</td>\n      <td>0.137944</td>\n    </tr>\n    <tr>\n      <th>31</th>\n      <td>11.235288</td>\n      <td>0.190027</td>\n    </tr>\n    <tr>\n      <th>32</th>\n      <td>14.498301</td>\n      <td>0.222526</td>\n    </tr>\n  </tbody>\n</table>\n</div>"
          },
          "metadata": {}
        }
      ]
    },
    {
      "cell_type": "code",
      "metadata": {
        "tags": [],
        "cell_id": "00051-bc5e82c8-dbb1-44a4-9e15-ec49a8f523c3",
        "deepnote_to_be_reexecuted": false,
        "source_hash": "5eefc2ac",
        "execution_millis": 1,
        "execution_start": 1618861385854,
        "deepnote_cell_type": "code"
      },
      "source": "df_train = pd.read_csv(\"../data/training_data.csv\")\ndf_test = pd.read_csv(\"../data/test_data.csv\")",
      "execution_count": null,
      "outputs": []
    },
    {
      "cell_type": "code",
      "metadata": {
        "tags": [],
        "cell_id": "00051-3bb4e93f-bf31-4e64-8d85-3708ebd4b15e",
        "deepnote_to_be_reexecuted": false,
        "source_hash": "da59a50c",
        "execution_millis": 1,
        "execution_start": 1618861388264,
        "deepnote_cell_type": "code"
      },
      "source": "df_train = df_train.drop(labels = \"Unnamed: 0\", axis= 1)",
      "execution_count": null,
      "outputs": []
    },
    {
      "cell_type": "code",
      "metadata": {
        "tags": [],
        "cell_id": "00052-de85581c-94f4-4903-8b88-0ae15334173e",
        "deepnote_to_be_reexecuted": false,
        "source_hash": "aaa7e160",
        "execution_millis": 19,
        "execution_start": 1618861390739,
        "deepnote_cell_type": "code"
      },
      "source": "# Let's scale the features\nfrom sklearn import preprocessing\n\n#Fit scaler on our data\nscaler = preprocessing.StandardScaler().fit(df_train)\n\n#Apply to data itself\ndf2 = scaler.transform(df_train)\ndf2",
      "execution_count": null,
      "outputs": [
        {
          "output_type": "execute_result",
          "execution_count": 14,
          "data": {
            "text/plain": "array([[-8.60677612e-01, -2.37752090e-02],\n       [ 2.42169097e-01, -8.80613623e-01],\n       [ 3.85924830e-01,  8.61911007e-01],\n       [-1.15159607e+00,  1.65379492e+00],\n       [ 4.55703144e-01, -1.43663813e+00],\n       [ 2.27696533e-01, -2.00938449e-01],\n       [-3.79684712e-01,  9.30075432e-01],\n       [-1.35932226e+00, -1.27104552e-01],\n       [ 4.26053849e-02,  4.32188449e-01],\n       [ 6.33998567e-01,  5.13587214e-01],\n       [-8.30722223e-01, -3.50011425e-01],\n       [ 2.67667473e-01, -3.03174675e-01],\n       [-2.66825414e-01,  2.01676117e-04],\n       [ 7.45692827e-01,  1.40820994e+00],\n       [ 4.10721538e-01,  1.93678209e+00],\n       [ 1.77872599e-01, -4.48263534e-01],\n       [-8.75594675e-02, -4.74830403e-01],\n       [ 2.23294213e+00,  2.16923136e+00],\n       [ 1.31206688e+00,  9.32977708e-03],\n       [-1.12110963e+00, -8.37407629e-01],\n       [-2.92781926e-01,  2.15224372e+00],\n       [ 1.68950257e+00, -3.38328446e-01],\n       [-1.12926341e+00, -3.02918458e-01],\n       [-1.06912312e+00, -9.45687882e-01],\n       [-1.10235248e+00, -8.82311316e-01],\n       [-1.01431498e+00, -6.89191315e-01],\n       [ 1.15767853e+00, -2.38717038e-02],\n       [-1.88921145e-01,  1.10044982e+00],\n       [ 1.46750475e-01,  2.58732061e-01],\n       [-1.21597094e+00, -5.23565920e-01],\n       [ 3.48520715e-01, -7.98825015e-01],\n       [-1.33452428e+00,  4.64213645e-01],\n       [ 7.40496093e-01,  8.09168935e-01],\n       [ 8.72788029e-01,  1.74940820e+00],\n       [ 4.37834095e-01,  1.57142798e-01],\n       [-1.16039392e+00, -9.17905193e-01],\n       [ 3.85637689e-01, -7.93561816e-01],\n       [ 4.80057105e-01, -4.83449219e-01],\n       [ 7.52959925e-01, -1.02061406e+00],\n       [ 3.36681446e-01, -6.56282961e-01],\n       [ 2.56868525e-02, -5.10881580e-01],\n       [-1.22051653e+00, -9.48556198e-01],\n       [-8.81207646e-01, -2.77593066e+00],\n       [ 1.43015798e-01, -1.31779951e-01],\n       [ 6.75162997e-01, -8.19471574e-01],\n       [-1.27648751e+00, -4.61275605e-01],\n       [ 9.60389810e-01, -1.05047458e+00],\n       [ 8.10764081e-01,  2.99057054e-01],\n       [ 2.16777831e-01, -2.16701150e-01],\n       [ 7.17037384e-01, -5.47964378e-01],\n       [-8.92855141e-01,  2.53318059e+00],\n       [-3.86461738e-01, -2.11313380e+00],\n       [-1.39574945e+00,  1.63250393e+00],\n       [-1.33764977e+00, -5.99161927e-01],\n       [ 3.10669052e-01,  9.93579149e-02],\n       [ 6.95325276e-01, -1.33456373e-01],\n       [-1.22583283e+00, -4.01086907e-01],\n       [ 1.28158999e-01, -1.85431786e-03],\n       [ 5.91800343e-01,  3.54270102e-01],\n       [-2.40719697e-02,  1.62597348e-01],\n       [-1.82101587e+00,  2.09467166e+00],\n       [-3.90575458e-02,  2.23106649e-01],\n       [ 3.18547587e-01, -1.21917022e+00],\n       [-1.19025580e+00,  9.97282339e-01],\n       [ 2.87336023e-01,  1.81118181e+00],\n       [ 3.44907804e-01,  1.08405148e+00],\n       [ 2.76822047e-03, -8.67686391e-01],\n       [-1.38042914e+00, -1.92725223e-01],\n       [-1.25921906e+00,  2.85570611e-01],\n       [ 8.57838870e-01,  2.40320689e-01],\n       [ 3.48556559e+00, -8.96080905e-01],\n       [-3.90676498e-01, -3.64396492e-01],\n       [ 2.69989855e+00, -1.84866477e-01],\n       [ 1.28764686e+00,  8.93289518e-02],\n       [ 2.43364481e-01, -6.17226534e-01]])"
          },
          "metadata": {}
        }
      ]
    },
    {
      "cell_type": "code",
      "metadata": {
        "tags": [],
        "cell_id": "00053-d0da7b32-8367-459a-bb0e-d9bd713b4397",
        "deepnote_to_be_reexecuted": false,
        "source_hash": "242e111b",
        "execution_millis": 1435,
        "execution_start": 1618862217576,
        "deepnote_cell_type": "code"
      },
      "source": "import seaborn as sns\ndf = pd.DataFrame(df2, columns = [\"Border\", \"Colour\"])\ndf['illens'] = y_train.tolist()\n\nsns.pairplot(df, hue=\"illens\", size=3,diag_kind=\"hist\")",
      "execution_count": null,
      "outputs": [
        {
          "name": "stderr",
          "text": "/shared-libs/python3.7/py/lib/python3.7/site-packages/seaborn/axisgrid.py:1969: UserWarning: The `size` parameter has been renamed to `height`; please update your code.\n  warnings.warn(msg, UserWarning)\n",
          "output_type": "stream"
        },
        {
          "output_type": "execute_result",
          "execution_count": 28,
          "data": {
            "text/plain": "<seaborn.axisgrid.PairGrid at 0x7f05a5f39490>"
          },
          "metadata": {}
        },
        {
          "data": {
            "text/plain": "<Figure size 483.875x432 with 6 Axes>",
            "image/png": "[encoded data removed]"
          },
          "metadata": {
            "needs_background": "light"
          },
          "output_type": "display_data"
        }
      ]
    },
    {
      "cell_type": "code",
      "metadata": {
        "tags": [],
        "cell_id": "00055-7cd55423-ac9d-4955-aa63-7a65d19b8145",
        "deepnote_to_be_reexecuted": false,
        "source_hash": "decb7ee5",
        "execution_millis": 17,
        "execution_start": 1618862938447,
        "deepnote_cell_type": "code"
      },
      "source": "from sklearn.neighbors import KNeighborsClassifier\ndef make_knn_prediction(k):\n    knn = KNeighborsClassifier(n_neighbors = k)\n    knn.fit(df['Border'], df['illens'])\n    answer = knn.predict(df['Border'])\n    return answer\nmake_knn_prediction(5)",
      "execution_count": null,
      "outputs": [
        {
          "output_type": "error",
          "ename": "ValueError",
          "evalue": "Expected 2D array, got 1D array instead:\narray=[-8.60677612e-01  2.42169097e-01  3.85924830e-01 -1.15159607e+00\n  4.55703144e-01  2.27696533e-01 -3.79684712e-01 -1.35932226e+00\n  4.26053849e-02  6.33998567e-01 -8.30722223e-01  2.67667473e-01\n -2.66825414e-01  7.45692827e-01  4.10721538e-01  1.77872599e-01\n -8.75594675e-02  2.23294213e+00  1.31206688e+00 -1.12110963e+00\n -2.92781926e-01  1.68950257e+00 -1.12926341e+00 -1.06912312e+00\n -1.10235248e+00 -1.01431498e+00  1.15767853e+00 -1.88921145e-01\n  1.46750475e-01 -1.21597094e+00  3.48520715e-01 -1.33452428e+00\n  7.40496093e-01  8.72788029e-01  4.37834095e-01 -1.16039392e+00\n  3.85637689e-01  4.80057105e-01  7.52959925e-01  3.36681446e-01\n  2.56868525e-02 -1.22051653e+00 -8.81207646e-01  1.43015798e-01\n  6.75162997e-01 -1.27648751e+00  9.60389810e-01  8.10764081e-01\n  2.16777831e-01  7.17037384e-01 -8.92855141e-01 -3.86461738e-01\n -1.39574945e+00 -1.33764977e+00  3.10669052e-01  6.95325276e-01\n -1.22583283e+00  1.28158999e-01  5.91800343e-01 -2.40719697e-02\n -1.82101587e+00 -3.90575458e-02  3.18547587e-01 -1.19025580e+00\n  2.87336023e-01  3.44907804e-01  2.76822047e-03 -1.38042914e+00\n -1.25921906e+00  8.57838870e-01  3.48556559e+00 -3.90676498e-01\n  2.69989855e+00  1.28764686e+00  2.43364481e-01].\nReshape your data either using array.reshape(-1, 1) if your data has a single feature or array.reshape(1, -1) if it contains a single sample.",
          "traceback": [
            "\u001b[0;31m---------------------------------------------------------------------------\u001b[0m",
            "\u001b[0;31mValueError\u001b[0m                                Traceback (most recent call last)",
            "\u001b[0;32m<ipython-input-32-7da71f9efa55>\u001b[0m in \u001b[0;36m<module>\u001b[0;34m\u001b[0m\n\u001b[1;32m      5\u001b[0m     \u001b[0manswer\u001b[0m \u001b[0;34m=\u001b[0m \u001b[0mknn\u001b[0m\u001b[0;34m.\u001b[0m\u001b[0mpredict\u001b[0m\u001b[0;34m(\u001b[0m\u001b[0mdf\u001b[0m\u001b[0;34m[\u001b[0m\u001b[0;34m'Border'\u001b[0m\u001b[0;34m]\u001b[0m\u001b[0;34m)\u001b[0m\u001b[0;34m\u001b[0m\u001b[0;34m\u001b[0m\u001b[0m\n\u001b[1;32m      6\u001b[0m     \u001b[0;32mreturn\u001b[0m \u001b[0manswer\u001b[0m\u001b[0;34m\u001b[0m\u001b[0;34m\u001b[0m\u001b[0m\n\u001b[0;32m----> 7\u001b[0;31m \u001b[0mmake_knn_prediction\u001b[0m\u001b[0;34m(\u001b[0m\u001b[0;36m5\u001b[0m\u001b[0;34m)\u001b[0m\u001b[0;34m\u001b[0m\u001b[0;34m\u001b[0m\u001b[0m\n\u001b[0m",
            "\u001b[0;32m<ipython-input-32-7da71f9efa55>\u001b[0m in \u001b[0;36mmake_knn_prediction\u001b[0;34m(k)\u001b[0m\n\u001b[1;32m      2\u001b[0m \u001b[0;32mdef\u001b[0m \u001b[0mmake_knn_prediction\u001b[0m\u001b[0;34m(\u001b[0m\u001b[0mk\u001b[0m\u001b[0;34m)\u001b[0m\u001b[0;34m:\u001b[0m\u001b[0;34m\u001b[0m\u001b[0;34m\u001b[0m\u001b[0m\n\u001b[1;32m      3\u001b[0m     \u001b[0mknn\u001b[0m \u001b[0;34m=\u001b[0m \u001b[0mKNeighborsClassifier\u001b[0m\u001b[0;34m(\u001b[0m\u001b[0mn_neighbors\u001b[0m \u001b[0;34m=\u001b[0m \u001b[0mk\u001b[0m\u001b[0;34m)\u001b[0m\u001b[0;34m\u001b[0m\u001b[0;34m\u001b[0m\u001b[0m\n\u001b[0;32m----> 4\u001b[0;31m     \u001b[0mknn\u001b[0m\u001b[0;34m.\u001b[0m\u001b[0mfit\u001b[0m\u001b[0;34m(\u001b[0m\u001b[0mdf\u001b[0m\u001b[0;34m[\u001b[0m\u001b[0;34m'Border'\u001b[0m\u001b[0;34m]\u001b[0m\u001b[0;34m,\u001b[0m \u001b[0mdf\u001b[0m\u001b[0;34m[\u001b[0m\u001b[0;34m'illens'\u001b[0m\u001b[0;34m]\u001b[0m\u001b[0;34m)\u001b[0m\u001b[0;34m\u001b[0m\u001b[0;34m\u001b[0m\u001b[0m\n\u001b[0m\u001b[1;32m      5\u001b[0m     \u001b[0manswer\u001b[0m \u001b[0;34m=\u001b[0m \u001b[0mknn\u001b[0m\u001b[0;34m.\u001b[0m\u001b[0mpredict\u001b[0m\u001b[0;34m(\u001b[0m\u001b[0mdf\u001b[0m\u001b[0;34m[\u001b[0m\u001b[0;34m'Border'\u001b[0m\u001b[0;34m]\u001b[0m\u001b[0;34m)\u001b[0m\u001b[0;34m\u001b[0m\u001b[0;34m\u001b[0m\u001b[0m\n\u001b[1;32m      6\u001b[0m     \u001b[0;32mreturn\u001b[0m \u001b[0manswer\u001b[0m\u001b[0;34m\u001b[0m\u001b[0;34m\u001b[0m\u001b[0m\n",
            "\u001b[0;32m/shared-libs/python3.7/py/lib/python3.7/site-packages/sklearn/neighbors/_classification.py\u001b[0m in \u001b[0;36mfit\u001b[0;34m(self, X, y)\u001b[0m\n\u001b[1;32m    177\u001b[0m             \u001b[0mThe\u001b[0m \u001b[0mfitted\u001b[0m \u001b[0mk\u001b[0m\u001b[0;34m-\u001b[0m\u001b[0mnearest\u001b[0m \u001b[0mneighbors\u001b[0m \u001b[0mclassifier\u001b[0m\u001b[0;34m.\u001b[0m\u001b[0;34m\u001b[0m\u001b[0;34m\u001b[0m\u001b[0m\n\u001b[1;32m    178\u001b[0m         \"\"\"\n\u001b[0;32m--> 179\u001b[0;31m         \u001b[0;32mreturn\u001b[0m \u001b[0mself\u001b[0m\u001b[0;34m.\u001b[0m\u001b[0m_fit\u001b[0m\u001b[0;34m(\u001b[0m\u001b[0mX\u001b[0m\u001b[0;34m,\u001b[0m \u001b[0my\u001b[0m\u001b[0;34m)\u001b[0m\u001b[0;34m\u001b[0m\u001b[0;34m\u001b[0m\u001b[0m\n\u001b[0m\u001b[1;32m    180\u001b[0m \u001b[0;34m\u001b[0m\u001b[0m\n\u001b[1;32m    181\u001b[0m     \u001b[0;32mdef\u001b[0m \u001b[0mpredict\u001b[0m\u001b[0;34m(\u001b[0m\u001b[0mself\u001b[0m\u001b[0;34m,\u001b[0m \u001b[0mX\u001b[0m\u001b[0;34m)\u001b[0m\u001b[0;34m:\u001b[0m\u001b[0;34m\u001b[0m\u001b[0;34m\u001b[0m\u001b[0m\n",
            "\u001b[0;32m/shared-libs/python3.7/py/lib/python3.7/site-packages/sklearn/neighbors/_base.py\u001b[0m in \u001b[0;36m_fit\u001b[0;34m(self, X, y)\u001b[0m\n\u001b[1;32m    362\u001b[0m             \u001b[0;32mif\u001b[0m \u001b[0;32mnot\u001b[0m \u001b[0misinstance\u001b[0m\u001b[0;34m(\u001b[0m\u001b[0mX\u001b[0m\u001b[0;34m,\u001b[0m \u001b[0;34m(\u001b[0m\u001b[0mKDTree\u001b[0m\u001b[0;34m,\u001b[0m \u001b[0mBallTree\u001b[0m\u001b[0;34m,\u001b[0m \u001b[0mNeighborsBase\u001b[0m\u001b[0;34m)\u001b[0m\u001b[0;34m)\u001b[0m\u001b[0;34m:\u001b[0m\u001b[0;34m\u001b[0m\u001b[0;34m\u001b[0m\u001b[0m\n\u001b[1;32m    363\u001b[0m                 X, y = self._validate_data(X, y, accept_sparse=\"csr\",\n\u001b[0;32m--> 364\u001b[0;31m                                            multi_output=True)\n\u001b[0m\u001b[1;32m    365\u001b[0m \u001b[0;34m\u001b[0m\u001b[0m\n\u001b[1;32m    366\u001b[0m             \u001b[0;32mif\u001b[0m \u001b[0mis_classifier\u001b[0m\u001b[0;34m(\u001b[0m\u001b[0mself\u001b[0m\u001b[0;34m)\u001b[0m\u001b[0;34m:\u001b[0m\u001b[0;34m\u001b[0m\u001b[0;34m\u001b[0m\u001b[0m\n",
            "\u001b[0;32m/shared-libs/python3.7/py/lib/python3.7/site-packages/sklearn/base.py\u001b[0m in \u001b[0;36m_validate_data\u001b[0;34m(self, X, y, reset, validate_separately, **check_params)\u001b[0m\n\u001b[1;32m    431\u001b[0m                 \u001b[0my\u001b[0m \u001b[0;34m=\u001b[0m \u001b[0mcheck_array\u001b[0m\u001b[0;34m(\u001b[0m\u001b[0my\u001b[0m\u001b[0;34m,\u001b[0m \u001b[0;34m**\u001b[0m\u001b[0mcheck_y_params\u001b[0m\u001b[0;34m)\u001b[0m\u001b[0;34m\u001b[0m\u001b[0;34m\u001b[0m\u001b[0m\n\u001b[1;32m    432\u001b[0m             \u001b[0;32melse\u001b[0m\u001b[0;34m:\u001b[0m\u001b[0;34m\u001b[0m\u001b[0;34m\u001b[0m\u001b[0m\n\u001b[0;32m--> 433\u001b[0;31m                 \u001b[0mX\u001b[0m\u001b[0;34m,\u001b[0m \u001b[0my\u001b[0m \u001b[0;34m=\u001b[0m \u001b[0mcheck_X_y\u001b[0m\u001b[0;34m(\u001b[0m\u001b[0mX\u001b[0m\u001b[0;34m,\u001b[0m \u001b[0my\u001b[0m\u001b[0;34m,\u001b[0m \u001b[0;34m**\u001b[0m\u001b[0mcheck_params\u001b[0m\u001b[0;34m)\u001b[0m\u001b[0;34m\u001b[0m\u001b[0;34m\u001b[0m\u001b[0m\n\u001b[0m\u001b[1;32m    434\u001b[0m             \u001b[0mout\u001b[0m \u001b[0;34m=\u001b[0m \u001b[0mX\u001b[0m\u001b[0;34m,\u001b[0m \u001b[0my\u001b[0m\u001b[0;34m\u001b[0m\u001b[0;34m\u001b[0m\u001b[0m\n\u001b[1;32m    435\u001b[0m \u001b[0;34m\u001b[0m\u001b[0m\n",
            "\u001b[0;32m/shared-libs/python3.7/py/lib/python3.7/site-packages/sklearn/utils/validation.py\u001b[0m in \u001b[0;36minner_f\u001b[0;34m(*args, **kwargs)\u001b[0m\n\u001b[1;32m     61\u001b[0m             \u001b[0mextra_args\u001b[0m \u001b[0;34m=\u001b[0m \u001b[0mlen\u001b[0m\u001b[0;34m(\u001b[0m\u001b[0margs\u001b[0m\u001b[0;34m)\u001b[0m \u001b[0;34m-\u001b[0m \u001b[0mlen\u001b[0m\u001b[0;34m(\u001b[0m\u001b[0mall_args\u001b[0m\u001b[0;34m)\u001b[0m\u001b[0;34m\u001b[0m\u001b[0;34m\u001b[0m\u001b[0m\n\u001b[1;32m     62\u001b[0m             \u001b[0;32mif\u001b[0m \u001b[0mextra_args\u001b[0m \u001b[0;34m<=\u001b[0m \u001b[0;36m0\u001b[0m\u001b[0;34m:\u001b[0m\u001b[0;34m\u001b[0m\u001b[0;34m\u001b[0m\u001b[0m\n\u001b[0;32m---> 63\u001b[0;31m                 \u001b[0;32mreturn\u001b[0m \u001b[0mf\u001b[0m\u001b[0;34m(\u001b[0m\u001b[0;34m*\u001b[0m\u001b[0margs\u001b[0m\u001b[0;34m,\u001b[0m \u001b[0;34m**\u001b[0m\u001b[0mkwargs\u001b[0m\u001b[0;34m)\u001b[0m\u001b[0;34m\u001b[0m\u001b[0;34m\u001b[0m\u001b[0m\n\u001b[0m\u001b[1;32m     64\u001b[0m \u001b[0;34m\u001b[0m\u001b[0m\n\u001b[1;32m     65\u001b[0m             \u001b[0;31m# extra_args > 0\u001b[0m\u001b[0;34m\u001b[0m\u001b[0;34m\u001b[0m\u001b[0;34m\u001b[0m\u001b[0m\n",
            "\u001b[0;32m/shared-libs/python3.7/py/lib/python3.7/site-packages/sklearn/utils/validation.py\u001b[0m in \u001b[0;36mcheck_X_y\u001b[0;34m(X, y, accept_sparse, accept_large_sparse, dtype, order, copy, force_all_finite, ensure_2d, allow_nd, multi_output, ensure_min_samples, ensure_min_features, y_numeric, estimator)\u001b[0m\n\u001b[1;32m    819\u001b[0m                     \u001b[0mensure_min_samples\u001b[0m\u001b[0;34m=\u001b[0m\u001b[0mensure_min_samples\u001b[0m\u001b[0;34m,\u001b[0m\u001b[0;34m\u001b[0m\u001b[0;34m\u001b[0m\u001b[0m\n\u001b[1;32m    820\u001b[0m                     \u001b[0mensure_min_features\u001b[0m\u001b[0;34m=\u001b[0m\u001b[0mensure_min_features\u001b[0m\u001b[0;34m,\u001b[0m\u001b[0;34m\u001b[0m\u001b[0;34m\u001b[0m\u001b[0m\n\u001b[0;32m--> 821\u001b[0;31m                     estimator=estimator)\n\u001b[0m\u001b[1;32m    822\u001b[0m     \u001b[0;32mif\u001b[0m \u001b[0mmulti_output\u001b[0m\u001b[0;34m:\u001b[0m\u001b[0;34m\u001b[0m\u001b[0;34m\u001b[0m\u001b[0m\n\u001b[1;32m    823\u001b[0m         y = check_array(y, accept_sparse='csr', force_all_finite=True,\n",
            "\u001b[0;32m/shared-libs/python3.7/py/lib/python3.7/site-packages/sklearn/utils/validation.py\u001b[0m in \u001b[0;36minner_f\u001b[0;34m(*args, **kwargs)\u001b[0m\n\u001b[1;32m     61\u001b[0m             \u001b[0mextra_args\u001b[0m \u001b[0;34m=\u001b[0m \u001b[0mlen\u001b[0m\u001b[0;34m(\u001b[0m\u001b[0margs\u001b[0m\u001b[0;34m)\u001b[0m \u001b[0;34m-\u001b[0m \u001b[0mlen\u001b[0m\u001b[0;34m(\u001b[0m\u001b[0mall_args\u001b[0m\u001b[0;34m)\u001b[0m\u001b[0;34m\u001b[0m\u001b[0;34m\u001b[0m\u001b[0m\n\u001b[1;32m     62\u001b[0m             \u001b[0;32mif\u001b[0m \u001b[0mextra_args\u001b[0m \u001b[0;34m<=\u001b[0m \u001b[0;36m0\u001b[0m\u001b[0;34m:\u001b[0m\u001b[0;34m\u001b[0m\u001b[0;34m\u001b[0m\u001b[0m\n\u001b[0;32m---> 63\u001b[0;31m                 \u001b[0;32mreturn\u001b[0m \u001b[0mf\u001b[0m\u001b[0;34m(\u001b[0m\u001b[0;34m*\u001b[0m\u001b[0margs\u001b[0m\u001b[0;34m,\u001b[0m \u001b[0;34m**\u001b[0m\u001b[0mkwargs\u001b[0m\u001b[0;34m)\u001b[0m\u001b[0;34m\u001b[0m\u001b[0;34m\u001b[0m\u001b[0m\n\u001b[0m\u001b[1;32m     64\u001b[0m \u001b[0;34m\u001b[0m\u001b[0m\n\u001b[1;32m     65\u001b[0m             \u001b[0;31m# extra_args > 0\u001b[0m\u001b[0;34m\u001b[0m\u001b[0;34m\u001b[0m\u001b[0;34m\u001b[0m\u001b[0m\n",
            "\u001b[0;32m/shared-libs/python3.7/py/lib/python3.7/site-packages/sklearn/utils/validation.py\u001b[0m in \u001b[0;36mcheck_array\u001b[0;34m(array, accept_sparse, accept_large_sparse, dtype, order, copy, force_all_finite, ensure_2d, allow_nd, ensure_min_samples, ensure_min_features, estimator)\u001b[0m\n\u001b[1;32m    639\u001b[0m                     \u001b[0;34m\"Reshape your data either using array.reshape(-1, 1) if \"\u001b[0m\u001b[0;34m\u001b[0m\u001b[0;34m\u001b[0m\u001b[0m\n\u001b[1;32m    640\u001b[0m                     \u001b[0;34m\"your data has a single feature or array.reshape(1, -1) \"\u001b[0m\u001b[0;34m\u001b[0m\u001b[0;34m\u001b[0m\u001b[0m\n\u001b[0;32m--> 641\u001b[0;31m                     \"if it contains a single sample.\".format(array))\n\u001b[0m\u001b[1;32m    642\u001b[0m \u001b[0;34m\u001b[0m\u001b[0m\n\u001b[1;32m    643\u001b[0m         \u001b[0;31m# make sure we actually converted to numeric:\u001b[0m\u001b[0;34m\u001b[0m\u001b[0;34m\u001b[0m\u001b[0;34m\u001b[0m\u001b[0m\n",
            "\u001b[0;31mValueError\u001b[0m: Expected 2D array, got 1D array instead:\narray=[-8.60677612e-01  2.42169097e-01  3.85924830e-01 -1.15159607e+00\n  4.55703144e-01  2.27696533e-01 -3.79684712e-01 -1.35932226e+00\n  4.26053849e-02  6.33998567e-01 -8.30722223e-01  2.67667473e-01\n -2.66825414e-01  7.45692827e-01  4.10721538e-01  1.77872599e-01\n -8.75594675e-02  2.23294213e+00  1.31206688e+00 -1.12110963e+00\n -2.92781926e-01  1.68950257e+00 -1.12926341e+00 -1.06912312e+00\n -1.10235248e+00 -1.01431498e+00  1.15767853e+00 -1.88921145e-01\n  1.46750475e-01 -1.21597094e+00  3.48520715e-01 -1.33452428e+00\n  7.40496093e-01  8.72788029e-01  4.37834095e-01 -1.16039392e+00\n  3.85637689e-01  4.80057105e-01  7.52959925e-01  3.36681446e-01\n  2.56868525e-02 -1.22051653e+00 -8.81207646e-01  1.43015798e-01\n  6.75162997e-01 -1.27648751e+00  9.60389810e-01  8.10764081e-01\n  2.16777831e-01  7.17037384e-01 -8.92855141e-01 -3.86461738e-01\n -1.39574945e+00 -1.33764977e+00  3.10669052e-01  6.95325276e-01\n -1.22583283e+00  1.28158999e-01  5.91800343e-01 -2.40719697e-02\n -1.82101587e+00 -3.90575458e-02  3.18547587e-01 -1.19025580e+00\n  2.87336023e-01  3.44907804e-01  2.76822047e-03 -1.38042914e+00\n -1.25921906e+00  8.57838870e-01  3.48556559e+00 -3.90676498e-01\n  2.69989855e+00  1.28764686e+00  2.43364481e-01].\nReshape your data either using array.reshape(-1, 1) if your data has a single feature or array.reshape(1, -1) if it contains a single sample."
          ]
        }
      ]
    },
    {
      "cell_type": "code",
      "metadata": {
        "tags": [],
        "cell_id": "00056-98c920a4-5493-424b-8254-b46c7770c1cb",
        "deepnote_to_be_reexecuted": false,
        "source_hash": "f804c160",
        "execution_start": 1618862855508,
        "execution_millis": 23,
        "deepnote_cell_type": "code"
      },
      "source": "df",
      "execution_count": null,
      "outputs": [
        {
          "output_type": "execute_result",
          "execution_count": 29,
          "data": {
            "application/vnd.deepnote.dataframe.v2+json": {
              "row_count": 75,
              "column_count": 3,
              "columns": [
                {
                  "name": "Border",
                  "dtype": "float64",
                  "stats": {
                    "unique_count": 75,
                    "nan_count": 0,
                    "min": "-1.8210158704131947",
                    "max": "3.4855655850408156",
                    "histogram": [
                      {
                        "bin_start": -1.8210158704131947,
                        "bin_end": -1.2903577248677935,
                        "count": 6
                      },
                      {
                        "bin_start": -1.2903577248677935,
                        "bin_end": -0.7596995793223926,
                        "count": 17
                      },
                      {
                        "bin_start": -0.7596995793223926,
                        "bin_end": -0.2290414337769915,
                        "count": 5
                      },
                      {
                        "bin_start": -0.2290414337769915,
                        "bin_end": 0.30161671176840943,
                        "count": 17
                      },
                      {
                        "bin_start": 0.30161671176840943,
                        "bin_end": 0.8322748573138103,
                        "count": 20
                      },
                      {
                        "bin_start": 0.8322748573138103,
                        "bin_end": 1.3629330028592117,
                        "count": 6
                      },
                      {
                        "bin_start": 1.3629330028592117,
                        "bin_end": 1.8935911484046126,
                        "count": 1
                      },
                      {
                        "bin_start": 1.8935911484046126,
                        "bin_end": 2.4242492939500133,
                        "count": 1
                      },
                      {
                        "bin_start": 2.4242492939500133,
                        "bin_end": 2.9549074394954147,
                        "count": 1
                      },
                      {
                        "bin_start": 2.9549074394954147,
                        "bin_end": 3.4855655850408156,
                        "count": 1
                      }
                    ]
                  }
                },
                {
                  "name": "Colour",
                  "dtype": "float64",
                  "stats": {
                    "unique_count": 75,
                    "nan_count": 0,
                    "min": "-2.775930664920204",
                    "max": "2.533180591084991",
                    "histogram": [
                      {
                        "bin_start": -2.775930664920204,
                        "bin_end": -2.2450195393196846,
                        "count": 1
                      },
                      {
                        "bin_start": -2.2450195393196846,
                        "bin_end": -1.714108413719165,
                        "count": 1
                      },
                      {
                        "bin_start": -1.714108413719165,
                        "bin_end": -1.1831972881186452,
                        "count": 2
                      },
                      {
                        "bin_start": -1.1831972881186452,
                        "bin_end": -0.6522861625181258,
                        "count": 15
                      },
                      {
                        "bin_start": -0.6522861625181258,
                        "bin_end": -0.12137503691760632,
                        "count": 22
                      },
                      {
                        "bin_start": -0.12137503691760632,
                        "bin_end": 0.4095360886829136,
                        "count": 15
                      },
                      {
                        "bin_start": 0.4095360886829136,
                        "bin_end": 0.940447214283433,
                        "count": 6
                      },
                      {
                        "bin_start": 0.940447214283433,
                        "bin_end": 1.4713583398839525,
                        "count": 4
                      },
                      {
                        "bin_start": 1.4713583398839525,
                        "bin_end": 2.0022694654844724,
                        "count": 5
                      },
                      {
                        "bin_start": 2.0022694654844724,
                        "bin_end": 2.533180591084991,
                        "count": 4
                      }
                    ]
                  }
                },
                {
                  "name": "illens",
                  "dtype": "float64",
                  "stats": {
                    "unique_count": 2,
                    "nan_count": 0,
                    "min": "0.0",
                    "max": "1.0",
                    "histogram": [
                      {
                        "bin_start": 0,
                        "bin_end": 0.1,
                        "count": 56
                      },
                      {
                        "bin_start": 0.1,
                        "bin_end": 0.2,
                        "count": 0
                      },
                      {
                        "bin_start": 0.2,
                        "bin_end": 0.30000000000000004,
                        "count": 0
                      },
                      {
                        "bin_start": 0.30000000000000004,
                        "bin_end": 0.4,
                        "count": 0
                      },
                      {
                        "bin_start": 0.4,
                        "bin_end": 0.5,
                        "count": 0
                      },
                      {
                        "bin_start": 0.5,
                        "bin_end": 0.6000000000000001,
                        "count": 0
                      },
                      {
                        "bin_start": 0.6000000000000001,
                        "bin_end": 0.7000000000000001,
                        "count": 0
                      },
                      {
                        "bin_start": 0.7000000000000001,
                        "bin_end": 0.8,
                        "count": 0
                      },
                      {
                        "bin_start": 0.8,
                        "bin_end": 0.9,
                        "count": 0
                      },
                      {
                        "bin_start": 0.9,
                        "bin_end": 1,
                        "count": 19
                      }
                    ]
                  }
                },
                {
                  "name": "_deepnote_index_column",
                  "dtype": "int64"
                }
              ],
              "rows_top": [
                {
                  "Border": -0.8606776118841754,
                  "Colour": -0.023775208986074593,
                  "illens": 0,
                  "_deepnote_index_column": 0
                },
                {
                  "Border": 0.24216909747881155,
                  "Colour": -0.8806136227689908,
                  "illens": 0,
                  "_deepnote_index_column": 1
                },
                {
                  "Border": 0.3859248299438184,
                  "Colour": 0.8619110066480136,
                  "illens": 0,
                  "_deepnote_index_column": 2
                },
                {
                  "Border": -1.1515960661884435,
                  "Colour": 1.6537949202345381,
                  "illens": 0,
                  "_deepnote_index_column": 3
                },
                {
                  "Border": 0.4557031438498696,
                  "Colour": -1.4366381277099751,
                  "illens": 0,
                  "_deepnote_index_column": 4
                },
                {
                  "Border": 0.22769653317866506,
                  "Colour": -0.20093844947885905,
                  "illens": 0,
                  "_deepnote_index_column": 5
                },
                {
                  "Border": -0.3796847122809391,
                  "Colour": 0.9300754324340237,
                  "illens": 1,
                  "_deepnote_index_column": 6
                },
                {
                  "Border": -1.3593222561801246,
                  "Colour": -0.1271045521552403,
                  "illens": 0,
                  "_deepnote_index_column": 7
                },
                {
                  "Border": 0.04260538490548739,
                  "Colour": 0.43218844883240315,
                  "illens": 0,
                  "_deepnote_index_column": 8
                },
                {
                  "Border": 0.633998566713229,
                  "Colour": 0.5135872135289379,
                  "illens": 0,
                  "_deepnote_index_column": 9
                },
                {
                  "Border": -0.8307222233019017,
                  "Colour": -0.35001142519538314,
                  "illens": 0,
                  "_deepnote_index_column": 10
                },
                {
                  "Border": 0.26766747288578735,
                  "Colour": -0.3031746751150528,
                  "illens": 1,
                  "_deepnote_index_column": 11
                },
                {
                  "Border": -0.26682541351636135,
                  "Colour": 0.0002016761165933519,
                  "illens": 0,
                  "_deepnote_index_column": 12
                },
                {
                  "Border": 0.7456928265510913,
                  "Colour": 1.4082099356330366,
                  "illens": 0,
                  "_deepnote_index_column": 13
                },
                {
                  "Border": 0.41072153848603843,
                  "Colour": 1.9367820869542116,
                  "illens": 1,
                  "_deepnote_index_column": 14
                },
                {
                  "Border": 0.17787259937005068,
                  "Colour": -0.4482635335463309,
                  "illens": 0,
                  "_deepnote_index_column": 15
                },
                {
                  "Border": -0.08755946751365463,
                  "Colour": -0.47483040269156684,
                  "illens": 0,
                  "_deepnote_index_column": 16
                },
                {
                  "Border": 2.2329421276800314,
                  "Colour": 2.169231359299926,
                  "illens": 1,
                  "_deepnote_index_column": 17
                },
                {
                  "Border": 1.3120668770385444,
                  "Colour": 0.009329777077742128,
                  "illens": 0,
                  "_deepnote_index_column": 18
                },
                {
                  "Border": -1.121109628935966,
                  "Colour": -0.8374076290444902,
                  "illens": 1,
                  "_deepnote_index_column": 19
                },
                {
                  "Border": -0.29278192613445436,
                  "Colour": 2.152243720052154,
                  "illens": 0,
                  "_deepnote_index_column": 20
                },
                {
                  "Border": 1.6895025742012018,
                  "Colour": -0.33832844577496457,
                  "illens": 1,
                  "_deepnote_index_column": 21
                },
                {
                  "Border": -1.1292634127134433,
                  "Colour": -0.30291845774158044,
                  "illens": 0,
                  "_deepnote_index_column": 22
                },
                {
                  "Border": -1.0691231208935668,
                  "Colour": -0.9456878817149076,
                  "illens": 0,
                  "_deepnote_index_column": 23
                },
                {
                  "Border": -1.1023524763065047,
                  "Colour": -0.882311315806713,
                  "illens": 0,
                  "_deepnote_index_column": 24
                },
                {
                  "Border": -1.0143149840587176,
                  "Colour": -0.6891913149737645,
                  "illens": 0,
                  "_deepnote_index_column": 25
                },
                {
                  "Border": 1.1576785304595447,
                  "Colour": -0.02387170381421203,
                  "illens": 1,
                  "_deepnote_index_column": 26
                },
                {
                  "Border": -0.18892114528321619,
                  "Colour": 1.100449816376416,
                  "illens": 0,
                  "_deepnote_index_column": 27
                },
                {
                  "Border": 0.1467504746541388,
                  "Colour": 0.2587320605117103,
                  "illens": 1,
                  "_deepnote_index_column": 28
                },
                {
                  "Border": -1.2159709378363615,
                  "Colour": -0.5235659199068532,
                  "illens": 1,
                  "_deepnote_index_column": 29
                },
                {
                  "Border": 0.34852071462086137,
                  "Colour": -0.7988250153832264,
                  "illens": 0,
                  "_deepnote_index_column": 30
                },
                {
                  "Border": -1.3345242830481179,
                  "Colour": 0.46421364543767285,
                  "illens": 0,
                  "_deepnote_index_column": 31
                },
                {
                  "Border": 0.7404960930549861,
                  "Colour": 0.8091689345348329,
                  "illens": 0,
                  "_deepnote_index_column": 32
                },
                {
                  "Border": 0.8727880294356781,
                  "Colour": 1.7494081959685672,
                  "illens": 1,
                  "_deepnote_index_column": 33
                },
                {
                  "Border": 0.43783409507203835,
                  "Colour": 0.1571427981108949,
                  "illens": 0,
                  "_deepnote_index_column": 34
                },
                {
                  "Border": -1.1603939161378158,
                  "Colour": -0.9179051931253466,
                  "illens": 0,
                  "_deepnote_index_column": 35
                },
                {
                  "Border": 0.38563768944819526,
                  "Colour": -0.7935618160618562,
                  "illens": 0,
                  "_deepnote_index_column": 36
                },
                {
                  "Border": 0.4800571047758218,
                  "Colour": -0.4834492193639478,
                  "illens": 0,
                  "_deepnote_index_column": 37
                },
                {
                  "Border": 0.7529599252620416,
                  "Colour": -1.020614056911543,
                  "illens": 0,
                  "_deepnote_index_column": 38
                },
                {
                  "Border": 0.33668144618504214,
                  "Colour": -0.6562829614985359,
                  "illens": 0,
                  "_deepnote_index_column": 39
                },
                {
                  "Border": 0.02568685251127616,
                  "Colour": -0.5108815803691532,
                  "illens": 0,
                  "_deepnote_index_column": 40
                },
                {
                  "Border": -1.2205165306774854,
                  "Colour": -0.9485561983452028,
                  "illens": 0,
                  "_deepnote_index_column": 41
                },
                {
                  "Border": -0.8812076463289551,
                  "Colour": -2.775930664920204,
                  "illens": 1,
                  "_deepnote_index_column": 42
                },
                {
                  "Border": 0.14301579846048482,
                  "Colour": -0.13177995061815959,
                  "illens": 1,
                  "_deepnote_index_column": 43
                },
                {
                  "Border": 0.6751629970588223,
                  "Colour": -0.8194715741573978,
                  "illens": 0,
                  "_deepnote_index_column": 44
                },
                {
                  "Border": -1.2764875093660586,
                  "Colour": -0.46127560512434224,
                  "illens": 0,
                  "_deepnote_index_column": 45
                },
                {
                  "Border": 0.9603898103639512,
                  "Colour": -1.0504745753427327,
                  "illens": 0,
                  "_deepnote_index_column": 46
                },
                {
                  "Border": 0.8107640809244532,
                  "Colour": 0.29905705415541894,
                  "illens": 0,
                  "_deepnote_index_column": 47
                },
                {
                  "Border": 0.21677783101963197,
                  "Colour": -0.21670115001842416,
                  "illens": 0,
                  "_deepnote_index_column": 48
                },
                {
                  "Border": 0.7170373840271272,
                  "Colour": -0.5479643776778392,
                  "illens": 0,
                  "_deepnote_index_column": 49
                },
                {
                  "Border": -0.8928551411205596,
                  "Colour": 2.533180591084991,
                  "illens": 1,
                  "_deepnote_index_column": 50
                },
                {
                  "Border": -0.3864617383574512,
                  "Colour": -2.1131337982649008,
                  "illens": 1,
                  "_deepnote_index_column": 51
                },
                {
                  "Border": -1.39574944598564,
                  "Colour": 1.6325039315047003,
                  "illens": 1,
                  "_deepnote_index_column": 52
                },
                {
                  "Border": -1.3376497709028465,
                  "Colour": -0.5991619270017454,
                  "illens": 0,
                  "_deepnote_index_column": 53
                },
                {
                  "Border": 0.310669052333025,
                  "Colour": 0.0993579149020929,
                  "illens": 0,
                  "_deepnote_index_column": 54
                },
                {
                  "Border": 0.695325276144284,
                  "Colour": -0.13345637274409775,
                  "illens": 0,
                  "_deepnote_index_column": 55
                },
                {
                  "Border": -1.2258328297833152,
                  "Colour": -0.4010869074758621,
                  "illens": 0,
                  "_deepnote_index_column": 56
                },
                {
                  "Border": 0.12815899937091413,
                  "Colour": -0.0018543178595646522,
                  "illens": 0,
                  "_deepnote_index_column": 57
                },
                {
                  "Border": 0.5918003430682803,
                  "Colour": 0.3542701019137132,
                  "illens": 1,
                  "_deepnote_index_column": 58
                },
                {
                  "Border": -0.024071969689216724,
                  "Colour": 0.16259734797120717,
                  "illens": 1,
                  "_deepnote_index_column": 59
                },
                {
                  "Border": -1.8210158704131947,
                  "Colour": 2.0946716632358564,
                  "illens": 0,
                  "_deepnote_index_column": 60
                },
                {
                  "Border": -0.039057545808224695,
                  "Colour": 0.22310664886543657,
                  "illens": 0,
                  "_deepnote_index_column": 61
                },
                {
                  "Border": 0.3185475866822225,
                  "Colour": -1.2191702197414829,
                  "illens": 0,
                  "_deepnote_index_column": 62
                },
                {
                  "Border": -1.190255799892999,
                  "Colour": 0.9972823393025012,
                  "illens": 0,
                  "_deepnote_index_column": 63
                },
                {
                  "Border": 0.28733602321500723,
                  "Colour": 1.8111818149937384,
                  "illens": 0,
                  "_deepnote_index_column": 64
                },
                {
                  "Border": 0.3449078043440546,
                  "Colour": 1.0840514830187296,
                  "illens": 0,
                  "_deepnote_index_column": 65
                },
                {
                  "Border": 0.0027682204713154147,
                  "Colour": -0.8676863905604069,
                  "illens": 0,
                  "_deepnote_index_column": 66
                },
                {
                  "Border": -1.380429139874434,
                  "Colour": -0.19272522320444413,
                  "illens": 0,
                  "_deepnote_index_column": 67
                },
                {
                  "Border": -1.259219059857312,
                  "Colour": 0.28557061108986276,
                  "illens": 0,
                  "_deepnote_index_column": 68
                },
                {
                  "Border": 0.8578388697772072,
                  "Colour": 0.24032068941337048,
                  "illens": 0,
                  "_deepnote_index_column": 69
                },
                {
                  "Border": 3.4855655850408156,
                  "Colour": -0.8960809052921667,
                  "illens": 1,
                  "_deepnote_index_column": 70
                },
                {
                  "Border": -0.39067649789975695,
                  "Colour": -0.36439649242289657,
                  "illens": 0,
                  "_deepnote_index_column": 71
                },
                {
                  "Border": 2.6998985478717734,
                  "Colour": -0.1848664769042508,
                  "illens": 1,
                  "_deepnote_index_column": 72
                },
                {
                  "Border": 1.2876468587626557,
                  "Colour": 0.08932895176925743,
                  "illens": 0,
                  "_deepnote_index_column": 73
                },
                {
                  "Border": 0.2433644814729089,
                  "Colour": -0.6172265341578441,
                  "illens": 0,
                  "_deepnote_index_column": 74
                }
              ],
              "rows_bottom": null
            },
            "text/plain": "      Border    Colour  illens\n0  -0.860678 -0.023775     0.0\n1   0.242169 -0.880614     0.0\n2   0.385925  0.861911     0.0\n3  -1.151596  1.653795     0.0\n4   0.455703 -1.436638     0.0\n..       ...       ...     ...\n70  3.485566 -0.896081     1.0\n71 -0.390676 -0.364396     0.0\n72  2.699899 -0.184866     1.0\n73  1.287647  0.089329     0.0\n74  0.243364 -0.617227     0.0\n\n[75 rows x 3 columns]",
            "text/html": "<div>\n<style scoped>\n    .dataframe tbody tr th:only-of-type {\n        vertical-align: middle;\n    }\n\n    .dataframe tbody tr th {\n        vertical-align: top;\n    }\n\n    .dataframe thead th {\n        text-align: right;\n    }\n</style>\n<table border=\"1\" class=\"dataframe\">\n  <thead>\n    <tr style=\"text-align: right;\">\n      <th></th>\n      <th>Border</th>\n      <th>Colour</th>\n      <th>illens</th>\n    </tr>\n  </thead>\n  <tbody>\n    <tr>\n      <th>0</th>\n      <td>-0.860678</td>\n      <td>-0.023775</td>\n      <td>0.0</td>\n    </tr>\n    <tr>\n      <th>1</th>\n      <td>0.242169</td>\n      <td>-0.880614</td>\n      <td>0.0</td>\n    </tr>\n    <tr>\n      <th>2</th>\n      <td>0.385925</td>\n      <td>0.861911</td>\n      <td>0.0</td>\n    </tr>\n    <tr>\n      <th>3</th>\n      <td>-1.151596</td>\n      <td>1.653795</td>\n      <td>0.0</td>\n    </tr>\n    <tr>\n      <th>4</th>\n      <td>0.455703</td>\n      <td>-1.436638</td>\n      <td>0.0</td>\n    </tr>\n    <tr>\n      <th>...</th>\n      <td>...</td>\n      <td>...</td>\n      <td>...</td>\n    </tr>\n    <tr>\n      <th>70</th>\n      <td>3.485566</td>\n      <td>-0.896081</td>\n      <td>1.0</td>\n    </tr>\n    <tr>\n      <th>71</th>\n      <td>-0.390676</td>\n      <td>-0.364396</td>\n      <td>0.0</td>\n    </tr>\n    <tr>\n      <th>72</th>\n      <td>2.699899</td>\n      <td>-0.184866</td>\n      <td>1.0</td>\n    </tr>\n    <tr>\n      <th>73</th>\n      <td>1.287647</td>\n      <td>0.089329</td>\n      <td>0.0</td>\n    </tr>\n    <tr>\n      <th>74</th>\n      <td>0.243364</td>\n      <td>-0.617227</td>\n      <td>0.0</td>\n    </tr>\n  </tbody>\n</table>\n<p>75 rows × 3 columns</p>\n</div>"
          },
          "metadata": {}
        }
      ]
    },
    {
      "cell_type": "markdown",
      "source": "# Task 3: open question\nUse the data to formulate, motivate, answer, and discuss another research question of your choice. You may use other data or features here, that we did not\ncover",
      "metadata": {
        "tags": [],
        "cell_id": "00016-a34d0ca6-4ad9-47c7-9629-e46a064730fa",
        "deepnote_cell_type": "markdown"
      }
    },
    {
      "cell_type": "markdown",
      "source": "## Research Question: How does skin colour affect likelihood of Cancer?",
      "metadata": {
        "tags": [],
        "cell_id": "00045-e4b4255b-5291-47e0-b337-9338fdf03db0",
        "deepnote_cell_type": "markdown"
      }
    },
    {
      "cell_type": "markdown",
      "source": "",
      "metadata": {
        "tags": [],
        "cell_id": "00046-d5dffb09-ab89-41fe-aa80-7391644a4469",
        "deepnote_cell_type": "markdown"
      }
    },
    {
      "cell_type": "markdown",
      "source": "<a style='text-decoration:none;line-height:16px;display:flex;color:#5B5B62;padding:10px;justify-content:end;' href='https://deepnote.com?utm_source=created-in-deepnote-cell&projectId=6c6ff636-1d68-49e2-b04b-ee0d9895f3db' target=\"_blank\">\n<img alt='Created in deepnote.com' style='display:inline;max-height:16px;margin:0px;margin-right:7.5px;' src='data:image/svg+xml;base64,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' > </img>\nCreated in <span style='font-weight:600;margin-left:4px;'>Deepnote</span></a>",
      "metadata": {
        "tags": [],
        "created_in_deepnote_cell": true,
        "deepnote_cell_type": "markdown"
      }
    }
  ],
  "nbformat": 4,
  "nbformat_minor": 2,
  "metadata": {
    "orig_nbformat": 2,
    "deepnote_notebook_id": "e50eb8b2-04a0-4ded-9e69-06ff860d3ad0",
    "deepnote": {},
    "deepnote_execution_queue": []
  }
}
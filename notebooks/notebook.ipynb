{
  "cells": [
    {
      "cell_type": "markdown",
      "source": "# Project 3: Image recognizion. (Melanoma)\n### Group 7: Emma, Laurits, Malthe, Mads og Jonas\n",
      "metadata": {
        "tags": [],
        "cell_id": "00000-07be400d-1a96-4a7d-882d-66f4480cd571",
        "deepnote_cell_type": "markdown"
      }
    },
    {
      "cell_type": "markdown",
      "source": "## Loading the Libraries",
      "metadata": {
        "tags": [],
        "cell_id": "00001-94edeab5-5e09-4f26-9176-4f9e7cb8b471",
        "deepnote_cell_type": "markdown"
      }
    },
    {
      "cell_type": "code",
      "metadata": {
        "tags": [],
        "cell_id": "00002-a8756e48-22e5-4dfe-8de7-1268ab1d28ca",
        "deepnote_to_be_reexecuted": false,
        "source_hash": "f0bc0d60",
        "execution_millis": 22997,
        "execution_start": 1619083141072,
        "deepnote_cell_type": "code"
      },
      "source": "!apt update\n!apt install ffmpeg libsm6 libxext6 -y\n\n!pip install opencv-python\n!pip install --upgrade pip\n\n# needed to import cv2 and check photos for bluriness DONT DELETE",
      "execution_count": 1,
      "outputs": [
        {
          "name": "stdout",
          "text": "Get:1 http://deb.debian.org/debian buster InRelease [121 kB]\nGet:2 http://deb.debian.org/debian buster-updates InRelease [51.9 kB]\nGet:3 http://security.debian.org/debian-security buster/updates InRelease [65.4 kB]\nGet:4 http://deb.debian.org/debian buster/main amd64 Packages [7,907 kB]\nGet:5 http://deb.debian.org/debian buster-updates/main amd64 Packages [9,504 B]\nGet:6 http://security.debian.org/debian-security buster/updates/main amd64 Packages [272 kB]\nFetched 8,427 kB in 2s (5,373 kB/s)\n\n\n\n19 packages can be upgraded. Run 'apt list --upgradable' to see them.\n\n\n\nlibsm6 is already the newest version (2:1.2.3-1).\nlibsm6 set to manually installed.\nlibxext6 is already the newest version (2:1.3.3-1+b2).\nlibxext6 set to manually installed.\nThe following additional packages will be installed:\n  i965-va-driver intel-media-va-driver libaacs0 libaom0 libasound2\n  libasound2-data libass9 libasyncns0 libavc1394-0 libavcodec58 libavdevice58\n  libavfilter7 libavformat58 libavresample4 libavutil56 libbdplus0 libbluray2\n  libbs2b0 libcaca0 libcap2 libcdio-cdda2 libcdio-paranoia2 libcdio18\n  libchromaprint1 libcodec2-0.8.1 libcrystalhd3 libdc1394-22 libdrm-amdgpu1\n  libdrm-common libdrm-intel1 libdrm-nouveau2 libdrm-radeon1 libdrm2\n  libfftw3-double3 libflac8 libflite1 libgl1 libgl1-mesa-dri libglapi-mesa\n  libglvnd0 libglx-mesa0 libglx0 libgme0 libgsm1 libiec61883-0 libigdgmm5\n  libjack-jackd2-0 liblilv-0-0 libllvm7 libmp3lame0 libmpg123-0 libmysofa0\n  libnorm1 libnuma1 libogg0 libopenal-data libopenal1 libopenjp2-7 libopenmpt0\n  libopus0 libpciaccess0 libpgm-5.2-0 libpostproc55 libpulse0 libraw1394-11\n  librubberband2 libsamplerate0 libsdl2-2.0-0 libsensors-config libsensors5\n  libserd-0-0 libshine3 libslang2 libsnappy1v5 libsndfile1 libsndio7.0\n  libsodium23 libsord-0-0 libsoxr0 libspeex1 libsratom-0-0 libssh-gcrypt-4\n  libswresample3 libswscale5 libtheora0 libtwolame0 libusb-1.0-0 libva-drm2\n  libva-x11-2 libva2 libvdpau-va-gl1 libvdpau1 libvidstab1.1 libvorbis0a\n  libvorbisenc2 libvorbisfile3 libvpx5 libwavpack1 libwayland-client0\n  libwayland-cursor0 libwayland-egl1 libwebpmux3 libx11-xcb1 libx264-155\n  libx265-165 libxcb-dri2-0 libxcb-dri3-0 libxcb-glx0 libxcb-present0\n  libxcb-shape0 libxcb-sync1 libxcb-xfixes0 libxkbcommon0 libxshmfence1\n  libxss1 libxtst6 libxv1 libxvidcore4 libxxf86vm1 libzmq5 libzvbi-common\n  libzvbi0 mesa-va-drivers mesa-vdpau-drivers va-driver-all vdpau-driver-all\n  xkb-data\nSuggested packages:\n  ffmpeg-doc i965-va-driver-shaders libasound2-plugins alsa-utils\n  libbluray-bdj firmware-crystalhd libfftw3-bin libfftw3-dev jackd2\n  libportaudio2 opus-tools pciutils pulseaudio libraw1394-doc lm-sensors serdi\n  sndiod sordi speex nvidia-vdpau-driver nvidia-legacy-340xx-vdpau-driver\n  nvidia-legacy-304xx-vdpau-driver\nThe following NEW packages will be installed:\n  ffmpeg i965-va-driver intel-media-va-driver libaacs0 libaom0 libasound2\n  libasound2-data libass9 libasyncns0 libavc1394-0 libavcodec58 libavdevice58\n  libavfilter7 libavformat58 libavresample4 libavutil56 libbdplus0 libbluray2\n  libbs2b0 libcaca0 libcap2 libcdio-cdda2 libcdio-paranoia2 libcdio18\n  libchromaprint1 libcodec2-0.8.1 libcrystalhd3 libdc1394-22 libdrm-amdgpu1\n  libdrm-common libdrm-intel1 libdrm-nouveau2 libdrm-radeon1 libdrm2\n  libfftw3-double3 libflac8 libflite1 libgl1 libgl1-mesa-dri libglapi-mesa\n  libglvnd0 libglx-mesa0 libglx0 libgme0 libgsm1 libiec61883-0 libigdgmm5\n  libjack-jackd2-0 liblilv-0-0 libllvm7 libmp3lame0 libmpg123-0 libmysofa0\n  libnorm1 libnuma1 libogg0 libopenal-data libopenal1 libopenjp2-7 libopenmpt0\n  libopus0 libpciaccess0 libpgm-5.2-0 libpostproc55 libpulse0 libraw1394-11\n  librubberband2 libsamplerate0 libsdl2-2.0-0 libsensors-config libsensors5\n  libserd-0-0 libshine3 libslang2 libsnappy1v5 libsndfile1 libsndio7.0\n  libsodium23 libsord-0-0 libsoxr0 libspeex1 libsratom-0-0 libssh-gcrypt-4\n  libswresample3 libswscale5 libtheora0 libtwolame0 libusb-1.0-0 libva-drm2\n  libva-x11-2 libva2 libvdpau-va-gl1 libvdpau1 libvidstab1.1 libvorbis0a\n  libvorbisenc2 libvorbisfile3 libvpx5 libwavpack1 libwayland-client0\n  libwayland-cursor0 libwayland-egl1 libwebpmux3 libx11-xcb1 libx264-155\n  libx265-165 libxcb-dri2-0 libxcb-dri3-0 libxcb-glx0 libxcb-present0\n  libxcb-shape0 libxcb-sync1 libxcb-xfixes0 libxkbcommon0 libxshmfence1\n  libxss1 libxtst6 libxv1 libxvidcore4 libxxf86vm1 libzmq5 libzvbi-common\n  libzvbi0 mesa-va-drivers mesa-vdpau-drivers va-driver-all vdpau-driver-all\n  xkb-data\n0 upgraded, 128 newly installed, 0 to remove and 19 not upgraded.\nNeed to get 64.2 MB of archives.\nAfter this operation, 379 MB of additional disk space will be used.\nGet:1 http://deb.debian.org/debian buster/main amd64 libaom0 amd64 1.0.0-3 [1,165 kB]\nGet:2 http://security.debian.org/debian-security buster/updates/main amd64 libopenjp2-7 amd64 2.3.0-2+deb10u2 [158 kB]\nGet:3 http://deb.debian.org/debian buster/main amd64 libdrm-common all 2.4.97-1 [13.8 kB]\nGet:4 http://deb.debian.org/debian buster/main amd64 libdrm2 amd64 2.4.97-1 [39.7 kB]\nGet:5 http://deb.debian.org/debian buster/main amd64 libva2 amd64 2.4.0-1 [57.2 kB]\nGet:6 http://deb.debian.org/debian buster/main amd64 libva-drm2 amd64 2.4.0-1 [16.6 kB]\nGet:7 http://deb.debian.org/debian buster/main amd64 libva-x11-2 amd64 2.4.0-1 [21.3 kB]\nGet:8 http://deb.debian.org/debian buster/main amd64 libvdpau1 amd64 1.1.1-10 [42.0 kB]\nGet:9 http://deb.debian.org/debian buster/main amd64 libavutil56 amd64 7:4.1.6-1~deb10u1 [237 kB]\nGet:10 http://deb.debian.org/debian buster/main amd64 libcodec2-0.8.1 amd64 0.8.1-2 [233 kB]\nGet:11 http://deb.debian.org/debian buster/main amd64 libcrystalhd3 amd64 1:0.0~git20110715.fdd2f19-13 [45.9 kB]\nGet:12 http://deb.debian.org/debian buster/main amd64 libgsm1 amd64 1.0.18-2 [27.7 kB]\nGet:13 http://deb.debian.org/debian buster/main amd64 libmp3lame0 amd64 3.100-2+b1 [367 kB]\nGet:14 http://deb.debian.org/debian buster/main amd64 libopus0 amd64 1.3-1 [191 kB]\nGet:15 http://deb.debian.org/debian buster/main amd64 libshine3 amd64 3.1.1-2 [23.6 kB]\nGet:16 http://deb.debian.org/debian buster/main amd64 libsnappy1v5 amd64 1.1.7-1 [17.0 kB]\nGet:17 http://deb.debian.org/debian buster/main amd64 libspeex1 amd64 1.2~rc1.2-1+b2 [54.8 kB]\nGet:18 http://deb.debian.org/debian buster/main amd64 libsoxr0 amd64 0.1.2-3 [65.9 kB]\nGet:19 http://deb.debian.org/debian buster/main amd64 libswresample3 amd64 7:4.1.6-1~deb10u1 [105 kB]\nGet:20 http://deb.debian.org/debian buster/main amd64 libogg0 amd64 1.3.2-1+b1 [21.3 kB]\nGet:21 http://deb.debian.org/debian buster/main amd64 libtheora0 amd64 1.1.1+dfsg.1-15 [169 kB]\nGet:22 http://deb.debian.org/debian buster/main amd64 libtwolame0 amd64 0.3.13-4 [49.3 kB]\nGet:23 http://deb.debian.org/debian buster/main amd64 libvorbis0a amd64 1.3.6-2 [93.5 kB]\nGet:24 http://deb.debian.org/debian buster/main amd64 libvorbisenc2 amd64 1.3.6-2 [80.2 kB]\nGet:25 http://deb.debian.org/debian buster/main amd64 libvpx5 amd64 1.7.0-3+deb10u1 [800 kB]\nGet:26 http://deb.debian.org/debian buster/main amd64 libwavpack1 amd64 5.1.0-6 [86.8 kB]\nGet:27 http://deb.debian.org/debian buster/main amd64 libwebpmux3 amd64 0.6.1-2 [97.7 kB]\nGet:28 http://deb.debian.org/debian buster/main amd64 libx264-155 amd64 2:0.155.2917+git0a84d98-2 [528 kB]\nGet:29 http://deb.debian.org/debian buster/main amd64 libnuma1 amd64 2.0.12-1 [26.2 kB]\nGet:30 http://deb.debian.org/debian buster/main amd64 libx265-165 amd64 2.9-4 [1,041 kB]\nGet:31 http://deb.debian.org/debian buster/main amd64 libxvidcore4 amd64 2:1.3.5-1 [241 kB]\nGet:32 http://deb.debian.org/debian buster/main amd64 libzvbi-common all 0.2.35-16 [64.3 kB]\nGet:33 http://deb.debian.org/debian buster/main amd64 libzvbi0 amd64 0.2.35-16 [270 kB]\nGet:34 http://deb.debian.org/debian buster/main amd64 libavcodec58 amd64 7:4.1.6-1~deb10u1 [4,803 kB]\nGet:35 http://deb.debian.org/debian buster/main amd64 libasound2-data all 1.1.8-1 [59.6 kB]\nGet:36 http://deb.debian.org/debian buster/main amd64 libasound2 amd64 1.1.8-1 [361 kB]\nGet:37 http://deb.debian.org/debian buster/main amd64 libraw1394-11 amd64 2.1.2-1+b1 [47.2 kB]\nGet:38 http://deb.debian.org/debian buster/main amd64 libavc1394-0 amd64 0.5.4-5 [19.9 kB]\nGet:39 http://deb.debian.org/debian buster/main amd64 libass9 amd64 1:0.14.0-2 [96.7 kB]\nGet:40 http://deb.debian.org/debian buster/main amd64 libbluray2 amd64 1:1.1.0-1 [145 kB]\nGet:41 http://deb.debian.org/debian buster/main amd64 libchromaprint1 amd64 1.4.3-3 [41.4 kB]\nGet:42 http://deb.debian.org/debian buster/main amd64 libgme0 amd64 0.6.2-1 [121 kB]\nGet:43 http://deb.debian.org/debian buster/main amd64 libmpg123-0 amd64 1.25.10-2 [140 kB]\nGet:44 http://deb.debian.org/debian buster/main amd64 libvorbisfile3 amd64 1.3.6-2 [25.5 kB]\nGet:45 http://deb.debian.org/debian buster/main amd64 libopenmpt0 amd64 0.4.3-1+deb10u1 [627 kB]\nGet:46 http://deb.debian.org/debian buster/main amd64 libssh-gcrypt-4 amd64 0.8.7-1+deb10u1 [200 kB]\nGet:47 http://deb.debian.org/debian buster/main amd64 libavformat58 amd64 7:4.1.6-1~deb10u1 [1,012 kB]\nGet:48 http://deb.debian.org/debian buster/main amd64 libbs2b0 amd64 3.1.0+dfsg-2.2 [12.2 kB]\nGet:49 http://deb.debian.org/debian buster/main amd64 libflite1 amd64 2.1-release-3 [12.8 MB]\nGet:50 http://deb.debian.org/debian buster/main amd64 libserd-0-0 amd64 0.28.0~dfsg0-1 [40.8 kB]\nGet:51 http://deb.debian.org/debian buster/main amd64 libsord-0-0 amd64 0.16.0~dfsg0-1+b1 [23.0 kB]\nGet:52 http://deb.debian.org/debian buster/main amd64 libsratom-0-0 amd64 0.6.0~dfsg0-1 [16.6 kB]\nGet:53 http://deb.debian.org/debian buster/main amd64 liblilv-0-0 amd64 0.24.2~dfsg0-2 [44.2 kB]\nGet:54 http://deb.debian.org/debian buster/main amd64 libmysofa0 amd64 0.6~dfsg0-3+deb10u1 [38.2 kB]\nGet:55 http://deb.debian.org/debian buster/main amd64 libpostproc55 amd64 7:4.1.6-1~deb10u1 [101 kB]\nGet:56 http://deb.debian.org/debian buster/main amd64 libfftw3-double3 amd64 3.3.8-2 [733 kB]\nGet:57 http://deb.debian.org/debian buster/main amd64 libsamplerate0 amd64 0.1.9-2 [949 kB]\nGet:58 http://deb.debian.org/debian buster/main amd64 librubberband2 amd64 1.8.1-7 [86.0 kB]\nGet:59 http://deb.debian.org/debian buster/main amd64 libswscale5 amd64 7:4.1.6-1~deb10u1 [202 kB]\nGet:60 http://deb.debian.org/debian buster/main amd64 libvidstab1.1 amd64 1.1.0-2 [37.6 kB]\nGet:61 http://deb.debian.org/debian buster/main amd64 libnorm1 amd64 1.5.8+dfsg2-1 [287 kB]\nGet:62 http://deb.debian.org/debian buster/main amd64 libpgm-5.2-0 amd64 5.2.122~dfsg-3 [158 kB]\nGet:63 http://deb.debian.org/debian buster/main amd64 libsodium23 amd64 1.0.17-1 [158 kB]\nGet:64 http://deb.debian.org/debian buster/main amd64 libzmq5 amd64 4.3.1-4+deb10u2 [246 kB]\nGet:65 http://deb.debian.org/debian buster/main amd64 libavfilter7 amd64 7:4.1.6-1~deb10u1 [1,046 kB]\nGet:66 http://deb.debian.org/debian buster/main amd64 libslang2 amd64 2.3.2-2 [507 kB]\nGet:67 http://deb.debian.org/debian buster/main amd64 libcaca0 amd64 0.99.beta19-2.1 [346 kB]\nGet:68 http://deb.debian.org/debian buster/main amd64 libcdio18 amd64 2.0.0-2 [199 kB]\nGet:69 http://deb.debian.org/debian buster/main amd64 libcdio-cdda2 amd64 10.2+0.94+2-4 [26.4 kB]\nGet:70 http://deb.debian.org/debian buster/main amd64 libcdio-paranoia2 amd64 10.2+0.94+2-4 [27.8 kB]\nGet:71 http://deb.debian.org/debian buster/main amd64 libusb-1.0-0 amd64 2:1.0.22-2 [55.3 kB]\nGet:72 http://deb.debian.org/debian buster/main amd64 libdc1394-22 amd64 2.2.5-1 [106 kB]\nGet:73 http://deb.debian.org/debian buster/main amd64 libglvnd0 amd64 1.1.0-1 [48.6 kB]\nGet:74 http://deb.debian.org/debian buster/main amd64 libglapi-mesa amd64 18.3.6-2+deb10u1 [66.3 kB]\nGet:75 http://deb.debian.org/debian buster/main amd64 libx11-xcb1 amd64 2:1.6.7-1+deb10u1 [190 kB]\nGet:76 http://deb.debian.org/debian buster/main amd64 libxcb-dri2-0 amd64 1.13.1-2 [101 kB]\nGet:77 http://deb.debian.org/debian buster/main amd64 libxcb-dri3-0 amd64 1.13.1-2 [100 kB]\nGet:78 http://deb.debian.org/debian buster/main amd64 libxcb-glx0 amd64 1.13.1-2 [116 kB]\nGet:79 http://deb.debian.org/debian buster/main amd64 libxcb-present0 amd64 1.13.1-2 [99.1 kB]\nGet:80 http://deb.debian.org/debian buster/main amd64 libxcb-sync1 amd64 1.13.1-2 [103 kB]\nGet:81 http://deb.debian.org/debian buster/main amd64 libxshmfence1 amd64 1.3-1 [8,820 B]\nGet:82 http://deb.debian.org/debian buster/main amd64 libxxf86vm1 amd64 1:1.1.4-1+b2 [20.8 kB]\nGet:83 http://deb.debian.org/debian buster/main amd64 libdrm-amdgpu1 amd64 2.4.97-1 [27.3 kB]\nGet:84 http://deb.debian.org/debian buster/main amd64 libpciaccess0 amd64 0.14-1 [53.5 kB]\nGet:85 http://deb.debian.org/debian buster/main amd64 libdrm-intel1 amd64 2.4.97-1 [69.8 kB]\nGet:86 http://deb.debian.org/debian buster/main amd64 libdrm-nouveau2 amd64 2.4.97-1 [26.3 kB]\nGet:87 http://deb.debian.org/debian buster/main amd64 libdrm-radeon1 amd64 2.4.97-1 [31.1 kB]\nGet:88 http://deb.debian.org/debian buster/main amd64 libllvm7 amd64 1:7.0.1-8+deb10u2 [13.1 MB]\nGet:89 http://deb.debian.org/debian buster/main amd64 libsensors-config all 1:3.5.0-3 [31.6 kB]\nGet:90 http://deb.debian.org/debian buster/main amd64 libsensors5 amd64 1:3.5.0-3 [52.6 kB]\nGet:91 http://deb.debian.org/debian buster/main amd64 libgl1-mesa-dri amd64 18.3.6-2+deb10u1 [6,685 kB]\nGet:92 http://deb.debian.org/debian buster/main amd64 libglx-mesa0 amd64 18.3.6-2+deb10u1 [180 kB]\nGet:93 http://deb.debian.org/debian buster/main amd64 libglx0 amd64 1.1.0-1 [30.0 kB]\nGet:94 http://deb.debian.org/debian buster/main amd64 libgl1 amd64 1.1.0-1 [91.1 kB]\nGet:95 http://deb.debian.org/debian buster/main amd64 libiec61883-0 amd64 1.2.0-3 [31.2 kB]\nGet:96 http://deb.debian.org/debian buster/main amd64 libjack-jackd2-0 amd64 1.9.12~dfsg-2 [299 kB]\nGet:97 http://deb.debian.org/debian buster/main amd64 libopenal-data all 1:1.19.1-1 [170 kB]\nGet:98 http://deb.debian.org/debian buster/main amd64 libsndio7.0 amd64 1.5.0-3 [24.7 kB]\nGet:99 http://deb.debian.org/debian buster/main amd64 libopenal1 amd64 1:1.19.1-1 [500 kB]\nGet:100 http://deb.debian.org/debian buster/main amd64 libasyncns0 amd64 0.8-6 [12.5 kB]\nGet:101 http://deb.debian.org/debian buster/main amd64 libcap2 amd64 1:2.25-2 [17.6 kB]\nGet:102 http://deb.debian.org/debian buster/main amd64 libflac8 amd64 1.3.2-3 [221 kB]\nGet:103 http://deb.debian.org/debian buster/main amd64 libsndfile1 amd64 1.0.28-6 [253 kB]\nGet:104 http://deb.debian.org/debian buster/main amd64 libxtst6 amd64 2:1.2.3-1 [27.8 kB]\nGet:105 http://deb.debian.org/debian buster/main amd64 libpulse0 amd64 12.2-4+deb10u1 [281 kB]\nGet:106 http://deb.debian.org/debian buster/main amd64 libwayland-client0 amd64 1.16.0-1 [26.4 kB]\nGet:107 http://deb.debian.org/debian buster/main amd64 libwayland-cursor0 amd64 1.16.0-1 [14.1 kB]\nGet:108 http://deb.debian.org/debian buster/main amd64 libwayland-egl1 amd64 1.16.0-1 [8,204 B]\nGet:109 http://deb.debian.org/debian buster/main amd64 xkb-data all 2.26-2 [681 kB]\nGet:110 http://deb.debian.org/debian buster/main amd64 libxkbcommon0 amd64 0.8.2-1 [123 kB]\nGet:111 http://deb.debian.org/debian buster/main amd64 libxss1 amd64 1:1.2.3-1 [17.8 kB]\nGet:112 http://deb.debian.org/debian buster/main amd64 libsdl2-2.0-0 amd64 2.0.9+dfsg1-1 [401 kB]\nGet:113 http://deb.debian.org/debian buster/main amd64 libxcb-shape0 amd64 1.13.1-2 [99.5 kB]\nGet:114 http://deb.debian.org/debian buster/main amd64 libxcb-xfixes0 amd64 1.13.1-2 [103 kB]\nGet:115 http://deb.debian.org/debian buster/main amd64 libxv1 amd64 2:1.0.11-1 [24.6 kB]\nGet:116 http://deb.debian.org/debian buster/main amd64 libavdevice58 amd64 7:4.1.6-1~deb10u1 [124 kB]\nGet:117 http://deb.debian.org/debian buster/main amd64 libavresample4 amd64 7:4.1.6-1~deb10u1 [102 kB]\nGet:118 http://deb.debian.org/debian buster/main amd64 ffmpeg amd64 7:4.1.6-1~deb10u1 [1,434 kB]\nGet:119 http://deb.debian.org/debian buster/main amd64 i965-va-driver amd64 2.3.0+dfsg1-1 [311 kB]\nGet:120 http://deb.debian.org/debian buster/main amd64 libigdgmm5 amd64 18.4.1+ds1-1 [78.7 kB]\nGet:121 http://deb.debian.org/debian buster/main amd64 intel-media-va-driver amd64 18.4.1+dfsg1-1 [974 kB]\nGet:122 http://deb.debian.org/debian buster/main amd64 libaacs0 amd64 0.9.0-2 [52.4 kB]\nGet:123 http://deb.debian.org/debian buster/main amd64 libbdplus0 amd64 0.1.2-3 [47.5 kB]\nGet:124 http://deb.debian.org/debian buster/main amd64 libvdpau-va-gl1 amd64 0.4.2-1+b1 [71.3 kB]\nGet:125 http://deb.debian.org/debian buster/main amd64 mesa-va-drivers amd64 18.3.6-2+deb10u1 [1,972 kB]\nGet:126 http://deb.debian.org/debian buster/main amd64 mesa-vdpau-drivers amd64 18.3.6-2+deb10u1 [2,101 kB]\nGet:127 http://deb.debian.org/debian buster/main amd64 va-driver-all amd64 2.4.0-1 [13.0 kB]\nGet:128 http://deb.debian.org/debian buster/main amd64 vdpau-driver-all amd64 1.1.1-10 [20.8 kB]\nFetched 64.2 MB in 1s (94.1 MB/s)\ndebconf: delaying package configuration, since apt-utils is not installed\n\n\u001b7\u001b[0;23r\u001b8\u001b[1ASelecting previously unselected package libaom0:amd64.\n(Reading database ... 31088 files and directories currently installed.)\nPreparing to unpack .../000-libaom0_1.0.0-3_amd64.deb ...\n\u001b7\u001b[24;0f\u001b[42m\u001b[30mProgress: [  0%]\u001b[49m\u001b[39m [..........................................................] \u001b8Unpacking libaom0:amd64 (1.0.0-3) ...\nSelecting previously unselected package libdrm-common.\nPreparing to unpack .../001-libdrm-common_2.4.97-1_all.deb ...\nUnpacking libdrm-common (2.4.97-1) ...\nSelecting previously unselected package libdrm2:amd64.\nPreparing to unpack .../002-libdrm2_2.4.97-1_amd64.deb ...\nUnpacking libdrm2:amd64 (2.4.97-1) ...\n\u001b7\u001b[24;0f\u001b[42m\u001b[30mProgress: [  1%]\u001b[49m\u001b[39m [..........................................................] \u001b8Selecting previously unselected package libva2:amd64.\nPreparing to unpack .../003-libva2_2.4.0-1_amd64.deb ...\nUnpacking libva2:amd64 (2.4.0-1) ...\nSelecting previously unselected package libva-drm2:amd64.\nPreparing to unpack .../004-libva-drm2_2.4.0-1_amd64.deb ...\nUnpacking libva-drm2:amd64 (2.4.0-1) ...\nSelecting previously unselected package libva-x11-2:amd64.\nPreparing to unpack .../005-libva-x11-2_2.4.0-1_amd64.deb ...\n\u001b7\u001b[24;0f\u001b[42m\u001b[30mProgress: [  2%]\u001b[49m\u001b[39m [#.........................................................] \u001b8Unpacking libva-x11-2:amd64 (2.4.0-1) ...\nSelecting previously unselected package libvdpau1:amd64.\nPreparing to unpack .../006-libvdpau1_1.1.1-10_amd64.deb ...\nUnpacking libvdpau1:amd64 (1.1.1-10) ...\nSelecting previously unselected package libavutil56:amd64.\nPreparing to unpack .../007-libavutil56_7%3a4.1.6-1~deb10u1_amd64.deb ...\nUnpacking libavutil56:amd64 (7:4.1.6-1~deb10u1) ...\n\u001b7\u001b[24;0f\u001b[42m\u001b[30mProgress: [  3%]\u001b[49m\u001b[39m [#.........................................................] \u001b8Selecting previously unselected package libcodec2-0.8.1:amd64.\nPreparing to unpack .../008-libcodec2-0.8.1_0.8.1-2_amd64.deb ...\nUnpacking libcodec2-0.8.1:amd64 (0.8.1-2) ...\nSelecting previously unselected package libcrystalhd3:amd64.\nPreparing to unpack .../009-libcrystalhd3_1%3a0.0~git20110715.fdd2f19-13_amd64.deb ...\nUnpacking libcrystalhd3:amd64 (1:0.0~git20110715.fdd2f19-13) ...\nSelecting previously unselected package libgsm1:amd64.\nPreparing to unpack .../010-libgsm1_1.0.18-2_amd64.deb ...\n\u001b7\u001b[24;0f\u001b[42m\u001b[30mProgress: [  4%]\u001b[49m\u001b[39m [##........................................................] \u001b8Unpacking libgsm1:amd64 (1.0.18-2) ...\nSelecting previously unselected package libmp3lame0:amd64.\nPreparing to unpack .../011-libmp3lame0_3.100-2+b1_amd64.deb ...\nUnpacking libmp3lame0:amd64 (3.100-2+b1) ...\nSelecting previously unselected package libopenjp2-7:amd64.\nPreparing to unpack .../012-libopenjp2-7_2.3.0-2+deb10u2_amd64.deb ...\nUnpacking libopenjp2-7:amd64 (2.3.0-2+deb10u2) ...\n\u001b7\u001b[24;0f\u001b[42m\u001b[30mProgress: [  5%]\u001b[49m\u001b[39m [##........................................................] \u001b8Selecting previously unselected package libopus0:amd64.\nPreparing to unpack .../013-libopus0_1.3-1_amd64.deb ...\nUnpacking libopus0:amd64 (1.3-1) ...\nSelecting previously unselected package libshine3:amd64.\nPreparing to unpack .../014-libshine3_3.1.1-2_amd64.deb ...\nUnpacking libshine3:amd64 (3.1.1-2) ...\nSelecting previously unselected package libsnappy1v5:amd64.\nPreparing to unpack .../015-libsnappy1v5_1.1.7-1_amd64.deb ...\n\u001b7\u001b[24;0f\u001b[42m\u001b[30mProgress: [  6%]\u001b[49m\u001b[39m [###.......................................................] \u001b8Unpacking libsnappy1v5:amd64 (1.1.7-1) ...\nSelecting previously unselected package libspeex1:amd64.\nPreparing to unpack .../016-libspeex1_1.2~rc1.2-1+b2_amd64.deb ...\nUnpacking libspeex1:amd64 (1.2~rc1.2-1+b2) ...\nSelecting previously unselected package libsoxr0:amd64.\nPreparing to unpack .../017-libsoxr0_0.1.2-3_amd64.deb ...\nUnpacking libsoxr0:amd64 (0.1.2-3) ...\n\u001b7\u001b[24;0f\u001b[42m\u001b[30mProgress: [  7%]\u001b[49m\u001b[39m [####......................................................] \u001b8Selecting previously unselected package libswresample3:amd64.\nPreparing to unpack .../018-libswresample3_7%3a4.1.6-1~deb10u1_amd64.deb ...\nUnpacking libswresample3:amd64 (7:4.1.6-1~deb10u1) ...\nSelecting previously unselected package libogg0:amd64.\nPreparing to unpack .../019-libogg0_1.3.2-1+b1_amd64.deb ...\nUnpacking libogg0:amd64 (1.3.2-1+b1) ...\nSelecting previously unselected package libtheora0:amd64.\nPreparing to unpack .../020-libtheora0_1.1.1+dfsg.1-15_amd64.deb ...\nUnpacking libtheora0:amd64 (1.1.1+dfsg.1-15) ...\n\u001b7\u001b[24;0f\u001b[42m\u001b[30mProgress: [  8%]\u001b[49m\u001b[39m [####......................................................] \u001b8Selecting previously unselected package libtwolame0:amd64.\nPreparing to unpack .../021-libtwolame0_0.3.13-4_amd64.deb ...\nUnpacking libtwolame0:amd64 (0.3.13-4) ...\nSelecting previously unselected package libvorbis0a:amd64.\nPreparing to unpack .../022-libvorbis0a_1.3.6-2_amd64.deb ...\nUnpacking libvorbis0a:amd64 (1.3.6-2) ...\nSelecting previously unselected package libvorbisenc2:amd64.\nPreparing to unpack .../023-libvorbisenc2_1.3.6-2_amd64.deb ...\n\u001b7\u001b[24;0f\u001b[42m\u001b[30mProgress: [  9%]\u001b[49m\u001b[39m [#####.....................................................] \u001b8Unpacking libvorbisenc2:amd64 (1.3.6-2) ...\nSelecting previously unselected package libvpx5:amd64.\nPreparing to unpack .../024-libvpx5_1.7.0-3+deb10u1_amd64.deb ...\nUnpacking libvpx5:amd64 (1.7.0-3+deb10u1) ...\nSelecting previously unselected package libwavpack1:amd64.\nPreparing to unpack .../025-libwavpack1_5.1.0-6_amd64.deb ...\nUnpacking libwavpack1:amd64 (5.1.0-6) ...\n\u001b7\u001b[24;0f\u001b[42m\u001b[30mProgress: [ 10%]\u001b[49m\u001b[39m [#####.....................................................] \u001b8Selecting previously unselected package libwebpmux3:amd64.\nPreparing to unpack .../026-libwebpmux3_0.6.1-2_amd64.deb ...\nUnpacking libwebpmux3:amd64 (0.6.1-2) ...\nSelecting previously unselected package libx264-155:amd64.\nPreparing to unpack .../027-libx264-155_2%3a0.155.2917+git0a84d98-2_amd64.deb ...\nUnpacking libx264-155:amd64 (2:0.155.2917+git0a84d98-2) ...\nSelecting previously unselected package libnuma1:amd64.\nPreparing to unpack .../028-libnuma1_2.0.12-1_amd64.deb ...\n\u001b7\u001b[24;0f\u001b[42m\u001b[30mProgress: [ 11%]\u001b[49m\u001b[39m [######....................................................] \u001b8Unpacking libnuma1:amd64 (2.0.12-1) ...\nSelecting previously unselected package libx265-165:amd64.\nPreparing to unpack .../029-libx265-165_2.9-4_amd64.deb ...\nUnpacking libx265-165:amd64 (2.9-4) ...\nSelecting previously unselected package libxvidcore4:amd64.\nPreparing to unpack .../030-libxvidcore4_2%3a1.3.5-1_amd64.deb ...\nUnpacking libxvidcore4:amd64 (2:1.3.5-1) ...\n\u001b7\u001b[24;0f\u001b[42m\u001b[30mProgress: [ 12%]\u001b[49m\u001b[39m [#######...................................................] \u001b8Selecting previously unselected package libzvbi-common.\nPreparing to unpack .../031-libzvbi-common_0.2.35-16_all.deb ...\nUnpacking libzvbi-common (0.2.35-16) ...\nSelecting previously unselected package libzvbi0:amd64.\nPreparing to unpack .../032-libzvbi0_0.2.35-16_amd64.deb ...\nUnpacking libzvbi0:amd64 (0.2.35-16) ...\nSelecting previously unselected package libavcodec58:amd64.\nPreparing to unpack .../033-libavcodec58_7%3a4.1.6-1~deb10u1_amd64.deb ...\n\u001b7\u001b[24;0f\u001b[42m\u001b[30mProgress: [ 13%]\u001b[49m\u001b[39m [#######...................................................] \u001b8Unpacking libavcodec58:amd64 (7:4.1.6-1~deb10u1) ...\nSelecting previously unselected package libasound2-data.\nPreparing to unpack .../034-libasound2-data_1.1.8-1_all.deb ...\nUnpacking libasound2-data (1.1.8-1) ...\nSelecting previously unselected package libasound2:amd64.\nPreparing to unpack .../035-libasound2_1.1.8-1_amd64.deb ...\nUnpacking libasound2:amd64 (1.1.8-1) ...\n\u001b7\u001b[24;0f\u001b[42m\u001b[30mProgress: [ 14%]\u001b[49m\u001b[39m [########..................................................] \u001b8Selecting previously unselected package libraw1394-11:amd64.\nPreparing to unpack .../036-libraw1394-11_2.1.2-1+b1_amd64.deb ...\nUnpacking libraw1394-11:amd64 (2.1.2-1+b1) ...\nSelecting previously unselected package libavc1394-0:amd64.\nPreparing to unpack .../037-libavc1394-0_0.5.4-5_amd64.deb ...\nUnpacking libavc1394-0:amd64 (0.5.4-5) ...\nSelecting previously unselected package libass9:amd64.\nPreparing to unpack .../038-libass9_1%3a0.14.0-2_amd64.deb ...\n\u001b7\u001b[24;0f\u001b[42m\u001b[30mProgress: [ 15%]\u001b[49m\u001b[39m [########..................................................] \u001b8Unpacking libass9:amd64 (1:0.14.0-2) ...\nSelecting previously unselected package libbluray2:amd64.\nPreparing to unpack .../039-libbluray2_1%3a1.1.0-1_amd64.deb ...\nUnpacking libbluray2:amd64 (1:1.1.0-1) ...\nSelecting previously unselected package libchromaprint1:amd64.\nPreparing to unpack .../040-libchromaprint1_1.4.3-3_amd64.deb ...\nUnpacking libchromaprint1:amd64 (1.4.3-3) ...\nSelecting previously unselected package libgme0:amd64.\nPreparing to unpack .../041-libgme0_0.6.2-1_amd64.deb ...\n\u001b7\u001b[24;0f\u001b[42m\u001b[30mProgress: [ 16%]\u001b[49m\u001b[39m [#########.................................................] \u001b8Unpacking libgme0:amd64 (0.6.2-1) ...\nSelecting previously unselected package libmpg123-0:amd64.\nPreparing to unpack .../042-libmpg123-0_1.25.10-2_amd64.deb ...\nUnpacking libmpg123-0:amd64 (1.25.10-2) ...\nSelecting previously unselected package libvorbisfile3:amd64.\nPreparing to unpack .../043-libvorbisfile3_1.3.6-2_amd64.deb ...\nUnpacking libvorbisfile3:amd64 (1.3.6-2) ...\n\u001b7\u001b[24;0f\u001b[42m\u001b[30mProgress: [ 17%]\u001b[49m\u001b[39m [#########.................................................] \u001b8Selecting previously unselected package libopenmpt0:amd64.\nPreparing to unpack .../044-libopenmpt0_0.4.3-1+deb10u1_amd64.deb ...\nUnpacking libopenmpt0:amd64 (0.4.3-1+deb10u1) ...\nSelecting previously unselected package libssh-gcrypt-4:amd64.\nPreparing to unpack .../045-libssh-gcrypt-4_0.8.7-1+deb10u1_amd64.deb ...\nUnpacking libssh-gcrypt-4:amd64 (0.8.7-1+deb10u1) ...\nSelecting previously unselected package libavformat58:amd64.\nPreparing to unpack .../046-libavformat58_7%3a4.1.6-1~deb10u1_amd64.deb ...\n\u001b7\u001b[24;0f\u001b[42m\u001b[30mProgress: [ 18%]\u001b[49m\u001b[39m [##########................................................] \u001b8Unpacking libavformat58:amd64 (7:4.1.6-1~deb10u1) ...\nSelecting previously unselected package libbs2b0:amd64.\nPreparing to unpack .../047-libbs2b0_3.1.0+dfsg-2.2_amd64.deb ...\nUnpacking libbs2b0:amd64 (3.1.0+dfsg-2.2) ...\nSelecting previously unselected package libflite1:amd64.\nPreparing to unpack .../048-libflite1_2.1-release-3_amd64.deb ...\nUnpacking libflite1:amd64 (2.1-release-3) ...\n\u001b7\u001b[24;0f\u001b[42m\u001b[30mProgress: [ 19%]\u001b[49m\u001b[39m [###########...............................................] \u001b8Selecting previously unselected package libserd-0-0:amd64.\nPreparing to unpack .../049-libserd-0-0_0.28.0~dfsg0-1_amd64.deb ...\nUnpacking libserd-0-0:amd64 (0.28.0~dfsg0-1) ...\nSelecting previously unselected package libsord-0-0:amd64.\nPreparing to unpack .../050-libsord-0-0_0.16.0~dfsg0-1+b1_amd64.deb ...\nUnpacking libsord-0-0:amd64 (0.16.0~dfsg0-1+b1) ...\nSelecting previously unselected package libsratom-0-0:amd64.\nPreparing to unpack .../051-libsratom-0-0_0.6.0~dfsg0-1_amd64.deb ...\n\u001b7\u001b[24;0f\u001b[42m\u001b[30mProgress: [ 20%]\u001b[49m\u001b[39m [###########...............................................] \u001b8Unpacking libsratom-0-0:amd64 (0.6.0~dfsg0-1) ...\nSelecting previously unselected package liblilv-0-0:amd64.\nPreparing to unpack .../052-liblilv-0-0_0.24.2~dfsg0-2_amd64.deb ...\nUnpacking liblilv-0-0:amd64 (0.24.2~dfsg0-2) ...\nSelecting previously unselected package libmysofa0:amd64.\nPreparing to unpack .../053-libmysofa0_0.6~dfsg0-3+deb10u1_amd64.deb ...\nUnpacking libmysofa0:amd64 (0.6~dfsg0-3+deb10u1) ...\n\u001b7\u001b[24;0f\u001b[42m\u001b[30mProgress: [ 21%]\u001b[49m\u001b[39m [############..............................................] \u001b8Selecting previously unselected package libpostproc55:amd64.\nPreparing to unpack .../054-libpostproc55_7%3a4.1.6-1~deb10u1_amd64.deb ...\nUnpacking libpostproc55:amd64 (7:4.1.6-1~deb10u1) ...\nSelecting previously unselected package libfftw3-double3:amd64.\nPreparing to unpack .../055-libfftw3-double3_3.3.8-2_amd64.deb ...\nUnpacking libfftw3-double3:amd64 (3.3.8-2) ...\nSelecting previously unselected package libsamplerate0:amd64.\nPreparing to unpack .../056-libsamplerate0_0.1.9-2_amd64.deb ...\n\u001b7\u001b[24;0f\u001b[42m\u001b[30mProgress: [ 22%]\u001b[49m\u001b[39m [############..............................................] \u001b8Unpacking libsamplerate0:amd64 (0.1.9-2) ...\nSelecting previously unselected package librubberband2:amd64.\nPreparing to unpack .../057-librubberband2_1.8.1-7_amd64.deb ...\nUnpacking librubberband2:amd64 (1.8.1-7) ...\nSelecting previously unselected package libswscale5:amd64.\nPreparing to unpack .../058-libswscale5_7%3a4.1.6-1~deb10u1_amd64.deb ...\nUnpacking libswscale5:amd64 (7:4.1.6-1~deb10u1) ...\n\u001b7\u001b[24;0f\u001b[42m\u001b[30mProgress: [ 23%]\u001b[49m\u001b[39m [#############.............................................] \u001b8Selecting previously unselected package libvidstab1.1:amd64.\nPreparing to unpack .../059-libvidstab1.1_1.1.0-2_amd64.deb ...\nUnpacking libvidstab1.1:amd64 (1.1.0-2) ...\nSelecting previously unselected package libnorm1:amd64.\nPreparing to unpack .../060-libnorm1_1.5.8+dfsg2-1_amd64.deb ...\nUnpacking libnorm1:amd64 (1.5.8+dfsg2-1) ...\nSelecting previously unselected package libpgm-5.2-0:amd64.\nPreparing to unpack .../061-libpgm-5.2-0_5.2.122~dfsg-3_amd64.deb ...\nUnpacking libpgm-5.2-0:amd64 (5.2.122~dfsg-3) ...\n\u001b7\u001b[24;0f\u001b[42m\u001b[30mProgress: [ 24%]\u001b[49m\u001b[39m [##############............................................] \u001b8Selecting previously unselected package libsodium23:amd64.\nPreparing to unpack .../062-libsodium23_1.0.17-1_amd64.deb ...\nUnpacking libsodium23:amd64 (1.0.17-1) ...\nSelecting previously unselected package libzmq5:amd64.\nPreparing to unpack .../063-libzmq5_4.3.1-4+deb10u2_amd64.deb ...\nUnpacking libzmq5:amd64 (4.3.1-4+deb10u2) ...\nSelecting previously unselected package libavfilter7:amd64.\nPreparing to unpack .../064-libavfilter7_7%3a4.1.6-1~deb10u1_amd64.deb ...\n\u001b7\u001b[24;0f\u001b[42m\u001b[30mProgress: [ 25%]\u001b[49m\u001b[39m [##############............................................] \u001b8Unpacking libavfilter7:amd64 (7:4.1.6-1~deb10u1) ...\nSelecting previously unselected package libslang2:amd64.\nPreparing to unpack .../065-libslang2_2.3.2-2_amd64.deb ...\nUnpacking libslang2:amd64 (2.3.2-2) ...\nSelecting previously unselected package libcaca0:amd64.\nPreparing to unpack .../066-libcaca0_0.99.beta19-2.1_amd64.deb ...\nUnpacking libcaca0:amd64 (0.99.beta19-2.1) ...\n\u001b7\u001b[24;0f\u001b[42m\u001b[30mProgress: [ 26%]\u001b[49m\u001b[39m [###############...........................................] \u001b8Selecting previously unselected package libcdio18:amd64.\nPreparing to unpack .../067-libcdio18_2.0.0-2_amd64.deb ...\nUnpacking libcdio18:amd64 (2.0.0-2) ...\nSelecting previously unselected package libcdio-cdda2:amd64.\nPreparing to unpack .../068-libcdio-cdda2_10.2+0.94+2-4_amd64.deb ...\nUnpacking libcdio-cdda2:amd64 (10.2+0.94+2-4) ...\nSelecting previously unselected package libcdio-paranoia2:amd64.\nPreparing to unpack .../069-libcdio-paranoia2_10.2+0.94+2-4_amd64.deb ...\n\u001b7\u001b[24;0f\u001b[42m\u001b[30mProgress: [ 27%]\u001b[49m\u001b[39m [###############...........................................] \u001b8Unpacking libcdio-paranoia2:amd64 (10.2+0.94+2-4) ...\nSelecting previously unselected package libusb-1.0-0:amd64.\nPreparing to unpack .../070-libusb-1.0-0_2%3a1.0.22-2_amd64.deb ...\nUnpacking libusb-1.0-0:amd64 (2:1.0.22-2) ...\nSelecting previously unselected package libdc1394-22:amd64.\nPreparing to unpack .../071-libdc1394-22_2.2.5-1_amd64.deb ...\nUnpacking libdc1394-22:amd64 (2.2.5-1) ...\n\u001b7\u001b[24;0f\u001b[42m\u001b[30mProgress: [ 28%]\u001b[49m\u001b[39m [################..........................................] \u001b8Selecting previously unselected package libglvnd0:amd64.\nPreparing to unpack .../072-libglvnd0_1.1.0-1_amd64.deb ...\nUnpacking libglvnd0:amd64 (1.1.0-1) ...\nSelecting previously unselected package libglapi-mesa:amd64.\nPreparing to unpack .../073-libglapi-mesa_18.3.6-2+deb10u1_amd64.deb ...\nUnpacking libglapi-mesa:amd64 (18.3.6-2+deb10u1) ...\nSelecting previously unselected package libx11-xcb1:amd64.\nPreparing to unpack .../074-libx11-xcb1_2%3a1.6.7-1+deb10u1_amd64.deb ...\n\u001b7\u001b[24;0f\u001b[42m\u001b[30mProgress: [ 29%]\u001b[49m\u001b[39m [################..........................................] \u001b8Unpacking libx11-xcb1:amd64 (2:1.6.7-1+deb10u1) ...\nSelecting previously unselected package libxcb-dri2-0:amd64.\nPreparing to unpack .../075-libxcb-dri2-0_1.13.1-2_amd64.deb ...\nUnpacking libxcb-dri2-0:amd64 (1.13.1-2) ...\nSelecting previously unselected package libxcb-dri3-0:amd64.\nPreparing to unpack .../076-libxcb-dri3-0_1.13.1-2_amd64.deb ...\nUnpacking libxcb-dri3-0:amd64 (1.13.1-2) ...\n\u001b7\u001b[24;0f\u001b[42m\u001b[30mProgress: [ 30%]\u001b[49m\u001b[39m [#################.........................................] \u001b8Selecting previously unselected package libxcb-glx0:amd64.\nPreparing to unpack .../077-libxcb-glx0_1.13.1-2_amd64.deb ...\nUnpacking libxcb-glx0:amd64 (1.13.1-2) ...\nSelecting previously unselected package libxcb-present0:amd64.\nPreparing to unpack .../078-libxcb-present0_1.13.1-2_amd64.deb ...\nUnpacking libxcb-present0:amd64 (1.13.1-2) ...\nSelecting previously unselected package libxcb-sync1:amd64.\nPreparing to unpack .../079-libxcb-sync1_1.13.1-2_amd64.deb ...\nUnpacking libxcb-sync1:amd64 (1.13.1-2) ...\n\u001b7\u001b[24;0f\u001b[42m\u001b[30mProgress: [ 31%]\u001b[49m\u001b[39m [##################........................................] \u001b8Selecting previously unselected package libxshmfence1:amd64.\nPreparing to unpack .../080-libxshmfence1_1.3-1_amd64.deb ...\nUnpacking libxshmfence1:amd64 (1.3-1) ...\nSelecting previously unselected package libxxf86vm1:amd64.\nPreparing to unpack .../081-libxxf86vm1_1%3a1.1.4-1+b2_amd64.deb ...\nUnpacking libxxf86vm1:amd64 (1:1.1.4-1+b2) ...\nSelecting previously unselected package libdrm-amdgpu1:amd64.\nPreparing to unpack .../082-libdrm-amdgpu1_2.4.97-1_amd64.deb ...\n\u001b7\u001b[24;0f\u001b[42m\u001b[30mProgress: [ 32%]\u001b[49m\u001b[39m [##################........................................] \u001b8Unpacking libdrm-amdgpu1:amd64 (2.4.97-1) ...\nSelecting previously unselected package libpciaccess0:amd64.\nPreparing to unpack .../083-libpciaccess0_0.14-1_amd64.deb ...\nUnpacking libpciaccess0:amd64 (0.14-1) ...\nSelecting previously unselected package libdrm-intel1:amd64.\nPreparing to unpack .../084-libdrm-intel1_2.4.97-1_amd64.deb ...\nUnpacking libdrm-intel1:amd64 (2.4.97-1) ...\n\u001b7\u001b[24;0f\u001b[42m\u001b[30mProgress: [ 33%]\u001b[49m\u001b[39m [###################.......................................] \u001b8Selecting previously unselected package libdrm-nouveau2:amd64.\nPreparing to unpack .../085-libdrm-nouveau2_2.4.97-1_amd64.deb ...\nUnpacking libdrm-nouveau2:amd64 (2.4.97-1) ...\nSelecting previously unselected package libdrm-radeon1:amd64.\nPreparing to unpack .../086-libdrm-radeon1_2.4.97-1_amd64.deb ...\nUnpacking libdrm-radeon1:amd64 (2.4.97-1) ...\nSelecting previously unselected package libllvm7:amd64.\nPreparing to unpack .../087-libllvm7_1%3a7.0.1-8+deb10u2_amd64.deb ...\n\u001b7\u001b[24;0f\u001b[42m\u001b[30mProgress: [ 34%]\u001b[49m\u001b[39m [###################.......................................] \u001b8Unpacking libllvm7:amd64 (1:7.0.1-8+deb10u2) ...\nSelecting previously unselected package libsensors-config.\nPreparing to unpack .../088-libsensors-config_1%3a3.5.0-3_all.deb ...\nUnpacking libsensors-config (1:3.5.0-3) ...\nSelecting previously unselected package libsensors5:amd64.\nPreparing to unpack .../089-libsensors5_1%3a3.5.0-3_amd64.deb ...\nUnpacking libsensors5:amd64 (1:3.5.0-3) ...\n\u001b7\u001b[24;0f\u001b[42m\u001b[30mProgress: [ 35%]\u001b[49m\u001b[39m [####################......................................] \u001b8Selecting previously unselected package libgl1-mesa-dri:amd64.\nPreparing to unpack .../090-libgl1-mesa-dri_18.3.6-2+deb10u1_amd64.deb ...\nUnpacking libgl1-mesa-dri:amd64 (18.3.6-2+deb10u1) ...\nSelecting previously unselected package libglx-mesa0:amd64.\nPreparing to unpack .../091-libglx-mesa0_18.3.6-2+deb10u1_amd64.deb ...\nUnpacking libglx-mesa0:amd64 (18.3.6-2+deb10u1) ...\nSelecting previously unselected package libglx0:amd64.\nPreparing to unpack .../092-libglx0_1.1.0-1_amd64.deb ...\n\u001b7\u001b[24;0f\u001b[42m\u001b[30mProgress: [ 36%]\u001b[49m\u001b[39m [####################......................................] \u001b8Unpacking libglx0:amd64 (1.1.0-1) ...\nSelecting previously unselected package libgl1:amd64.\nPreparing to unpack .../093-libgl1_1.1.0-1_amd64.deb ...\nUnpacking libgl1:amd64 (1.1.0-1) ...\nSelecting previously unselected package libiec61883-0:amd64.\nPreparing to unpack .../094-libiec61883-0_1.2.0-3_amd64.deb ...\nUnpacking libiec61883-0:amd64 (1.2.0-3) ...\n\u001b7\u001b[24;0f\u001b[42m\u001b[30mProgress: [ 37%]\u001b[49m\u001b[39m [#####################.....................................] \u001b8Selecting previously unselected package libjack-jackd2-0:amd64.\nPreparing to unpack .../095-libjack-jackd2-0_1.9.12~dfsg-2_amd64.deb ...\nUnpacking libjack-jackd2-0:amd64 (1.9.12~dfsg-2) ...\nSelecting previously unselected package libopenal-data.\nPreparing to unpack .../096-libopenal-data_1%3a1.19.1-1_all.deb ...\nUnpacking libopenal-data (1:1.19.1-1) ...\nSelecting previously unselected package libsndio7.0:amd64.\nPreparing to unpack .../097-libsndio7.0_1.5.0-3_amd64.deb ...\n\u001b7\u001b[24;0f\u001b[42m\u001b[30mProgress: [ 38%]\u001b[49m\u001b[39m [######################....................................] \u001b8Unpacking libsndio7.0:amd64 (1.5.0-3) ...\nSelecting previously unselected package libopenal1:amd64.\nPreparing to unpack .../098-libopenal1_1%3a1.19.1-1_amd64.deb ...\nUnpacking libopenal1:amd64 (1:1.19.1-1) ...\nSelecting previously unselected package libasyncns0:amd64.\nPreparing to unpack .../099-libasyncns0_0.8-6_amd64.deb ...\nUnpacking libasyncns0:amd64 (0.8-6) ...\nSelecting previously unselected package libcap2:amd64.\nPreparing to unpack .../100-libcap2_1%3a2.25-2_amd64.deb ...\n\u001b7\u001b[24;0f\u001b[42m\u001b[30mProgress: [ 39%]\u001b[49m\u001b[39m [######################....................................] \u001b8Unpacking libcap2:amd64 (1:2.25-2) ...\nSelecting previously unselected package libflac8:amd64.\nPreparing to unpack .../101-libflac8_1.3.2-3_amd64.deb ...\nUnpacking libflac8:amd64 (1.3.2-3) ...\nSelecting previously unselected package libsndfile1:amd64.\nPreparing to unpack .../102-libsndfile1_1.0.28-6_amd64.deb ...\nUnpacking libsndfile1:amd64 (1.0.28-6) ...\n\u001b7\u001b[24;0f\u001b[42m\u001b[30mProgress: [ 40%]\u001b[49m\u001b[39m [#######################...................................] \u001b8Selecting previously unselected package libxtst6:amd64.\nPreparing to unpack .../103-libxtst6_2%3a1.2.3-1_amd64.deb ...\nUnpacking libxtst6:amd64 (2:1.2.3-1) ...\nSelecting previously unselected package libpulse0:amd64.\nPreparing to unpack .../104-libpulse0_12.2-4+deb10u1_amd64.deb ...\nUnpacking libpulse0:amd64 (12.2-4+deb10u1) ...\nSelecting previously unselected package libwayland-client0:amd64.\nPreparing to unpack .../105-libwayland-client0_1.16.0-1_amd64.deb ...\n\u001b7\u001b[24;0f\u001b[42m\u001b[30mProgress: [ 41%]\u001b[49m\u001b[39m [#######################...................................] \u001b8Unpacking libwayland-client0:amd64 (1.16.0-1) ...\nSelecting previously unselected package libwayland-cursor0:amd64.\nPreparing to unpack .../106-libwayland-cursor0_1.16.0-1_amd64.deb ...\nUnpacking libwayland-cursor0:amd64 (1.16.0-1) ...\nSelecting previously unselected package libwayland-egl1:amd64.\nPreparing to unpack .../107-libwayland-egl1_1.16.0-1_amd64.deb ...\nUnpacking libwayland-egl1:amd64 (1.16.0-1) ...\n\u001b7\u001b[24;0f\u001b[42m\u001b[30mProgress: [ 42%]\u001b[49m\u001b[39m [########################..................................] \u001b8Selecting previously unselected package xkb-data.\nPreparing to unpack .../108-xkb-data_2.26-2_all.deb ...\nUnpacking xkb-data (2.26-2) ...\nSelecting previously unselected package libxkbcommon0:amd64.\nPreparing to unpack .../109-libxkbcommon0_0.8.2-1_amd64.deb ...\nUnpacking libxkbcommon0:amd64 (0.8.2-1) ...\nSelecting previously unselected package libxss1:amd64.\nPreparing to unpack .../110-libxss1_1%3a1.2.3-1_amd64.deb ...\n\u001b7\u001b[24;0f\u001b[42m\u001b[30mProgress: [ 43%]\u001b[49m\u001b[39m [########################..................................] \u001b8Unpacking libxss1:amd64 (1:1.2.3-1) ...\nSelecting previously unselected package libsdl2-2.0-0:amd64.\nPreparing to unpack .../111-libsdl2-2.0-0_2.0.9+dfsg1-1_amd64.deb ...\nUnpacking libsdl2-2.0-0:amd64 (2.0.9+dfsg1-1) ...\nSelecting previously unselected package libxcb-shape0:amd64.\nPreparing to unpack .../112-libxcb-shape0_1.13.1-2_amd64.deb ...\nUnpacking libxcb-shape0:amd64 (1.13.1-2) ...\n\u001b7\u001b[24;0f\u001b[42m\u001b[30mProgress: [ 44%]\u001b[49m\u001b[39m [#########################.................................] \u001b8Selecting previously unselected package libxcb-xfixes0:amd64.\nPreparing to unpack .../113-libxcb-xfixes0_1.13.1-2_amd64.deb ...\nUnpacking libxcb-xfixes0:amd64 (1.13.1-2) ...\nSelecting previously unselected package libxv1:amd64.\nPreparing to unpack .../114-libxv1_2%3a1.0.11-1_amd64.deb ...\nUnpacking libxv1:amd64 (2:1.0.11-1) ...\nSelecting previously unselected package libavdevice58:amd64.\nPreparing to unpack .../115-libavdevice58_7%3a4.1.6-1~deb10u1_amd64.deb ...\n\u001b7\u001b[24;0f\u001b[42m\u001b[30mProgress: [ 45%]\u001b[49m\u001b[39m [##########################................................] \u001b8Unpacking libavdevice58:amd64 (7:4.1.6-1~deb10u1) ...\nSelecting previously unselected package libavresample4:amd64.\nPreparing to unpack .../116-libavresample4_7%3a4.1.6-1~deb10u1_amd64.deb ...\nUnpacking libavresample4:amd64 (7:4.1.6-1~deb10u1) ...\nSelecting previously unselected package ffmpeg.\nPreparing to unpack .../117-ffmpeg_7%3a4.1.6-1~deb10u1_amd64.deb ...\nUnpacking ffmpeg (7:4.1.6-1~deb10u1) ...\n\u001b7\u001b[24;0f\u001b[42m\u001b[30mProgress: [ 46%]\u001b[49m\u001b[39m [##########################................................] \u001b8Selecting previously unselected package i965-va-driver:amd64.\nPreparing to unpack .../118-i965-va-driver_2.3.0+dfsg1-1_amd64.deb ...\nUnpacking i965-va-driver:amd64 (2.3.0+dfsg1-1) ...\nSelecting previously unselected package libigdgmm5:amd64.\nPreparing to unpack .../119-libigdgmm5_18.4.1+ds1-1_amd64.deb ...\nUnpacking libigdgmm5:amd64 (18.4.1+ds1-1) ...\nSelecting previously unselected package intel-media-va-driver:amd64.\nPreparing to unpack .../120-intel-media-va-driver_18.4.1+dfsg1-1_amd64.deb ...\nUnpacking intel-media-va-driver:amd64 (18.4.1+dfsg1-1) ...\n\u001b7\u001b[24;0f\u001b[42m\u001b[30mProgress: [ 47%]\u001b[49m\u001b[39m [###########################...............................] \u001b8Selecting previously unselected package libaacs0:amd64.\nPreparing to unpack .../121-libaacs0_0.9.0-2_amd64.deb ...\nUnpacking libaacs0:amd64 (0.9.0-2) ...\nSelecting previously unselected package libbdplus0:amd64.\nPreparing to unpack .../122-libbdplus0_0.1.2-3_amd64.deb ...\nUnpacking libbdplus0:amd64 (0.1.2-3) ...\nSelecting previously unselected package libvdpau-va-gl1:amd64.\nPreparing to unpack .../123-libvdpau-va-gl1_0.4.2-1+b1_amd64.deb ...\n\u001b7\u001b[24;0f\u001b[42m\u001b[30mProgress: [ 48%]\u001b[49m\u001b[39m [###########################...............................] \u001b8Unpacking libvdpau-va-gl1:amd64 (0.4.2-1+b1) ...\nSelecting previously unselected package mesa-va-drivers:amd64.\nPreparing to unpack .../124-mesa-va-drivers_18.3.6-2+deb10u1_amd64.deb ...\nUnpacking mesa-va-drivers:amd64 (18.3.6-2+deb10u1) ...\nSelecting previously unselected package mesa-vdpau-drivers:amd64.\nPreparing to unpack .../125-mesa-vdpau-drivers_18.3.6-2+deb10u1_amd64.deb ...\nUnpacking mesa-vdpau-drivers:amd64 (18.3.6-2+deb10u1) ...\n\u001b7\u001b[24;0f\u001b[42m\u001b[30mProgress: [ 49%]\u001b[49m\u001b[39m [############################..............................] \u001b8Selecting previously unselected package va-driver-all:amd64.\nPreparing to unpack .../126-va-driver-all_2.4.0-1_amd64.deb ...\nUnpacking va-driver-all:amd64 (2.4.0-1) ...\nSelecting previously unselected package vdpau-driver-all:amd64.\nPreparing to unpack .../127-vdpau-driver-all_1.1.1-10_amd64.deb ...\nUnpacking vdpau-driver-all:amd64 (1.1.1-10) ...\nSetting up libgme0:amd64 (0.6.2-1) ...\n\u001b7\u001b[24;0f\u001b[42m\u001b[30mProgress: [ 50%]\u001b[49m\u001b[39m [#############################.............................] \u001b8Setting up libssh-gcrypt-4:amd64 (0.8.7-1+deb10u1) ...\nSetting up libxcb-dri3-0:amd64 (1.13.1-2) ...\n\u001b7\u001b[24;0f\u001b[42m\u001b[30mProgress: [ 51%]\u001b[49m\u001b[39m [#############################.............................] \u001b8Setting up libigdgmm5:amd64 (18.4.1+ds1-1) ...\nSetting up libx11-xcb1:amd64 (2:1.6.7-1+deb10u1) ...\nSetting up libpciaccess0:amd64 (0.14-1) ...\n\u001b7\u001b[24;0f\u001b[42m\u001b[30mProgress: [ 52%]\u001b[49m\u001b[39m [##############################............................] \u001b8Setting up libraw1394-11:amd64 (2.1.2-1+b1) ...\nSetting up libsodium23:amd64 (1.0.17-1) ...\n\u001b7\u001b[24;0f\u001b[42m\u001b[30mProgress: [ 53%]\u001b[49m\u001b[39m [##############################............................] \u001b8Setting up libmpg123-0:amd64 (1.25.10-2) ...\nSetting up libxcb-xfixes0:amd64 (1.13.1-2) ...\nSetting up libogg0:amd64 (1.3.2-1+b1) ...\n\u001b7\u001b[24;0f\u001b[42m\u001b[30mProgress: [ 54%]\u001b[49m\u001b[39m [###############################...........................] \u001b8Setting up libspeex1:amd64 (1.2~rc1.2-1+b2) ...\nSetting up libshine3:amd64 (3.1.1-2) ...\nSetting up libtwolame0:amd64 (0.3.13-4) ...\n\u001b7\u001b[24;0f\u001b[42m\u001b[30mProgress: [ 55%]\u001b[49m\u001b[39m [###############################...........................] \u001b8Setting up libgsm1:amd64 (1.0.18-2) ...\nSetting up libx264-155:amd64 (2:0.155.2917+git0a84d98-2) ...\n\u001b7\u001b[24;0f\u001b[42m\u001b[30mProgress: [ 56%]\u001b[49m\u001b[39m [################################..........................] \u001b8Setting up libsoxr0:amd64 (0.1.2-3) ...\nSetting up libglvnd0:amd64 (1.1.0-1) ...\nSetting up libxtst6:amd64 (2:1.2.3-1) ...\n\u001b7\u001b[24;0f\u001b[42m\u001b[30mProgress: [ 57%]\u001b[49m\u001b[39m [#################################.........................] \u001b8Setting up libxcb-glx0:amd64 (1.13.1-2) ...\nSetting up libaom0:amd64 (1.0.0-3) ...\n\u001b7\u001b[24;0f\u001b[42m\u001b[30mProgress: [ 58%]\u001b[49m\u001b[39m [#################################.........................] \u001b8Setting up libcodec2-0.8.1:amd64 (0.8.1-2) ...\nSetting up libnorm1:amd64 (1.5.8+dfsg2-1) ...\nSetting up libxcb-shape0:amd64 (1.13.1-2) ...\n\u001b7\u001b[24;0f\u001b[42m\u001b[30mProgress: [ 59%]\u001b[49m\u001b[39m [##################################........................] \u001b8Setting up libsensors-config (1:3.5.0-3) ...\nSetting up libcdio18:amd64 (2.0.0-2) ...\n\u001b7\u001b[24;0f\u001b[42m\u001b[30mProgress: [ 60%]\u001b[49m\u001b[39m [##################################........................] \u001b8Setting up xkb-data (2.26-2) ...\nSetting up libmysofa0:amd64 (0.6~dfsg0-3+deb10u1) ...\nSetting up libcrystalhd3:amd64 (1:0.0~git20110715.fdd2f19-13) ...\n\u001b7\u001b[24;0f\u001b[42m\u001b[30mProgress: [ 61%]\u001b[49m\u001b[39m [###################################.......................] \u001b8Setting up libxvidcore4:amd64 (2:1.3.5-1) ...\nSetting up libcap2:amd64 (1:2.25-2) ...\nSetting up libxxf86vm1:amd64 (1:1.1.4-1+b2) ...\n\u001b7\u001b[24;0f\u001b[42m\u001b[30mProgress: [ 62%]\u001b[49m\u001b[39m [####################################......................] \u001b8Setting up libsnappy1v5:amd64 (1.1.7-1) ...\nSetting up libflac8:amd64 (1.3.2-3) ...\n\u001b7\u001b[24;0f\u001b[42m\u001b[30mProgress: [ 63%]\u001b[49m\u001b[39m [####################################......................] \u001b8Setting up libxcb-present0:amd64 (1.13.1-2) ...\nSetting up libasound2-data (1.1.8-1) ...\nSetting up libass9:amd64 (1:0.14.0-2) ...\n\u001b7\u001b[24;0f\u001b[42m\u001b[30mProgress: [ 64%]\u001b[49m\u001b[39m [#####################################.....................] \u001b8Setting up libslang2:amd64 (2.3.2-2) ...\nSetting up libva2:amd64 (2.4.0-1) ...\n\u001b7\u001b[24;0f\u001b[42m\u001b[30mProgress: [ 65%]\u001b[49m\u001b[39m [#####################################.....................] \u001b8Setting up libxcb-sync1:amd64 (1.13.1-2) ...\nSetting up libopus0:amd64 (1.3-1) ...\nSetting up intel-media-va-driver:amd64 (18.4.1+dfsg1-1) ...\n\u001b7\u001b[24;0f\u001b[42m\u001b[30mProgress: [ 66%]\u001b[49m\u001b[39m [######################################....................] \u001b8Setting up libxv1:amd64 (2:1.0.11-1) ...\nSetting up libvorbis0a:amd64 (1.3.6-2) ...\n\u001b7\u001b[24;0f\u001b[42m\u001b[30mProgress: [ 67%]\u001b[49m\u001b[39m [######################################....................] \u001b8Setting up libsensors5:amd64 (1:3.5.0-3) ...\nSetting up libaacs0:amd64 (0.9.0-2) ...\nSetting up libfftw3-double3:amd64 (3.3.8-2) ...\n\u001b7\u001b[24;0f\u001b[42m\u001b[30mProgress: [ 68%]\u001b[49m\u001b[39m [#######################################...................] \u001b8Setting up libglapi-mesa:amd64 (18.3.6-2+deb10u1) ...\nSetting up libxcb-dri2-0:amd64 (1.13.1-2) ...\n\u001b7\u001b[24;0f\u001b[42m\u001b[30mProgress: [ 69%]\u001b[49m\u001b[39m [########################################..................] \u001b8Setting up libbdplus0:amd64 (0.1.2-3) ...\nSetting up libnuma1:amd64 (2.0.12-1) ...\nSetting up libvidstab1.1:amd64 (1.1.0-2) ...\n\u001b7\u001b[24;0f\u001b[42m\u001b[30mProgress: [ 70%]\u001b[49m\u001b[39m [########################################..................] \u001b8Setting up libasyncns0:amd64 (0.8-6) ...\nSetting up libxshmfence1:amd64 (1.3-1) ...\nSetting up libvdpau1:amd64 (1.1.1-10) ...\n\u001b7\u001b[24;0f\u001b[42m\u001b[30mProgress: [ 71%]\u001b[49m\u001b[39m [#########################################.................] \u001b8Setting up libwavpack1:amd64 (5.1.0-6) ...\nSetting up libbs2b0:amd64 (3.1.0+dfsg-2.2) ...\n\u001b7\u001b[24;0f\u001b[42m\u001b[30mProgress: [ 72%]\u001b[49m\u001b[39m [#########################################.................] \u001b8Setting up libtheora0:amd64 (1.1.1+dfsg.1-15) ...\nSetting up libasound2:amd64 (1.1.8-1) ...\nSetting up libopenjp2-7:amd64 (2.3.0-2+deb10u2) ...\n\u001b7\u001b[24;0f\u001b[42m\u001b[30mProgress: [ 73%]\u001b[49m\u001b[39m [##########################################................] \u001b8Setting up libllvm7:amd64 (1:7.0.1-8+deb10u2) ...\nSetting up libopenal-data (1:1.19.1-1) ...\n\u001b7\u001b[24;0f\u001b[42m\u001b[30mProgress: [ 74%]\u001b[49m\u001b[39m [##########################################................] \u001b8Setting up libwayland-egl1:amd64 (1.16.0-1) ...\nSetting up libxss1:amd64 (1:1.2.3-1) ...\nSetting up libusb-1.0-0:amd64 (2:1.0.22-2) ...\n\u001b7\u001b[24;0f\u001b[42m\u001b[30mProgress: [ 75%]\u001b[49m\u001b[39m [###########################################...............] \u001b8Setting up libbluray2:amd64 (1:1.1.0-1) ...\nSetting up libsamplerate0:amd64 (0.1.9-2) ...\n\u001b7\u001b[24;0f\u001b[42m\u001b[30mProgress: [ 76%]\u001b[49m\u001b[39m [############################################..............] \u001b8Setting up libwebpmux3:amd64 (0.6.1-2) ...\nSetting up libdrm-common (2.4.97-1) ...\nSetting up libzvbi-common (0.2.35-16) ...\n\u001b7\u001b[24;0f\u001b[42m\u001b[30mProgress: [ 77%]\u001b[49m\u001b[39m [############################################..............] \u001b8Setting up libmp3lame0:amd64 (3.100-2+b1) ...\nSetting up libvpx5:amd64 (1.7.0-3+deb10u1) ...\nSetting up libvorbisenc2:amd64 (1.3.6-2) ...\n\u001b7\u001b[24;0f\u001b[42m\u001b[30mProgress: [ 78%]\u001b[49m\u001b[39m [#############################################.............] \u001b8Setting up libpgm-5.2-0:amd64 (5.2.122~dfsg-3) ...\nSetting up libiec61883-0:amd64 (1.2.0-3) ...\n\u001b7\u001b[24;0f\u001b[42m\u001b[30mProgress: [ 79%]\u001b[49m\u001b[39m [#############################################.............] \u001b8Setting up libserd-0-0:amd64 (0.28.0~dfsg0-1) ...\nSetting up libxkbcommon0:amd64 (0.8.2-1) ...\nSetting up libwayland-client0:amd64 (1.16.0-1) ...\n\u001b7\u001b[24;0f\u001b[42m\u001b[30mProgress: [ 80%]\u001b[49m\u001b[39m [##############################################............] \u001b8Setting up libavc1394-0:amd64 (0.5.4-5) ...\nSetting up libzvbi0:amd64 (0.2.35-16) ...\n\u001b7\u001b[24;0f\u001b[42m\u001b[30mProgress: [ 81%]\u001b[49m\u001b[39m [###############################################...........] \u001b8Setting up libzmq5:amd64 (4.3.1-4+deb10u2) ...\nSetting up libcaca0:amd64 (0.99.beta19-2.1) ...\nSetting up libcdio-cdda2:amd64 (10.2+0.94+2-4) ...\n\u001b7\u001b[24;0f\u001b[42m\u001b[30mProgress: [ 82%]\u001b[49m\u001b[39m [###############################################...........] \u001b8Setting up libx265-165:amd64 (2.9-4) ...\nSetting up libcdio-paranoia2:amd64 (10.2+0.94+2-4) ...\n\u001b7\u001b[24;0f\u001b[42m\u001b[30mProgress: [ 83%]\u001b[49m\u001b[39m [################################################..........] \u001b8Setting up libdc1394-22:amd64 (2.2.5-1) ...\nSetting up libvorbisfile3:amd64 (1.3.6-2) ...\nSetting up librubberband2:amd64 (1.8.1-7) ...\n\u001b7\u001b[24;0f\u001b[42m\u001b[30mProgress: [ 84%]\u001b[49m\u001b[39m [################################################..........] \u001b8Setting up libsndio7.0:amd64 (1.5.0-3) ...\nSetting up libjack-jackd2-0:amd64 (1.9.12~dfsg-2) ...\nSetting up libdrm2:amd64 (2.4.97-1) ...\n\u001b7\u001b[24;0f\u001b[42m\u001b[30mProgress: [ 85%]\u001b[49m\u001b[39m [#################################################.........] \u001b8Setting up libflite1:amd64 (2.1-release-3) ...\nSetting up libva-drm2:amd64 (2.4.0-1) ...\n\u001b7\u001b[24;0f\u001b[42m\u001b[30mProgress: [ 86%]\u001b[49m\u001b[39m [#################################################.........] \u001b8Setting up libsord-0-0:amd64 (0.16.0~dfsg0-1+b1) ...\nSetting up libwayland-cursor0:amd64 (1.16.0-1) ...\nSetting up libsratom-0-0:amd64 (0.6.0~dfsg0-1) ...\n\u001b7\u001b[24;0f\u001b[42m\u001b[30mProgress: [ 87%]\u001b[49m\u001b[39m [##################################################........] \u001b8Setting up libsndfile1:amd64 (1.0.28-6) ...\nSetting up libva-x11-2:amd64 (2.4.0-1) ...\n\u001b7\u001b[24;0f\u001b[42m\u001b[30mProgress: [ 88%]\u001b[49m\u001b[39m [###################################################.......] \u001b8Setting up liblilv-0-0:amd64 (0.24.2~dfsg0-2) ...\nSetting up libopenmpt0:amd64 (0.4.3-1+deb10u1) ...\nSetting up libdrm-amdgpu1:amd64 (2.4.97-1) ...\n\u001b7\u001b[24;0f\u001b[42m\u001b[30mProgress: [ 89%]\u001b[49m\u001b[39m [###################################################.......] \u001b8Setting up libdrm-nouveau2:amd64 (2.4.97-1) ...\nSetting up libpulse0:amd64 (12.2-4+deb10u1) ...\n\u001b7\u001b[24;0f\u001b[42m\u001b[30mProgress: [ 90%]\u001b[49m\u001b[39m [####################################################......] \u001b8Setting up libdrm-radeon1:amd64 (2.4.97-1) ...\nSetting up libdrm-intel1:amd64 (2.4.97-1) ...\nSetting up libgl1-mesa-dri:amd64 (18.3.6-2+deb10u1) ...\n\u001b7\u001b[24;0f\u001b[42m\u001b[30mProgress: [ 91%]\u001b[49m\u001b[39m [####################################################......] \u001b8Setting up libopenal1:amd64 (1:1.19.1-1) ...\nSetting up libavutil56:amd64 (7:4.1.6-1~deb10u1) ...\n\u001b7\u001b[24;0f\u001b[42m\u001b[30mProgress: [ 92%]\u001b[49m\u001b[39m [#####################################################.....] \u001b8Setting up libpostproc55:amd64 (7:4.1.6-1~deb10u1) ...\nSetting up libswscale5:amd64 (7:4.1.6-1~deb10u1) ...\nSetting up mesa-va-drivers:amd64 (18.3.6-2+deb10u1) ...\n\u001b7\u001b[24;0f\u001b[42m\u001b[30mProgress: [ 93%]\u001b[49m\u001b[39m [######################################################....] \u001b8Setting up libsdl2-2.0-0:amd64 (2.0.9+dfsg1-1) ...\nSetting up i965-va-driver:amd64 (2.3.0+dfsg1-1) ...\nSetting up mesa-vdpau-drivers:amd64 (18.3.6-2+deb10u1) ...\n\u001b7\u001b[24;0f\u001b[42m\u001b[30mProgress: [ 94%]\u001b[49m\u001b[39m [######################################################....] \u001b8Setting up libglx-mesa0:amd64 (18.3.6-2+deb10u1) ...\nSetting up libglx0:amd64 (1.1.0-1) ...\n\u001b7\u001b[24;0f\u001b[42m\u001b[30mProgress: [ 95%]\u001b[49m\u001b[39m [#######################################################...] \u001b8Setting up libswresample3:amd64 (7:4.1.6-1~deb10u1) ...\nSetting up libavresample4:amd64 (7:4.1.6-1~deb10u1) ...\nSetting up libgl1:amd64 (1.1.0-1) ...\n\u001b7\u001b[24;0f\u001b[42m\u001b[30mProgress: [ 96%]\u001b[49m\u001b[39m [#######################################################...] \u001b8Setting up va-driver-all:amd64 (2.4.0-1) ...\nSetting up libavcodec58:amd64 (7:4.1.6-1~deb10u1) ...\n\u001b7\u001b[24;0f\u001b[42m\u001b[30mProgress: [ 97%]\u001b[49m\u001b[39m [########################################################..] \u001b8Setting up libvdpau-va-gl1:amd64 (0.4.2-1+b1) ...\nSetting up libchromaprint1:amd64 (1.4.3-3) ...\nSetting up libavformat58:amd64 (7:4.1.6-1~deb10u1) ...\n\u001b7\u001b[24;0f\u001b[42m\u001b[30mProgress: [ 98%]\u001b[49m\u001b[39m [########################################################..] \u001b8Setting up vdpau-driver-all:amd64 (1.1.1-10) ...\nSetting up libavfilter7:amd64 (7:4.1.6-1~deb10u1) ...\n\u001b7\u001b[24;0f\u001b[42m\u001b[30mProgress: [ 99%]\u001b[49m\u001b[39m [#########################################################.] \u001b8Setting up libavdevice58:amd64 (7:4.1.6-1~deb10u1) ...\nSetting up ffmpeg (7:4.1.6-1~deb10u1) ...\nProcessing triggers for libc-bin (2.28-10) ...\n\n\u001b7\u001b[0;24r\u001b8\u001b[1A\u001b[JRequirement already satisfied: opencv-python in /root/venv/lib/python3.7/site-packages (4.5.1.48)\nRequirement already satisfied: numpy>=1.14.5 in /shared-libs/python3.7/py/lib/python3.7/site-packages (from opencv-python) (1.19.5)\nRequirement already satisfied: pip in /root/venv/lib/python3.7/site-packages (21.0.1)\n",
          "output_type": "stream"
        }
      ]
    },
    {
      "cell_type": "code",
      "metadata": {
        "tags": [],
        "cell_id": "00002-1a2f0d32-0af7-4d40-8553-20e881c36c1e",
        "deepnote_to_be_reexecuted": false,
        "source_hash": "52b96ab5",
        "execution_millis": 2322,
        "execution_start": 1619083164073,
        "deepnote_cell_type": "code"
      },
      "source": "import numpy as np\nimport matplotlib.pyplot as plt\nimport os \nimport fyp2021p3_group00_functions as util\nimport pandas as pd\nfrom skimage import morphology\nfrom skimage import filters\nfrom skimage.morphology import opening\nimport cv2\nfrom sklearn.model_selection import train_test_split\nfrom skimage.exposure import is_low_contrast\nfrom scipy.ndimage import rotate",
      "execution_count": 2,
      "outputs": []
    },
    {
      "cell_type": "markdown",
      "source": "## Functions",
      "metadata": {
        "tags": [],
        "cell_id": "00003-3ef04e4d-5679-4eaa-ad42-5982c70f8a5e",
        "deepnote_cell_type": "markdown"
      }
    },
    {
      "cell_type": "code",
      "metadata": {
        "tags": [],
        "cell_id": "00004-1975218a-b0ce-4d72-a33a-94c154720b9b",
        "deepnote_to_be_reexecuted": false,
        "source_hash": "c253d1eb",
        "execution_millis": 3,
        "execution_start": 1619083166398,
        "deepnote_cell_type": "code"
      },
      "source": "def check_quality(dictionary_, image_id_jpg):\n    \n    \"\"\" A Function that returns the number of pixels in an image that can\n    be used to check whether the image is low or high quality\"\"\"\n\n    im = plt.imread(dictionary_[image_id_jpg])\n    resolution = im.shape\n    num_of_pixels = resolution[0]*resolution[1]\n    return num_of_pixels",
      "execution_count": 3,
      "outputs": []
    },
    {
      "cell_type": "code",
      "metadata": {
        "tags": [],
        "cell_id": "00006-c7ddd2f6-656e-4b3a-982e-c0961439b836",
        "deepnote_to_be_reexecuted": false,
        "source_hash": "cdd7de44",
        "execution_millis": 2,
        "execution_start": 1619083166408,
        "deepnote_cell_type": "code"
      },
      "source": "def low_quality_pictures(resolution, dictionary_):\n    not_fine = 0\n    fine = 0\n    popped_image = []\n\n    for i in dictionary_:   \n        x = check_quality(dictionary_, str(i))\n        if x >= resolution:\n            fine += 1\n        else: \n            not_fine += 1\n            popped_image.append(i)\n\n    # then we pop the images from the dictionary PICTURES that are low quality \n    for i in popped_image:\n        if i in dictionary_:\n            dictionary_.pop(i)\n\n    print('Fine: {0}, Not fine: {1}'.format(fine, not_fine))\n    print('Image popped from the dict: {0}'.format(popped_image))",
      "execution_count": 4,
      "outputs": []
    },
    {
      "cell_type": "code",
      "metadata": {
        "tags": [],
        "cell_id": "00006-be2760ff-fd69-4b14-9183-963d8e11ffc6",
        "deepnote_to_be_reexecuted": false,
        "source_hash": "749f68da",
        "execution_millis": 3,
        "execution_start": 1619083166416,
        "deepnote_cell_type": "code"
      },
      "source": "def bluriness(dictionary_):\n    \n    \"\"\"This function takes a dictionary and checks whether the images\n    in the dictionary are blurry or sharp and then removes the blurry images\n    from the dictionary.\"\"\"\n\n    blurry_images = []\n    not_blurry = 0\n    blurry = 0\n    for key, value in dictionary_.items():   \n        x = cv2.imread(str(value))\n        v = cv2.Laplacian(x, cv2.CV_64F).var()\n        if v > 10:\n            not_blurry += 1\n        else: \n            blurry += 1\n            blurry_images.append(key)\n\n# now we delete the images from the dictionary that are blurry\n    for i in blurry_images:\n        dictionary_.pop(i)\n        temp = str(i)\n        dictionary_.pop(temp[:-4]+\"_segmentation.png\")\n\n    print('Not Blurry: {0}'.format(not_blurry))\n    print('Blurry: {0}'.format(blurry))\n    print(\"Blurry Images: {0}\".format(blurry_images))",
      "execution_count": 5,
      "outputs": []
    },
    {
      "cell_type": "code",
      "metadata": {
        "tags": [],
        "cell_id": "00008-992dacaf-7bfa-430d-9812-69244c5d5cf7",
        "deepnote_to_be_reexecuted": false,
        "source_hash": "4967b90d",
        "execution_millis": 3,
        "execution_start": 1619083166421,
        "deepnote_cell_type": "code"
      },
      "source": "def contrast(dictionary_):\n\n    \"\"\" The function takes a dictionary of images with the path as a value \n\tto input and checks the contrast of the image\"\"\"\n\n    high = 0\n    low = 0\n    low_ = []\n    for key, value in dictionary_.items():\n        x = cv2.imread(str(value))\n        y = is_low_contrast(x)\n        if y == True:\n            low += 1\n            low_.append(key)\n        else:\n            high += 1\n            \n    #Removes the low contrast from the PICTURES\n    for i in low_:\n        dictionary_.pop(i)\n\n    print('Number of Images with High Contrast: {0}'.format(high))\n    print('Number of Images with Low Contrast: {0}'.format(low))\n    print(\"Images with Low Contrast: {0}\".format(low_))",
      "execution_count": 6,
      "outputs": []
    },
    {
      "cell_type": "code",
      "source": "def get_mask_size(mask):\n    \"\"\"Finding the min and max values for the mask\"\"\"\n    i, j = np.where(mask)\n\n    x_min = j.min()\n    x_max = j.max()\n    y_min = i.min()\n    y_max = i.max()\n    return x_min, x_max, y_min, y_max\n    ",
      "metadata": {
        "tags": [],
        "cell_id": "00009-fa972df8-d118-4494-ab58-744efc6f73bb",
        "deepnote_to_be_reexecuted": false,
        "source_hash": "22dd7c66",
        "execution_millis": 1,
        "execution_start": 1619083703909,
        "deepnote_cell_type": "code"
      },
      "outputs": [],
      "execution_count": 24
    },
    {
      "cell_type": "markdown",
      "source": "## Loading the data",
      "metadata": {
        "tags": [],
        "cell_id": "00004-4392844a-5173-4a9a-a8e7-2143ece5609b",
        "deepnote_cell_type": "markdown"
      }
    },
    {
      "cell_type": "code",
      "metadata": {
        "tags": [],
        "cell_id": "00005-6cd65a7a-98d6-45a3-9880-980e16c9e99b",
        "deepnote_to_be_reexecuted": false,
        "source_hash": "eab25ed3",
        "execution_millis": 166,
        "output_cleared": false,
        "execution_start": 1619083166434,
        "deepnote_cell_type": "code"
      },
      "source": "# First we make the path to the data\nPATH = {}\nPATH[\"data\"] =\"../data\"\n\n#print(PATH)\n#Then we load the path for all the diffirent as keys to their names.\nPICTURES = {}\nfor path, subdirs, files in os.walk(PATH[\"data\"]):\n    for picture in files:\n        # Making sure that we exclude the .csv from the dictionary, to only include images (ie. png and jpg files)\n        if not str(picture).count(\".csv\", (len(picture) - 4),len(picture)):\n            PICTURES[picture] = os.path.normpath(os.path.join(path, picture))\n\nprint(PICTURES)\n# Remove a last file from the PICTURES dictonary\nPICTURES.pop(\".DS_Store\")\n\nimages = pd.read_csv(\"../data/example_ground_truth.csv\")\nimages['id'] = images['image_id']\nimage_way = pd.DataFrame.from_dict(PICTURES, orient='index')\nimage_way['id'] = image_way.index\nfor number, name in enumerate(iterable = image_way['id']):\n    image_way['id'][number] = name[0:12]\nimage_merge = images.merge(image_way, left_on ='image_id' , right_on = 'id', how = 'outer')\nimage_merge['healthy'] = 1-image_merge['melanoma']-image_merge['seborrheic_keratosis']\nimage_merge = image_merge.rename(columns ={0: 'path'})\nimage_merge['mask'] = image_merge['path'].str.contains('png')\nimage_merge['raw'] = image_merge['path'].str.contains('jpg')\n# Reworking images to contain name and helath of all the images to use later.\nimages = images.dropna(axis=0)\nimages = images[images['seborrheic_keratosis']!= 1]\n",
      "execution_count": 7,
      "outputs": [
        {
          "name": "stdout",
          "text": "{'.DS_Store': '../data/example_image/.DS_Store', 'ISIC_0012222_segmentation.png': '../data/example_segmentation/ISIC_0012222_segmentation.png', 'ISIC_0007332_segmentation.png': '../data/example_segmentation/ISIC_0007332_segmentation.png', 'ISIC_0012746_segmentation.png': '../data/example_segmentation/ISIC_0012746_segmentation.png', 'ISIC_0013010_segmentation.png': '../data/example_segmentation/ISIC_0013010_segmentation.png', 'ISIC_0013215_segmentation.png': '../data/example_segmentation/ISIC_0013215_segmentation.png', 'ISIC_0003539_segmentation.png': '../data/example_segmentation/ISIC_0003539_segmentation.png', 'ISIC_0015372_segmentation.png': '../data/example_segmentation/ISIC_0015372_segmentation.png', 'ISIC_0014712_segmentation.png': '../data/example_segmentation/ISIC_0014712_segmentation.png', 'ISIC_0012660_segmentation.png': '../data/example_segmentation/ISIC_0012660_segmentation.png', 'ISIC_0013561_segmentation.png': '../data/example_segmentation/ISIC_0013561_segmentation.png', 'ISIC_0007528_segmentation.png': '../data/example_segmentation/ISIC_0007528_segmentation.png', 'ISIC_0012254_segmentation.png': '../data/example_segmentation/ISIC_0012254_segmentation.png', 'ISIC_0007344_segmentation.png': '../data/example_segmentation/ISIC_0007344_segmentation.png', 'ISIC_0007141_segmentation.png': '../data/example_segmentation/ISIC_0007141_segmentation.png', 'ISIC_0012956_segmentation.png': '../data/example_segmentation/ISIC_0012956_segmentation.png', 'ISIC_0014635_segmentation.png': '../data/example_segmentation/ISIC_0014635_segmentation.png', 'ISIC_0004337_segmentation.png': '../data/example_segmentation/ISIC_0004337_segmentation.png', 'ISIC_0014382_segmentation.png': '../data/example_segmentation/ISIC_0014382_segmentation.png', 'ISIC_0001871_segmentation.png': '../data/example_segmentation/ISIC_0001871_segmentation.png', 'ISIC_0014620_segmentation.png': '../data/example_segmentation/ISIC_0014620_segmentation.png', 'ISIC_0015313_segmentation.png': '../data/example_segmentation/ISIC_0015313_segmentation.png', 'ISIC_0008025_segmentation.png': '../data/example_segmentation/ISIC_0008025_segmentation.png', 'ISIC_0014623_segmentation.png': '../data/example_segmentation/ISIC_0014623_segmentation.png', 'ISIC_0015243_segmentation.png': '../data/example_segmentation/ISIC_0015243_segmentation.png', 'ISIC_0012306_segmentation.png': '../data/example_segmentation/ISIC_0012306_segmentation.png', 'ISIC_0012256_segmentation.png': '../data/example_segmentation/ISIC_0012256_segmentation.png', 'ISIC_0012160_segmentation.png': '../data/example_segmentation/ISIC_0012160_segmentation.png', 'ISIC_0014217_segmentation.png': '../data/example_segmentation/ISIC_0014217_segmentation.png', 'ISIC_0014608_segmentation.png': '../data/example_segmentation/ISIC_0014608_segmentation.png', 'ISIC_0007156_segmentation.png': '../data/example_segmentation/ISIC_0007156_segmentation.png', 'ISIC_0012313_segmentation.png': '../data/example_segmentation/ISIC_0012313_segmentation.png', 'ISIC_0015256_segmentation.png': '../data/example_segmentation/ISIC_0015256_segmentation.png', 'ISIC_0013637_segmentation.png': '../data/example_segmentation/ISIC_0013637_segmentation.png', 'ISIC_0013501_segmentation.png': '../data/example_segmentation/ISIC_0013501_segmentation.png', 'ISIC_0013562_segmentation.png': '../data/example_segmentation/ISIC_0013562_segmentation.png', 'ISIC_0013549_segmentation.png': '../data/example_segmentation/ISIC_0013549_segmentation.png', 'ISIC_0014038_segmentation.png': '../data/example_segmentation/ISIC_0014038_segmentation.png', 'ISIC_0014637_segmentation.png': '../data/example_segmentation/ISIC_0014637_segmentation.png', 'ISIC_0012221_segmentation.png': '../data/example_segmentation/ISIC_0012221_segmentation.png', 'ISIC_0003657_segmentation.png': '../data/example_segmentation/ISIC_0003657_segmentation.png', 'ISIC_0013421_segmentation.png': '../data/example_segmentation/ISIC_0013421_segmentation.png', 'ISIC_0012720_segmentation.png': '../data/example_segmentation/ISIC_0012720_segmentation.png', 'ISIC_0013491_segmentation.png': '../data/example_segmentation/ISIC_0013491_segmentation.png', 'ISIC_0014624_segmentation.png': '../data/example_segmentation/ISIC_0014624_segmentation.png', 'ISIC_0012159_segmentation.png': '../data/example_segmentation/ISIC_0012159_segmentation.png', 'ISIC_0013702_segmentation.png': '../data/example_segmentation/ISIC_0013702_segmentation.png', 'ISIC_0006671_segmentation.png': '../data/example_segmentation/ISIC_0006671_segmentation.png', 'ISIC_0001769_segmentation.png': '../data/example_segmentation/ISIC_0001769_segmentation.png', 'ISIC_0012417_segmentation.png': '../data/example_segmentation/ISIC_0012417_segmentation.png', 'ISIC_0014989_segmentation.png': '../data/example_segmentation/ISIC_0014989_segmentation.png', 'ISIC_0013127_segmentation.png': '../data/example_segmentation/ISIC_0013127_segmentation.png', 'ISIC_0012547_segmentation.png': '../data/example_segmentation/ISIC_0012547_segmentation.png', 'ISIC_0014211_segmentation.png': '../data/example_segmentation/ISIC_0014211_segmentation.png', 'ISIC_0008524_segmentation.png': '../data/example_segmentation/ISIC_0008524_segmentation.png', 'ISIC_0014857_segmentation.png': '../data/example_segmentation/ISIC_0014857_segmentation.png', 'ISIC_0013132_segmentation.png': '../data/example_segmentation/ISIC_0013132_segmentation.png', 'ISIC_0015043_segmentation.png': '../data/example_segmentation/ISIC_0015043_segmentation.png', 'ISIC_0012876_segmentation.png': '../data/example_segmentation/ISIC_0012876_segmentation.png', 'ISIC_0014618_segmentation.png': '../data/example_segmentation/ISIC_0014618_segmentation.png', 'ISIC_0014212_segmentation.png': '../data/example_segmentation/ISIC_0014212_segmentation.png', 'ISIC_0014809_segmentation.png': '../data/example_segmentation/ISIC_0014809_segmentation.png', 'ISIC_0014558_segmentation.png': '../data/example_segmentation/ISIC_0014558_segmentation.png', 'ISIC_0012316_segmentation.png': '../data/example_segmentation/ISIC_0012316_segmentation.png', 'ISIC_0015401_segmentation.png': '../data/example_segmentation/ISIC_0015401_segmentation.png', 'ISIC_0014633_segmentation.png': '../data/example_segmentation/ISIC_0014633_segmentation.png', 'ISIC_0013651_segmentation.png': '../data/example_segmentation/ISIC_0013651_segmentation.png', 'ISIC_0013632_segmentation.png': '../data/example_segmentation/ISIC_0013632_segmentation.png', 'ISIC_0012927_segmentation.png': '../data/example_segmentation/ISIC_0012927_segmentation.png', 'ISIC_0014572_segmentation.png': '../data/example_segmentation/ISIC_0014572_segmentation.png', 'ISIC_0014178_segmentation.png': '../data/example_segmentation/ISIC_0014178_segmentation.png', 'ISIC_0012400_segmentation.png': '../data/example_segmentation/ISIC_0012400_segmentation.png', 'ISIC_0013644_segmentation.png': '../data/example_segmentation/ISIC_0013644_segmentation.png', 'ISIC_0006815_segmentation.png': '../data/example_segmentation/ISIC_0006815_segmentation.png', 'ISIC_0007235_segmentation.png': '../data/example_segmentation/ISIC_0007235_segmentation.png', 'ISIC_0006914_segmentation.png': '../data/example_segmentation/ISIC_0006914_segmentation.png', 'ISIC_0012143_segmentation.png': '../data/example_segmentation/ISIC_0012143_segmentation.png', 'ISIC_0012380_segmentation.png': '../data/example_segmentation/ISIC_0012380_segmentation.png', 'ISIC_0014937_segmentation.png': '../data/example_segmentation/ISIC_0014937_segmentation.png', 'ISIC_0013663_segmentation.png': '../data/example_segmentation/ISIC_0013663_segmentation.png', 'ISIC_0014601_segmentation.png': '../data/example_segmentation/ISIC_0014601_segmentation.png', 'ISIC_0015496_segmentation.png': '../data/example_segmentation/ISIC_0015496_segmentation.png', 'ISIC_0007796_segmentation.png': '../data/example_segmentation/ISIC_0007796_segmentation.png', 'ISIC_0013128_segmentation.png': '../data/example_segmentation/ISIC_0013128_segmentation.png', 'ISIC_0003462_segmentation.png': '../data/example_segmentation/ISIC_0003462_segmentation.png', 'ISIC_0015445_segmentation.png': '../data/example_segmentation/ISIC_0015445_segmentation.png', 'ISIC_0015483_segmentation.png': '../data/example_segmentation/ISIC_0015483_segmentation.png', 'ISIC_0012191_segmentation.png': '../data/example_segmentation/ISIC_0012191_segmentation.png', 'ISIC_0003582_segmentation.png': '../data/example_segmentation/ISIC_0003582_segmentation.png', 'ISIC_0012109_segmentation.png': '../data/example_segmentation/ISIC_0012109_segmentation.png', 'ISIC_0012201_segmentation.png': '../data/example_segmentation/ISIC_0012201_segmentation.png', 'ISIC_0007241_segmentation.png': '../data/example_segmentation/ISIC_0007241_segmentation.png', 'ISIC_0014310_segmentation.png': '../data/example_segmentation/ISIC_0014310_segmentation.png', 'ISIC_0014985_segmentation.png': '../data/example_segmentation/ISIC_0014985_segmentation.png', 'ISIC_0014616_segmentation.png': '../data/example_segmentation/ISIC_0014616_segmentation.png', 'ISIC_0001852_segmentation.png': '../data/example_segmentation/ISIC_0001852_segmentation.png', 'ISIC_0012383_segmentation.png': '../data/example_segmentation/ISIC_0012383_segmentation.png', 'ISIC_0012684_segmentation.png': '../data/example_segmentation/ISIC_0012684_segmentation.png', 'ISIC_0013082_segmentation.png': '../data/example_segmentation/ISIC_0013082_segmentation.png', 'ISIC_0014162_segmentation.png': '../data/example_segmentation/ISIC_0014162_segmentation.png', 'ISIC_0014568_segmentation.png': '../data/example_segmentation/ISIC_0014568_segmentation.png', 'ISIC_0012288_segmentation.png': '../data/example_segmentation/ISIC_0012288_segmentation.png', 'ISIC_0014302_segmentation.png': '../data/example_segmentation/ISIC_0014302_segmentation.png', 'ISIC_0013518_segmentation.png': '../data/example_segmentation/ISIC_0013518_segmentation.png', 'ISIC_0010459_segmentation.png': '../data/example_segmentation/ISIC_0010459_segmentation.png', 'ISIC_0014139_segmentation.png': '../data/example_segmentation/ISIC_0014139_segmentation.png', 'ISIC_0013793_segmentation.png': '../data/example_segmentation/ISIC_0013793_segmentation.png', 'ISIC_0014610_segmentation.png': '../data/example_segmentation/ISIC_0014610_segmentation.png', 'ISIC_0012206_segmentation.png': '../data/example_segmentation/ISIC_0012206_segmentation.png', 'ISIC_0012335_segmentation.png': '../data/example_segmentation/ISIC_0012335_segmentation.png', 'ISIC_0013736_segmentation.png': '../data/example_segmentation/ISIC_0013736_segmentation.png', 'ISIC_0015627_segmentation.png': '../data/example_segmentation/ISIC_0015627_segmentation.png', 'ISIC_0012492_segmentation.png': '../data/example_segmentation/ISIC_0012492_segmentation.png', 'ISIC_0014945_segmentation.png': '../data/example_segmentation/ISIC_0014945_segmentation.png', 'ISIC_0013188_segmentation.png': '../data/example_segmentation/ISIC_0013188_segmentation.png', 'ISIC_0012959_segmentation.png': '../data/example_segmentation/ISIC_0012959_segmentation.png', 'ISIC_0013863_segmentation.png': '../data/example_segmentation/ISIC_0013863_segmentation.png', 'ISIC_0013527_segmentation.png': '../data/example_segmentation/ISIC_0013527_segmentation.png', 'ISIC_0006651_segmentation.png': '../data/example_segmentation/ISIC_0006651_segmentation.png', 'ISIC_0014597_segmentation.png': '../data/example_segmentation/ISIC_0014597_segmentation.png', 'ISIC_0003805_segmentation.png': '../data/example_segmentation/ISIC_0003805_segmentation.png', 'ISIC_0012099_segmentation.png': '../data/example_segmentation/ISIC_0012099_segmentation.png', 'ISIC_0013945_segmentation.png': '../data/example_segmentation/ISIC_0013945_segmentation.png', 'ISIC_0015124_segmentation.png': '../data/example_segmentation/ISIC_0015124_segmentation.png', 'ISIC_0014611_segmentation.png': '../data/example_segmentation/ISIC_0014611_segmentation.png', 'ISIC_0013828_segmentation.png': '../data/example_segmentation/ISIC_0013828_segmentation.png', 'ISIC_0015144_segmentation.png': '../data/example_segmentation/ISIC_0015144_segmentation.png', 'ISIC_0015211_segmentation.png': '../data/example_segmentation/ISIC_0015211_segmentation.png', 'ISIC_0012151_segmentation.png': '../data/example_segmentation/ISIC_0012151_segmentation.png', 'ISIC_0012538_segmentation.png': '../data/example_segmentation/ISIC_0012538_segmentation.png', 'ISIC_0015443_segmentation.png': '../data/example_segmentation/ISIC_0015443_segmentation.png', 'ISIC_0009995_segmentation.png': '../data/example_segmentation/ISIC_0009995_segmentation.png', 'ISIC_0012204_segmentation.png': '../data/example_segmentation/ISIC_0012204_segmentation.png', 'ISIC_0014055_segmentation.png': '../data/example_segmentation/ISIC_0014055_segmentation.png', 'ISIC_0012127_segmentation.png': '../data/example_segmentation/ISIC_0012127_segmentation.png', 'ISIC_0013898_segmentation.png': '../data/example_segmentation/ISIC_0013898_segmentation.png', 'ISIC_0015062_segmentation.png': '../data/example_segmentation/ISIC_0015062_segmentation.png', 'ISIC_0012513_segmentation.png': '../data/example_segmentation/ISIC_0012513_segmentation.png', 'ISIC_0014946_segmentation.png': '../data/example_segmentation/ISIC_0014946_segmentation.png', 'ISIC_0014428_segmentation.png': '../data/example_segmentation/ISIC_0014428_segmentation.png', 'ISIC_0012434_segmentation.png': '../data/example_segmentation/ISIC_0012434_segmentation.png', 'ISIC_0013232_segmentation.png': '../data/example_segmentation/ISIC_0013232_segmentation.png', 'ISIC_0014688_segmentation.png': '../data/example_segmentation/ISIC_0014688_segmentation.png', 'ISIC_0013104_segmentation.png': '../data/example_segmentation/ISIC_0013104_segmentation.png', 'ISIC_0014931_segmentation.png': '../data/example_segmentation/ISIC_0014931_segmentation.png', 'ISIC_0012965_segmentation.png': '../data/example_segmentation/ISIC_0012965_segmentation.png', 'ISIC_0012210_segmentation.png': '../data/example_segmentation/ISIC_0012210_segmentation.png', 'ISIC_0014979_segmentation.png': '../data/example_segmentation/ISIC_0014979_segmentation.png', 'ISIC_0012126_segmentation.png': '../data/example_segmentation/ISIC_0012126_segmentation.png', 'ISIC_0014037_segmentation.png': '../data/example_segmentation/ISIC_0014037_segmentation.png', 'ISIC_0014829_segmentation.png': '../data/example_segmentation/ISIC_0014829_segmentation.png', 'ISIC_0014601.jpg': '../data/example_image/ISIC_0014601.jpg', 'ISIC_0014809_superpixels.png': '../data/example_image/ISIC_0014809_superpixels.png', 'ISIC_0015372_superpixels.png': '../data/example_image/ISIC_0015372_superpixels.png', 'ISIC_0013561.jpg': '../data/example_image/ISIC_0013561.jpg', 'ISIC_0012288_superpixels.png': '../data/example_image/ISIC_0012288_superpixels.png', 'ISIC_0007241.jpg': '../data/example_image/ISIC_0007241.jpg', 'ISIC_0007156.jpg': '../data/example_image/ISIC_0007156.jpg', 'ISIC_0014608.jpg': '../data/example_image/ISIC_0014608.jpg', 'ISIC_0013702_superpixels.png': '../data/example_image/ISIC_0013702_superpixels.png', 'ISIC_0001871.jpg': '../data/example_image/ISIC_0001871.jpg', 'ISIC_0014212.jpg': '../data/example_image/ISIC_0014212.jpg', 'ISIC_0015483.jpg': '../data/example_image/ISIC_0015483.jpg', 'ISIC_0012160.jpg': '../data/example_image/ISIC_0012160.jpg', 'ISIC_0012417.jpg': '../data/example_image/ISIC_0012417.jpg', 'ISIC_0014989.jpg': '../data/example_image/ISIC_0014989.jpg', 'ISIC_0015496_superpixels.png': '../data/example_image/ISIC_0015496_superpixels.png', 'ISIC_0013663_superpixels.png': '../data/example_image/ISIC_0013663_superpixels.png', 'ISIC_0014558.jpg': '../data/example_image/ISIC_0014558.jpg', 'ISIC_0012313.jpg': '../data/example_image/ISIC_0012313.jpg', 'ISIC_0014139.jpg': '../data/example_image/ISIC_0014139.jpg', 'ISIC_0013132.jpg': '../data/example_image/ISIC_0013132.jpg', 'ISIC_0013644.jpg': '../data/example_image/ISIC_0013644.jpg', 'ISIC_0014633.jpg': '../data/example_image/ISIC_0014633.jpg', 'ISIC_0012127.jpg': '../data/example_image/ISIC_0012127.jpg', 'ISIC_0014809.jpg': '../data/example_image/ISIC_0014809.jpg', 'ISIC_0012221.jpg': '../data/example_image/ISIC_0012221.jpg', 'ISIC_0013215-20210416-085826.jpg': '../data/example_image/ISIC_0013215-20210416-085826.jpg', 'ISIC_0015372.jpg': '../data/example_image/ISIC_0015372.jpg', 'ISIC_0015256.jpg': '../data/example_image/ISIC_0015256.jpg', 'ISIC_0013518_superpixels.png': '../data/example_image/ISIC_0013518_superpixels.png', 'ISIC_0012959.jpg': '../data/example_image/ISIC_0012959.jpg', 'ISIC_0014688.jpg': '../data/example_image/ISIC_0014688.jpg', 'ISIC_0014979_superpixels.png': '../data/example_image/ISIC_0014979_superpixels.png', 'ISIC_0014946_superpixels.png': '../data/example_image/ISIC_0014946_superpixels.png', 'ISIC_0015062.jpg': '../data/example_image/ISIC_0015062.jpg', 'ISIC_0012254.jpg': '../data/example_image/ISIC_0012254.jpg', 'ISIC_0012143.jpg': '../data/example_image/ISIC_0012143.jpg', 'ISIC_0010459.jpg': '../data/example_image/ISIC_0010459.jpg', 'ISIC_0001852.jpg': '../data/example_image/ISIC_0001852.jpg', 'ISIC_0014829_superpixels.png': '../data/example_image/ISIC_0014829_superpixels.png', 'ISIC_0013945.jpg': '../data/example_image/ISIC_0013945.jpg', 'ISIC_0014382_superpixels.png': '../data/example_image/ISIC_0014382_superpixels.png', 'ISIC_0015211.jpg': '../data/example_image/ISIC_0015211.jpg', 'ISIC_0013828.jpg': '../data/example_image/ISIC_0013828.jpg', 'ISIC_0012434.jpg': '../data/example_image/ISIC_0012434.jpg', 'ISIC_0015627_superpixels.png': '../data/example_image/ISIC_0015627_superpixels.png', 'ISIC_0015443.jpg': '../data/example_image/ISIC_0015443.jpg', 'ISIC_0014712_superpixels.png': '../data/example_image/ISIC_0014712_superpixels.png', 'ISIC_0012965.jpg': '../data/example_image/ISIC_0012965.jpg', 'ISIC_0013736.jpg': '../data/example_image/ISIC_0013736.jpg', 'ISIC_0015124_superpixels.png': '../data/example_image/ISIC_0015124_superpixels.png', 'ISIC_0013421.jpg': '../data/example_image/ISIC_0013421.jpg', 'ISIC_0014572.jpg': '../data/example_image/ISIC_0014572.jpg', 'ISIC_0004337.jpg': '../data/example_image/ISIC_0004337.jpg', 'ISIC_0014037.jpg': '../data/example_image/ISIC_0014037.jpg', 'ISIC_0006651.jpg': '../data/example_image/ISIC_0006651.jpg', 'ISIC_0007528.jpg': '../data/example_image/ISIC_0007528.jpg', 'ISIC_0014610.jpg': '../data/example_image/ISIC_0014610.jpg', 'ISIC_0012513_superpixels.png': '../data/example_image/ISIC_0012513_superpixels.png', 'ISIC_0014635.jpg': '../data/example_image/ISIC_0014635.jpg', 'ISIC_0012126.jpg': '../data/example_image/ISIC_0012126.jpg', 'ISIC_0012547.jpg': '../data/example_image/ISIC_0012547.jpg', 'ISIC_0013010.jpg': '../data/example_image/ISIC_0013010.jpg', 'ISIC_0014217_superpixels.png': '../data/example_image/ISIC_0014217_superpixels.png', 'ISIC_0015627.jpg': '../data/example_image/ISIC_0015627.jpg', 'ISIC_0003539.jpg': '../data/example_image/ISIC_0003539.jpg', 'ISIC_0015211_superpixels.png': '../data/example_image/ISIC_0015211_superpixels.png', 'ISIC_0015144_superpixels.png': '../data/example_image/ISIC_0015144_superpixels.png', 'ISIC_0013637.jpg': '../data/example_image/ISIC_0013637.jpg', 'ISIC_0015124.jpg': '../data/example_image/ISIC_0015124.jpg', 'ISIC_0013527.jpg': '../data/example_image/ISIC_0013527.jpg', 'ISIC_0013549_superpixels.png': '../data/example_image/ISIC_0013549_superpixels.png', 'ISIC_0014302.jpg': '../data/example_image/ISIC_0014302.jpg', 'ISIC_0012383.jpg': '../data/example_image/ISIC_0012383.jpg', 'ISIC_0014178.jpg': '../data/example_image/ISIC_0014178.jpg', 'ISIC_0014945_superpixels.png': '../data/example_image/ISIC_0014945_superpixels.png', 'ISIC_0015313_superpixels.png': '../data/example_image/ISIC_0015313_superpixels.png', 'ISIC_0007235.jpg': '../data/example_image/ISIC_0007235.jpg', 'ISIC_0001769.jpg': '../data/example_image/ISIC_0001769.jpg', 'ISIC_0014857_superpixels.png': '../data/example_image/ISIC_0014857_superpixels.png', 'ISIC_0012746.jpg': '../data/example_image/ISIC_0012746.jpg', 'ISIC_0014558_superpixels.png': '../data/example_image/ISIC_0014558_superpixels.png', 'ISIC_0014055.jpg': '../data/example_image/ISIC_0014055.jpg', 'ISIC_0008025.jpg': '../data/example_image/ISIC_0008025.jpg', 'ISIC_0012204.jpg': '../data/example_image/ISIC_0012204.jpg', 'ISIC_0015243_superpixels.png': '../data/example_image/ISIC_0015243_superpixels.png', 'ISIC_0014688_superpixels.png': '../data/example_image/ISIC_0014688_superpixels.png', 'ISIC_0013793.jpg': '../data/example_image/ISIC_0013793.jpg', 'ISIC_0007141.jpg': '../data/example_image/ISIC_0007141.jpg', 'ISIC_0014611.jpg': '../data/example_image/ISIC_0014611.jpg', 'ISIC_0015443_superpixels.png': '../data/example_image/ISIC_0015443_superpixels.png', 'ISIC_0014937_superpixels.png': '../data/example_image/ISIC_0014937_superpixels.png', 'ISIC_0014857.jpg': '../data/example_image/ISIC_0014857.jpg', 'ISIC_0014382.jpg': '../data/example_image/ISIC_0014382.jpg', 'ISIC_0014038.jpg': '../data/example_image/ISIC_0014038.jpg', 'ISIC_0014616.jpg': '../data/example_image/ISIC_0014616.jpg', 'ISIC_0015445.jpg': '../data/example_image/ISIC_0015445.jpg', 'ISIC_0014618.jpg': '../data/example_image/ISIC_0014618.jpg', 'ISIC_0012400_superpixels.png': '../data/example_image/ISIC_0012400_superpixels.png', 'ISIC_0015401_superpixels.png': '../data/example_image/ISIC_0015401_superpixels.png', 'ISIC_0012400.jpg': '../data/example_image/ISIC_0012400.jpg', 'ISIC_0012956.jpg': '../data/example_image/ISIC_0012956.jpg', 'ISIC_0013702.jpg': '../data/example_image/ISIC_0013702.jpg', 'ISIC_0014597.jpg': '../data/example_image/ISIC_0014597.jpg', 'ISIC_0007332.jpg': '../data/example_image/ISIC_0007332.jpg', 'ISIC_0013632_superpixels.png': '../data/example_image/ISIC_0013632_superpixels.png', 'ISIC_0014623.jpg': '../data/example_image/ISIC_0014623.jpg', 'ISIC_0014946.jpg': '../data/example_image/ISIC_0014946.jpg', 'ISIC_0013945_superpixels.png': '../data/example_image/ISIC_0013945_superpixels.png', 'ISIC_0003582.jpg': '../data/example_image/ISIC_0003582.jpg', 'ISIC_0014624.jpg': '../data/example_image/ISIC_0014624.jpg', 'ISIC_0013188.jpg': '../data/example_image/ISIC_0013188.jpg', 'ISIC_0014428_superpixels.png': '../data/example_image/ISIC_0014428_superpixels.png', 'ISIC_0013232.jpg': '../data/example_image/ISIC_0013232.jpg', 'ISIC_0003805.jpg': '../data/example_image/ISIC_0003805.jpg', 'ISIC_0013421_superpixels.png': '../data/example_image/ISIC_0013421_superpixels.png', 'ISIC_0012335.jpg': '../data/example_image/ISIC_0012335.jpg', 'ISIC_0012492.jpg': '../data/example_image/ISIC_0012492.jpg', 'ISIC_0014302_superpixels.png': '../data/example_image/ISIC_0014302_superpixels.png', 'ISIC_0013736_superpixels.png': '../data/example_image/ISIC_0013736_superpixels.png', 'ISIC_0014979.jpg': '../data/example_image/ISIC_0014979.jpg', 'ISIC_0006815.jpg': '../data/example_image/ISIC_0006815.jpg', 'ISIC_0012492_superpixels.png': '../data/example_image/ISIC_0012492_superpixels.png', 'ISIC_0014428.jpg': '../data/example_image/ISIC_0014428.jpg', 'ISIC_0015445_superpixels.png': '../data/example_image/ISIC_0015445_superpixels.png', 'ISIC_0014931_superpixels.png': '../data/example_image/ISIC_0014931_superpixels.png', 'ISIC_0012256.jpg': '../data/example_image/ISIC_0012256.jpg', 'ISIC_0014937.jpg': '../data/example_image/ISIC_0014937.jpg', 'ISIC_0012876.jpg': '../data/example_image/ISIC_0012876.jpg', 'ISIC_0014310.jpg': '../data/example_image/ISIC_0014310.jpg', 'ISIC_0013863.jpg': '../data/example_image/ISIC_0013863.jpg', 'ISIC_0013128.jpg': '../data/example_image/ISIC_0013128.jpg', 'ISIC_0013549.jpg': '../data/example_image/ISIC_0013549.jpg', 'ISIC_0015483_superpixels.png': '../data/example_image/ISIC_0015483_superpixels.png', 'ISIC_0012927.jpg': '../data/example_image/ISIC_0012927.jpg', 'ISIC_0007344.jpg': '../data/example_image/ISIC_0007344.jpg', 'ISIC_0015144.jpg': '../data/example_image/ISIC_0015144.jpg', 'ISIC_0015401.jpg': '../data/example_image/ISIC_0015401.jpg', 'ISIC_0014620.jpg': '../data/example_image/ISIC_0014620.jpg', 'ISIC_0014945.jpg': '../data/example_image/ISIC_0014945.jpg', 'ISIC_0003462.jpg': '../data/example_image/ISIC_0003462.jpg', 'ISIC_0014985.jpg': '../data/example_image/ISIC_0014985.jpg', 'ISIC_0006815_superpixels.png': '../data/example_image/ISIC_0006815_superpixels.png', 'ISIC_0012316.jpg': '../data/example_image/ISIC_0012316.jpg', 'ISIC_0012538.jpg': '../data/example_image/ISIC_0012538.jpg', 'ISIC_0014712.jpg': '../data/example_image/ISIC_0014712.jpg', 'ISIC_0012159.jpg': '../data/example_image/ISIC_0012159.jpg', 'ISIC_0014985_superpixels.png': '../data/example_image/ISIC_0014985_superpixels.png', 'ISIC_0015313.jpg': '../data/example_image/ISIC_0015313.jpg', 'ISIC_0009995.jpg': '../data/example_image/ISIC_0009995.jpg', 'ISIC_0014211_superpixels.png': '../data/example_image/ISIC_0014211_superpixels.png', 'ISIC_0008524.jpg': '../data/example_image/ISIC_0008524.jpg', 'ISIC_0014217.jpg': '../data/example_image/ISIC_0014217.jpg', 'ISIC_0013082.jpg': '../data/example_image/ISIC_0013082.jpg', 'ISIC_0012380.jpg': '../data/example_image/ISIC_0012380.jpg', 'ISIC_0015043.jpg': '../data/example_image/ISIC_0015043.jpg', 'ISIC_0013898_superpixels.png': '../data/example_image/ISIC_0013898_superpixels.png', 'ISIC_0012099.jpg': '../data/example_image/ISIC_0012099.jpg', 'ISIC_0013215.jpg': '../data/example_image/ISIC_0013215.jpg', 'ISIC_0014568.jpg': '../data/example_image/ISIC_0014568.jpg', 'ISIC_0012417_superpixels.png': '../data/example_image/ISIC_0012417_superpixels.png', 'ISIC_0013898.jpg': '../data/example_image/ISIC_0013898.jpg', 'ISIC_0013518.jpg': '../data/example_image/ISIC_0013518.jpg', 'ISIC_0013491.jpg': '../data/example_image/ISIC_0013491.jpg', 'ISIC_0012288.jpg': '../data/example_image/ISIC_0012288.jpg', 'ISIC_0015062_superpixels.png': '../data/example_image/ISIC_0015062_superpixels.png', 'ISIC_0012383_superpixels.png': '../data/example_image/ISIC_0012383_superpixels.png', 'ISIC_0012222.jpg': '../data/example_image/ISIC_0012222.jpg', 'ISIC_0015043_superpixels.png': '../data/example_image/ISIC_0015043_superpixels.png', 'ISIC_0013651.jpg': '../data/example_image/ISIC_0013651.jpg', 'ISIC_0013127.jpg': '../data/example_image/ISIC_0013127.jpg', 'ISIC_0012306.jpg': '../data/example_image/ISIC_0012306.jpg', 'ISIC_0014931.jpg': '../data/example_image/ISIC_0014931.jpg', 'ISIC_0012191.jpg': '../data/example_image/ISIC_0012191.jpg', 'ISIC_0014310_superpixels.png': '../data/example_image/ISIC_0014310_superpixels.png', 'ISIC_0014038_superpixels.png': '../data/example_image/ISIC_0014038_superpixels.png', 'ISIC_0015256_superpixels.png': '../data/example_image/ISIC_0015256_superpixels.png', 'ISIC_0015496.jpg': '../data/example_image/ISIC_0015496.jpg', 'ISIC_0012109.jpg': '../data/example_image/ISIC_0012109.jpg', 'ISIC_0014055_superpixels.png': '../data/example_image/ISIC_0014055_superpixels.png', 'ISIC_0013501.jpg': '../data/example_image/ISIC_0013501.jpg', 'ISIC_0012720.jpg': '../data/example_image/ISIC_0012720.jpg', 'ISIC_0012513.jpg': '../data/example_image/ISIC_0012513.jpg', 'ISIC_0008524_superpixels.png': '../data/example_image/ISIC_0008524_superpixels.png', 'ISIC_0014212_superpixels.png': '../data/example_image/ISIC_0014212_superpixels.png', 'ISIC_0013663.jpg': '../data/example_image/ISIC_0013663.jpg', 'ISIC_0014829.jpg': '../data/example_image/ISIC_0014829.jpg', 'ISIC_0012210.jpg': '../data/example_image/ISIC_0012210.jpg', 'ISIC_0014162.jpg': '../data/example_image/ISIC_0014162.jpg', 'ISIC_0013104.jpg': '../data/example_image/ISIC_0013104.jpg', 'ISIC_0014989_superpixels.png': '../data/example_image/ISIC_0014989_superpixels.png', 'ISIC_0012201.jpg': '../data/example_image/ISIC_0012201.jpg', 'ISIC_0012660.jpg': '../data/example_image/ISIC_0012660.jpg', 'ISIC_0013637_superpixels.png': '../data/example_image/ISIC_0013637_superpixels.png', 'ISIC_0012206.jpg': '../data/example_image/ISIC_0012206.jpg', 'ISIC_0013501_superpixels.png': '../data/example_image/ISIC_0013501_superpixels.png', 'ISIC_0013562.jpg': '../data/example_image/ISIC_0013562.jpg', 'ISIC_0014211.jpg': '../data/example_image/ISIC_0014211.jpg', 'ISIC_0012151.jpg': '../data/example_image/ISIC_0012151.jpg', 'ISIC_0013632.jpg': '../data/example_image/ISIC_0013632.jpg', 'ISIC_0006914.jpg': '../data/example_image/ISIC_0006914.jpg', 'ISIC_0007796.jpg': '../data/example_image/ISIC_0007796.jpg', 'ISIC_0006671.jpg': '../data/example_image/ISIC_0006671.jpg', 'ISIC_0014637.jpg': '../data/example_image/ISIC_0014637.jpg', 'ISIC_0003657.jpg': '../data/example_image/ISIC_0003657.jpg', 'ISIC_0012256_superpixels.png': '../data/example_image/ISIC_0012256_superpixels.png', 'ISIC_0015243.jpg': '../data/example_image/ISIC_0015243.jpg', 'ISIC_0012684.jpg': '../data/example_image/ISIC_0012684.jpg'}\n",
          "output_type": "stream"
        }
      ]
    },
    {
      "cell_type": "markdown",
      "source": "# Task 0: Explore the Data\n\nGo through the data (csv file, images, segmentations) that you have available\nto understand what’s available to you, and write a brief description. Decide if\nthis data is sufficient, or if cleaning is needed. For example, what do you do with\nthe images that are malignant (cancer), but not of the class you want to focus\non? Are there images of low quality? Etc. You are allowed to search for and add\nother public dataset, to this set of images.",
      "metadata": {
        "tags": [],
        "cell_id": "00013-0410f06b-5a01-494d-a1df-0ac880c34e77",
        "deepnote_cell_type": "markdown"
      }
    },
    {
      "cell_type": "markdown",
      "source": "##### Description of Data: \nThe data includes 150 images of skin lesions and then another 150 images of the same images in segmentations, whereby the image is zoomed in. Besides this the data also includes the Superpixel of some of the images. ",
      "metadata": {
        "tags": [],
        "cell_id": "00014-61812bf2-357a-4ef1-80ff-42c7d71cd030",
        "deepnote_cell_type": "markdown"
      }
    },
    {
      "cell_type": "code",
      "metadata": {
        "tags": [],
        "cell_id": "00015-84749028-f474-436f-88a2-a5d8cd2730db",
        "deepnote_to_be_reexecuted": false,
        "source_hash": "a63a4e0a",
        "execution_millis": 27,
        "execution_start": 1619083166594,
        "deepnote_cell_type": "code"
      },
      "source": "# Loading the data into a dataframe and classifying based on class\nimage_info = pd.read_csv(\"../data/example_ground_truth.csv\")\ncancer_free = image_info[(image_info['melanoma']== 0) & (image_info['seborrheic_keratosis']==0)]\nmelanoma = image_info[image_info['melanoma'] == 1]\nkeratosis = image_info[image_info['seborrheic_keratosis']==1]\n\n#image_info\nprint(\"image_info: {0}, cancer_free: {1}, melanoma: {2}, keratosis: {3}\"\n.format(image_info.shape, cancer_free.shape, melanoma.shape, keratosis.shape))\n",
      "execution_count": 8,
      "outputs": [
        {
          "name": "stdout",
          "text": "image_info: (150, 3), cancer_free: (78, 3), melanoma: (30, 3), keratosis: (42, 3)\n",
          "output_type": "stream"
        }
      ]
    },
    {
      "cell_type": "code",
      "metadata": {
        "tags": [],
        "cell_id": "00018-c377c34b-1394-4c65-8ea4-7bf20ac5700f",
        "deepnote_to_be_reexecuted": false,
        "source_hash": "e49fd9d5",
        "execution_millis": 16,
        "execution_start": 1619083166611,
        "deepnote_cell_type": "code"
      },
      "source": "# put keratosis image id's into a list to use later\nlist_keratosis = []\nfor i in keratosis[\"image_id\"]:\n    list_keratosis.append(i)\n\n# deleting the keratosis images in the dictionary PICTURES\n# length of dictiionary has changed from 357 to 275 images\nfor i in list_keratosis:\n    n = (i + '.jpg')\n    x = (i + '_segmentation.png')\n    y = (i + '_superpixels.png')\n    if n in PICTURES:\n        PICTURES.pop(n)\n    if x in PICTURES:\n        PICTURES.pop(x)\n    if y in PICTURES:\n        PICTURES.pop(y)\n\n#now we remove the superpixels\nsuper_pixels = []\n\nfor i in PICTURES:\n   if '_superpixels.png' in i:\n        super_pixels.append(i)\n\nfor i in super_pixels:\n    PICTURES.pop(i)\n\nprint(len(PICTURES))",
      "execution_count": 9,
      "outputs": [
        {
          "name": "stdout",
          "text": "217\n",
          "output_type": "stream"
        }
      ]
    },
    {
      "cell_type": "markdown",
      "source": "## Checking for duplicates",
      "metadata": {
        "tags": [],
        "cell_id": "00013-853c5f7f-f4ec-43e4-84df-c7aff94508cd",
        "deepnote_cell_type": "markdown"
      }
    },
    {
      "cell_type": "code",
      "metadata": {
        "tags": [],
        "cell_id": "00017-ae5083f3-244f-42b5-ae93-ee0e6a7c3efa",
        "deepnote_to_be_reexecuted": false,
        "source_hash": "72802f34",
        "execution_millis": 8,
        "output_cleared": false,
        "execution_start": 1619083166661,
        "deepnote_cell_type": "code"
      },
      "source": "\"\"\" First we check for duplicates\"\"\"\n\n#Checks for duplicated image IDs in image_info\nimage_id = set()\nnot_unique_id = 0\nfor i in image_info['image_id']:\n    if i not in image_id:\n        image_id.add(i)\n    else:\n        not_unique += 1\nprint('Number of duplicates image id: {0}'.format(not_unique_id))\n\n#Checks that there is no duplicates in the pictures\nimage_unique = set()\nnot_unique_image = 0\nfor i in PICTURES:\n    if i not in image_unique:\n        image_unique.add(i)\n    else:\n        not_unique_image += 1\nprint('Number of duplicates images: {0}'.format(not_unique_image))\n\n\"\"\"Then we checks that all ID's has a corresponding image, and vice versa\"\"\"\n\n# cancer free and melanoma image id's is loaded into sets\ncf = set(i for i in cancer_free['image_id'])\nmel = set(i for i in melanoma['image_id'])\n\nno_image = set()\n\n#Checks that all IDs in image info is in example folders\nfor i in cf:\n    n = (i + '.jpg')\n    if n not in PICTURES:\n        no_image.add(i)\n\nfor i in mel:\n    n = (i + '.jpg')\n    if n not in PICTURES:\n        no_image.add(i)\n\nprint('No image: {0}'.format(len(no_image)))\n\n#Checks that all pictures in example image folder has a image ID in image_info\nno_ID = set()\n\nfor i in PICTURES:\n    x = i[0:12] #The first 12 characters is the ID\n    if x not in image_id :\n        no_ID.add(i)\nprint('No ID in image_info: {0}'.format(len(no_ID)))\n",
      "execution_count": 10,
      "outputs": [
        {
          "name": "stdout",
          "text": "Number of duplicates image id: 0\nNumber of duplicates images: 0\nNo image: 0\nNo ID in image_info: 0\n",
          "output_type": "stream"
        }
      ]
    },
    {
      "cell_type": "markdown",
      "source": "## Cleaning the Data\n\nIn the following cell the dataset of images is cleaned for the following three criteria:\n\n- Resolution\n- Blurriness/Sharpness\n- Contrast\n\nThe images that do not fit the criteria are removed from the image dictionary.",
      "metadata": {
        "tags": [],
        "cell_id": "00015-ba653751-9f53-4716-963d-7d468d77ea66",
        "deepnote_cell_type": "markdown"
      }
    },
    {
      "cell_type": "code",
      "metadata": {
        "tags": [],
        "cell_id": "00016-b9b040eb-ae19-492a-960c-8ac3328e3b37",
        "deepnote_to_be_reexecuted": false,
        "source_hash": "fbc11e10",
        "execution_millis": 40183,
        "output_cleared": false,
        "execution_start": 1619083166662,
        "deepnote_cell_type": "code"
      },
      "source": "## Checking RESOLUTION\nsd = 600*450\nlow_quality_pictures(sd, PICTURES)",
      "execution_count": 11,
      "outputs": [
        {
          "name": "stdout",
          "text": "Fine: 217, Not fine: 0\nImage popped from the dict: []\n",
          "output_type": "stream"
        }
      ]
    },
    {
      "cell_type": "code",
      "metadata": {
        "tags": [],
        "cell_id": "00021-c1068cec-c556-41e4-8ade-fed311c7d9db",
        "deepnote_to_be_reexecuted": false,
        "source_hash": "3a5cbd3a",
        "execution_millis": 111520,
        "execution_start": 1619083206842,
        "deepnote_cell_type": "code"
      },
      "source": "## Checking BLURRINESS/SHARPNESS\nbluriness(PICTURES)",
      "execution_count": 12,
      "outputs": [
        {
          "name": "stdout",
          "text": "Not Blurry: 212\nBlurry: 5\nBlurry Images: ['ISIC_0012400.jpg', 'ISIC_0013082.jpg', 'ISIC_0012288.jpg', 'ISIC_0014162.jpg', 'ISIC_0013104.jpg']\n",
          "output_type": "stream"
        }
      ]
    },
    {
      "cell_type": "markdown",
      "source": "Now we will check the colour quality by checking the contrast level.\n\nTo check the contrast of an image we use the function is_low_contrast from the library skimage.exposure. \n\nhttps://scikit-image.org/docs/dev/api/skimage.exposure.html#re0c68370bb9d-1",
      "metadata": {
        "tags": [],
        "cell_id": "00020-cb46c441-634c-4723-800c-9059397bd401",
        "deepnote_cell_type": "markdown"
      }
    },
    {
      "cell_type": "code",
      "metadata": {
        "tags": [],
        "cell_id": "00023-3084839f-f822-49fd-809d-955e76e02295",
        "deepnote_to_be_reexecuted": false,
        "source_hash": "f0e4c5f6",
        "execution_millis": 98718,
        "execution_start": 1619083318355,
        "deepnote_cell_type": "code"
      },
      "source": "## Checking CONTRAST\ncontrast(PICTURES)",
      "execution_count": 13,
      "outputs": [
        {
          "name": "stdout",
          "text": "Number of Images with High Contrast: 205\nNumber of Images with Low Contrast: 2\nImages with Low Contrast: ['ISIC_0013527_segmentation.png', 'ISIC_0012965_segmentation.png']\n",
          "output_type": "stream"
        }
      ]
    },
    {
      "cell_type": "code",
      "metadata": {
        "tags": [],
        "cell_id": "00022-8dfd0bf8-d3fa-4619-9c33-79e8d2e705bc",
        "deepnote_to_be_reexecuted": false,
        "source_hash": "a673e281",
        "execution_millis": 10,
        "execution_start": 1619083417063,
        "deepnote_cell_type": "code"
      },
      "source": "print(len(PICTURES))",
      "execution_count": 14,
      "outputs": [
        {
          "name": "stdout",
          "text": "205\n",
          "output_type": "stream"
        }
      ]
    },
    {
      "cell_type": "markdown",
      "source": "## External Data",
      "metadata": {
        "tags": [],
        "cell_id": "00024-4f1837d3-3188-4a6f-9482-6a5d23ee419d",
        "deepnote_cell_type": "markdown"
      }
    },
    {
      "cell_type": "markdown",
      "source": "First we load the data and clean it with the same criteria used on the previous data in the dictionary named PICTURES.",
      "metadata": {
        "tags": [],
        "cell_id": "00023-c6cd88f8-54da-4e77-960a-9eb0d4faa594",
        "deepnote_cell_type": "markdown"
      }
    },
    {
      "cell_type": "code",
      "metadata": {
        "tags": [],
        "cell_id": "00024-779dab04-cba9-4ef8-9e6c-012a92697cf3",
        "deepnote_to_be_reexecuted": false,
        "source_hash": "97260ea9",
        "execution_millis": 36,
        "execution_start": 1619089300129,
        "deepnote_cell_type": "code"
      },
      "source": "# First we make the path to the data\nPATH = {}\nPATH[\"external data\"] =\"../external_data/external_data\"\n\n#Then we load the path for all the diffirent as keys to their names.\nEXTERNAL = {}\nfor path, subdirs, files in os.walk(PATH[\"external data\"]):\n    for picture in files:\n        # Making sure that we exclude the .csv from the dictionary, to only include images (ie. png and jpg files)\n        if not str(picture).count(\".csv\", (len(picture) - 4),len(picture)):\n            EXTERNAL[picture] = os.path.normpath(os.path.join(path, picture))\n\nEXTERNAL.pop('.DS_Store')\nprint(len(EXTERNAL))\n\n# Loading the data into a dataframe and classifying based on class\nexternal_image_info = pd.read_csv(\"../external_data/ISIC-2017_Training_Part3_GroundTruth.csv\")\nexternal_cancer_free = external_image_info[(external_image_info['melanoma']== 0) & (external_image_info['seborrheic_keratosis']==0)]\nexternal_melanoma = external_image_info[external_image_info['melanoma'] == 1]\nexternal_keratosis = external_image_info[external_image_info['seborrheic_keratosis']==1]\n\n#image_info\nprint(\"image_info: {0}, cancer_free: {1}, melanoma: {2}, keratosis: {3}\"\n.format(external_image_info.shape, external_cancer_free.shape, external_melanoma.shape, external_keratosis.shape))",
      "execution_count": 135,
      "outputs": [
        {
          "name": "stdout",
          "text": "919\nimage_info: (2000, 3), cancer_free: (1372, 3), melanoma: (374, 3), keratosis: (254, 3)\n",
          "output_type": "stream"
        }
      ]
    },
    {
      "cell_type": "markdown",
      "source": "The external data is checked for duplicates",
      "metadata": {
        "tags": [],
        "cell_id": "00025-352a99a4-000d-4500-a188-6507a265f6d4",
        "deepnote_cell_type": "markdown"
      }
    },
    {
      "cell_type": "code",
      "metadata": {
        "tags": [],
        "cell_id": "00026-e19c90c8-3ab1-4f26-8803-56b13a02f610",
        "deepnote_to_be_reexecuted": false,
        "source_hash": "acaa4adf",
        "execution_millis": 22,
        "execution_start": 1619089305736,
        "deepnote_cell_type": "code"
      },
      "source": "#Checks for duplicated image IDs in image_info\nimage_id = set()\nnot_unique_id = 0\nfor i in external_image_info['image_id']:\n    if i not in image_id:\n        image_id.add(i)\n    else:\n        not_unique += 1\nprint('Number of duplicates image id: {0}'.format(not_unique_id))\n\n#Checks that there is no duplicates in the pictures\nimage_unique = set()\nnot_unique_image = 0\nfor i in EXTERNAL:\n    if i not in image_unique:\n        image_unique.add(i)\n    else:\n        not_unique_image += 1\nprint('Number of duplicates images: {0}'.format(not_unique_image))\n\n\"\"\"Then we checks that all ID's has a corresponding image, and vice versa\"\"\"\n\n# cancer free and melanoma image id's is loaded into sets\nmel = set(i for i in external_image_info['image_id'])\n\nno_image = set()\n\n#Checks that all IDs in image info is in example folders\nfor i in mel:\n    n = (i + '.jpg')\n    if n not in EXTERNAL:\n        no_image.add(i)\n\nprint('No image: {0}'.format(len(no_image)))\n\n#Checks that all pictures in example image folder has a image ID in image_info\nno_ID = set()\n\nfor i in EXTERNAL:\n    x = i[0:12] #The first 12 characters is the ID\n    if x not in image_id:\n        no_ID.add(i)\n\nprint('No ID in image_info: {0}'.format(len(no_ID)))",
      "execution_count": 136,
      "outputs": [
        {
          "name": "stdout",
          "text": "Number of duplicates image id: 0\nNumber of duplicates images: 0\nNo image: 1541\nNo ID in image_info: 0\n",
          "output_type": "stream"
        }
      ]
    },
    {
      "cell_type": "markdown",
      "source": "External data is checked for resolution quality, blurriness, and contrast quality",
      "metadata": {
        "tags": [],
        "cell_id": "00027-fe821e55-5538-4a72-adcd-b2dd2f6c3bb3",
        "deepnote_cell_type": "markdown"
      }
    },
    {
      "cell_type": "code",
      "metadata": {
        "tags": [],
        "cell_id": "00028-6061afdf-9563-49b0-87d0-b7a3e41ad277",
        "deepnote_to_be_reexecuted": false,
        "source_hash": "5898427d",
        "execution_millis": 30501,
        "execution_start": 1619089308267,
        "deepnote_cell_type": "code"
      },
      "source": "sd = 720 * 480\nlow_quality_pictures(sd, EXTERNAL)",
      "execution_count": 137,
      "outputs": [
        {
          "name": "stdout",
          "text": "Fine: 919, Not fine: 0\nImage popped from the dict: []\n",
          "output_type": "stream"
        }
      ]
    },
    {
      "cell_type": "code",
      "metadata": {
        "tags": [],
        "cell_id": "00030-330fe4a3-9649-4faa-addd-af32302c954a",
        "deepnote_to_be_reexecuted": false,
        "source_hash": "e9c047f",
        "execution_millis": 102667,
        "execution_start": 1619089338763,
        "deepnote_cell_type": "code"
      },
      "source": "bluriness(EXTERNAL)",
      "execution_count": 138,
      "outputs": [
        {
          "name": "stdout",
          "text": "Not Blurry: 906\nBlurry: 13\nBlurry Images: ['ISIC_0001105.jpg', 'ISIC_0001102.jpg', 'ISIC_0001142.jpg', 'ISIC_0000240.jpg', 'ISIC_0001126.jpg', 'ISIC_0000391.jpg', 'ISIC_0000388.jpg', 'ISIC_0000379.jpg', 'ISIC_0000377.jpg', 'ISIC_0000245.jpg', 'ISIC_0000548.jpg', 'ISIC_0000378.jpg', 'ISIC_0000384.jpg']\n",
          "output_type": "stream"
        }
      ]
    },
    {
      "cell_type": "code",
      "metadata": {
        "tags": [],
        "cell_id": "00031-eef1bfe4-86b4-4d67-90fb-2fecd034c20a",
        "deepnote_to_be_reexecuted": false,
        "source_hash": "c412d8bb",
        "execution_millis": 80656,
        "execution_start": 1619089441418,
        "deepnote_cell_type": "code"
      },
      "source": "contrast(EXTERNAL)",
      "execution_count": 139,
      "outputs": [
        {
          "name": "stdout",
          "text": "Number of Images with High Contrast: 893\nNumber of Images with Low Contrast: 0\nImages with Low Contrast: []\n",
          "output_type": "stream"
        }
      ]
    },
    {
      "cell_type": "markdown",
      "source": "Now the external data is seperated 50/50 so that 50% can be used to test the model again, and the other 50% can provide the results needed.",
      "metadata": {
        "tags": [],
        "cell_id": "00029-a616c2ec-3762-4221-97c0-e90e8d64678e",
        "deepnote_cell_type": "markdown"
      }
    },
    {
      "cell_type": "code",
      "metadata": {
        "tags": [],
        "cell_id": "00033-ec8e3b13-0fc7-43b6-b31f-4c4db0b7b70a",
        "deepnote_to_be_reexecuted": false,
        "source_hash": "2d16b044",
        "execution_millis": 62,
        "execution_start": 1619083528642,
        "deepnote_cell_type": "code"
      },
      "source": "x = [i for i in external_melanoma['image_id'] ]\nmelanoma_dict = {}\n\n\nfor key, value in EXTERNAL.items():\n    if key[0:12] in x:\n        melanoma_dict[key] = value\n\ny = [i for i in external_cancer_free['image_id'] ]\ncancer_free_dict = {}\n\nfor key, value in EXTERNAL.items():\n    if key[0:12] in y:\n        cancer_free_dict[key] = value\n\n        \nexternal_melanoma['mask'] = external_melanoma['image_id']+'_segmentation.png'\nexternal_melanoma['raw'] = external_melanoma['image_id']+'.jpg'\nexternal_melanoma\n# melonoma_way = pd.DataFrame.from_dict(melanoma_dict)\n# melonoma_way",
      "execution_count": 20,
      "outputs": [
        {
          "name": "stderr",
          "text": "/shared-libs/python3.7/py-core/lib/python3.7/site-packages/ipykernel_launcher.py:17: SettingWithCopyWarning: \nA value is trying to be set on a copy of a slice from a DataFrame.\nTry using .loc[row_indexer,col_indexer] = value instead\n\nSee the caveats in the documentation: https://pandas.pydata.org/pandas-docs/stable/user_guide/indexing.html#returning-a-view-versus-a-copy\n/shared-libs/python3.7/py-core/lib/python3.7/site-packages/ipykernel_launcher.py:18: SettingWithCopyWarning: \nA value is trying to be set on a copy of a slice from a DataFrame.\nTry using .loc[row_indexer,col_indexer] = value instead\n\nSee the caveats in the documentation: https://pandas.pydata.org/pandas-docs/stable/user_guide/indexing.html#returning-a-view-versus-a-copy\n",
          "output_type": "stream"
        },
        {
          "output_type": "execute_result",
          "execution_count": 20,
          "data": {
            "application/vnd.deepnote.dataframe.v2+json": {
              "row_count": 374,
              "column_count": 5,
              "columns": [
                {
                  "name": "image_id",
                  "dtype": "object",
                  "stats": {
                    "unique_count": 374,
                    "nan_count": 0,
                    "categories": [
                      {
                        "name": "ISIC_0000002",
                        "count": 1
                      },
                      {
                        "name": "ISIC_0000004",
                        "count": 1
                      },
                      {
                        "name": "372 others",
                        "count": 372
                      }
                    ]
                  }
                },
                {
                  "name": "melanoma",
                  "dtype": "float64",
                  "stats": {
                    "unique_count": 1,
                    "nan_count": 0,
                    "min": "1.0",
                    "max": "1.0",
                    "histogram": [
                      {
                        "bin_start": 0.5,
                        "bin_end": 0.6,
                        "count": 0
                      },
                      {
                        "bin_start": 0.6,
                        "bin_end": 0.7,
                        "count": 0
                      },
                      {
                        "bin_start": 0.7,
                        "bin_end": 0.8,
                        "count": 0
                      },
                      {
                        "bin_start": 0.8,
                        "bin_end": 0.9,
                        "count": 0
                      },
                      {
                        "bin_start": 0.9,
                        "bin_end": 1,
                        "count": 0
                      },
                      {
                        "bin_start": 1,
                        "bin_end": 1.1,
                        "count": 374
                      },
                      {
                        "bin_start": 1.1,
                        "bin_end": 1.2000000000000002,
                        "count": 0
                      },
                      {
                        "bin_start": 1.2000000000000002,
                        "bin_end": 1.3,
                        "count": 0
                      },
                      {
                        "bin_start": 1.3,
                        "bin_end": 1.4,
                        "count": 0
                      },
                      {
                        "bin_start": 1.4,
                        "bin_end": 1.5,
                        "count": 0
                      }
                    ]
                  }
                },
                {
                  "name": "seborrheic_keratosis",
                  "dtype": "float64",
                  "stats": {
                    "unique_count": 1,
                    "nan_count": 0,
                    "min": "0.0",
                    "max": "0.0",
                    "histogram": [
                      {
                        "bin_start": -0.5,
                        "bin_end": -0.4,
                        "count": 0
                      },
                      {
                        "bin_start": -0.4,
                        "bin_end": -0.3,
                        "count": 0
                      },
                      {
                        "bin_start": -0.3,
                        "bin_end": -0.19999999999999996,
                        "count": 0
                      },
                      {
                        "bin_start": -0.19999999999999996,
                        "bin_end": -0.09999999999999998,
                        "count": 0
                      },
                      {
                        "bin_start": -0.09999999999999998,
                        "bin_end": 0,
                        "count": 0
                      },
                      {
                        "bin_start": 0,
                        "bin_end": 0.10000000000000009,
                        "count": 374
                      },
                      {
                        "bin_start": 0.10000000000000009,
                        "bin_end": 0.20000000000000007,
                        "count": 0
                      },
                      {
                        "bin_start": 0.20000000000000007,
                        "bin_end": 0.30000000000000004,
                        "count": 0
                      },
                      {
                        "bin_start": 0.30000000000000004,
                        "bin_end": 0.4,
                        "count": 0
                      },
                      {
                        "bin_start": 0.4,
                        "bin_end": 0.5,
                        "count": 0
                      }
                    ]
                  }
                },
                {
                  "name": "mask",
                  "dtype": "object",
                  "stats": {
                    "unique_count": 374,
                    "nan_count": 0,
                    "categories": [
                      {
                        "name": "ISIC_0000002_segmentation.png",
                        "count": 1
                      },
                      {
                        "name": "ISIC_0000004_segmentation.png",
                        "count": 1
                      },
                      {
                        "name": "372 others",
                        "count": 372
                      }
                    ]
                  }
                },
                {
                  "name": "raw",
                  "dtype": "object",
                  "stats": {
                    "unique_count": 374,
                    "nan_count": 0,
                    "categories": [
                      {
                        "name": "ISIC_0000002.jpg",
                        "count": 1
                      },
                      {
                        "name": "ISIC_0000004.jpg",
                        "count": 1
                      },
                      {
                        "name": "372 others",
                        "count": 372
                      }
                    ]
                  }
                },
                {
                  "name": "_deepnote_index_column",
                  "dtype": "int64"
                }
              ],
              "rows_top": [
                {
                  "image_id": "ISIC_0000002",
                  "melanoma": 1,
                  "seborrheic_keratosis": 0,
                  "mask": "ISIC_0000002_segmentation.png",
                  "raw": "ISIC_0000002.jpg",
                  "_deepnote_index_column": 2
                },
                {
                  "image_id": "ISIC_0000004",
                  "melanoma": 1,
                  "seborrheic_keratosis": 0,
                  "mask": "ISIC_0000004_segmentation.png",
                  "raw": "ISIC_0000004.jpg",
                  "_deepnote_index_column": 4
                },
                {
                  "image_id": "ISIC_0000013",
                  "melanoma": 1,
                  "seborrheic_keratosis": 0,
                  "mask": "ISIC_0000013_segmentation.png",
                  "raw": "ISIC_0000013.jpg",
                  "_deepnote_index_column": 12
                },
                {
                  "image_id": "ISIC_0000022",
                  "melanoma": 1,
                  "seborrheic_keratosis": 0,
                  "mask": "ISIC_0000022_segmentation.png",
                  "raw": "ISIC_0000022.jpg",
                  "_deepnote_index_column": 21
                },
                {
                  "image_id": "ISIC_0000026",
                  "melanoma": 1,
                  "seborrheic_keratosis": 0,
                  "mask": "ISIC_0000026_segmentation.png",
                  "raw": "ISIC_0000026.jpg",
                  "_deepnote_index_column": 25
                },
                {
                  "image_id": "ISIC_0000029",
                  "melanoma": 1,
                  "seborrheic_keratosis": 0,
                  "mask": "ISIC_0000029_segmentation.png",
                  "raw": "ISIC_0000029.jpg",
                  "_deepnote_index_column": 28
                },
                {
                  "image_id": "ISIC_0000030",
                  "melanoma": 1,
                  "seborrheic_keratosis": 0,
                  "mask": "ISIC_0000030_segmentation.png",
                  "raw": "ISIC_0000030.jpg",
                  "_deepnote_index_column": 29
                },
                {
                  "image_id": "ISIC_0000031",
                  "melanoma": 1,
                  "seborrheic_keratosis": 0,
                  "mask": "ISIC_0000031_segmentation.png",
                  "raw": "ISIC_0000031.jpg",
                  "_deepnote_index_column": 30
                },
                {
                  "image_id": "ISIC_0000035",
                  "melanoma": 1,
                  "seborrheic_keratosis": 0,
                  "mask": "ISIC_0000035_segmentation.png",
                  "raw": "ISIC_0000035.jpg",
                  "_deepnote_index_column": 33
                },
                {
                  "image_id": "ISIC_0000036",
                  "melanoma": 1,
                  "seborrheic_keratosis": 0,
                  "mask": "ISIC_0000036_segmentation.png",
                  "raw": "ISIC_0000036.jpg",
                  "_deepnote_index_column": 34
                },
                {
                  "image_id": "ISIC_0000040",
                  "melanoma": 1,
                  "seborrheic_keratosis": 0,
                  "mask": "ISIC_0000040_segmentation.png",
                  "raw": "ISIC_0000040.jpg",
                  "_deepnote_index_column": 38
                },
                {
                  "image_id": "ISIC_0000043",
                  "melanoma": 1,
                  "seborrheic_keratosis": 0,
                  "mask": "ISIC_0000043_segmentation.png",
                  "raw": "ISIC_0000043.jpg",
                  "_deepnote_index_column": 41
                },
                {
                  "image_id": "ISIC_0000046",
                  "melanoma": 1,
                  "seborrheic_keratosis": 0,
                  "mask": "ISIC_0000046_segmentation.png",
                  "raw": "ISIC_0000046.jpg",
                  "_deepnote_index_column": 44
                },
                {
                  "image_id": "ISIC_0000049",
                  "melanoma": 1,
                  "seborrheic_keratosis": 0,
                  "mask": "ISIC_0000049_segmentation.png",
                  "raw": "ISIC_0000049.jpg",
                  "_deepnote_index_column": 47
                },
                {
                  "image_id": "ISIC_0000054",
                  "melanoma": 1,
                  "seborrheic_keratosis": 0,
                  "mask": "ISIC_0000054_segmentation.png",
                  "raw": "ISIC_0000054.jpg",
                  "_deepnote_index_column": 52
                },
                {
                  "image_id": "ISIC_0000056",
                  "melanoma": 1,
                  "seborrheic_keratosis": 0,
                  "mask": "ISIC_0000056_segmentation.png",
                  "raw": "ISIC_0000056.jpg",
                  "_deepnote_index_column": 54
                },
                {
                  "image_id": "ISIC_0000074",
                  "melanoma": 1,
                  "seborrheic_keratosis": 0,
                  "mask": "ISIC_0000074_segmentation.png",
                  "raw": "ISIC_0000074.jpg",
                  "_deepnote_index_column": 69
                },
                {
                  "image_id": "ISIC_0000077",
                  "melanoma": 1,
                  "seborrheic_keratosis": 0,
                  "mask": "ISIC_0000077_segmentation.png",
                  "raw": "ISIC_0000077.jpg",
                  "_deepnote_index_column": 71
                },
                {
                  "image_id": "ISIC_0000078",
                  "melanoma": 1,
                  "seborrheic_keratosis": 0,
                  "mask": "ISIC_0000078_segmentation.png",
                  "raw": "ISIC_0000078.jpg",
                  "_deepnote_index_column": 72
                },
                {
                  "image_id": "ISIC_0000139",
                  "melanoma": 1,
                  "seborrheic_keratosis": 0,
                  "mask": "ISIC_0000139_segmentation.png",
                  "raw": "ISIC_0000139.jpg",
                  "_deepnote_index_column": 126
                },
                {
                  "image_id": "ISIC_0000140",
                  "melanoma": 1,
                  "seborrheic_keratosis": 0,
                  "mask": "ISIC_0000140_segmentation.png",
                  "raw": "ISIC_0000140.jpg",
                  "_deepnote_index_column": 127
                },
                {
                  "image_id": "ISIC_0000141",
                  "melanoma": 1,
                  "seborrheic_keratosis": 0,
                  "mask": "ISIC_0000141_segmentation.png",
                  "raw": "ISIC_0000141.jpg",
                  "_deepnote_index_column": 128
                },
                {
                  "image_id": "ISIC_0000142",
                  "melanoma": 1,
                  "seborrheic_keratosis": 0,
                  "mask": "ISIC_0000142_segmentation.png",
                  "raw": "ISIC_0000142.jpg",
                  "_deepnote_index_column": 129
                },
                {
                  "image_id": "ISIC_0000143",
                  "melanoma": 1,
                  "seborrheic_keratosis": 0,
                  "mask": "ISIC_0000143_segmentation.png",
                  "raw": "ISIC_0000143.jpg",
                  "_deepnote_index_column": 130
                },
                {
                  "image_id": "ISIC_0000145",
                  "melanoma": 1,
                  "seborrheic_keratosis": 0,
                  "mask": "ISIC_0000145_segmentation.png",
                  "raw": "ISIC_0000145.jpg",
                  "_deepnote_index_column": 131
                },
                {
                  "image_id": "ISIC_0000146",
                  "melanoma": 1,
                  "seborrheic_keratosis": 0,
                  "mask": "ISIC_0000146_segmentation.png",
                  "raw": "ISIC_0000146.jpg",
                  "_deepnote_index_column": 132
                },
                {
                  "image_id": "ISIC_0000147",
                  "melanoma": 1,
                  "seborrheic_keratosis": 0,
                  "mask": "ISIC_0000147_segmentation.png",
                  "raw": "ISIC_0000147.jpg",
                  "_deepnote_index_column": 133
                },
                {
                  "image_id": "ISIC_0000148",
                  "melanoma": 1,
                  "seborrheic_keratosis": 0,
                  "mask": "ISIC_0000148_segmentation.png",
                  "raw": "ISIC_0000148.jpg",
                  "_deepnote_index_column": 134
                },
                {
                  "image_id": "ISIC_0000149",
                  "melanoma": 1,
                  "seborrheic_keratosis": 0,
                  "mask": "ISIC_0000149_segmentation.png",
                  "raw": "ISIC_0000149.jpg",
                  "_deepnote_index_column": 135
                },
                {
                  "image_id": "ISIC_0000150",
                  "melanoma": 1,
                  "seborrheic_keratosis": 0,
                  "mask": "ISIC_0000150_segmentation.png",
                  "raw": "ISIC_0000150.jpg",
                  "_deepnote_index_column": 136
                },
                {
                  "image_id": "ISIC_0000151",
                  "melanoma": 1,
                  "seborrheic_keratosis": 0,
                  "mask": "ISIC_0000151_segmentation.png",
                  "raw": "ISIC_0000151.jpg",
                  "_deepnote_index_column": 137
                },
                {
                  "image_id": "ISIC_0000152",
                  "melanoma": 1,
                  "seborrheic_keratosis": 0,
                  "mask": "ISIC_0000152_segmentation.png",
                  "raw": "ISIC_0000152.jpg",
                  "_deepnote_index_column": 138
                },
                {
                  "image_id": "ISIC_0000153",
                  "melanoma": 1,
                  "seborrheic_keratosis": 0,
                  "mask": "ISIC_0000153_segmentation.png",
                  "raw": "ISIC_0000153.jpg",
                  "_deepnote_index_column": 139
                },
                {
                  "image_id": "ISIC_0000154",
                  "melanoma": 1,
                  "seborrheic_keratosis": 0,
                  "mask": "ISIC_0000154_segmentation.png",
                  "raw": "ISIC_0000154.jpg",
                  "_deepnote_index_column": 140
                },
                {
                  "image_id": "ISIC_0000155",
                  "melanoma": 1,
                  "seborrheic_keratosis": 0,
                  "mask": "ISIC_0000155_segmentation.png",
                  "raw": "ISIC_0000155.jpg",
                  "_deepnote_index_column": 141
                },
                {
                  "image_id": "ISIC_0000156",
                  "melanoma": 1,
                  "seborrheic_keratosis": 0,
                  "mask": "ISIC_0000156_segmentation.png",
                  "raw": "ISIC_0000156.jpg",
                  "_deepnote_index_column": 142
                },
                {
                  "image_id": "ISIC_0000157",
                  "melanoma": 1,
                  "seborrheic_keratosis": 0,
                  "mask": "ISIC_0000157_segmentation.png",
                  "raw": "ISIC_0000157.jpg",
                  "_deepnote_index_column": 143
                },
                {
                  "image_id": "ISIC_0000159",
                  "melanoma": 1,
                  "seborrheic_keratosis": 0,
                  "mask": "ISIC_0000159_segmentation.png",
                  "raw": "ISIC_0000159.jpg",
                  "_deepnote_index_column": 144
                },
                {
                  "image_id": "ISIC_0000160",
                  "melanoma": 1,
                  "seborrheic_keratosis": 0,
                  "mask": "ISIC_0000160_segmentation.png",
                  "raw": "ISIC_0000160.jpg",
                  "_deepnote_index_column": 145
                },
                {
                  "image_id": "ISIC_0000161",
                  "melanoma": 1,
                  "seborrheic_keratosis": 0,
                  "mask": "ISIC_0000161_segmentation.png",
                  "raw": "ISIC_0000161.jpg",
                  "_deepnote_index_column": 146
                },
                {
                  "image_id": "ISIC_0000162",
                  "melanoma": 1,
                  "seborrheic_keratosis": 0,
                  "mask": "ISIC_0000162_segmentation.png",
                  "raw": "ISIC_0000162.jpg",
                  "_deepnote_index_column": 147
                },
                {
                  "image_id": "ISIC_0000163",
                  "melanoma": 1,
                  "seborrheic_keratosis": 0,
                  "mask": "ISIC_0000163_segmentation.png",
                  "raw": "ISIC_0000163.jpg",
                  "_deepnote_index_column": 148
                },
                {
                  "image_id": "ISIC_0000164",
                  "melanoma": 1,
                  "seborrheic_keratosis": 0,
                  "mask": "ISIC_0000164_segmentation.png",
                  "raw": "ISIC_0000164.jpg",
                  "_deepnote_index_column": 149
                },
                {
                  "image_id": "ISIC_0000165",
                  "melanoma": 1,
                  "seborrheic_keratosis": 0,
                  "mask": "ISIC_0000165_segmentation.png",
                  "raw": "ISIC_0000165.jpg",
                  "_deepnote_index_column": 150
                },
                {
                  "image_id": "ISIC_0000166",
                  "melanoma": 1,
                  "seborrheic_keratosis": 0,
                  "mask": "ISIC_0000166_segmentation.png",
                  "raw": "ISIC_0000166.jpg",
                  "_deepnote_index_column": 151
                },
                {
                  "image_id": "ISIC_0000167",
                  "melanoma": 1,
                  "seborrheic_keratosis": 0,
                  "mask": "ISIC_0000167_segmentation.png",
                  "raw": "ISIC_0000167.jpg",
                  "_deepnote_index_column": 152
                },
                {
                  "image_id": "ISIC_0000169",
                  "melanoma": 1,
                  "seborrheic_keratosis": 0,
                  "mask": "ISIC_0000169_segmentation.png",
                  "raw": "ISIC_0000169.jpg",
                  "_deepnote_index_column": 153
                },
                {
                  "image_id": "ISIC_0000171",
                  "melanoma": 1,
                  "seborrheic_keratosis": 0,
                  "mask": "ISIC_0000171_segmentation.png",
                  "raw": "ISIC_0000171.jpg",
                  "_deepnote_index_column": 154
                },
                {
                  "image_id": "ISIC_0000172",
                  "melanoma": 1,
                  "seborrheic_keratosis": 0,
                  "mask": "ISIC_0000172_segmentation.png",
                  "raw": "ISIC_0000172.jpg",
                  "_deepnote_index_column": 155
                },
                {
                  "image_id": "ISIC_0000174",
                  "melanoma": 1,
                  "seborrheic_keratosis": 0,
                  "mask": "ISIC_0000174_segmentation.png",
                  "raw": "ISIC_0000174.jpg",
                  "_deepnote_index_column": 156
                },
                {
                  "image_id": "ISIC_0000176",
                  "melanoma": 1,
                  "seborrheic_keratosis": 0,
                  "mask": "ISIC_0000176_segmentation.png",
                  "raw": "ISIC_0000176.jpg",
                  "_deepnote_index_column": 157
                },
                {
                  "image_id": "ISIC_0000276",
                  "melanoma": 1,
                  "seborrheic_keratosis": 0,
                  "mask": "ISIC_0000276_segmentation.png",
                  "raw": "ISIC_0000276.jpg",
                  "_deepnote_index_column": 236
                },
                {
                  "image_id": "ISIC_0000277",
                  "melanoma": 1,
                  "seborrheic_keratosis": 0,
                  "mask": "ISIC_0000277_segmentation.png",
                  "raw": "ISIC_0000277.jpg",
                  "_deepnote_index_column": 237
                },
                {
                  "image_id": "ISIC_0000278",
                  "melanoma": 1,
                  "seborrheic_keratosis": 0,
                  "mask": "ISIC_0000278_segmentation.png",
                  "raw": "ISIC_0000278.jpg",
                  "_deepnote_index_column": 238
                },
                {
                  "image_id": "ISIC_0000281",
                  "melanoma": 1,
                  "seborrheic_keratosis": 0,
                  "mask": "ISIC_0000281_segmentation.png",
                  "raw": "ISIC_0000281.jpg",
                  "_deepnote_index_column": 239
                },
                {
                  "image_id": "ISIC_0000282",
                  "melanoma": 1,
                  "seborrheic_keratosis": 0,
                  "mask": "ISIC_0000282_segmentation.png",
                  "raw": "ISIC_0000282.jpg",
                  "_deepnote_index_column": 240
                },
                {
                  "image_id": "ISIC_0000283",
                  "melanoma": 1,
                  "seborrheic_keratosis": 0,
                  "mask": "ISIC_0000283_segmentation.png",
                  "raw": "ISIC_0000283.jpg",
                  "_deepnote_index_column": 241
                },
                {
                  "image_id": "ISIC_0000285",
                  "melanoma": 1,
                  "seborrheic_keratosis": 0,
                  "mask": "ISIC_0000285_segmentation.png",
                  "raw": "ISIC_0000285.jpg",
                  "_deepnote_index_column": 242
                },
                {
                  "image_id": "ISIC_0000288",
                  "melanoma": 1,
                  "seborrheic_keratosis": 0,
                  "mask": "ISIC_0000288_segmentation.png",
                  "raw": "ISIC_0000288.jpg",
                  "_deepnote_index_column": 243
                },
                {
                  "image_id": "ISIC_0000289",
                  "melanoma": 1,
                  "seborrheic_keratosis": 0,
                  "mask": "ISIC_0000289_segmentation.png",
                  "raw": "ISIC_0000289.jpg",
                  "_deepnote_index_column": 244
                },
                {
                  "image_id": "ISIC_0000290",
                  "melanoma": 1,
                  "seborrheic_keratosis": 0,
                  "mask": "ISIC_0000290_segmentation.png",
                  "raw": "ISIC_0000290.jpg",
                  "_deepnote_index_column": 245
                },
                {
                  "image_id": "ISIC_0000292",
                  "melanoma": 1,
                  "seborrheic_keratosis": 0,
                  "mask": "ISIC_0000292_segmentation.png",
                  "raw": "ISIC_0000292.jpg",
                  "_deepnote_index_column": 246
                },
                {
                  "image_id": "ISIC_0000293",
                  "melanoma": 1,
                  "seborrheic_keratosis": 0,
                  "mask": "ISIC_0000293_segmentation.png",
                  "raw": "ISIC_0000293.jpg",
                  "_deepnote_index_column": 247
                },
                {
                  "image_id": "ISIC_0000294",
                  "melanoma": 1,
                  "seborrheic_keratosis": 0,
                  "mask": "ISIC_0000294_segmentation.png",
                  "raw": "ISIC_0000294.jpg",
                  "_deepnote_index_column": 248
                },
                {
                  "image_id": "ISIC_0000295",
                  "melanoma": 1,
                  "seborrheic_keratosis": 0,
                  "mask": "ISIC_0000295_segmentation.png",
                  "raw": "ISIC_0000295.jpg",
                  "_deepnote_index_column": 249
                },
                {
                  "image_id": "ISIC_0000297",
                  "melanoma": 1,
                  "seborrheic_keratosis": 0,
                  "mask": "ISIC_0000297_segmentation.png",
                  "raw": "ISIC_0000297.jpg",
                  "_deepnote_index_column": 250
                },
                {
                  "image_id": "ISIC_0000298",
                  "melanoma": 1,
                  "seborrheic_keratosis": 0,
                  "mask": "ISIC_0000298_segmentation.png",
                  "raw": "ISIC_0000298.jpg",
                  "_deepnote_index_column": 251
                },
                {
                  "image_id": "ISIC_0000299",
                  "melanoma": 1,
                  "seborrheic_keratosis": 0,
                  "mask": "ISIC_0000299_segmentation.png",
                  "raw": "ISIC_0000299.jpg",
                  "_deepnote_index_column": 252
                },
                {
                  "image_id": "ISIC_0000300",
                  "melanoma": 1,
                  "seborrheic_keratosis": 0,
                  "mask": "ISIC_0000300_segmentation.png",
                  "raw": "ISIC_0000300.jpg",
                  "_deepnote_index_column": 253
                },
                {
                  "image_id": "ISIC_0000301",
                  "melanoma": 1,
                  "seborrheic_keratosis": 0,
                  "mask": "ISIC_0000301_segmentation.png",
                  "raw": "ISIC_0000301.jpg",
                  "_deepnote_index_column": 254
                },
                {
                  "image_id": "ISIC_0000302",
                  "melanoma": 1,
                  "seborrheic_keratosis": 0,
                  "mask": "ISIC_0000302_segmentation.png",
                  "raw": "ISIC_0000302.jpg",
                  "_deepnote_index_column": 255
                },
                {
                  "image_id": "ISIC_0000303",
                  "melanoma": 1,
                  "seborrheic_keratosis": 0,
                  "mask": "ISIC_0000303_segmentation.png",
                  "raw": "ISIC_0000303.jpg",
                  "_deepnote_index_column": 256
                },
                {
                  "image_id": "ISIC_0000306",
                  "melanoma": 1,
                  "seborrheic_keratosis": 0,
                  "mask": "ISIC_0000306_segmentation.png",
                  "raw": "ISIC_0000306.jpg",
                  "_deepnote_index_column": 257
                },
                {
                  "image_id": "ISIC_0000307",
                  "melanoma": 1,
                  "seborrheic_keratosis": 0,
                  "mask": "ISIC_0000307_segmentation.png",
                  "raw": "ISIC_0000307.jpg",
                  "_deepnote_index_column": 258
                },
                {
                  "image_id": "ISIC_0000310",
                  "melanoma": 1,
                  "seborrheic_keratosis": 0,
                  "mask": "ISIC_0000310_segmentation.png",
                  "raw": "ISIC_0000310.jpg",
                  "_deepnote_index_column": 259
                },
                {
                  "image_id": "ISIC_0000311",
                  "melanoma": 1,
                  "seborrheic_keratosis": 0,
                  "mask": "ISIC_0000311_segmentation.png",
                  "raw": "ISIC_0000311.jpg",
                  "_deepnote_index_column": 260
                },
                {
                  "image_id": "ISIC_0000313",
                  "melanoma": 1,
                  "seborrheic_keratosis": 0,
                  "mask": "ISIC_0000313_segmentation.png",
                  "raw": "ISIC_0000313.jpg",
                  "_deepnote_index_column": 261
                },
                {
                  "image_id": "ISIC_0000314",
                  "melanoma": 1,
                  "seborrheic_keratosis": 0,
                  "mask": "ISIC_0000314_segmentation.png",
                  "raw": "ISIC_0000314.jpg",
                  "_deepnote_index_column": 262
                },
                {
                  "image_id": "ISIC_0000390",
                  "melanoma": 1,
                  "seborrheic_keratosis": 0,
                  "mask": "ISIC_0000390_segmentation.png",
                  "raw": "ISIC_0000390.jpg",
                  "_deepnote_index_column": 327
                },
                {
                  "image_id": "ISIC_0000393",
                  "melanoma": 1,
                  "seborrheic_keratosis": 0,
                  "mask": "ISIC_0000393_segmentation.png",
                  "raw": "ISIC_0000393.jpg",
                  "_deepnote_index_column": 330
                },
                {
                  "image_id": "ISIC_0000395",
                  "melanoma": 1,
                  "seborrheic_keratosis": 0,
                  "mask": "ISIC_0000395_segmentation.png",
                  "raw": "ISIC_0000395.jpg",
                  "_deepnote_index_column": 331
                },
                {
                  "image_id": "ISIC_0000410",
                  "melanoma": 1,
                  "seborrheic_keratosis": 0,
                  "mask": "ISIC_0000410_segmentation.png",
                  "raw": "ISIC_0000410.jpg",
                  "_deepnote_index_column": 338
                },
                {
                  "image_id": "ISIC_0000412",
                  "melanoma": 1,
                  "seborrheic_keratosis": 0,
                  "mask": "ISIC_0000412_segmentation.png",
                  "raw": "ISIC_0000412.jpg",
                  "_deepnote_index_column": 339
                },
                {
                  "image_id": "ISIC_0000413",
                  "melanoma": 1,
                  "seborrheic_keratosis": 0,
                  "mask": "ISIC_0000413_segmentation.png",
                  "raw": "ISIC_0000413.jpg",
                  "_deepnote_index_column": 340
                },
                {
                  "image_id": "ISIC_0000415",
                  "melanoma": 1,
                  "seborrheic_keratosis": 0,
                  "mask": "ISIC_0000415_segmentation.png",
                  "raw": "ISIC_0000415.jpg",
                  "_deepnote_index_column": 341
                },
                {
                  "image_id": "ISIC_0000420",
                  "melanoma": 1,
                  "seborrheic_keratosis": 0,
                  "mask": "ISIC_0000420_segmentation.png",
                  "raw": "ISIC_0000420.jpg",
                  "_deepnote_index_column": 345
                },
                {
                  "image_id": "ISIC_0000434",
                  "melanoma": 1,
                  "seborrheic_keratosis": 0,
                  "mask": "ISIC_0000434_segmentation.png",
                  "raw": "ISIC_0000434.jpg",
                  "_deepnote_index_column": 353
                },
                {
                  "image_id": "ISIC_0000444",
                  "melanoma": 1,
                  "seborrheic_keratosis": 0,
                  "mask": "ISIC_0000444_segmentation.png",
                  "raw": "ISIC_0000444.jpg",
                  "_deepnote_index_column": 358
                },
                {
                  "image_id": "ISIC_0000445",
                  "melanoma": 1,
                  "seborrheic_keratosis": 0,
                  "mask": "ISIC_0000445_segmentation.png",
                  "raw": "ISIC_0000445.jpg",
                  "_deepnote_index_column": 359
                },
                {
                  "image_id": "ISIC_0000463",
                  "melanoma": 1,
                  "seborrheic_keratosis": 0,
                  "mask": "ISIC_0000463_segmentation.png",
                  "raw": "ISIC_0000463.jpg",
                  "_deepnote_index_column": 371
                },
                {
                  "image_id": "ISIC_0000466",
                  "melanoma": 1,
                  "seborrheic_keratosis": 0,
                  "mask": "ISIC_0000466_segmentation.png",
                  "raw": "ISIC_0000466.jpg",
                  "_deepnote_index_column": 373
                },
                {
                  "image_id": "ISIC_0000469",
                  "melanoma": 1,
                  "seborrheic_keratosis": 0,
                  "mask": "ISIC_0000469_segmentation.png",
                  "raw": "ISIC_0000469.jpg",
                  "_deepnote_index_column": 376
                },
                {
                  "image_id": "ISIC_0000482",
                  "melanoma": 1,
                  "seborrheic_keratosis": 0,
                  "mask": "ISIC_0000482_segmentation.png",
                  "raw": "ISIC_0000482.jpg",
                  "_deepnote_index_column": 387
                },
                {
                  "image_id": "ISIC_0000484",
                  "melanoma": 1,
                  "seborrheic_keratosis": 0,
                  "mask": "ISIC_0000484_segmentation.png",
                  "raw": "ISIC_0000484.jpg",
                  "_deepnote_index_column": 389
                },
                {
                  "image_id": "ISIC_0000487",
                  "melanoma": 1,
                  "seborrheic_keratosis": 0,
                  "mask": "ISIC_0000487_segmentation.png",
                  "raw": "ISIC_0000487.jpg",
                  "_deepnote_index_column": 392
                },
                {
                  "image_id": "ISIC_0000511",
                  "melanoma": 1,
                  "seborrheic_keratosis": 0,
                  "mask": "ISIC_0000511_segmentation.png",
                  "raw": "ISIC_0000511.jpg",
                  "_deepnote_index_column": 414
                },
                {
                  "image_id": "ISIC_0000513",
                  "melanoma": 1,
                  "seborrheic_keratosis": 0,
                  "mask": "ISIC_0000513_segmentation.png",
                  "raw": "ISIC_0000513.jpg",
                  "_deepnote_index_column": 415
                },
                {
                  "image_id": "ISIC_0000516",
                  "melanoma": 1,
                  "seborrheic_keratosis": 0,
                  "mask": "ISIC_0000516_segmentation.png",
                  "raw": "ISIC_0000516.jpg",
                  "_deepnote_index_column": 418
                },
                {
                  "image_id": "ISIC_0000517",
                  "melanoma": 1,
                  "seborrheic_keratosis": 0,
                  "mask": "ISIC_0000517_segmentation.png",
                  "raw": "ISIC_0000517.jpg",
                  "_deepnote_index_column": 419
                },
                {
                  "image_id": "ISIC_0000518",
                  "melanoma": 1,
                  "seborrheic_keratosis": 0,
                  "mask": "ISIC_0000518_segmentation.png",
                  "raw": "ISIC_0000518.jpg",
                  "_deepnote_index_column": 420
                }
              ],
              "rows_bottom": [
                {
                  "image_id": "ISIC_0013861",
                  "melanoma": 1,
                  "seborrheic_keratosis": 0,
                  "mask": "ISIC_0013861_segmentation.png",
                  "raw": "ISIC_0013861.jpg",
                  "_deepnote_index_column": 1630
                },
                {
                  "image_id": "ISIC_0013865",
                  "melanoma": 1,
                  "seborrheic_keratosis": 0,
                  "mask": "ISIC_0013865_segmentation.png",
                  "raw": "ISIC_0013865.jpg",
                  "_deepnote_index_column": 1633
                },
                {
                  "image_id": "ISIC_0013874",
                  "melanoma": 1,
                  "seborrheic_keratosis": 0,
                  "mask": "ISIC_0013874_segmentation.png",
                  "raw": "ISIC_0013874.jpg",
                  "_deepnote_index_column": 1634
                },
                {
                  "image_id": "ISIC_0013936",
                  "melanoma": 1,
                  "seborrheic_keratosis": 0,
                  "mask": "ISIC_0013936_segmentation.png",
                  "raw": "ISIC_0013936.jpg",
                  "_deepnote_index_column": 1649
                },
                {
                  "image_id": "ISIC_0013969",
                  "melanoma": 1,
                  "seborrheic_keratosis": 0,
                  "mask": "ISIC_0013969_segmentation.png",
                  "raw": "ISIC_0013969.jpg",
                  "_deepnote_index_column": 1657
                },
                {
                  "image_id": "ISIC_0013972",
                  "melanoma": 1,
                  "seborrheic_keratosis": 0,
                  "mask": "ISIC_0013972_segmentation.png",
                  "raw": "ISIC_0013972.jpg",
                  "_deepnote_index_column": 1660
                },
                {
                  "image_id": "ISIC_0013975",
                  "melanoma": 1,
                  "seborrheic_keratosis": 0,
                  "mask": "ISIC_0013975_segmentation.png",
                  "raw": "ISIC_0013975.jpg",
                  "_deepnote_index_column": 1661
                },
                {
                  "image_id": "ISIC_0013984",
                  "melanoma": 1,
                  "seborrheic_keratosis": 0,
                  "mask": "ISIC_0013984_segmentation.png",
                  "raw": "ISIC_0013984.jpg",
                  "_deepnote_index_column": 1666
                },
                {
                  "image_id": "ISIC_0013986",
                  "melanoma": 1,
                  "seborrheic_keratosis": 0,
                  "mask": "ISIC_0013986_segmentation.png",
                  "raw": "ISIC_0013986.jpg",
                  "_deepnote_index_column": 1667
                },
                {
                  "image_id": "ISIC_0013995",
                  "melanoma": 1,
                  "seborrheic_keratosis": 0,
                  "mask": "ISIC_0013995_segmentation.png",
                  "raw": "ISIC_0013995.jpg",
                  "_deepnote_index_column": 1668
                },
                {
                  "image_id": "ISIC_0013997",
                  "melanoma": 1,
                  "seborrheic_keratosis": 0,
                  "mask": "ISIC_0013997_segmentation.png",
                  "raw": "ISIC_0013997.jpg",
                  "_deepnote_index_column": 1670
                },
                {
                  "image_id": "ISIC_0014013",
                  "melanoma": 1,
                  "seborrheic_keratosis": 0,
                  "mask": "ISIC_0014013_segmentation.png",
                  "raw": "ISIC_0014013.jpg",
                  "_deepnote_index_column": 1673
                },
                {
                  "image_id": "ISIC_0014044",
                  "melanoma": 1,
                  "seborrheic_keratosis": 0,
                  "mask": "ISIC_0014044_segmentation.png",
                  "raw": "ISIC_0014044.jpg",
                  "_deepnote_index_column": 1679
                },
                {
                  "image_id": "ISIC_0014049",
                  "melanoma": 1,
                  "seborrheic_keratosis": 0,
                  "mask": "ISIC_0014049_segmentation.png",
                  "raw": "ISIC_0014049.jpg",
                  "_deepnote_index_column": 1682
                },
                {
                  "image_id": "ISIC_0014061",
                  "melanoma": 1,
                  "seborrheic_keratosis": 0,
                  "mask": "ISIC_0014061_segmentation.png",
                  "raw": "ISIC_0014061.jpg",
                  "_deepnote_index_column": 1683
                },
                {
                  "image_id": "ISIC_0014062",
                  "melanoma": 1,
                  "seborrheic_keratosis": 0,
                  "mask": "ISIC_0014062_segmentation.png",
                  "raw": "ISIC_0014062.jpg",
                  "_deepnote_index_column": 1684
                },
                {
                  "image_id": "ISIC_0014072",
                  "melanoma": 1,
                  "seborrheic_keratosis": 0,
                  "mask": "ISIC_0014072_segmentation.png",
                  "raw": "ISIC_0014072.jpg",
                  "_deepnote_index_column": 1687
                },
                {
                  "image_id": "ISIC_0014076",
                  "melanoma": 1,
                  "seborrheic_keratosis": 0,
                  "mask": "ISIC_0014076_segmentation.png",
                  "raw": "ISIC_0014076.jpg",
                  "_deepnote_index_column": 1690
                },
                {
                  "image_id": "ISIC_0014079",
                  "melanoma": 1,
                  "seborrheic_keratosis": 0,
                  "mask": "ISIC_0014079_segmentation.png",
                  "raw": "ISIC_0014079.jpg",
                  "_deepnote_index_column": 1691
                },
                {
                  "image_id": "ISIC_0014082",
                  "melanoma": 1,
                  "seborrheic_keratosis": 0,
                  "mask": "ISIC_0014082_segmentation.png",
                  "raw": "ISIC_0014082.jpg",
                  "_deepnote_index_column": 1694
                },
                {
                  "image_id": "ISIC_0014088",
                  "melanoma": 1,
                  "seborrheic_keratosis": 0,
                  "mask": "ISIC_0014088_segmentation.png",
                  "raw": "ISIC_0014088.jpg",
                  "_deepnote_index_column": 1696
                },
                {
                  "image_id": "ISIC_0014092",
                  "melanoma": 1,
                  "seborrheic_keratosis": 0,
                  "mask": "ISIC_0014092_segmentation.png",
                  "raw": "ISIC_0014092.jpg",
                  "_deepnote_index_column": 1698
                },
                {
                  "image_id": "ISIC_0014099",
                  "melanoma": 1,
                  "seborrheic_keratosis": 0,
                  "mask": "ISIC_0014099_segmentation.png",
                  "raw": "ISIC_0014099.jpg",
                  "_deepnote_index_column": 1701
                },
                {
                  "image_id": "ISIC_0014108",
                  "melanoma": 1,
                  "seborrheic_keratosis": 0,
                  "mask": "ISIC_0014108_segmentation.png",
                  "raw": "ISIC_0014108.jpg",
                  "_deepnote_index_column": 1702
                },
                {
                  "image_id": "ISIC_0014127",
                  "melanoma": 1,
                  "seborrheic_keratosis": 0,
                  "mask": "ISIC_0014127_segmentation.png",
                  "raw": "ISIC_0014127.jpg",
                  "_deepnote_index_column": 1705
                },
                {
                  "image_id": "ISIC_0014132",
                  "melanoma": 1,
                  "seborrheic_keratosis": 0,
                  "mask": "ISIC_0014132_segmentation.png",
                  "raw": "ISIC_0014132.jpg",
                  "_deepnote_index_column": 1707
                },
                {
                  "image_id": "ISIC_0014133",
                  "melanoma": 1,
                  "seborrheic_keratosis": 0,
                  "mask": "ISIC_0014133_segmentation.png",
                  "raw": "ISIC_0014133.jpg",
                  "_deepnote_index_column": 1708
                },
                {
                  "image_id": "ISIC_0014136",
                  "melanoma": 1,
                  "seborrheic_keratosis": 0,
                  "mask": "ISIC_0014136_segmentation.png",
                  "raw": "ISIC_0014136.jpg",
                  "_deepnote_index_column": 1709
                },
                {
                  "image_id": "ISIC_0014144",
                  "melanoma": 1,
                  "seborrheic_keratosis": 0,
                  "mask": "ISIC_0014144_segmentation.png",
                  "raw": "ISIC_0014144.jpg",
                  "_deepnote_index_column": 1710
                },
                {
                  "image_id": "ISIC_0014151",
                  "melanoma": 1,
                  "seborrheic_keratosis": 0,
                  "mask": "ISIC_0014151_segmentation.png",
                  "raw": "ISIC_0014151.jpg",
                  "_deepnote_index_column": 1713
                },
                {
                  "image_id": "ISIC_0014156",
                  "melanoma": 1,
                  "seborrheic_keratosis": 0,
                  "mask": "ISIC_0014156_segmentation.png",
                  "raw": "ISIC_0014156.jpg",
                  "_deepnote_index_column": 1714
                },
                {
                  "image_id": "ISIC_0014157",
                  "melanoma": 1,
                  "seborrheic_keratosis": 0,
                  "mask": "ISIC_0014157_segmentation.png",
                  "raw": "ISIC_0014157.jpg",
                  "_deepnote_index_column": 1715
                },
                {
                  "image_id": "ISIC_0014163",
                  "melanoma": 1,
                  "seborrheic_keratosis": 0,
                  "mask": "ISIC_0014163_segmentation.png",
                  "raw": "ISIC_0014163.jpg",
                  "_deepnote_index_column": 1717
                },
                {
                  "image_id": "ISIC_0014171",
                  "melanoma": 1,
                  "seborrheic_keratosis": 0,
                  "mask": "ISIC_0014171_segmentation.png",
                  "raw": "ISIC_0014171.jpg",
                  "_deepnote_index_column": 1721
                },
                {
                  "image_id": "ISIC_0014173",
                  "melanoma": 1,
                  "seborrheic_keratosis": 0,
                  "mask": "ISIC_0014173_segmentation.png",
                  "raw": "ISIC_0014173.jpg",
                  "_deepnote_index_column": 1722
                },
                {
                  "image_id": "ISIC_0014183",
                  "melanoma": 1,
                  "seborrheic_keratosis": 0,
                  "mask": "ISIC_0014183_segmentation.png",
                  "raw": "ISIC_0014183.jpg",
                  "_deepnote_index_column": 1725
                },
                {
                  "image_id": "ISIC_0014187",
                  "melanoma": 1,
                  "seborrheic_keratosis": 0,
                  "mask": "ISIC_0014187_segmentation.png",
                  "raw": "ISIC_0014187.jpg",
                  "_deepnote_index_column": 1727
                },
                {
                  "image_id": "ISIC_0014189",
                  "melanoma": 1,
                  "seborrheic_keratosis": 0,
                  "mask": "ISIC_0014189_segmentation.png",
                  "raw": "ISIC_0014189.jpg",
                  "_deepnote_index_column": 1728
                },
                {
                  "image_id": "ISIC_0014190",
                  "melanoma": 1,
                  "seborrheic_keratosis": 0,
                  "mask": "ISIC_0014190_segmentation.png",
                  "raw": "ISIC_0014190.jpg",
                  "_deepnote_index_column": 1729
                },
                {
                  "image_id": "ISIC_0014222",
                  "melanoma": 1,
                  "seborrheic_keratosis": 0,
                  "mask": "ISIC_0014222_segmentation.png",
                  "raw": "ISIC_0014222.jpg",
                  "_deepnote_index_column": 1734
                },
                {
                  "image_id": "ISIC_0014229",
                  "melanoma": 1,
                  "seborrheic_keratosis": 0,
                  "mask": "ISIC_0014229_segmentation.png",
                  "raw": "ISIC_0014229.jpg",
                  "_deepnote_index_column": 1736
                },
                {
                  "image_id": "ISIC_0014238",
                  "melanoma": 1,
                  "seborrheic_keratosis": 0,
                  "mask": "ISIC_0014238_segmentation.png",
                  "raw": "ISIC_0014238.jpg",
                  "_deepnote_index_column": 1737
                },
                {
                  "image_id": "ISIC_0014249",
                  "melanoma": 1,
                  "seborrheic_keratosis": 0,
                  "mask": "ISIC_0014249_segmentation.png",
                  "raw": "ISIC_0014249.jpg",
                  "_deepnote_index_column": 1739
                },
                {
                  "image_id": "ISIC_0014289",
                  "melanoma": 1,
                  "seborrheic_keratosis": 0,
                  "mask": "ISIC_0014289_segmentation.png",
                  "raw": "ISIC_0014289.jpg",
                  "_deepnote_index_column": 1747
                },
                {
                  "image_id": "ISIC_0014290",
                  "melanoma": 1,
                  "seborrheic_keratosis": 0,
                  "mask": "ISIC_0014290_segmentation.png",
                  "raw": "ISIC_0014290.jpg",
                  "_deepnote_index_column": 1748
                },
                {
                  "image_id": "ISIC_0014291",
                  "melanoma": 1,
                  "seborrheic_keratosis": 0,
                  "mask": "ISIC_0014291_segmentation.png",
                  "raw": "ISIC_0014291.jpg",
                  "_deepnote_index_column": 1749
                },
                {
                  "image_id": "ISIC_0014308",
                  "melanoma": 1,
                  "seborrheic_keratosis": 0,
                  "mask": "ISIC_0014308_segmentation.png",
                  "raw": "ISIC_0014308.jpg",
                  "_deepnote_index_column": 1751
                },
                {
                  "image_id": "ISIC_0014316",
                  "melanoma": 1,
                  "seborrheic_keratosis": 0,
                  "mask": "ISIC_0014316_segmentation.png",
                  "raw": "ISIC_0014316.jpg",
                  "_deepnote_index_column": 1753
                },
                {
                  "image_id": "ISIC_0014324",
                  "melanoma": 1,
                  "seborrheic_keratosis": 0,
                  "mask": "ISIC_0014324_segmentation.png",
                  "raw": "ISIC_0014324.jpg",
                  "_deepnote_index_column": 1755
                },
                {
                  "image_id": "ISIC_0014325",
                  "melanoma": 1,
                  "seborrheic_keratosis": 0,
                  "mask": "ISIC_0014325_segmentation.png",
                  "raw": "ISIC_0014325.jpg",
                  "_deepnote_index_column": 1756
                },
                {
                  "image_id": "ISIC_0014327",
                  "melanoma": 1,
                  "seborrheic_keratosis": 0,
                  "mask": "ISIC_0014327_segmentation.png",
                  "raw": "ISIC_0014327.jpg",
                  "_deepnote_index_column": 1757
                },
                {
                  "image_id": "ISIC_0014331",
                  "melanoma": 1,
                  "seborrheic_keratosis": 0,
                  "mask": "ISIC_0014331_segmentation.png",
                  "raw": "ISIC_0014331.jpg",
                  "_deepnote_index_column": 1759
                },
                {
                  "image_id": "ISIC_0014337",
                  "melanoma": 1,
                  "seborrheic_keratosis": 0,
                  "mask": "ISIC_0014337_segmentation.png",
                  "raw": "ISIC_0014337.jpg",
                  "_deepnote_index_column": 1760
                },
                {
                  "image_id": "ISIC_0014347",
                  "melanoma": 1,
                  "seborrheic_keratosis": 0,
                  "mask": "ISIC_0014347_segmentation.png",
                  "raw": "ISIC_0014347.jpg",
                  "_deepnote_index_column": 1763
                },
                {
                  "image_id": "ISIC_0014357",
                  "melanoma": 1,
                  "seborrheic_keratosis": 0,
                  "mask": "ISIC_0014357_segmentation.png",
                  "raw": "ISIC_0014357.jpg",
                  "_deepnote_index_column": 1765
                },
                {
                  "image_id": "ISIC_0014360",
                  "melanoma": 1,
                  "seborrheic_keratosis": 0,
                  "mask": "ISIC_0014360_segmentation.png",
                  "raw": "ISIC_0014360.jpg",
                  "_deepnote_index_column": 1766
                },
                {
                  "image_id": "ISIC_0014361",
                  "melanoma": 1,
                  "seborrheic_keratosis": 0,
                  "mask": "ISIC_0014361_segmentation.png",
                  "raw": "ISIC_0014361.jpg",
                  "_deepnote_index_column": 1767
                },
                {
                  "image_id": "ISIC_0014366",
                  "melanoma": 1,
                  "seborrheic_keratosis": 0,
                  "mask": "ISIC_0014366_segmentation.png",
                  "raw": "ISIC_0014366.jpg",
                  "_deepnote_index_column": 1769
                },
                {
                  "image_id": "ISIC_0014372",
                  "melanoma": 1,
                  "seborrheic_keratosis": 0,
                  "mask": "ISIC_0014372_segmentation.png",
                  "raw": "ISIC_0014372.jpg",
                  "_deepnote_index_column": 1770
                },
                {
                  "image_id": "ISIC_0014385",
                  "melanoma": 1,
                  "seborrheic_keratosis": 0,
                  "mask": "ISIC_0014385_segmentation.png",
                  "raw": "ISIC_0014385.jpg",
                  "_deepnote_index_column": 1771
                },
                {
                  "image_id": "ISIC_0014395",
                  "melanoma": 1,
                  "seborrheic_keratosis": 0,
                  "mask": "ISIC_0014395_segmentation.png",
                  "raw": "ISIC_0014395.jpg",
                  "_deepnote_index_column": 1774
                },
                {
                  "image_id": "ISIC_0014422",
                  "melanoma": 1,
                  "seborrheic_keratosis": 0,
                  "mask": "ISIC_0014422_segmentation.png",
                  "raw": "ISIC_0014422.jpg",
                  "_deepnote_index_column": 1777
                },
                {
                  "image_id": "ISIC_0014476",
                  "melanoma": 1,
                  "seborrheic_keratosis": 0,
                  "mask": "ISIC_0014476_segmentation.png",
                  "raw": "ISIC_0014476.jpg",
                  "_deepnote_index_column": 1790
                },
                {
                  "image_id": "ISIC_0014480",
                  "melanoma": 1,
                  "seborrheic_keratosis": 0,
                  "mask": "ISIC_0014480_segmentation.png",
                  "raw": "ISIC_0014480.jpg",
                  "_deepnote_index_column": 1791
                },
                {
                  "image_id": "ISIC_0014486",
                  "melanoma": 1,
                  "seborrheic_keratosis": 0,
                  "mask": "ISIC_0014486_segmentation.png",
                  "raw": "ISIC_0014486.jpg",
                  "_deepnote_index_column": 1792
                },
                {
                  "image_id": "ISIC_0014501",
                  "melanoma": 1,
                  "seborrheic_keratosis": 0,
                  "mask": "ISIC_0014501_segmentation.png",
                  "raw": "ISIC_0014501.jpg",
                  "_deepnote_index_column": 1795
                },
                {
                  "image_id": "ISIC_0014507",
                  "melanoma": 1,
                  "seborrheic_keratosis": 0,
                  "mask": "ISIC_0014507_segmentation.png",
                  "raw": "ISIC_0014507.jpg",
                  "_deepnote_index_column": 1798
                },
                {
                  "image_id": "ISIC_0014518",
                  "melanoma": 1,
                  "seborrheic_keratosis": 0,
                  "mask": "ISIC_0014518_segmentation.png",
                  "raw": "ISIC_0014518.jpg",
                  "_deepnote_index_column": 1802
                },
                {
                  "image_id": "ISIC_0014525",
                  "melanoma": 1,
                  "seborrheic_keratosis": 0,
                  "mask": "ISIC_0014525_segmentation.png",
                  "raw": "ISIC_0014525.jpg",
                  "_deepnote_index_column": 1804
                },
                {
                  "image_id": "ISIC_0014527",
                  "melanoma": 1,
                  "seborrheic_keratosis": 0,
                  "mask": "ISIC_0014527_segmentation.png",
                  "raw": "ISIC_0014527.jpg",
                  "_deepnote_index_column": 1806
                },
                {
                  "image_id": "ISIC_0014543",
                  "melanoma": 1,
                  "seborrheic_keratosis": 0,
                  "mask": "ISIC_0014543_segmentation.png",
                  "raw": "ISIC_0014543.jpg",
                  "_deepnote_index_column": 1810
                },
                {
                  "image_id": "ISIC_0014545",
                  "melanoma": 1,
                  "seborrheic_keratosis": 0,
                  "mask": "ISIC_0014545_segmentation.png",
                  "raw": "ISIC_0014545.jpg",
                  "_deepnote_index_column": 1811
                },
                {
                  "image_id": "ISIC_0014557",
                  "melanoma": 1,
                  "seborrheic_keratosis": 0,
                  "mask": "ISIC_0014557_segmentation.png",
                  "raw": "ISIC_0014557.jpg",
                  "_deepnote_index_column": 1814
                },
                {
                  "image_id": "ISIC_0014722",
                  "melanoma": 1,
                  "seborrheic_keratosis": 0,
                  "mask": "ISIC_0014722_segmentation.png",
                  "raw": "ISIC_0014722.jpg",
                  "_deepnote_index_column": 1886
                },
                {
                  "image_id": "ISIC_0014735",
                  "melanoma": 1,
                  "seborrheic_keratosis": 0,
                  "mask": "ISIC_0014735_segmentation.png",
                  "raw": "ISIC_0014735.jpg",
                  "_deepnote_index_column": 1892
                },
                {
                  "image_id": "ISIC_0014788",
                  "melanoma": 1,
                  "seborrheic_keratosis": 0,
                  "mask": "ISIC_0014788_segmentation.png",
                  "raw": "ISIC_0014788.jpg",
                  "_deepnote_index_column": 1910
                },
                {
                  "image_id": "ISIC_0014795",
                  "melanoma": 1,
                  "seborrheic_keratosis": 0,
                  "mask": "ISIC_0014795_segmentation.png",
                  "raw": "ISIC_0014795.jpg",
                  "_deepnote_index_column": 1914
                },
                {
                  "image_id": "ISIC_0014832",
                  "melanoma": 1,
                  "seborrheic_keratosis": 0,
                  "mask": "ISIC_0014832_segmentation.png",
                  "raw": "ISIC_0014832.jpg",
                  "_deepnote_index_column": 1931
                },
                {
                  "image_id": "ISIC_0014891",
                  "melanoma": 1,
                  "seborrheic_keratosis": 0,
                  "mask": "ISIC_0014891_segmentation.png",
                  "raw": "ISIC_0014891.jpg",
                  "_deepnote_index_column": 1948
                },
                {
                  "image_id": "ISIC_0014897",
                  "melanoma": 1,
                  "seborrheic_keratosis": 0,
                  "mask": "ISIC_0014897_segmentation.png",
                  "raw": "ISIC_0014897.jpg",
                  "_deepnote_index_column": 1949
                },
                {
                  "image_id": "ISIC_0014919",
                  "melanoma": 1,
                  "seborrheic_keratosis": 0,
                  "mask": "ISIC_0014919_segmentation.png",
                  "raw": "ISIC_0014919.jpg",
                  "_deepnote_index_column": 1957
                },
                {
                  "image_id": "ISIC_0014920",
                  "melanoma": 1,
                  "seborrheic_keratosis": 0,
                  "mask": "ISIC_0014920_segmentation.png",
                  "raw": "ISIC_0014920.jpg",
                  "_deepnote_index_column": 1958
                },
                {
                  "image_id": "ISIC_0014922",
                  "melanoma": 1,
                  "seborrheic_keratosis": 0,
                  "mask": "ISIC_0014922_segmentation.png",
                  "raw": "ISIC_0014922.jpg",
                  "_deepnote_index_column": 1959
                },
                {
                  "image_id": "ISIC_0014951",
                  "melanoma": 1,
                  "seborrheic_keratosis": 0,
                  "mask": "ISIC_0014951_segmentation.png",
                  "raw": "ISIC_0014951.jpg",
                  "_deepnote_index_column": 1966
                },
                {
                  "image_id": "ISIC_0014975",
                  "melanoma": 1,
                  "seborrheic_keratosis": 0,
                  "mask": "ISIC_0014975_segmentation.png",
                  "raw": "ISIC_0014975.jpg",
                  "_deepnote_index_column": 1967
                },
                {
                  "image_id": "ISIC_0014983",
                  "melanoma": 1,
                  "seborrheic_keratosis": 0,
                  "mask": "ISIC_0014983_segmentation.png",
                  "raw": "ISIC_0014983.jpg",
                  "_deepnote_index_column": 1968
                },
                {
                  "image_id": "ISIC_0014987",
                  "melanoma": 1,
                  "seborrheic_keratosis": 0,
                  "mask": "ISIC_0014987_segmentation.png",
                  "raw": "ISIC_0014987.jpg",
                  "_deepnote_index_column": 1969
                },
                {
                  "image_id": "ISIC_0015005",
                  "melanoma": 1,
                  "seborrheic_keratosis": 0,
                  "mask": "ISIC_0015005_segmentation.png",
                  "raw": "ISIC_0015005.jpg",
                  "_deepnote_index_column": 1970
                },
                {
                  "image_id": "ISIC_0015045",
                  "melanoma": 1,
                  "seborrheic_keratosis": 0,
                  "mask": "ISIC_0015045_segmentation.png",
                  "raw": "ISIC_0015045.jpg",
                  "_deepnote_index_column": 1975
                },
                {
                  "image_id": "ISIC_0015079",
                  "melanoma": 1,
                  "seborrheic_keratosis": 0,
                  "mask": "ISIC_0015079_segmentation.png",
                  "raw": "ISIC_0015079.jpg",
                  "_deepnote_index_column": 1976
                },
                {
                  "image_id": "ISIC_0015082",
                  "melanoma": 1,
                  "seborrheic_keratosis": 0,
                  "mask": "ISIC_0015082_segmentation.png",
                  "raw": "ISIC_0015082.jpg",
                  "_deepnote_index_column": 1977
                },
                {
                  "image_id": "ISIC_0015109",
                  "melanoma": 1,
                  "seborrheic_keratosis": 0,
                  "mask": "ISIC_0015109_segmentation.png",
                  "raw": "ISIC_0015109.jpg",
                  "_deepnote_index_column": 1979
                },
                {
                  "image_id": "ISIC_0015110",
                  "melanoma": 1,
                  "seborrheic_keratosis": 0,
                  "mask": "ISIC_0015110_segmentation.png",
                  "raw": "ISIC_0015110.jpg",
                  "_deepnote_index_column": 1980
                },
                {
                  "image_id": "ISIC_0015166",
                  "melanoma": 1,
                  "seborrheic_keratosis": 0,
                  "mask": "ISIC_0015166_segmentation.png",
                  "raw": "ISIC_0015166.jpg",
                  "_deepnote_index_column": 1985
                },
                {
                  "image_id": "ISIC_0015189",
                  "melanoma": 1,
                  "seborrheic_keratosis": 0,
                  "mask": "ISIC_0015189_segmentation.png",
                  "raw": "ISIC_0015189.jpg",
                  "_deepnote_index_column": 1990
                },
                {
                  "image_id": "ISIC_0015190",
                  "melanoma": 1,
                  "seborrheic_keratosis": 0,
                  "mask": "ISIC_0015190_segmentation.png",
                  "raw": "ISIC_0015190.jpg",
                  "_deepnote_index_column": 1991
                },
                {
                  "image_id": "ISIC_0015200",
                  "melanoma": 1,
                  "seborrheic_keratosis": 0,
                  "mask": "ISIC_0015200_segmentation.png",
                  "raw": "ISIC_0015200.jpg",
                  "_deepnote_index_column": 1992
                },
                {
                  "image_id": "ISIC_0015204",
                  "melanoma": 1,
                  "seborrheic_keratosis": 0,
                  "mask": "ISIC_0015204_segmentation.png",
                  "raw": "ISIC_0015204.jpg",
                  "_deepnote_index_column": 1993
                },
                {
                  "image_id": "ISIC_0015219",
                  "melanoma": 1,
                  "seborrheic_keratosis": 0,
                  "mask": "ISIC_0015219_segmentation.png",
                  "raw": "ISIC_0015219.jpg",
                  "_deepnote_index_column": 1994
                },
                {
                  "image_id": "ISIC_0015284",
                  "melanoma": 1,
                  "seborrheic_keratosis": 0,
                  "mask": "ISIC_0015284_segmentation.png",
                  "raw": "ISIC_0015284.jpg",
                  "_deepnote_index_column": 1998
                }
              ]
            },
            "text/plain": "          image_id  melanoma  seborrheic_keratosis  \\\n2     ISIC_0000002       1.0                   0.0   \n4     ISIC_0000004       1.0                   0.0   \n12    ISIC_0000013       1.0                   0.0   \n21    ISIC_0000022       1.0                   0.0   \n25    ISIC_0000026       1.0                   0.0   \n...            ...       ...                   ...   \n1991  ISIC_0015190       1.0                   0.0   \n1992  ISIC_0015200       1.0                   0.0   \n1993  ISIC_0015204       1.0                   0.0   \n1994  ISIC_0015219       1.0                   0.0   \n1998  ISIC_0015284       1.0                   0.0   \n\n                               mask               raw  \n2     ISIC_0000002_segmentation.png  ISIC_0000002.jpg  \n4     ISIC_0000004_segmentation.png  ISIC_0000004.jpg  \n12    ISIC_0000013_segmentation.png  ISIC_0000013.jpg  \n21    ISIC_0000022_segmentation.png  ISIC_0000022.jpg  \n25    ISIC_0000026_segmentation.png  ISIC_0000026.jpg  \n...                             ...               ...  \n1991  ISIC_0015190_segmentation.png  ISIC_0015190.jpg  \n1992  ISIC_0015200_segmentation.png  ISIC_0015200.jpg  \n1993  ISIC_0015204_segmentation.png  ISIC_0015204.jpg  \n1994  ISIC_0015219_segmentation.png  ISIC_0015219.jpg  \n1998  ISIC_0015284_segmentation.png  ISIC_0015284.jpg  \n\n[374 rows x 5 columns]",
            "text/html": "<div>\n<style scoped>\n    .dataframe tbody tr th:only-of-type {\n        vertical-align: middle;\n    }\n\n    .dataframe tbody tr th {\n        vertical-align: top;\n    }\n\n    .dataframe thead th {\n        text-align: right;\n    }\n</style>\n<table border=\"1\" class=\"dataframe\">\n  <thead>\n    <tr style=\"text-align: right;\">\n      <th></th>\n      <th>image_id</th>\n      <th>melanoma</th>\n      <th>seborrheic_keratosis</th>\n      <th>mask</th>\n      <th>raw</th>\n    </tr>\n  </thead>\n  <tbody>\n    <tr>\n      <th>2</th>\n      <td>ISIC_0000002</td>\n      <td>1.0</td>\n      <td>0.0</td>\n      <td>ISIC_0000002_segmentation.png</td>\n      <td>ISIC_0000002.jpg</td>\n    </tr>\n    <tr>\n      <th>4</th>\n      <td>ISIC_0000004</td>\n      <td>1.0</td>\n      <td>0.0</td>\n      <td>ISIC_0000004_segmentation.png</td>\n      <td>ISIC_0000004.jpg</td>\n    </tr>\n    <tr>\n      <th>12</th>\n      <td>ISIC_0000013</td>\n      <td>1.0</td>\n      <td>0.0</td>\n      <td>ISIC_0000013_segmentation.png</td>\n      <td>ISIC_0000013.jpg</td>\n    </tr>\n    <tr>\n      <th>21</th>\n      <td>ISIC_0000022</td>\n      <td>1.0</td>\n      <td>0.0</td>\n      <td>ISIC_0000022_segmentation.png</td>\n      <td>ISIC_0000022.jpg</td>\n    </tr>\n    <tr>\n      <th>25</th>\n      <td>ISIC_0000026</td>\n      <td>1.0</td>\n      <td>0.0</td>\n      <td>ISIC_0000026_segmentation.png</td>\n      <td>ISIC_0000026.jpg</td>\n    </tr>\n    <tr>\n      <th>...</th>\n      <td>...</td>\n      <td>...</td>\n      <td>...</td>\n      <td>...</td>\n      <td>...</td>\n    </tr>\n    <tr>\n      <th>1991</th>\n      <td>ISIC_0015190</td>\n      <td>1.0</td>\n      <td>0.0</td>\n      <td>ISIC_0015190_segmentation.png</td>\n      <td>ISIC_0015190.jpg</td>\n    </tr>\n    <tr>\n      <th>1992</th>\n      <td>ISIC_0015200</td>\n      <td>1.0</td>\n      <td>0.0</td>\n      <td>ISIC_0015200_segmentation.png</td>\n      <td>ISIC_0015200.jpg</td>\n    </tr>\n    <tr>\n      <th>1993</th>\n      <td>ISIC_0015204</td>\n      <td>1.0</td>\n      <td>0.0</td>\n      <td>ISIC_0015204_segmentation.png</td>\n      <td>ISIC_0015204.jpg</td>\n    </tr>\n    <tr>\n      <th>1994</th>\n      <td>ISIC_0015219</td>\n      <td>1.0</td>\n      <td>0.0</td>\n      <td>ISIC_0015219_segmentation.png</td>\n      <td>ISIC_0015219.jpg</td>\n    </tr>\n    <tr>\n      <th>1998</th>\n      <td>ISIC_0015284</td>\n      <td>1.0</td>\n      <td>0.0</td>\n      <td>ISIC_0015284_segmentation.png</td>\n      <td>ISIC_0015284.jpg</td>\n    </tr>\n  </tbody>\n</table>\n<p>374 rows × 5 columns</p>\n</div>"
          },
          "metadata": {}
        }
      ]
    },
    {
      "cell_type": "markdown",
      "source": "# Task 1: Implement Two Features\nChoose one of the ABC (Asymetry, Border or Color) features and implement a function to measure it for one\nimage. While you are doing this, you might want to create “toy” images where\nyou already know the results, for example a circle should be less asymmetric\nthan an ellipse, etc.\nOnce you are satisfied with your implementations, run them on all your\nimages, and examine the feature distributions for each class, for example using\nscatter plots. Do you see differences between the classes?",
      "metadata": {
        "tags": [],
        "cell_id": "00014-bd3fff0c-78b3-4120-b6dd-c94f2ef74d8f",
        "deepnote_cell_type": "markdown"
      }
    },
    {
      "cell_type": "markdown",
      "source": "## Asymmetry",
      "metadata": {
        "tags": [],
        "cell_id": "00020-f1da71f7-e40c-4d42-8d63-e3bcad4b1d33",
        "deepnote_cell_type": "markdown"
      }
    },
    {
      "cell_type": "code",
      "metadata": {
        "tags": [],
        "cell_id": "00029-d3047c58-4b6d-4840-8c50-9daba3e7688f",
        "deepnote_to_be_reexecuted": false,
        "source_hash": "9d646e05",
        "execution_millis": 5,
        "execution_start": 1619087737034,
        "deepnote_cell_type": "code"
      },
      "source": "import math\n\ndef test_asymmetry(mask):\n\n    x_min, x_max, y_min, y_max = get_mask_size(mask)\n\n    mask_cropped = mask[y_min:y_max, x_min:x_max]\n\n    # for angle in range(0,180, 45):\n        # print(angle)\n\n        # rotated_mask = rotate(mask_cropped,angle)\n        \n        # x_min, x_max, y_min, y_max = get_mask_size(rotated_mask)\n\n        # View left half of the x-axis\n    x_half = (x_max - x_min) / 2 # Gives us the middle \n\n    if x_half.is_integer():\n        mask_x_half_left = mask_cropped[:, :int(x_half)]\n        mask_x_half_right = mask_cropped[:, int(x_half):]\n    else:\n        mask_x_half_left = mask_cropped[:, :int(x_half)+1]\n        mask_x_half_right = mask_cropped[:, int(x_half):]\n\n    mask_x_half_right_flipped = np.fliplr(mask_x_half_right)\n\n    x_diff = mask_x_half_left - mask_x_half_right_flipped\n\n    # Fold in half y-axis\n    y_half = (y_max - y_min) / 2 # Gives us the middle \n\n    if y_half.is_integer():\n        mask_y_half_left = mask_cropped[:int(y_half), :]\n        mask_y_half_right = mask_cropped[int(y_half):, :]\n    else:\n        mask_y_half_left = mask_cropped[:int(y_half)+1, :]\n        mask_y_half_right = mask_cropped[int(y_half):, :]\n\n\n    mask_y_half_right_flipped = np.flipud(mask_y_half_right)\n\n    y_diff = mask_y_half_left - mask_y_half_right_flipped\n\n    # Calculing diff\n\n    gray1 = np.count_nonzero(x_diff == 0)\n    non_gray1 = np.count_nonzero(x_diff)\n\n    score_x = non_gray1/gray1 * 100\n\n    gray1 = np.count_nonzero(y_diff == 0)\n    non_gray1 = np.count_nonzero(y_diff)\n\n    score_y = non_gray1/gray1 * 100\n\n    return score_x if score_x > score_y else score_y",
      "execution_count": 80,
      "outputs": []
    },
    {
      "cell_type": "code",
      "metadata": {
        "tags": [],
        "cell_id": "00021-f1c873ea-3438-462a-a002-0ae714892f8c",
        "deepnote_to_be_reexecuted": false,
        "source_hash": "c65b6ac1",
        "execution_millis": 90,
        "execution_start": 1619089648862,
        "deepnote_cell_type": "code"
      },
      "source": "way = melanoma_dict['ISIC_0010329_segmentation.png']\n\nmask = plt.imread('../data/example_segmentation/ISIC_0004337_segmentation.png')\n\nmask = plt.imread(way)\nprint(test_asymmetry(mask))\n",
      "execution_count": 148,
      "outputs": [
        {
          "name": "stdout",
          "text": "29.21294764016681\n",
          "output_type": "stream"
        }
      ]
    },
    {
      "cell_type": "code",
      "metadata": {
        "tags": [],
        "cell_id": "00036-85218446-376c-4352-bc63-5eb1d9ed2c0d",
        "deepnote_to_be_reexecuted": false,
        "source_hash": "2c4be6f4",
        "execution_millis": 5,
        "execution_start": 1619089735785,
        "deepnote_cell_type": "code"
      },
      "source": "\n# x_min, x_max, y_min, y_max = get_mask_size(mask)\n\n# mask_cropped = mask[y_min-5:y_max+5, x_min-5:x_max+5]\n\n# # View left half of the x-axis\n# x_half = (x_max - x_min) / 2 + x_min # Gives us the middle \n\n# mask_x_half_left = mask[y_min-5:y_max+5, x_min-5:int(x_half)]\n# mask_x_half_right = mask[y_min-5:y_max+5, int(x_half):x_max+5]\n\n# mask_x_half_right_flipped = np.fliplr(mask_x_half_right)\n\n# x_diff = mask_x_half_left - mask_x_half_right_flipped\n\n# # Fold in half y-axis\n# y_half = (y_max - y_min) / 2 + y_min # Gives us the middle \n\n# mask_y_half_left = mask[y_min-5:int(y_half), x_min-5:x_max+5]\n# mask_y_half_right = mask[int(y_half):y_max+5, x_min-5:x_max+5]\n\n# mask_y_half_right_flipped = np.flipud(mask_y_half_right)\n\n# y_diff = mask_y_half_left - mask_y_half_right_flipped\n\n\n# # Calculing diff\n\n# gray1 = np.count_nonzero(x_diff == 0)\n# non_gray1 = np.count_nonzero(x_diff)\n\n# print(non_gray1)\n\n# gray1 = np.count_nonzero(y_diff == 0)\n# non_gray1 = np.count_nonzero(y_diff)\n\n# print(non_gray1)\n\n# # Displaying the output for vertical\n# fig, axes = plt.subplots(nrows=1, ncols=5, figsize=(7, 4))\n# axes[0].imshow(mask_cropped,cmap='gray')\n# axes[1].imshow(mask_cropped_rotate, cmap=\"gray\")\n# axes[2].imshow(mask_x_half_left,cmap='gray')\n# axes[3].imshow(mask_x_half_right,cmap='gray')\n# axes[4].imshow(x_diff,cmap='gray')\n# fig.tight_layout()\n\n# fig, axes = plt.subplots(nrows=1, ncols=4, figsize=(7, 4))\n# axes[0].imshow(mask_cropped,cmap='gray')\n# axes[1].imshow(mask_y_half_left,cmap='gray')\n# axes[2].imshow(mask_y_half_right,cmap='gray')\n# axes[3].imshow(y_diff,cmap=\"gray\")\n# fig.tight_layout()\n\n# # Flipping the mask vertically and horizontally\n# mask_ver = np.fliplr(mask_cropped)\n# mask_hor = np.flipud(mask_cropped)\n\n\n\n\n\n# # Displaying the output for horizontal\n# fig, axes = plt.subplots(nrows=1, ncols=2, figsize=(7, 4))\n# axes[0].imshow(mask_cropped,cmap='gray')\n# axes[1].imshow(mask_hor,cmap='gray')\n# fig.tight_layout()",
      "execution_count": 155,
      "outputs": []
    },
    {
      "cell_type": "code",
      "metadata": {
        "tags": [],
        "cell_id": "00025-f180ddb5-9b50-4506-8f59-7293507340e7",
        "deepnote_to_be_reexecuted": false,
        "source_hash": "9e641d6f",
        "execution_millis": 1,
        "execution_start": 1619089727745,
        "deepnote_cell_type": "code"
      },
      "source": "# Subtract the masks from each other to get the difference\n\n#image_diff1 = mask_cropped - mask_ver\n#image_diff2 = mask_cropped - mask_hor\n\n# Counting number of gray and non-gray pixels\n#gray1 = np.count_nonzero(image_diff1 == 0)\n#non_gray1 = np.count_nonzero(image_diff1)\n\n#print(non_gray1)\n\n#gray2 = np.count_nonzero(image_diff2 == 0)\n#non_gray2 = np.count_nonzero(image_diff2)\n\n#print(non_gray2)\n\n#fig, axes = plt.subplots(nrows=1, ncols=2, figsize=(7, 4))\n#axes[0].imshow(image_diff1,cmap='gray')\n#axes[1].imshow(image_diff2,cmap='gray')\n#fig.tight_layout()",
      "execution_count": 153,
      "outputs": []
    },
    {
      "cell_type": "code",
      "metadata": {
        "tags": [],
        "cell_id": "00032-026679c1-c605-421a-9176-2c51fd421990",
        "deepnote_to_be_reexecuted": false,
        "source_hash": "eed9d940",
        "execution_millis": 0,
        "execution_start": 1619089730046,
        "deepnote_cell_type": "code"
      },
      "source": "# Inspect an entire np array (only consists of -1, 0, 1)\n#import sys\n#np.set_printoptions(threshold=sys.maxsize)\n#image_diff1\n\n# Counting number of gray and non-gray pixels\n#gray1 = np.count_nonzero(image_diff1 == 0)\n#non_gray1 = np.count_nonzero(image_diff1)\n\n#gray2 = np.count_nonzero(image_diff2 == 0)\n#non_gray2 = np.count_nonzero(image_diff2)\n\n#print(\"Left picture\")\n#print(\"Number of gray pixels is \" + str(gray1))\n#print(\"Number of non-gray pixels is \" + str(non_gray1))\n#print(\"Number of gray pixels compared to non-gray pixels is \" + str(gray1 / non_gray1))\n#print(\" \")\n#print(\"Right picture\")\n#print(\"Number of gray pixels is \" + str(gray2))\n#print(\"Number of non-gray pixels is \" + str(non_gray2))\n#print(\"Number of gray pixels compared to non-gray pixels is \" + str(gray2 / non_gray2))\n#print(\" \")",
      "execution_count": 154,
      "outputs": []
    },
    {
      "cell_type": "markdown",
      "source": "## Border",
      "metadata": {
        "tags": [],
        "cell_id": "00022-15828be1-33a6-4355-9f5a-6edd1d958035",
        "deepnote_cell_type": "markdown"
      }
    },
    {
      "cell_type": "code",
      "metadata": {
        "tags": [],
        "cell_id": "00023-424b25a0-aca6-4b58-a63c-9fce627ad9f4",
        "deepnote_to_be_reexecuted": false,
        "source_hash": "7db579bc",
        "execution_millis": 275,
        "execution_start": 1619083721945,
        "deepnote_cell_type": "code"
      },
      "source": "from skimage.morphology import opening\ndef find_border(mask):\n    \"\"\"Returns a ratio between the surcumfrance and the area of a mask. \n    It returns 0 for a perfect circle, and increasingly higher returns for larger \n    surcomfrance compared with area.\"\"\"\n    # Using the fact that all values within the area of the mask is 1, \n    # the area is equal to the sum of the mask\n    ones = np.sum(mask)\n    # Applying a gausian border to find the surcumfrance\n    border = filters.difference_of_gaussians(mask,1) \n    # Reducing the size of the border.\n\n    border = np.where((border < -0.01) & (border > 0.01), 1, border)\n    border = np.where(border < 0.01 , 0, border)\n\n\n    surcumfrance = np.sum(border)\n\n    #plt.imshow(border, cmap='gray')\n\n    Compactness = surcumfrance**2/ones*12\n\n\n    return(Compactness)\n\nfind_border(mask)\ntest_square = np.pad(np.ones((100,200)), pad_width = 5, constant_values=0)\ntest_big_square = np.pad(np.ones((1000,2000)), pad_width = 5, constant_values=0)\n# find_border(test_big_square)\n# find_border(test_square)\n\n# Idea from https://stackoverflow.com/questions/10031580/how-to-write-simple-geometric-shapes-into-numpy-arrays\nxx, yy = np.mgrid[:200, :200]\n\ncircle = (xx - 100) ** 2 + (yy - 100) ** 2\ncircle1 = np.where(circle < 1500, 1, circle)\ncircle1 = np.where(circle1 > 1, 0, circle1)\ncircle2 = np.where(circle < 1850, 1, circle)\ncircle2 = np.where(circle2 > 1, 0, circle2)\n# find_border(circle1)\n# find_border(circle2)\n\n\n\n",
      "execution_count": 26,
      "outputs": []
    },
    {
      "cell_type": "code",
      "source": "def test_color2(image, mask):\n    # Have to do this in order for skimage to work properly\n    mask = img_as_float(mask[::2, ::2])\n    image = img_as_float(image[::2, ::2])\n\n    segments = slic(image, n_segments= 20, compactness=3,sigma= 5, max_iter=10, mask=mask, convert2lab=True)\n\n    plt.imshow(segments)\n    plt.show()\n\n    def sp_idx(s, index = True):\n        u = np.unique(s)\n        return [np.where(s == i) for i in u]\n\n    blended_colors = label2rgb(segments, image, kind=\"avg\", bg_label=0) # returns RGB floats / RGB Normalized \n    # To convert the normalized RGB back to RGB, we have to multiply the colour channel with 255 and round.\n\n    plt.imshow(blended_colors)\n\n    print(len(blended_colors))\n\n    # Need to figure out a way to point to each segment.\n    #                       x   y  R = 0/G = 1/B = 2\n    # print(blended_colors[80][140][0])\n\n    print(segments.shape)\n\n    superpixel_list = sp_idx(segments)\n    #superpixel      = [image[blended_colors] for idx in blended_colors]\n\n    print(0.47518085 * 255)\n\n    print(len(superpixel_list))\n\n    for i in superpixel_list:\n        print(np.unique(i[0]))\n\n    #print(superpixel_list[1])\n\n    print(r)\n\n    # for colour in liste:\n    #     print(colour[0])\n    #     r = colour[0] * 255\n    #     g = colour[1] * 255\n    #     b = colour[2] * 255\n    #     print(r,g,b)\n    \n\n    specific_colors = np.unique(blended_colors)\n\n    # Average of the colors of the lesion\n    # Subtract the highest color spot from the average\n\n    print(specific_colors)\n\n    skin_color_treshold = 0.3\n    to_avg = []\n\n    for spot_color in specific_colors:\n        if spot_color > skin_color_treshold:\n            to_avg.append(spot_color)\n\n    highest = specific_colors[-1]\n    average = sum(to_avg) / len(to_avg)\n\n    print(\"here\")\n\n    return highest - average",
      "metadata": {
        "tags": [],
        "cell_id": "00044-ad133542-027f-4a5c-8cb5-451e7d50f2a9",
        "deepnote_to_be_reexecuted": false,
        "source_hash": "fa2d6c90",
        "execution_millis": 0,
        "execution_start": 1619094086033,
        "deepnote_cell_type": "code"
      },
      "outputs": [],
      "execution_count": 321
    },
    {
      "cell_type": "code",
      "source": "\n# image = plt.imread('../white.jpg')\n# image = image[100:500,200:600]\n\n# diff = test_color2(image)\n# print(diff)\n\n# Cancer free\n\nmask = plt.imread('../data/example_segmentation/ISIC_0004337_segmentation.png')\nx_min, x_max, y_min, y_max = get_mask_size(mask)\n\nmask = mask[y_min:y_max, x_min:x_max]\n\nimage = plt.imread('../data/example_image/ISIC_0004337.jpg')\nimage = image[y_min:y_max, x_min:x_max]\n\ndiff = test_color2(image, mask)\nprint(diff)\n\nprint(round(0.66471408 * 255))\n\n# Cancer\n\n# mask = plt.imread('../data/example_segmentation/ISIC_0014809_segmentation.png')\n# x_min, x_max, y_min, y_max = get_mask_size(mask)\n# mask = mask[y_min:y_max, x_min:x_max]\n\n# image = plt.imread('../data/example_image/ISIC_0014809.jpg')\n# image = image[y_min:y_max, x_min:x_max]\n\n# plt.imshow(mask)\n\n#[0.58997018 0.32687186 0.15325907]\n\n# diff = test_color2(image, mask)\n# print(diff)",
      "metadata": {
        "tags": [],
        "cell_id": "00044-ee3f6087-0b61-47ac-b4df-b34d9650e3d8",
        "deepnote_to_be_reexecuted": false,
        "source_hash": "cc7b1fb2",
        "execution_millis": 1124,
        "execution_start": 1619094087554,
        "deepnote_cell_type": "code"
      },
      "outputs": [
        {
          "data": {
            "text/plain": "<Figure size 432x288 with 1 Axes>",
            "image/png": "[encoded data removed]"
          },
          "metadata": {
            "needs_background": "light"
          },
          "output_type": "display_data"
        },
        {
          "name": "stdout",
          "text": "229\n(229, 271)\n121.17111675\n21\n[  0   1   2   3   4   5   6   7   8   9  10  11  12  13  14  15  16  17\n  18  19  20  21  22  23  24  25  26  27  28  29  30  31  32  33  34  35\n  36  37  38  39  40  41  42  43  44  45  46  47  48  49  50  51  52  53\n  54  55  56  57  58  59  60  61  62  63  64  65  66  67  68  69  70  71\n  72  73  74  75  76  77  78  79  80  81  82  83  84  85  86  87  88  89\n  90  91  92  93  94  95  96  97  98  99 100 101 102 103 104 105 106 107\n 108 109 110 111 112 113 114 115 116 117 118 119 120 121 122 123 124 125\n 126 127 128 129 130 131 132 133 134 135 136 137 138 139 140 141 142 143\n 144 145 146 147 148 149 150 151 152 153 154 155 156 157 158 159 160 161\n 162 163 164 165 166 167 168 169 170 171 172 173 174 175 176 177 178 179\n 180 181 182 183 184 185 186 187 188 189 190 191 192 193 194 195 196 197\n 198 199 200 201 202 203 204 205 206 207 208 209 210 211 212 213 214 215\n 216 217 218 219 220 221 222 223 224 225 226 227 228]\n[  0   1   2   3   4   5   6   7   8   9  10  11  12  13  14  15  16  17\n  18  19  20  21  22  23  24  25  26  27  28  29  30  31  32  33  34  35\n  36  37  38  39  40  41  42  43  44  45  46  47  48  49  50  51  52  53\n  54  55  56  57  58  59  60  61  62  63  64  65  66  67  68  69  70  71\n  72  73  74  75  76  77  78  79  80  81  82  83  84  85  86  87  88  89\n  90  91  92  93  94  95  96  97  98  99 100 101 102 103 104 105 106 107\n 108 109 110]\n[ 0  1  2  3  4  5  6  7  8  9 10 11 12 13 14 15 16 17 18 19 20 21 22 23\n 24 25 26 27 28 29 30 31 32 33 34 35 36 37 38 39 40 41 42 43 44 45 46 47\n 48 49 50 51 52 53 54 55 56 57 58 59 60 61 62 63 64 65 66]\n[ 1  2  3  4  5  6  7  8  9 10 11 12 13 14 15 16 17 18 19 20 21 22 23 24\n 25 26 27 28 29 30 31 32 33 34 35 36 37 38 39 40 41 42 43 44 45 46 47 48\n 49 50 51 52 53 54 55 56 57 58 59 60 61 62 63 64 65 66]\n[16 17 18 19 20 21 22 23 24 25 26 27 28 29 30 31 32 33 34 35 36 37 38 39\n 40 41 42 43 44 45 46 47 48 49 50 51 52 53 54 55 56 57 58 59 60 61 62 63\n 64 65 66 67 68 69 70 71 72 73 74]\n[ 18  19  20  21  22  23  24  25  26  27  28  29  30  31  32  33  34  35\n  36  37  38  39  40  41  42  43  44  45  46  47  48  49  50  51  52  53\n  54  55  56  57  58  59  60  61  62  63  64  65  66  67  68  69  70  71\n  72  73  74  75  76  77  78  79  80  81  82  83  84  85  86  87  88  89\n  90  91  92  93  94  95  96  97  98  99 100 101 102 103 104 105 106 107]\n[25 26 27 28 29 30 31 32 33 34 35 36 37 38 39 40 41 42 43 44 45 46 47 48\n 49 50 51 52 53 54 55 56 57 58 59 60 61 62 63 64 65 66 67 68 69 70 71 72\n 73 74 75 76 77 78 79 80 81 82 83 84 85 86 87 88 89 90 91 92 93 94 95 96\n 97 98 99]\n[ 35  36  37  38  39  40  41  42  43  44  45  46  47  48  49  50  51  52\n  53  54  55  56  57  58  59  60  61  62  63  64  65  66  67  68  69  70\n  71  72  73  74  75  76  77  78  79  80  81  82  83  84  85  86  87  88\n  89  90  91  92  93  94  95  96  97  98  99 100 101 102 103 104 105 106\n 107 108 109 110 111 112 113 114 115]\n[ 45  46  47  48  49  50  51  52  53  54  55  56  57  58  59  60  61  62\n  63  64  65  66  67  68  69  70  71  72  73  74  75  76  77  78  79  80\n  81  82  83  84  85  86  87  88  89  90  91  92  93  94  95  96  97  98\n  99 100 101 102 103 104 105 106 107 108 109 110 111 112 113 114 115 116\n 117 118 119 120 121 122 123 124 125 126 127 128 129 130 131 132 133 134]\n[ 52  53  54  55  56  57  58  59  60  61  62  63  64  65  66  67  68  69\n  70  71  72  73  74  75  76  77  78  79  80  81  82  83  84  85  86  87\n  88  89  90  91  92  93  94  95  96  97  98  99 100 101 102 103 104 105\n 106 107 108 109 110 111 112 113 114 115 116 117 118 119 120 121 122 123\n 124 125 126 127 128 129 130 131 132 133 134 135 136 137 138 139 140 141\n 142 143 144 145 146 147 148 149 150 151 152 153 154 155 156 157 158 159\n 160 161]\n[ 66  67  68  69  70  71  72  73  74  75  76  77  78  79  80  81  82  83\n  84  85  86  87  88  89  90  91  92  93  94  95  96  97  98  99 100 101\n 102 103 104 105 106 107 108 109 110 111 112 113 114 115 116 117 118 119\n 120 121 122 123 124 125 126 127 128 129 130 131 132 133 134 135 136 137\n 138 139 140 141 142 143 144 145 146 147 148 149 150 151 152 153 154 155\n 156 157 158 159 160 161 162 163 164 165 166 167 168 169 170]\n[ 91  92  93  94  95  96  97  98  99 100 101 102 103 104 105 106 107 108\n 109 110 111 112 113 114 115 116 117 118 119 120 121 122 123 124 125 126\n 127 128 129 130 131 132 133 134 135 136 137 138 139 140 141 142 143 144\n 145 146 147 148 149 150 151 152 153 154 155 156 157 158 159 160 161 162\n 163 164 165 166 167 168 169 170 171 172 173 174 175 176 177 178 179 180\n 181 182 183 184 185 186]\n[ 97  98  99 100 101 102 103 104 105 106 107 108 109 110 111 112 113 114\n 115 116 117 118 119 120 121 122 123 124 125 126 127 128 129 130 131 132\n 133 134 135 136 137 138 139 140 141 142 143 144 145 146 147 148 149 150\n 151 152 153 154 155 156 157 158 159 160 161 162 163 164 165 166 167 168\n 169 170 171 172 173 174 175 176 177 178 179 180 181 182 183 184 185 186\n 187 188 189]\n[104 105 106 107 108 109 110 111 112 113 114 115 116 117 118 119 120 121\n 122 123 124 125 126 127 128 129 130 131 132 133 134 135 136 137 138 139\n 140 141 142 143 144 145 146 147 148 149 150 151 152 153 154 155 156 157\n 158 159 160 161 162 163 164 165 166 167 168 169 170 171 172 173 174 175\n 176 177 178 179 180 181 182 183 184 185 186 187 188 189 190 191 192 193\n 194 195 196 197 198 199 200]\n[111 112 113 114 115 116 117 118 119 120 121 122 123 124 125 126 127 128\n 129 130 131 132 133 134 135 136 137 138 139 140 141 142 143 144 145 146\n 147 148 149 150 151 152 153 154 155 156 157 158 159 160 161 162 163 164\n 165 166 167 168 169 170 171 172 173 174 175 176 177 178 179 180 181 182\n 183 184 185 186 187 188 189 190 191 192 193 194 195 196 197 198 199 200\n 201 202 203 204 205 206 207 208 209 210 211]\n[113 114 115 116 117 118 119 120 121 122 123 124 125 126 127 128 129 130\n 131 132 133 134 135 136 137 138 139 140 141 142 143 144 145 146 147 148\n 149 150 151 152 153 154 155 156 157 158 159 160 161 162 163 164 165 166\n 167 168 169 170 171 172 173 174 175 176 177 178 179 180 181 182 183 184\n 185 186 187 188 189]\n[113 114 115 116 117 118 119 120 121 122 123 124 125 126 127 128 129 130\n 131 132 133 134 135 136 137 138 139 140 141 142 143 144 145 146 147 148\n 149 150 151 152 153 154 155 156 157 158 159 160 161 162 163 164 165 166\n 167 168 169 170 171 172 173 174 175 176 177 178]\n[153 154 155 156 157 158 159 160 161 162 163 164 165 166 167 168 169 170\n 171 172 173 174 175 176 177 178 179 180 181 182 183 184 185 186 187 188\n 189 190 191 192 193 194 195 196 197 198 199 200 201 202]\n[153 154 155 156 157 158 159 160 161 162 163 164 165 166 167 168 169 170\n 171 172 173 174 175 176 177 178 179 180 181 182 183 184 185 186 187 188\n 189 190 191 192 193 194 195 196 197 198 199 200 201 202 203 204 205 206\n 207 208 209 210 211 212]\n[172 173 174 175 176 177 178 179 180 181 182 183 184 185 186 187 188 189\n 190 191 192 193 194 195 196 197 198 199 200 201 202 203 204 205 206 207\n 208 209 210 211 212 213 214 215 216 217 218 219 220 221 222 223 224 225\n 226 227 228]\n[178 179 180 181 182 183 184 185 186 187 188 189 190 191 192 193 194 195\n 196 197 198 199 200 201 202 203 204 205 206 207 208 209 210 211 212 213\n 214 215 216 217 218 219 220 221 222 223 224 225 226 227 228]\n",
          "output_type": "stream"
        },
        {
          "output_type": "error",
          "ename": "NameError",
          "evalue": "name 'r' is not defined",
          "traceback": [
            "\u001b[0;31m---------------------------------------------------------------------------\u001b[0m",
            "\u001b[0;31mNameError\u001b[0m                                 Traceback (most recent call last)",
            "\u001b[0;32m<ipython-input-322-7568e975c072>\u001b[0m in \u001b[0;36m<module>\u001b[0;34m\u001b[0m\n\u001b[1;32m     15\u001b[0m \u001b[0mimage\u001b[0m \u001b[0;34m=\u001b[0m \u001b[0mimage\u001b[0m\u001b[0;34m[\u001b[0m\u001b[0my_min\u001b[0m\u001b[0;34m:\u001b[0m\u001b[0my_max\u001b[0m\u001b[0;34m,\u001b[0m \u001b[0mx_min\u001b[0m\u001b[0;34m:\u001b[0m\u001b[0mx_max\u001b[0m\u001b[0;34m]\u001b[0m\u001b[0;34m\u001b[0m\u001b[0;34m\u001b[0m\u001b[0m\n\u001b[1;32m     16\u001b[0m \u001b[0;34m\u001b[0m\u001b[0m\n\u001b[0;32m---> 17\u001b[0;31m \u001b[0mdiff\u001b[0m \u001b[0;34m=\u001b[0m \u001b[0mtest_color2\u001b[0m\u001b[0;34m(\u001b[0m\u001b[0mimage\u001b[0m\u001b[0;34m,\u001b[0m \u001b[0mmask\u001b[0m\u001b[0;34m)\u001b[0m\u001b[0;34m\u001b[0m\u001b[0;34m\u001b[0m\u001b[0m\n\u001b[0m\u001b[1;32m     18\u001b[0m \u001b[0mprint\u001b[0m\u001b[0;34m(\u001b[0m\u001b[0mdiff\u001b[0m\u001b[0;34m)\u001b[0m\u001b[0;34m\u001b[0m\u001b[0;34m\u001b[0m\u001b[0m\n\u001b[1;32m     19\u001b[0m \u001b[0;34m\u001b[0m\u001b[0m\n",
            "\u001b[0;32m<ipython-input-321-99cdc80376a2>\u001b[0m in \u001b[0;36mtest_color2\u001b[0;34m(image, mask)\u001b[0m\n\u001b[1;32m     38\u001b[0m     \u001b[0;31m#print(superpixel_list[1])\u001b[0m\u001b[0;34m\u001b[0m\u001b[0;34m\u001b[0m\u001b[0;34m\u001b[0m\u001b[0m\n\u001b[1;32m     39\u001b[0m \u001b[0;34m\u001b[0m\u001b[0m\n\u001b[0;32m---> 40\u001b[0;31m     \u001b[0mprint\u001b[0m\u001b[0;34m(\u001b[0m\u001b[0mr\u001b[0m\u001b[0;34m)\u001b[0m\u001b[0;34m\u001b[0m\u001b[0;34m\u001b[0m\u001b[0m\n\u001b[0m\u001b[1;32m     41\u001b[0m \u001b[0;34m\u001b[0m\u001b[0m\n\u001b[1;32m     42\u001b[0m     \u001b[0;31m# for colour in liste:\u001b[0m\u001b[0;34m\u001b[0m\u001b[0;34m\u001b[0m\u001b[0;34m\u001b[0m\u001b[0m\n",
            "\u001b[0;31mNameError\u001b[0m: name 'r' is not defined"
          ]
        },
        {
          "data": {
            "text/plain": "<Figure size 432x288 with 1 Axes>",
            "image/png": "[encoded data removed]"
          },
          "metadata": {
            "needs_background": "light"
          },
          "output_type": "display_data"
        }
      ],
      "execution_count": 322
    },
    {
      "cell_type": "markdown",
      "source": "## Colour",
      "metadata": {
        "tags": [],
        "cell_id": "00024-5f533f11-966c-441c-b586-77e89ff6601b",
        "deepnote_cell_type": "markdown"
      }
    },
    {
      "cell_type": "code",
      "metadata": {
        "tags": [],
        "cell_id": "00022-1c9ba73c-3de2-4286-ac65-b2ad43293398",
        "deepnote_to_be_reexecuted": false,
        "source_hash": "48385b73",
        "execution_millis": 48,
        "execution_start": 1619083724886,
        "deepnote_cell_type": "code"
      },
      "source": "import matplotlib.pyplot as plt\nimport numpy as np\n\n# from skimage.data import astronaut\n# from skimage.color import rgb2gray\nfrom skimage.color import label2rgb\n# from skimage.filters import sobel\nfrom skimage.segmentation import slic\nfrom skimage.segmentation import mark_boundaries\nfrom skimage.util import img_as_float\n\ndef test_color(image, mask):\n    # Have to do this in order for skimage to work properly\n    mask = img_as_float(mask[::2, ::2])\n    image = img_as_float(image[::2, ::2])\n\n    segments = slic(image, n_segments= 20, compactness=3,sigma= 5, max_iter=10, mask=mask)\n\n    blended_colors = label2rgb(segments, image, kind=\"avg\", bg_label=0)\n\n    specific_colors = np.unique(blended_colors)\n\n    # Average of the colors of the lesion\n    # Subtract the highest color spot from the average\n\n    skin_color_treshold = 0.3\n    to_avg = []\n\n    for spot_color in specific_colors:\n        if spot_color > skin_color_treshold:\n            to_avg.append(spot_color)\n\n    highest = specific_colors[-1]\n    average = sum(to_avg) / len(to_avg)\n\n    return highest - average\n\n    # -----\n\n    # Okay method to test for cancer\n\n    # for i in range(-2, -10, -1): # Check the color difference from the 9 highest valued segments\n    #     #print(highest - specific_colors[i])\n    #     if ((highest - specific_colors[i]) > threshold):\n    #         print(\"Cancerous\")\n    #         break\n\n\n    # fig, axes = plt.subplots(nrows=2, ncols=2, figsize=(14, 8))\n    # axes[0][0].imshow(mask)\n    # axes[0][1].imshow(image)\n    # axes[1][0].imshow(blended_colors)\n    # axes[1][1].imshow(mark_boundaries(image, segments, color=(0,0,0)))\n    # fig.tight_layout()\n\n# # Threshold\n# threshold_for_cancer = 0.18\n\n# # Cancer free\n# x_min, x_max, y_min, y_max = get_mask_size('../data/example_segmentation/ISIC_0004337_segmentation.png')\n\n# mask = plt.imread('../data/example_segmentation/ISIC_0004337_segmentation.png')\n# mask = mask[x_min:x_max, y_min:y_max]\n\n# image = plt.imread('../data/example_image/ISIC_0004337.jpg')\n# image = image[x_min:x_max, y_min:y_max]\n\n# diff = test_color(image, mask)\n\n# if diff > threshold_for_cancer:\n#     print(\"Cancerous\")\n# else:\n#     print(\"Not Cancerous\")\n# # ---------- # ----------\n\n# x_min, x_max, y_min, y_max = get_mask_size(mask)\n\n# mask = plt.imread('../data/example_segmentation/ISIC_0013010_segmentation.png')\n# mask = mask[x_min:x_max, y_min:y_max]\n\n# image = plt.imread('../data/example_image/ISIC_0013010.jpg')\n# image = image[x_min:x_max, y_min:y_max]\n\n# diff = test_color(image, mask)\n\n# if diff > threshold_for_cancer:\n#     print(\"Cancerous\")\n# else:\n#     print(\"Not Cancerous\")\n\n# Cancer\n# mask = plt.imread('../data/example_segmentation/ISIC_0014809_segmentation.png')\n# mask = mask[1000:4500, 1500:5000]\n\n# image = plt.imread('../data/example_image/ISIC_0014809.jpg')\n# image = image[1000:4500, 1500:5000]\n\n# test_color(image, mask)\n# --------\n# mask = plt.imread('../data/example_segmentation/ISIC_0013663_segmentation.png')\n# mask = mask[0:2450, 1300:3100]\n\n# image = plt.imread('../data/example_image/ISIC_0013663.jpg')\n# image = image[0:2450, 1300:3100]\n\n# test_color(image, mask)\n",
      "execution_count": 27,
      "outputs": []
    },
    {
      "cell_type": "markdown",
      "source": "# Task 2: Predict the diagnosis\nSplit your data so that you are have training data and hold-out test data. Use\nthe training data to train different classifiers and investigate their parameters.\nOnce you made a choice, evaluate your classifier on the hold-out test data. Think\nof different metrics you can use, and different ways to present your results.",
      "metadata": {
        "tags": [],
        "cell_id": "00015-e5ac7833-d133-44a4-9de5-648399a98b3a",
        "deepnote_cell_type": "markdown"
      }
    },
    {
      "cell_type": "markdown",
      "source": "## Preparing machine learning\nThe data is split into training and the data that will be learned on, and the features are extracted",
      "metadata": {
        "tags": [],
        "cell_id": "00026-5d34e33a-9866-4ee6-baa2-c874e005a231",
        "deepnote_cell_type": "markdown"
      }
    },
    {
      "cell_type": "code",
      "metadata": {
        "tags": [],
        "cell_id": "00043-e17a539b-1dac-4320-b728-b81e062f86b6",
        "deepnote_to_be_reexecuted": true,
        "source_hash": "d1417aa7",
        "execution_millis": 6,
        "deepnote_cell_type": "code"
      },
      "source": "counts, unique = np.unique(y_train, return_counts=True)\nprint(counts, unique)",
      "execution_count": null,
      "outputs": [
        {
          "name": "stdout",
          "text": "[0. 1.] [56 19]\n",
          "output_type": "stream"
        }
      ]
    },
    {
      "cell_type": "code",
      "metadata": {
        "tags": [],
        "cell_id": "00040-d069cfca-74b4-495d-98bf-541536d5e3d5",
        "deepnote_to_be_reexecuted": true,
        "source_hash": "138e9050",
        "execution_millis": 26,
        "deepnote_cell_type": "code"
      },
      "source": "# This takes a very long time. Run this at your own risk...\n\n#x_train, x_test, y_train, y_test = train_test_split(images['image_id'], images['melanoma'], test_size = 0.3, random_state = 4)\nx_train2, x_test2, y_train2, y_test2 = train_test_split(images['image_id'], images['melanoma'], test_size = 0.3, random_state = 4)\n\nx_train_data = []\nfor test, picture in enumerate(x_train):\n    test_picture = list(image_merge['path'][image_merge['image_id'] == picture])\n    print(\"name_found\")\n    #print(test_picture)\n    # Load in the mask and picture\n    temp = []\n    mask = plt.imread(test_picture[0])\n    raw_pict = plt.imread(test_picture[-1])\n    print(\"Picture loaded\")\n    # Finding the boundaries of the mask.\n    x_min, x_max, y_min, y_max = get_mask_size(mask)\n    # \n    if x_min > 5:\n        mask = mask[:, x_min-5:]\n        raw_pict = raw_pict[:, x_min-5:]\n    if y_min > 5:\n        mask = mask[y_min-5:,:]\n        raw_pict = raw_pict[y_min-5:,:]    \n    if x_max < mask.shape[1]:\n        mask = mask[:,:x_max+5]\n        raw_pict = raw_pict[:,:x_max+5]\n    if  y_max < mask.shape[0]:\n        mask = mask[:y_max+5,:]\n        raw_pict = raw_pict[:y_max+5,:]\n        temp.append(test_asymmetry(mask))\n    temp.append(find_border(mask))\n    temp.append(test_color(raw_pict,mask))\n    x_train_data.append(temp)\n    print(temp)\n    \nx_test_data = []\nfor test, picture in enumerate(x_test):\n    test_picture = list(image_merge['path'][image_merge['image_id'] == picture])\n    #print(test_picture)\n    # Load in the mask and picture\n    temp = []\n    mask = plt.imread(test_picture[0])\n    raw_pict = plt.imread(test_picture[-1])\n    # Finding the boundaries of the mask.\n    x_min, x_max, y_min, y_max = get_mask_size(mask)\n    # Only applying the border if the \n    if x_min > 5:\n        mask = mask[:, x_min-5:]\n        raw_pict = raw_pict[:, x_min-5:]\n    if y_min > 5:\n        mask = mask[y_min-5:,:]\n        raw_pict = raw_pict[y_min-5:,:]    \n    if x_max < mask.shape[1]:\n        mask = mask[:,:x_max+5]\n        raw_pict = raw_pict[:,:x_max+5]\n    if  y_max < mask.shape[0]:\n        mask = mask[:y_max+5,:]\n        raw_pict = raw_pict[:y_max+5,:]\n    try:\n        temp.append(test_asymmetry(mask))\n    except: \n        temp.append(-1)\n    temp.append(find_border(mask))\n    temp.append(test_color(raw_pict,mask))\n\n    x_test_data.append(temp)\n\n    print(temp)\n\n# print(x_train_data)",
      "execution_count": null,
      "outputs": [
        {
          "output_type": "error",
          "ename": "SyntaxError",
          "evalue": "invalid syntax (<ipython-input-321-ba3ef669e796>, line 62)",
          "traceback": [
            "\u001b[0;36m  File \u001b[0;32m\"<ipython-input-321-ba3ef669e796>\"\u001b[0;36m, line \u001b[0;32m62\u001b[0m\n\u001b[0;31m    else:\u001b[0m\n\u001b[0m       ^\u001b[0m\n\u001b[0;31mSyntaxError\u001b[0m\u001b[0;31m:\u001b[0m invalid syntax\n"
          ]
        }
      ]
    },
    {
      "cell_type": "code",
      "metadata": {
        "tags": [],
        "cell_id": "00051-c0c140c1-5781-414d-b813-0646713e08b8",
        "deepnote_to_be_reexecuted": false,
        "source_hash": "385bc29c",
        "execution_millis": 4,
        "execution_start": 1619088971420,
        "deepnote_cell_type": "code"
      },
      "source": "melonoma_set = set()\nfor key in melanoma_dict:\n    melonoma_set.add(key[:12])\n\nhealth_set = set()\nfor key in cancer_free_dict:\n    health_set.add(key[:12])\n",
      "execution_count": 129,
      "outputs": []
    },
    {
      "cell_type": "code",
      "metadata": {
        "tags": [],
        "cell_id": "00051-ec4762db-c1a7-4da4-b11f-74741c081d8e",
        "deepnote_to_be_reexecuted": false,
        "source_hash": "f129a80f",
        "execution_millis": 249541,
        "execution_start": 1619089034610,
        "deepnote_cell_type": "code"
      },
      "source": "# melanoma_list = [] \n# for picture in melonoma_set:\n#     try:\n#         test_picture = melanoma_dict[picture+\".jpg\"]\n#         test_mask = melanoma_dict[picture+\"_segmentation.png\"]\n#         #print(test_picture)\n#         # Load in the mask and picture\n#         temp = []\n#         mask = plt.imread(test_mask)\n#         raw_pict = plt.imread(test_picture)\n#         # Finding the boundaries of the mask.\n#         x_min, x_max, y_min, y_max = get_mask_size(mask)\n#         # \n#         if x_min > 5:\n#             mask = mask[:, x_min-3:]\n#             raw_pict = raw_pict[:, x_min-3:]\n#         if y_min > 5:\n#             mask = mask[y_min-3:,:]\n#             raw_pict = raw_pict[y_min-3:,:]    \n#         if x_max < mask.shape[1]:\n#             mask = mask[:,:x_max+3]\n#             raw_pict = raw_pict[:,:x_max+3]\n#         if  y_max < mask.shape[0]:\n#             mask = mask[:y_max+3,:]\n#             raw_pict = raw_pict[:y_max+3,:]\n#         temp.append(test_asymmetry(mask))\n#         temp.append(find_border(mask))\n#         temp.append(test_color(raw_pict,mask))\n#         melanoma_list.append(temp)\n#         print(temp)\n#     except:\n#         pass\n    \n# healthy_list = []\n# for picture in health_set:\n#     try:\n\n#         test_picture = cancer_free_dict[picture+\".jpg\"]\n#         test_mask = cancer_free_dict[picture+\"_segmentation.png\"]\n#         #print(test_picture)\n#         # Load in the mask and picture\n#         temp = []\n#         mask = plt.imread(test_mask)\n#         raw_pict = plt.imread(test_picture)\n#         # Finding the boundaries of the mask.\n#         x_min, x_max, y_min, y_max = get_mask_size(mask)\n#         # Only applying the border if the \n#         if x_min > 5:\n#             mask = mask[:, x_min-5:]\n#             raw_pict = raw_pict[:, x_min-5:]\n#         if y_min > 5:\n#             mask = mask[y_min-5:,:]\n#             raw_pict = raw_pict[y_min-5:,:]    \n#         if x_max < mask.shape[1]:\n#             mask = mask[:,:x_max+5]\n#             raw_pict = raw_pict[:,:x_max+5]\n#         if  y_max < mask.shape[0]:\n#             mask = mask[:y_max+5,:]\n#             raw_pict = raw_pict[:y_max+5,:]\n\n#         temp.append(test_asymmetry(mask))\n#         temp.append(find_border(mask))\n#         temp.append(test_color(raw_pict,mask))\n\n#         healthy_list.append(temp)\n\n#     except:\n#         pass\n# print(healthy_list)",
      "execution_count": 133,
      "outputs": [
        {
          "name": "stdout",
          "text": "1578602\n[7.401392689074003, 8.817419395949432, 0.31414479874324364] ISIC_0000202\n1698016\n[25.312582473432123, 10.563745366860832, 0.17642006955391087] ISIC_0000059\n694564\n[9.413229198261046, 11.783488737990925, 0.2451110445262149] ISIC_0000068\n5038848\n[7.654048746725471, 17.26778769944641, 0.22563585971079392] ISIC_0000086\n392950\n[7.803700724054706, 9.778193892873382, 0.1786022501057642] ISIC_0000198\n441792\n[23.362022592791824, 12.03127964832984, 0.2843598444304022] ISIC_0000374\n3145728\n[45.192566074044535, 10.58469957064662, 0.35570290970079743] ISIC_0000111\n3145728\n[9.81272838002436, 20.89110811650356, 0.2551774928316861] ISIC_0000124\n441792\n[41.58006015306274, 11.228367327670648, 0.3510072230326058] ISIC_0000338\n786432\n[13.337891646221292, 9.840761210890381, 0.1758201722842494] ISIC_0000268\n648388\n[7.322279678327598, 8.999482892204401, 0.35957331853267993] ISIC_0000211\n786432\n[29.418911149920273, 12.070618818945615, 0.23554594221736302] ISIC_0000263\n441792\n[16.84738511470089, 10.978147433217295, 0.322370344395314] ISIC_0000322\n389156\n[6.7008451155525295, 11.206920697050341, 0.27421010571078475] ISIC_0000199\n391324\n[17.02016333897007, 9.943197469751238, 0.3531187120022964] ISIC_0000209\n441792\n[43.14383124982676, 9.436107555289302, 0.3452623209343749] ISIC_0000327\n1578602\n[4.1429275557416405, 7.729364248127775, 0.33837265692196594] ISIC_0000203\n783874\n[27.867467617796134, 10.970796681393736, 0.14367447454046706] ISIC_0000012\n611842\n[15.026488002492988, 10.546182739485102, 0.326132904802256] ISIC_0000217\n615036\n[46.629411247029836, 14.464908548055767, 0.29609823243612876] ISIC_0000214\n783874\n[11.405885689079337, 12.78192875306032, 0.11115659252707094] ISIC_0000001\n650312\n[6.839630696371854, 8.991550481258532, 0.3119236526218403] ISIC_0000234\n751507\n[14.320496983368244, 9.682456570703176, 0.35789045896268806] ISIC_0000177\n1698016\n[13.707029692855327, 12.597531924904368, 0.28084667711881695] ISIC_0000044\n1698016\n[17.26988847583643, 10.518097545506784, 0.3372829487563239] ISIC_0000042\n786432\n[13.248223987839863, 8.366768967457316, 0.22242511746388927] ISIC_0000259\n441792\n[25.756504524886875, 10.436869236374541, 0.32074547600173386] ISIC_0000361\n3145728\n[10.200683811505872, 12.656371901476586, 0.18231447077114687] ISIC_0000128\n645502\n[7.896657422274121, 9.224612068651819, 0.3116002097831425] ISIC_0000221\n786432\n[8.564187713012322, 9.247592367411848, 0.16213970965704605] ISIC_0000254\n441792\n[80.96436058700209, 10.90046759349497, 0.33793369848258903] ISIC_0000363\n783874\n[23.694732905675576, 11.760547051758676, 0.1250052303354912] ISIC_0000010\n3145728\n[15.269474025623007, 9.795065949327725, 0.2091446964203899] ISIC_0000110\n786432\n[18.395351435914627, 10.280371928439015, 0.19407582191717276] ISIC_0000258\n3145728\n[33.64119088681129, 11.994139036087915, 0.23088967266943083] ISIC_0000116\n3145728\n[23.937433461632953, 10.172186197751092, 0.23166978660749282] ISIC_0000094\n608006\n[15.358499677249277, 17.409355770492557, 0.3361393487115205] ISIC_0000223\n3145728\n[13.90170611935328, 9.779992329140537, 0.2657954771577852] ISIC_0000096\n441792\n[45.70552147239264, 10.364981291527494, 0.334046522963639] ISIC_0000346\n3145728\n[35.08809983807588, 10.86078169783251, 0.21309944407859627] ISIC_0000130\n783874\n[22.045365931974036, 12.798972743792609, 0.1533469600922232] ISIC_0000011\n441792\n[6.126718469814704, 10.417465745720191, 0.2647100502874994] ISIC_0000347\n1578602\n[13.030951386461858, 9.943845808554016, 0.28715646253288396] ISIC_0000191\n3145728\n[60.010391455678594, 22.385754091389956, 0.24965285005254823] ISIC_0000097\n783874\n[55.987476363185465, 11.074694278201886, 0.07783171235800884] ISIC_0000007\n786432\n[20.417765905733663, 10.796132996704964, 0.2515343975393779] ISIC_0000264\n441792\n[14.739475464966063, 10.528867742130476, 0.3725286700451601] ISIC_0000342\n648388\n[10.3216879214601, 10.055916019290677, 0.273108879641918] ISIC_0000215\n3145728\n[21.81713618866515, 9.205271756378435, 0.18857602837523646] ISIC_0000133\n3145728\n[21.595730720440926, 11.23907327587313, 0.1901117777969027] ISIC_0000093\n3145728\n[11.519422127220462, 9.647768904421408, 0.24286096650554023] ISIC_0000122\n1698016\n[6.195824193541544, 11.885810883618957, 0.14662671214350909] ISIC_0000039\n3145728\n[10.466811446742334, 9.666077913391648, 0.21944752740365375] ISIC_0000104\n694564\n[22.718421040685982, 12.889302823436527, 0.23901266659334108] ISIC_0000066\n783874\n[9.447006927089447, 11.08896227722602, 0.21546309474118885] ISIC_0000075\n4082243\n[82.23733502391794, 12.728272413580495, 0.17967057992786384] ISIC_0000381\n786432\n[25.09293285468488, 9.419029525345966, 0.143005275109659] ISIC_0000251\n1698016\n[25.094373756256406, 15.068255516396983, 0.17099427987003246] ISIC_0000065\n441792\n[23.93098274568642, 9.47795340950137, 0.3327817389443394] ISIC_0000317\n441792\n[14.72634944517585, 10.831791489118041, 0.2834240761915743] ISIC_0000351\n1578602\n[28.185993111366248, 10.065625341656546, 0.37760862773002146] ISIC_0000192\n3145728\n[19.606949139218617, 15.378543458638632, 0.2578284722315485] ISIC_0000132\n7077888\n[18.77627338911801, 19.55913871159058, 0.18780192918660854] ISIC_0000386\n392408\n[14.979919083539576, 9.251324626690266, 0.3632067924506651] ISIC_0000235\n691911\n[17.195516327473438, 11.521751222864477, 0.3532950183035748] ISIC_0000225\n1698016\n[13.150755653397884, 14.83048213290023, 0.13620253823068995] ISIC_0000034\n3145728\n[38.15021231422505, 9.746240261114137, 0.19992044467500591] ISIC_0000102\n1698016\n[19.2626144784882, 16.629116455619595, 0.22463556030158338] ISIC_0000063\n1698016\n[20.70819732816112, 15.608421696191547, 0.33164273413967527] ISIC_0000038\n1578602\n[19.34330402369245, 18.253045635837363, 0.31643105074650435] ISIC_0000197\n1698016\n[17.903903538152367, 11.22430845828951, 0.16113793252520703] ISIC_0000050\n1698016\n[21.22895775791605, 11.251721899413733, 0.2282287833557174] ISIC_0000057\n1578602\n[13.786455056521826, 9.323289524915388, 0.42292004638533864] ISIC_0000181\n441792\n[21.628430849487227, 11.029907780796306, 0.29995630616459357] ISIC_0000332\n3145728\n[25.821255754956308, 10.105977880622627, 0.2663864117113589] ISIC_0000099\n3145728\n[23.248820730125498, 17.666940118319296, 0.23709280216962875] ISIC_0000089\n783874\n[16.04340599265612, 11.326777744523014, 0.2286791168596719] ISIC_0000003\n441792\n[16.39634535023727, 9.785275720406649, 0.26267247834158947] ISIC_0000372\n1698016\n[20.148711741310738, 23.196897232480573, 0.26188455899282115] ISIC_0000025\n1698016\n[50.03064311505807, 21.636556451002583, 0.18711837653419228] ISIC_0000021\n1482208\n[16.028132094137845, 9.630452569279756, 0.3198397613080407] ISIC_0000204\n3145728\n[31.11264592746074, 15.057533498143911, 0.2005724479848804] ISIC_0000137\n1698016\n[27.57791609554412, 13.782180643889003, 0.15724843617533973] ISIC_0000017\n5038848\n[41.646241830065364, 19.264847018194697, 0.18314011278359782] ISIC_0000105\n442368\n[21.066197383390218, 13.63686623507623, 0.16984750795735198] ISIC_0000252\n441792\n[47.64157368766486, 9.544958052743477, 0.23192555616079535] ISIC_0000316\n441792\n[65.17363499706998, 11.68908455044931, 0.3132738568025222] ISIC_0000350\n3145728\n[47.32889329743517, 10.115154124590147, 0.2936560801033181] ISIC_0000123\n783874\n[18.599951217812468, 10.97945462581942, 0.1276054201074444] ISIC_0000072\n695526\n[17.12505080612383, 12.199798190443744, 0.28260402125032913] ISIC_0000231\n441792\n[14.72811671087533, 9.39430028724298, 0.3271234325439092] ISIC_0000324\n786432\n[11.023534840793724, 9.26622614528141, 0.11616651473856776] ISIC_0000247\n3145728\n[52.61185233373221, 10.148226476615015, 0.14614270696111575] ISIC_0000127\n441792\n[29.61883973528363, 9.823154188836078, 0.3741326642533549] ISIC_0000371\n1541052\n[13.107482037799834, 9.461008766897235, 0.30770451823327294] ISIC_0000205\n594074\n[6.555814132513782, 11.53972020684201, 0.35115345173974144] ISIC_0000216\n3871488\n[11.910032452673642, 14.133189163659884, 0.12375478888734637] ISIC_0000101\n441792\n[51.518901672628836, 10.596579843459716, 0.36118920037895996] ISIC_0000341\n5947392\n[21.304132653699305, 9.269946084566183, 0.19688748224243013] ISIC_0000113\n3145728\n[11.523269893143052, 11.467701488717031, 0.2044399425221795] ISIC_0000092\n619200\n[12.383834678405478, 10.761336697981395, 0.3223575357390911] ISIC_0000232\n3145728\n[24.418949658787458, 10.238832250498415, 0.3520823883608445] ISIC_0000136\n4219490\n[36.978993213291474, 11.766762371205738, 0.1926640459465827] ISIC_0000380\n3145728\n[16.996897011331967, 14.519978487171485, 0.24052009015275422] ISIC_0000120\n3145728\n[80.74669809685582, 12.662448478359455, 0.010881238897952061] ISIC_0000098\n3145728\n[4.780584353258893, 11.05409652232765, 0.2532750397927401] ISIC_0000131\n786432\n[14.84395649080004, 9.944891846678953, 0.24787613610535797] ISIC_0000274\n3145728\n[59.688000348881395, 19.155367696245886, 0.21372995158593455] ISIC_0000107\n3145728\n[41.142144736069135, 12.853817734747503, 0.15651812130351284] ISIC_0000129\n648388\n[40.80820770519263, 11.580689393321055, 0.32721005874946274] ISIC_0000219\n1698016\n[17.109288406118377, 12.707843380342913, 0.16977351440116917] ISIC_0000023\n1698016\n[24.576743552758668, 16.685580926999894, 0.219489287258405] ISIC_0000020\n786432\n[17.568245374155737, 10.288360124281645, 0.2792799084362978] ISIC_0000250\n1698016\n[11.424685721976175, 22.186068758665122, 0.20148028605887158] ISIC_0000053\n441792\n[28.264208909370197, 9.541294408737604, 0.33742575815821096] ISIC_0000345\n441792\n[18.499625926681627, 11.945987804813853, 0.3337191570094299] ISIC_0000349\n786432\n[15.708336337069056, 9.598318244511118, 0.2927369691907096] ISIC_0000239\n1698016\n[18.487869099116043, 12.781524027026233, 0.19668055964724818] ISIC_0000064\n3145728\n[18.39900567176155, 9.587302332199492, 0.215407354094601] ISIC_0000112\n3145728\n[6.357320567785503, 15.149215336703563, 0.23373153964087906] ISIC_0000108\n3871488\n[13.129021947171207, 14.272679371027394, 0.27714888197543375] ISIC_0000135\n693357\n[5.9392449704774375, 10.655544034061577, 0.33265160833604124] ISIC_0000227\n783874\n[17.56735950731332, 10.592268622325038, 0.11454444225573479] ISIC_0000071\n746928\n[6.256302336796879, 9.120025769227945, 0.37140239017575405] ISIC_0000186\n1578602\n[6.184719010444958, 8.925052674951536, 0.33510495761490666] ISIC_0000182\n786432\n[9.34941835415769, 13.106455157908165, 0.1459604584337577] ISIC_0000255\n783874\n[17.40008674639073, 11.598561310840344, 0.32351287170472137] ISIC_0000073\n441792\n[40.40100465835176, 9.76059322997012, 0.20269997040652077] ISIC_0000328\n744128\n[22.830078274069486, 10.457170966124137, 0.37334712644392565] ISIC_0000193\n389156\n[20.15891294334408, 12.756959286595805, 0.32939929328505335] ISIC_0000213\n1698016\n[10.17265357348801, 13.37691248699587, 0.3066111457943267] ISIC_0000052\n786432\n[33.20397483389193, 10.534855645604125, 0.1457751880474089] ISIC_0000265\n735315\n[11.605719109705602, 9.531144691077106, 0.3036944682444941] ISIC_0000201\n7077888\n[18.021519808176624, 17.501087802700248, 0.23880327822488023] ISIC_0000385\n441792\n[40.73749726331592, 9.80695095729972, 0.3031173249852833] ISIC_0000336\n3145728\n[24.96722369288087, 9.65579677307389, 0.3154988103432602] ISIC_0000126\n3145728\n[40.69164825698526, 15.019245287558336, 0.27534272633068624] ISIC_0000087\n1566586\n[28.226443032668634, 21.77492699247994, 0.34645013481974307] ISIC_0000179\n1578602\n[18.249151321880465, 10.717487357388773, 0.3667218928364482] ISIC_0000208\n783874\n[31.72381992019875, 15.354577565973855, 0.16239938345707305] ISIC_0000015\n441792\n[18.502162112429847, 9.325334158170806, 0.27635526180910985] ISIC_0000320\n3145728\n[15.825683799386548, 20.05283057208805, 0.20948617329178243] ISIC_0000085\n612480\n[10.526157636948225, 10.573504785287493, 0.377542018888677] ISIC_0000224\n3145728\n[30.16582563346314, 9.625113664290172, 0.23253938543326202] ISIC_0000095\n747299\n[22.181258865142112, 9.70768534295452, 0.3810927152147725] ISIC_0000184\n1698016\n[49.23277411778037, 14.485133325892486, 0.20010152019984462] ISIC_0000028\n1698016\n[31.610291338890505, 15.78248027881019, 0.16801979054911387] ISIC_0000018\n783874\n[21.054272245513364, 12.691941773500766, 0.22946459141929432] ISIC_0000008\n786432\n[14.285012164254294, 10.091004535213843, 0.19289767325943386] ISIC_0000237\n648388\n[7.05930497008677, 11.615696585216227, 0.3578958291029586] ISIC_0000233\n442368\n[10.022388181654765, 13.3707002944463, 0.19517834957021896] ISIC_0000243\n1698016\n[8.982558548751133, 15.376282946587207, 0.15079080238959774] ISIC_0000027\n1698016\n[12.692778383249209, 15.141225319362892, 0.2488559833604692] ISIC_0000061\n736725\n[26.776742187937764, 10.691209179305709, 0.3341746431948589] ISIC_0000185\n783874\n[52.68949232585596, 13.122009110351325, 0.16122420193793185] ISIC_0000009\n647808\n[13.104886460132517, 9.506103440046058, 0.3512417873096736] ISIC_0000226\n3145728\n[15.771704599971681, 9.973314137755416, 0.32920692330081003] ISIC_0000103\n441792\n[8.88661899897855, 9.328141948763554, 0.3314432537821481] ISIC_0000367\n441792\n[28.676894291195794, 10.206353718278997, 0.3651576736324461] ISIC_0000359\n3145728\n[37.706650122217454, 14.215447918593373, 0.2264247990666015] ISIC_0000082\n4783038\n[57.35278212742346, 12.73295073527141, 0.13758324491242702] ISIC_0000382\n3145728\n[23.48719669897929, 18.547577123858666, 0.2138813541652257] ISIC_0000119\n744462\n[18.43690869051386, 10.762916621156057, 0.3823775806933587] ISIC_0000207\n1698016\n[66.75294936164501, 18.44686431395908, 0.3510890044021475] ISIC_0000037\n616642\n[50.943301303013534, 13.127634932353871, 0.3355534237239256] ISIC_0000229\n442368\n[36.1323155216285, 13.9570672363635, 0.12828999596466784] ISIC_0000262\n783874\n[26.42228353698594, 13.98775193311146, 0.09204822279263936] ISIC_0000006\n441792\n[30.829568788501028, 9.46964152332074, 0.35256053462887726] ISIC_0000352\n441792\n[53.26420229441554, 13.309733163995276, 0.3100754448690757] ISIC_0000344\n441792\n[15.93560933448574, 13.049080861212593, 0.34986446735806587] ISIC_0000343\n1698016\n[15.385340560923874, 16.4284705024357, 0.16466339405979735] ISIC_0000062\n3871488\n[15.971531632523911, 9.345207410330685, 0.2910417126331184] ISIC_0000100\n783874\n[31.47937929323062, 11.642960082995474, 0.22314281329821611] ISIC_0000000\n442368\n[6.249323080255604, 10.605229087414552, 0.1579283605309107] ISIC_0000269\n5673450\n[10.553512008575684, 10.209122691573322, 0.12889315517120414] ISIC_0000376\n1526032\n[8.998306984509611, 9.902981287368313, 0.3648064800276368] ISIC_0000218\n441792\n[50.21380172357082, 12.931583933900225, 0.33573271162558604] ISIC_0000366\n694564\n[13.212101288162573, 12.001212695645748, 0.17418447426113798] ISIC_0000067\n441792\n[15.98111935266352, 9.658032648994983, 0.32106918229707315] ISIC_0000340\n786432\n[41.67369161633, 16.247371192025994, 0.14521843483264585] ISIC_0000242\n786432\n[19.22390722569135, 11.874126473827026, 0.1273735789507649] ISIC_0000256\n1556072\n[24.725813118585958, 10.054842680445503, 0.36137249918194037] ISIC_0000188\n1698016\n[29.46524306446985, 12.034155432956656, 0.0777254403439177] ISIC_0000041\n441792\n[13.942329053183455, 9.572206391991244, 0.18409689202396284] ISIC_0000323\n441792\n[30.53688267455409, 10.323204882452245, 0.34235537481908845] ISIC_0000319\n441792\n[32.83172523678853, 10.512262675850081, 0.329951962776419] ISIC_0000353\n3145728\n[19.734841573922033, 9.337821878118353, 0.18890810478262632] ISIC_0000121\n441792\n[25.223058912864644, 12.056771408276477, 0.3562166230435124] ISIC_0000354\n3145728\n[17.4871019683875, 9.179771133403863, 0.1879378602651528] ISIC_0000091\n441792\n[25.336306911195994, 9.641602840844694, 0.3383435801313216] ISIC_0000330\n783874\n[21.711672473867598, 10.747220187486256, 0.16488901889357516] ISIC_0000016\n441792\n[8.274706867671691, 9.23674890751455, 0.3007271011300531] ISIC_0000360\n3145728\n[24.303619364991206, 28.32499427661088, 0.2804387506075291] ISIC_0000109\n1547784\n[28.32381691520225, 17.423215715451814, 0.3032522486533693] ISIC_0000196\n441792\n[21.92451447416636, 9.959964535217123, 0.3472258706041986] ISIC_0000325\n441792\n[12.097339880213672, 9.246089239395145, 0.37084314128638796] ISIC_0000321\n5038848\n[15.335603789868319, 14.013142290559415, 0.2020483568030808] ISIC_0000080\n7077888\n[74.5358839842439, 15.958301644223944, 0.10972639000196172] ISIC_0000387\n442368\n[32.02273362526786, 10.823695690547627, 0.12166258666711122] ISIC_0000253\n786432\n[7.986643581498887, 10.248682846994058, 0.1407447644948916] ISIC_0000261\n441792\n[50.39232075929571, 9.762136594501747, 0.3662469740059231] ISIC_0000315\n392046\n[35.5281207133059, 11.470025372099178, 0.3553480921463268] ISIC_0000190\n1578602\n[23.163898339003403, 19.497638174444454, 0.32577919519930176] ISIC_0000206\n391324\n[12.516690819574613, 9.488451245410792, 0.36485597944026704] ISIC_0000212\n441792\n[15.595808626431646, 9.127300586981347, 0.3535740351798913] ISIC_0000331\n786432\n[15.90544940819737, 12.651655684203138, 0.2924275285094148] ISIC_0000236\n786432\n[24.282235516940744, 16.510706270375557, 0.16068461081923152] ISIC_0000244\n3145728\n[14.384918147860311, 10.3751185761203, 0.14196803728807816] ISIC_0000134\n786432\n[27.978765759787656, 10.092225317869493, 0.24046069231665834] ISIC_0000275\n441792\n[37.768435405067606, 13.5619934126684, 0.34636665239152786] ISIC_0000369\n1578602\n[17.096112074291067, 9.692538596995025, 0.336394226494543] ISIC_0000189\n1698016\n[32.4580284115368, 19.47438912484038, 0.11695410909008608] ISIC_0000079\n1698016\n[11.882956244667806, 10.897109755375023, 0.21718070126225697] ISIC_0000019\n441792\n[15.323522006820628, 9.468377084431365, 0.33188119276611194] ISIC_0000370\n1698016\n[76.15706280468024, 19.477262935181873, 0.22648676063782347] ISIC_0000051\n441792\n[13.765652951699463, 11.715998881611858, 0.3732594191758576] ISIC_0000364\n3145728\n[51.73174520973589, 23.4425546254872, 0.1799694650764775] ISIC_0000081\n4208596\n[19.06084797637138, 18.085906294870455, 0.1369904390171266] ISIC_0000383\n441792\n[13.852755799919539, 9.235422957603474, 0.3254871492619763] ISIC_0000365\n623070\n[15.72925528392332, 12.049342967850047, 0.31943816781020473] ISIC_0000222\n441792\n[20.48901861333078, 11.121382571690157, 0.30835452396173135] ISIC_0000326\n441792\n[24.55359111150302, 10.025423199126601, 0.30132470163244185] ISIC_0000357\n3145728\n[8.498206048180421, 10.332196455055875, 0.21094555519650954] ISIC_0000125\n441792\n[31.086142322097377, 10.9947972565047, 0.34454945470584497] ISIC_0000348\n783874\n[11.54705136717571, 12.264515190363241, 0.10320040772310879] ISIC_0000069\n1698016\n[27.100924809006838, 13.664523053799774, 0.14942270810267483] ISIC_0000048\n3145728\n[26.099273815886352, 9.394991870287615, 0.20258923853194827] ISIC_0000138\n1698016\n[15.766216557119373, 9.176100522491147, 0.08224061965839635] ISIC_0000024\n786432\n[18.82286151855617, 12.887740206673165, 0.1835727625350403] ISIC_0000260\n648388\n[16.757991833625997, 10.899138104471323, 0.2565575451304667] ISIC_0000220\n441792\n[9.06344410876133, 10.713346527824505, 0.3847821728787676] ISIC_0000368\n3145728\n[43.687662980065205, 21.16358097855003, 0.2733145246115054] ISIC_0000088\n441792\n[13.914299470389984, 9.318470676474691, 0.3582831715294569] ISIC_0000329\n3145728\n[26.1084415363119, 9.968640637541876, 0.2282406512136681] ISIC_0000118\n786432\n[28.150501913771937, 17.186784655914945, 0.08702903702341214] ISIC_0000246\n1698016\n[29.70661598764699, 13.091715325902033, 0.16753586856525404] ISIC_0000047\n1698016\n[56.922749729125414, 15.284800576545848, 0.1528690187276891] ISIC_0000055\n1698016\n[10.757447381219661, 12.393835795058394, 0.19711219361053167] ISIC_0000045\n441792\n[15.402387370042355, 9.259106158945816, 0.27653944363456384] ISIC_0000358\n1698016\n[13.019630484988454, 10.345911787426958, 0.15802550989335384] ISIC_0000032\n441792\n[23.81481118622296, 9.334401574358692, 0.18909048359559477] ISIC_0000355\n783874\n[64.0783643624948, 14.187566126014524, 0.1258121584073575] ISIC_0000014\n[[7.401392689074003, 8.817419395949432, 0.31414479874324364], [25.312582473432123, 10.563745366860832, 0.17642006955391087], [9.413229198261046, 11.783488737990925, 0.2451110445262149], [7.654048746725471, 17.26778769944641, 0.22563585971079392], [7.803700724054706, 9.778193892873382, 0.1786022501057642], [23.362022592791824, 12.03127964832984, 0.2843598444304022], [45.192566074044535, 10.58469957064662, 0.35570290970079743], [9.81272838002436, 20.89110811650356, 0.2551774928316861], [41.58006015306274, 11.228367327670648, 0.3510072230326058], [13.337891646221292, 9.840761210890381, 0.1758201722842494], [7.322279678327598, 8.999482892204401, 0.35957331853267993], [29.418911149920273, 12.070618818945615, 0.23554594221736302], [16.84738511470089, 10.978147433217295, 0.322370344395314], [6.7008451155525295, 11.206920697050341, 0.27421010571078475], [17.02016333897007, 9.943197469751238, 0.3531187120022964], [43.14383124982676, 9.436107555289302, 0.3452623209343749], [4.1429275557416405, 7.729364248127775, 0.33837265692196594], [27.867467617796134, 10.970796681393736, 0.14367447454046706], [15.026488002492988, 10.546182739485102, 0.326132904802256], [46.629411247029836, 14.464908548055767, 0.29609823243612876], [11.405885689079337, 12.78192875306032, 0.11115659252707094], [6.839630696371854, 8.991550481258532, 0.3119236526218403], [14.320496983368244, 9.682456570703176, 0.35789045896268806], [13.707029692855327, 12.597531924904368, 0.28084667711881695], [17.26988847583643, 10.518097545506784, 0.3372829487563239], [13.248223987839863, 8.366768967457316, 0.22242511746388927], [25.756504524886875, 10.436869236374541, 0.32074547600173386], [10.200683811505872, 12.656371901476586, 0.18231447077114687], [7.896657422274121, 9.224612068651819, 0.3116002097831425], [8.564187713012322, 9.247592367411848, 0.16213970965704605], [80.96436058700209, 10.90046759349497, 0.33793369848258903], [23.694732905675576, 11.760547051758676, 0.1250052303354912], [15.269474025623007, 9.795065949327725, 0.2091446964203899], [18.395351435914627, 10.280371928439015, 0.19407582191717276], [33.64119088681129, 11.994139036087915, 0.23088967266943083], [23.937433461632953, 10.172186197751092, 0.23166978660749282], [15.358499677249277, 17.409355770492557, 0.3361393487115205], [13.90170611935328, 9.779992329140537, 0.2657954771577852], [45.70552147239264, 10.364981291527494, 0.334046522963639], [35.08809983807588, 10.86078169783251, 0.21309944407859627], [22.045365931974036, 12.798972743792609, 0.1533469600922232], [6.126718469814704, 10.417465745720191, 0.2647100502874994], [13.030951386461858, 9.943845808554016, 0.28715646253288396], [60.010391455678594, 22.385754091389956, 0.24965285005254823], [55.987476363185465, 11.074694278201886, 0.07783171235800884], [20.417765905733663, 10.796132996704964, 0.2515343975393779], [14.739475464966063, 10.528867742130476, 0.3725286700451601], [10.3216879214601, 10.055916019290677, 0.273108879641918], [21.81713618866515, 9.205271756378435, 0.18857602837523646], [21.595730720440926, 11.23907327587313, 0.1901117777969027], [11.519422127220462, 9.647768904421408, 0.24286096650554023], [6.195824193541544, 11.885810883618957, 0.14662671214350909], [10.466811446742334, 9.666077913391648, 0.21944752740365375], [22.718421040685982, 12.889302823436527, 0.23901266659334108], [9.447006927089447, 11.08896227722602, 0.21546309474118885], [82.23733502391794, 12.728272413580495, 0.17967057992786384], [25.09293285468488, 9.419029525345966, 0.143005275109659], [25.094373756256406, 15.068255516396983, 0.17099427987003246], [23.93098274568642, 9.47795340950137, 0.3327817389443394], [14.72634944517585, 10.831791489118041, 0.2834240761915743], [28.185993111366248, 10.065625341656546, 0.37760862773002146], [19.606949139218617, 15.378543458638632, 0.2578284722315485], [18.77627338911801, 19.55913871159058, 0.18780192918660854], [14.979919083539576, 9.251324626690266, 0.3632067924506651], [17.195516327473438, 11.521751222864477, 0.3532950183035748], [13.150755653397884, 14.83048213290023, 0.13620253823068995], [38.15021231422505, 9.746240261114137, 0.19992044467500591], [19.2626144784882, 16.629116455619595, 0.22463556030158338], [20.70819732816112, 15.608421696191547, 0.33164273413967527], [19.34330402369245, 18.253045635837363, 0.31643105074650435], [17.903903538152367, 11.22430845828951, 0.16113793252520703], [21.22895775791605, 11.251721899413733, 0.2282287833557174], [13.786455056521826, 9.323289524915388, 0.42292004638533864], [21.628430849487227, 11.029907780796306, 0.29995630616459357], [25.821255754956308, 10.105977880622627, 0.2663864117113589], [23.248820730125498, 17.666940118319296, 0.23709280216962875], [16.04340599265612, 11.326777744523014, 0.2286791168596719], [16.39634535023727, 9.785275720406649, 0.26267247834158947], [20.148711741310738, 23.196897232480573, 0.26188455899282115], [50.03064311505807, 21.636556451002583, 0.18711837653419228], [16.028132094137845, 9.630452569279756, 0.3198397613080407], [31.11264592746074, 15.057533498143911, 0.2005724479848804], [27.57791609554412, 13.782180643889003, 0.15724843617533973], [41.646241830065364, 19.264847018194697, 0.18314011278359782], [21.066197383390218, 13.63686623507623, 0.16984750795735198], [47.64157368766486, 9.544958052743477, 0.23192555616079535], [65.17363499706998, 11.68908455044931, 0.3132738568025222], [47.32889329743517, 10.115154124590147, 0.2936560801033181], [18.599951217812468, 10.97945462581942, 0.1276054201074444], [17.12505080612383, 12.199798190443744, 0.28260402125032913], [14.72811671087533, 9.39430028724298, 0.3271234325439092], [11.023534840793724, 9.26622614528141, 0.11616651473856776], [52.61185233373221, 10.148226476615015, 0.14614270696111575], [29.61883973528363, 9.823154188836078, 0.3741326642533549], [13.107482037799834, 9.461008766897235, 0.30770451823327294], [6.555814132513782, 11.53972020684201, 0.35115345173974144], [11.910032452673642, 14.133189163659884, 0.12375478888734637], [51.518901672628836, 10.596579843459716, 0.36118920037895996], [21.304132653699305, 9.269946084566183, 0.19688748224243013], [11.523269893143052, 11.467701488717031, 0.2044399425221795], [12.383834678405478, 10.761336697981395, 0.3223575357390911], [24.418949658787458, 10.238832250498415, 0.3520823883608445], [36.978993213291474, 11.766762371205738, 0.1926640459465827], [16.996897011331967, 14.519978487171485, 0.24052009015275422], [80.74669809685582, 12.662448478359455, 0.010881238897952061], [4.780584353258893, 11.05409652232765, 0.2532750397927401], [14.84395649080004, 9.944891846678953, 0.24787613610535797], [59.688000348881395, 19.155367696245886, 0.21372995158593455], [41.142144736069135, 12.853817734747503, 0.15651812130351284], [40.80820770519263, 11.580689393321055, 0.32721005874946274], [17.109288406118377, 12.707843380342913, 0.16977351440116917], [24.576743552758668, 16.685580926999894, 0.219489287258405], [17.568245374155737, 10.288360124281645, 0.2792799084362978], [11.424685721976175, 22.186068758665122, 0.20148028605887158], [28.264208909370197, 9.541294408737604, 0.33742575815821096], [18.499625926681627, 11.945987804813853, 0.3337191570094299], [15.708336337069056, 9.598318244511118, 0.2927369691907096], [18.487869099116043, 12.781524027026233, 0.19668055964724818], [18.39900567176155, 9.587302332199492, 0.215407354094601], [6.357320567785503, 15.149215336703563, 0.23373153964087906], [13.129021947171207, 14.272679371027394, 0.27714888197543375], [5.9392449704774375, 10.655544034061577, 0.33265160833604124], [17.56735950731332, 10.592268622325038, 0.11454444225573479], [6.256302336796879, 9.120025769227945, 0.37140239017575405], [6.184719010444958, 8.925052674951536, 0.33510495761490666], [9.34941835415769, 13.106455157908165, 0.1459604584337577], [17.40008674639073, 11.598561310840344, 0.32351287170472137], [40.40100465835176, 9.76059322997012, 0.20269997040652077], [22.830078274069486, 10.457170966124137, 0.37334712644392565], [20.15891294334408, 12.756959286595805, 0.32939929328505335], [10.17265357348801, 13.37691248699587, 0.3066111457943267], [33.20397483389193, 10.534855645604125, 0.1457751880474089], [11.605719109705602, 9.531144691077106, 0.3036944682444941], [18.021519808176624, 17.501087802700248, 0.23880327822488023], [40.73749726331592, 9.80695095729972, 0.3031173249852833], [24.96722369288087, 9.65579677307389, 0.3154988103432602], [40.69164825698526, 15.019245287558336, 0.27534272633068624], [28.226443032668634, 21.77492699247994, 0.34645013481974307], [18.249151321880465, 10.717487357388773, 0.3667218928364482], [31.72381992019875, 15.354577565973855, 0.16239938345707305], [18.502162112429847, 9.325334158170806, 0.27635526180910985], [15.825683799386548, 20.05283057208805, 0.20948617329178243], [10.526157636948225, 10.573504785287493, 0.377542018888677], [30.16582563346314, 9.625113664290172, 0.23253938543326202], [22.181258865142112, 9.70768534295452, 0.3810927152147725], [49.23277411778037, 14.485133325892486, 0.20010152019984462], [31.610291338890505, 15.78248027881019, 0.16801979054911387], [21.054272245513364, 12.691941773500766, 0.22946459141929432], [14.285012164254294, 10.091004535213843, 0.19289767325943386], [7.05930497008677, 11.615696585216227, 0.3578958291029586], [10.022388181654765, 13.3707002944463, 0.19517834957021896], [8.982558548751133, 15.376282946587207, 0.15079080238959774], [12.692778383249209, 15.141225319362892, 0.2488559833604692], [26.776742187937764, 10.691209179305709, 0.3341746431948589], [52.68949232585596, 13.122009110351325, 0.16122420193793185], [13.104886460132517, 9.506103440046058, 0.3512417873096736], [15.771704599971681, 9.973314137755416, 0.32920692330081003], [8.88661899897855, 9.328141948763554, 0.3314432537821481], [28.676894291195794, 10.206353718278997, 0.3651576736324461], [37.706650122217454, 14.215447918593373, 0.2264247990666015], [57.35278212742346, 12.73295073527141, 0.13758324491242702], [23.48719669897929, 18.547577123858666, 0.2138813541652257], [18.43690869051386, 10.762916621156057, 0.3823775806933587], [66.75294936164501, 18.44686431395908, 0.3510890044021475], [50.943301303013534, 13.127634932353871, 0.3355534237239256], [36.1323155216285, 13.9570672363635, 0.12828999596466784], [26.42228353698594, 13.98775193311146, 0.09204822279263936], [30.829568788501028, 9.46964152332074, 0.35256053462887726], [53.26420229441554, 13.309733163995276, 0.3100754448690757], [15.93560933448574, 13.049080861212593, 0.34986446735806587], [15.385340560923874, 16.4284705024357, 0.16466339405979735], [15.971531632523911, 9.345207410330685, 0.2910417126331184], [31.47937929323062, 11.642960082995474, 0.22314281329821611], [6.249323080255604, 10.605229087414552, 0.1579283605309107], [10.553512008575684, 10.209122691573322, 0.12889315517120414], [8.998306984509611, 9.902981287368313, 0.3648064800276368], [50.21380172357082, 12.931583933900225, 0.33573271162558604], [13.212101288162573, 12.001212695645748, 0.17418447426113798], [15.98111935266352, 9.658032648994983, 0.32106918229707315], [41.67369161633, 16.247371192025994, 0.14521843483264585], [19.22390722569135, 11.874126473827026, 0.1273735789507649], [24.725813118585958, 10.054842680445503, 0.36137249918194037], [29.46524306446985, 12.034155432956656, 0.0777254403439177], [13.942329053183455, 9.572206391991244, 0.18409689202396284], [30.53688267455409, 10.323204882452245, 0.34235537481908845], [32.83172523678853, 10.512262675850081, 0.329951962776419], [19.734841573922033, 9.337821878118353, 0.18890810478262632], [25.223058912864644, 12.056771408276477, 0.3562166230435124], [17.4871019683875, 9.179771133403863, 0.1879378602651528], [25.336306911195994, 9.641602840844694, 0.3383435801313216], [21.711672473867598, 10.747220187486256, 0.16488901889357516], [8.274706867671691, 9.23674890751455, 0.3007271011300531], [24.303619364991206, 28.32499427661088, 0.2804387506075291], [28.32381691520225, 17.423215715451814, 0.3032522486533693], [21.92451447416636, 9.959964535217123, 0.3472258706041986], [12.097339880213672, 9.246089239395145, 0.37084314128638796], [15.335603789868319, 14.013142290559415, 0.2020483568030808], [74.5358839842439, 15.958301644223944, 0.10972639000196172], [32.02273362526786, 10.823695690547627, 0.12166258666711122], [7.986643581498887, 10.248682846994058, 0.1407447644948916], [50.39232075929571, 9.762136594501747, 0.3662469740059231], [35.5281207133059, 11.470025372099178, 0.3553480921463268], [23.163898339003403, 19.497638174444454, 0.32577919519930176], [12.516690819574613, 9.488451245410792, 0.36485597944026704], [15.595808626431646, 9.127300586981347, 0.3535740351798913], [15.90544940819737, 12.651655684203138, 0.2924275285094148], [24.282235516940744, 16.510706270375557, 0.16068461081923152], [14.384918147860311, 10.3751185761203, 0.14196803728807816], [27.978765759787656, 10.092225317869493, 0.24046069231665834], [37.768435405067606, 13.5619934126684, 0.34636665239152786], [17.096112074291067, 9.692538596995025, 0.336394226494543], [32.4580284115368, 19.47438912484038, 0.11695410909008608], [11.882956244667806, 10.897109755375023, 0.21718070126225697], [15.323522006820628, 9.468377084431365, 0.33188119276611194], [76.15706280468024, 19.477262935181873, 0.22648676063782347], [13.765652951699463, 11.715998881611858, 0.3732594191758576], [51.73174520973589, 23.4425546254872, 0.1799694650764775], [19.06084797637138, 18.085906294870455, 0.1369904390171266], [13.852755799919539, 9.235422957603474, 0.3254871492619763], [15.72925528392332, 12.049342967850047, 0.31943816781020473], [20.48901861333078, 11.121382571690157, 0.30835452396173135], [24.55359111150302, 10.025423199126601, 0.30132470163244185], [8.498206048180421, 10.332196455055875, 0.21094555519650954], [31.086142322097377, 10.9947972565047, 0.34454945470584497], [11.54705136717571, 12.264515190363241, 0.10320040772310879], [27.100924809006838, 13.664523053799774, 0.14942270810267483], [26.099273815886352, 9.394991870287615, 0.20258923853194827], [15.766216557119373, 9.176100522491147, 0.08224061965839635], [18.82286151855617, 12.887740206673165, 0.1835727625350403], [16.757991833625997, 10.899138104471323, 0.2565575451304667], [9.06344410876133, 10.713346527824505, 0.3847821728787676], [43.687662980065205, 21.16358097855003, 0.2733145246115054], [13.914299470389984, 9.318470676474691, 0.3582831715294569], [26.1084415363119, 9.968640637541876, 0.2282406512136681], [28.150501913771937, 17.186784655914945, 0.08702903702341214], [29.70661598764699, 13.091715325902033, 0.16753586856525404], [56.922749729125414, 15.284800576545848, 0.1528690187276891], [10.757447381219661, 12.393835795058394, 0.19711219361053167], [15.402387370042355, 9.259106158945816, 0.27653944363456384], [13.019630484988454, 10.345911787426958, 0.15802550989335384], [23.81481118622296, 9.334401574358692, 0.18909048359559477], [64.0783643624948, 14.187566126014524, 0.1258121584073575]]\n",
          "output_type": "stream"
        }
      ]
    },
    {
      "cell_type": "code",
      "metadata": {
        "tags": [],
        "cell_id": "00047-90e324ba-4075-4859-bb06-5ee0fdb68cc1",
        "deepnote_to_be_reexecuted": false,
        "source_hash": "7d72e0f3",
        "execution_millis": 84,
        "execution_start": 1619089284152,
        "deepnote_cell_type": "code"
      },
      "source": "# melanoma_df = pd.DataFrame.from_records(melanoma_list, columns = (\"Asymmetry\" ,\"compactness\", \"colour\"))\n# melanoma_df.to_csv(\"../data/melanoma_data.csv\")\ndf_test= pd.DataFrame.from_records(healthy_list, columns = (\"Asymmetry\" ,\"compactness\", \"colour\"))\ndf_test.to_csv(\"../data/health_df.csv\")\nhealthy_list",
      "execution_count": 134,
      "outputs": [
        {
          "output_type": "execute_result",
          "execution_count": 134,
          "data": {
            "text/plain": "[[7.401392689074003, 8.817419395949432, 0.31414479874324364],\n [25.312582473432123, 10.563745366860832, 0.17642006955391087],\n [9.413229198261046, 11.783488737990925, 0.2451110445262149],\n [7.654048746725471, 17.26778769944641, 0.22563585971079392],\n [7.803700724054706, 9.778193892873382, 0.1786022501057642],\n [23.362022592791824, 12.03127964832984, 0.2843598444304022],\n [45.192566074044535, 10.58469957064662, 0.35570290970079743],\n [9.81272838002436, 20.89110811650356, 0.2551774928316861],\n [41.58006015306274, 11.228367327670648, 0.3510072230326058],\n [13.337891646221292, 9.840761210890381, 0.1758201722842494],\n [7.322279678327598, 8.999482892204401, 0.35957331853267993],\n [29.418911149920273, 12.070618818945615, 0.23554594221736302],\n [16.84738511470089, 10.978147433217295, 0.322370344395314],\n [6.7008451155525295, 11.206920697050341, 0.27421010571078475],\n [17.02016333897007, 9.943197469751238, 0.3531187120022964],\n [43.14383124982676, 9.436107555289302, 0.3452623209343749],\n [4.1429275557416405, 7.729364248127775, 0.33837265692196594],\n [27.867467617796134, 10.970796681393736, 0.14367447454046706],\n [15.026488002492988, 10.546182739485102, 0.326132904802256],\n [46.629411247029836, 14.464908548055767, 0.29609823243612876],\n [11.405885689079337, 12.78192875306032, 0.11115659252707094],\n [6.839630696371854, 8.991550481258532, 0.3119236526218403],\n [14.320496983368244, 9.682456570703176, 0.35789045896268806],\n [13.707029692855327, 12.597531924904368, 0.28084667711881695],\n [17.26988847583643, 10.518097545506784, 0.3372829487563239],\n [13.248223987839863, 8.366768967457316, 0.22242511746388927],\n [25.756504524886875, 10.436869236374541, 0.32074547600173386],\n [10.200683811505872, 12.656371901476586, 0.18231447077114687],\n [7.896657422274121, 9.224612068651819, 0.3116002097831425],\n [8.564187713012322, 9.247592367411848, 0.16213970965704605],\n [80.96436058700209, 10.90046759349497, 0.33793369848258903],\n [23.694732905675576, 11.760547051758676, 0.1250052303354912],\n [15.269474025623007, 9.795065949327725, 0.2091446964203899],\n [18.395351435914627, 10.280371928439015, 0.19407582191717276],\n [33.64119088681129, 11.994139036087915, 0.23088967266943083],\n [23.937433461632953, 10.172186197751092, 0.23166978660749282],\n [15.358499677249277, 17.409355770492557, 0.3361393487115205],\n [13.90170611935328, 9.779992329140537, 0.2657954771577852],\n [45.70552147239264, 10.364981291527494, 0.334046522963639],\n [35.08809983807588, 10.86078169783251, 0.21309944407859627],\n [22.045365931974036, 12.798972743792609, 0.1533469600922232],\n [6.126718469814704, 10.417465745720191, 0.2647100502874994],\n [13.030951386461858, 9.943845808554016, 0.28715646253288396],\n [60.010391455678594, 22.385754091389956, 0.24965285005254823],\n [55.987476363185465, 11.074694278201886, 0.07783171235800884],\n [20.417765905733663, 10.796132996704964, 0.2515343975393779],\n [14.739475464966063, 10.528867742130476, 0.3725286700451601],\n [10.3216879214601, 10.055916019290677, 0.273108879641918],\n [21.81713618866515, 9.205271756378435, 0.18857602837523646],\n [21.595730720440926, 11.23907327587313, 0.1901117777969027],\n [11.519422127220462, 9.647768904421408, 0.24286096650554023],\n [6.195824193541544, 11.885810883618957, 0.14662671214350909],\n [10.466811446742334, 9.666077913391648, 0.21944752740365375],\n [22.718421040685982, 12.889302823436527, 0.23901266659334108],\n [9.447006927089447, 11.08896227722602, 0.21546309474118885],\n [82.23733502391794, 12.728272413580495, 0.17967057992786384],\n [25.09293285468488, 9.419029525345966, 0.143005275109659],\n [25.094373756256406, 15.068255516396983, 0.17099427987003246],\n [23.93098274568642, 9.47795340950137, 0.3327817389443394],\n [14.72634944517585, 10.831791489118041, 0.2834240761915743],\n [28.185993111366248, 10.065625341656546, 0.37760862773002146],\n [19.606949139218617, 15.378543458638632, 0.2578284722315485],\n [18.77627338911801, 19.55913871159058, 0.18780192918660854],\n [14.979919083539576, 9.251324626690266, 0.3632067924506651],\n [17.195516327473438, 11.521751222864477, 0.3532950183035748],\n [13.150755653397884, 14.83048213290023, 0.13620253823068995],\n [38.15021231422505, 9.746240261114137, 0.19992044467500591],\n [19.2626144784882, 16.629116455619595, 0.22463556030158338],\n [20.70819732816112, 15.608421696191547, 0.33164273413967527],\n [19.34330402369245, 18.253045635837363, 0.31643105074650435],\n [17.903903538152367, 11.22430845828951, 0.16113793252520703],\n [21.22895775791605, 11.251721899413733, 0.2282287833557174],\n [13.786455056521826, 9.323289524915388, 0.42292004638533864],\n [21.628430849487227, 11.029907780796306, 0.29995630616459357],\n [25.821255754956308, 10.105977880622627, 0.2663864117113589],\n [23.248820730125498, 17.666940118319296, 0.23709280216962875],\n [16.04340599265612, 11.326777744523014, 0.2286791168596719],\n [16.39634535023727, 9.785275720406649, 0.26267247834158947],\n [20.148711741310738, 23.196897232480573, 0.26188455899282115],\n [50.03064311505807, 21.636556451002583, 0.18711837653419228],\n [16.028132094137845, 9.630452569279756, 0.3198397613080407],\n [31.11264592746074, 15.057533498143911, 0.2005724479848804],\n [27.57791609554412, 13.782180643889003, 0.15724843617533973],\n [41.646241830065364, 19.264847018194697, 0.18314011278359782],\n [21.066197383390218, 13.63686623507623, 0.16984750795735198],\n [47.64157368766486, 9.544958052743477, 0.23192555616079535],\n [65.17363499706998, 11.68908455044931, 0.3132738568025222],\n [47.32889329743517, 10.115154124590147, 0.2936560801033181],\n [18.599951217812468, 10.97945462581942, 0.1276054201074444],\n [17.12505080612383, 12.199798190443744, 0.28260402125032913],\n [14.72811671087533, 9.39430028724298, 0.3271234325439092],\n [11.023534840793724, 9.26622614528141, 0.11616651473856776],\n [52.61185233373221, 10.148226476615015, 0.14614270696111575],\n [29.61883973528363, 9.823154188836078, 0.3741326642533549],\n [13.107482037799834, 9.461008766897235, 0.30770451823327294],\n [6.555814132513782, 11.53972020684201, 0.35115345173974144],\n [11.910032452673642, 14.133189163659884, 0.12375478888734637],\n [51.518901672628836, 10.596579843459716, 0.36118920037895996],\n [21.304132653699305, 9.269946084566183, 0.19688748224243013],\n [11.523269893143052, 11.467701488717031, 0.2044399425221795],\n [12.383834678405478, 10.761336697981395, 0.3223575357390911],\n [24.418949658787458, 10.238832250498415, 0.3520823883608445],\n [36.978993213291474, 11.766762371205738, 0.1926640459465827],\n [16.996897011331967, 14.519978487171485, 0.24052009015275422],\n [80.74669809685582, 12.662448478359455, 0.010881238897952061],\n [4.780584353258893, 11.05409652232765, 0.2532750397927401],\n [14.84395649080004, 9.944891846678953, 0.24787613610535797],\n [59.688000348881395, 19.155367696245886, 0.21372995158593455],\n [41.142144736069135, 12.853817734747503, 0.15651812130351284],\n [40.80820770519263, 11.580689393321055, 0.32721005874946274],\n [17.109288406118377, 12.707843380342913, 0.16977351440116917],\n [24.576743552758668, 16.685580926999894, 0.219489287258405],\n [17.568245374155737, 10.288360124281645, 0.2792799084362978],\n [11.424685721976175, 22.186068758665122, 0.20148028605887158],\n [28.264208909370197, 9.541294408737604, 0.33742575815821096],\n [18.499625926681627, 11.945987804813853, 0.3337191570094299],\n [15.708336337069056, 9.598318244511118, 0.2927369691907096],\n [18.487869099116043, 12.781524027026233, 0.19668055964724818],\n [18.39900567176155, 9.587302332199492, 0.215407354094601],\n [6.357320567785503, 15.149215336703563, 0.23373153964087906],\n [13.129021947171207, 14.272679371027394, 0.27714888197543375],\n [5.9392449704774375, 10.655544034061577, 0.33265160833604124],\n [17.56735950731332, 10.592268622325038, 0.11454444225573479],\n [6.256302336796879, 9.120025769227945, 0.37140239017575405],\n [6.184719010444958, 8.925052674951536, 0.33510495761490666],\n [9.34941835415769, 13.106455157908165, 0.1459604584337577],\n [17.40008674639073, 11.598561310840344, 0.32351287170472137],\n [40.40100465835176, 9.76059322997012, 0.20269997040652077],\n [22.830078274069486, 10.457170966124137, 0.37334712644392565],\n [20.15891294334408, 12.756959286595805, 0.32939929328505335],\n [10.17265357348801, 13.37691248699587, 0.3066111457943267],\n [33.20397483389193, 10.534855645604125, 0.1457751880474089],\n [11.605719109705602, 9.531144691077106, 0.3036944682444941],\n [18.021519808176624, 17.501087802700248, 0.23880327822488023],\n [40.73749726331592, 9.80695095729972, 0.3031173249852833],\n [24.96722369288087, 9.65579677307389, 0.3154988103432602],\n [40.69164825698526, 15.019245287558336, 0.27534272633068624],\n [28.226443032668634, 21.77492699247994, 0.34645013481974307],\n [18.249151321880465, 10.717487357388773, 0.3667218928364482],\n [31.72381992019875, 15.354577565973855, 0.16239938345707305],\n [18.502162112429847, 9.325334158170806, 0.27635526180910985],\n [15.825683799386548, 20.05283057208805, 0.20948617329178243],\n [10.526157636948225, 10.573504785287493, 0.377542018888677],\n [30.16582563346314, 9.625113664290172, 0.23253938543326202],\n [22.181258865142112, 9.70768534295452, 0.3810927152147725],\n [49.23277411778037, 14.485133325892486, 0.20010152019984462],\n [31.610291338890505, 15.78248027881019, 0.16801979054911387],\n [21.054272245513364, 12.691941773500766, 0.22946459141929432],\n [14.285012164254294, 10.091004535213843, 0.19289767325943386],\n [7.05930497008677, 11.615696585216227, 0.3578958291029586],\n [10.022388181654765, 13.3707002944463, 0.19517834957021896],\n [8.982558548751133, 15.376282946587207, 0.15079080238959774],\n [12.692778383249209, 15.141225319362892, 0.2488559833604692],\n [26.776742187937764, 10.691209179305709, 0.3341746431948589],\n [52.68949232585596, 13.122009110351325, 0.16122420193793185],\n [13.104886460132517, 9.506103440046058, 0.3512417873096736],\n [15.771704599971681, 9.973314137755416, 0.32920692330081003],\n [8.88661899897855, 9.328141948763554, 0.3314432537821481],\n [28.676894291195794, 10.206353718278997, 0.3651576736324461],\n [37.706650122217454, 14.215447918593373, 0.2264247990666015],\n [57.35278212742346, 12.73295073527141, 0.13758324491242702],\n [23.48719669897929, 18.547577123858666, 0.2138813541652257],\n [18.43690869051386, 10.762916621156057, 0.3823775806933587],\n [66.75294936164501, 18.44686431395908, 0.3510890044021475],\n [50.943301303013534, 13.127634932353871, 0.3355534237239256],\n [36.1323155216285, 13.9570672363635, 0.12828999596466784],\n [26.42228353698594, 13.98775193311146, 0.09204822279263936],\n [30.829568788501028, 9.46964152332074, 0.35256053462887726],\n [53.26420229441554, 13.309733163995276, 0.3100754448690757],\n [15.93560933448574, 13.049080861212593, 0.34986446735806587],\n [15.385340560923874, 16.4284705024357, 0.16466339405979735],\n [15.971531632523911, 9.345207410330685, 0.2910417126331184],\n [31.47937929323062, 11.642960082995474, 0.22314281329821611],\n [6.249323080255604, 10.605229087414552, 0.1579283605309107],\n [10.553512008575684, 10.209122691573322, 0.12889315517120414],\n [8.998306984509611, 9.902981287368313, 0.3648064800276368],\n [50.21380172357082, 12.931583933900225, 0.33573271162558604],\n [13.212101288162573, 12.001212695645748, 0.17418447426113798],\n [15.98111935266352, 9.658032648994983, 0.32106918229707315],\n [41.67369161633, 16.247371192025994, 0.14521843483264585],\n [19.22390722569135, 11.874126473827026, 0.1273735789507649],\n [24.725813118585958, 10.054842680445503, 0.36137249918194037],\n [29.46524306446985, 12.034155432956656, 0.0777254403439177],\n [13.942329053183455, 9.572206391991244, 0.18409689202396284],\n [30.53688267455409, 10.323204882452245, 0.34235537481908845],\n [32.83172523678853, 10.512262675850081, 0.329951962776419],\n [19.734841573922033, 9.337821878118353, 0.18890810478262632],\n [25.223058912864644, 12.056771408276477, 0.3562166230435124],\n [17.4871019683875, 9.179771133403863, 0.1879378602651528],\n [25.336306911195994, 9.641602840844694, 0.3383435801313216],\n [21.711672473867598, 10.747220187486256, 0.16488901889357516],\n [8.274706867671691, 9.23674890751455, 0.3007271011300531],\n [24.303619364991206, 28.32499427661088, 0.2804387506075291],\n [28.32381691520225, 17.423215715451814, 0.3032522486533693],\n [21.92451447416636, 9.959964535217123, 0.3472258706041986],\n [12.097339880213672, 9.246089239395145, 0.37084314128638796],\n [15.335603789868319, 14.013142290559415, 0.2020483568030808],\n [74.5358839842439, 15.958301644223944, 0.10972639000196172],\n [32.02273362526786, 10.823695690547627, 0.12166258666711122],\n [7.986643581498887, 10.248682846994058, 0.1407447644948916],\n [50.39232075929571, 9.762136594501747, 0.3662469740059231],\n [35.5281207133059, 11.470025372099178, 0.3553480921463268],\n [23.163898339003403, 19.497638174444454, 0.32577919519930176],\n [12.516690819574613, 9.488451245410792, 0.36485597944026704],\n [15.595808626431646, 9.127300586981347, 0.3535740351798913],\n [15.90544940819737, 12.651655684203138, 0.2924275285094148],\n [24.282235516940744, 16.510706270375557, 0.16068461081923152],\n [14.384918147860311, 10.3751185761203, 0.14196803728807816],\n [27.978765759787656, 10.092225317869493, 0.24046069231665834],\n [37.768435405067606, 13.5619934126684, 0.34636665239152786],\n [17.096112074291067, 9.692538596995025, 0.336394226494543],\n [32.4580284115368, 19.47438912484038, 0.11695410909008608],\n [11.882956244667806, 10.897109755375023, 0.21718070126225697],\n [15.323522006820628, 9.468377084431365, 0.33188119276611194],\n [76.15706280468024, 19.477262935181873, 0.22648676063782347],\n [13.765652951699463, 11.715998881611858, 0.3732594191758576],\n [51.73174520973589, 23.4425546254872, 0.1799694650764775],\n [19.06084797637138, 18.085906294870455, 0.1369904390171266],\n [13.852755799919539, 9.235422957603474, 0.3254871492619763],\n [15.72925528392332, 12.049342967850047, 0.31943816781020473],\n [20.48901861333078, 11.121382571690157, 0.30835452396173135],\n [24.55359111150302, 10.025423199126601, 0.30132470163244185],\n [8.498206048180421, 10.332196455055875, 0.21094555519650954],\n [31.086142322097377, 10.9947972565047, 0.34454945470584497],\n [11.54705136717571, 12.264515190363241, 0.10320040772310879],\n [27.100924809006838, 13.664523053799774, 0.14942270810267483],\n [26.099273815886352, 9.394991870287615, 0.20258923853194827],\n [15.766216557119373, 9.176100522491147, 0.08224061965839635],\n [18.82286151855617, 12.887740206673165, 0.1835727625350403],\n [16.757991833625997, 10.899138104471323, 0.2565575451304667],\n [9.06344410876133, 10.713346527824505, 0.3847821728787676],\n [43.687662980065205, 21.16358097855003, 0.2733145246115054],\n [13.914299470389984, 9.318470676474691, 0.3582831715294569],\n [26.1084415363119, 9.968640637541876, 0.2282406512136681],\n [28.150501913771937, 17.186784655914945, 0.08702903702341214],\n [29.70661598764699, 13.091715325902033, 0.16753586856525404],\n [56.922749729125414, 15.284800576545848, 0.1528690187276891],\n [10.757447381219661, 12.393835795058394, 0.19711219361053167],\n [15.402387370042355, 9.259106158945816, 0.27653944363456384],\n [13.019630484988454, 10.345911787426958, 0.15802550989335384],\n [23.81481118622296, 9.334401574358692, 0.18909048359559477],\n [64.0783643624948, 14.187566126014524, 0.1258121584073575]]"
          },
          "metadata": {}
        }
      ]
    },
    {
      "cell_type": "markdown",
      "source": "### Making the test\nWith the data gathered, we triain the model. First the data is loaded and split into two groups",
      "metadata": {
        "tags": [],
        "cell_id": "00041-570e94c0-21ee-4484-ae85-11aa5b40f524",
        "deepnote_cell_type": "markdown"
      }
    },
    {
      "cell_type": "code",
      "source": "df_train = pd.read_csv(\"../data/training_data.csv\")\ndf_test = pd.read_csv(\"../data/test_data.csv\")\ndf_train = df_train.drop(labels = \"Unnamed: 0\", axis= 1)\ndf_test = df_test.drop(labels= \"Unnamed: 0\", axis = 1)",
      "metadata": {
        "tags": [],
        "cell_id": "00056-9acbff1c-cf3d-4bc9-9ff5-843c5e924db1",
        "deepnote_cell_type": "code"
      },
      "outputs": [],
      "execution_count": null
    },
    {
      "cell_type": "code",
      "metadata": {
        "tags": [],
        "cell_id": "00041-ef3e8b2e-5d5c-4902-b2ee-c1cb96ddfd28",
        "deepnote_to_be_reexecuted": false,
        "source_hash": "1ead721b",
        "execution_millis": 17,
        "execution_start": 1619087855585,
        "deepnote_cell_type": "code"
      },
      "source": "df_train = pd.DataFrame.from_records(x_train_data, columns = (\"compactness\", \"colour\"))\ndf_train.to_csv(\"../data/training_data.csv\")\ndf_test= pd.DataFrame.from_records(x_test_data, columns = (\"compactness\", \"colour\"))\ndf_test.to_csv(\"../data/test_data.csv\")",
      "execution_count": 82,
      "outputs": [
        {
          "output_type": "error",
          "ename": "NameError",
          "evalue": "name 'x_train_data' is not defined",
          "traceback": [
            "\u001b[0;31m---------------------------------------------------------------------------\u001b[0m",
            "\u001b[0;31mNameError\u001b[0m                                 Traceback (most recent call last)",
            "\u001b[0;32m<ipython-input-82-7b1552693776>\u001b[0m in \u001b[0;36m<module>\u001b[0;34m\u001b[0m\n\u001b[0;32m----> 1\u001b[0;31m \u001b[0mdf_train\u001b[0m \u001b[0;34m=\u001b[0m \u001b[0mpd\u001b[0m\u001b[0;34m.\u001b[0m\u001b[0mDataFrame\u001b[0m\u001b[0;34m.\u001b[0m\u001b[0mfrom_records\u001b[0m\u001b[0;34m(\u001b[0m\u001b[0mx_train_data\u001b[0m\u001b[0;34m,\u001b[0m \u001b[0mcolumns\u001b[0m \u001b[0;34m=\u001b[0m \u001b[0;34m(\u001b[0m\u001b[0;34m\"compactness\"\u001b[0m\u001b[0;34m,\u001b[0m \u001b[0;34m\"colour\"\u001b[0m\u001b[0;34m)\u001b[0m\u001b[0;34m)\u001b[0m\u001b[0;34m\u001b[0m\u001b[0;34m\u001b[0m\u001b[0m\n\u001b[0m\u001b[1;32m      2\u001b[0m \u001b[0mdf_train\u001b[0m\u001b[0;34m.\u001b[0m\u001b[0mto_csv\u001b[0m\u001b[0;34m(\u001b[0m\u001b[0;34m\"../data/training_data.csv\"\u001b[0m\u001b[0;34m)\u001b[0m\u001b[0;34m\u001b[0m\u001b[0;34m\u001b[0m\u001b[0m\n\u001b[1;32m      3\u001b[0m \u001b[0mdf_test\u001b[0m\u001b[0;34m=\u001b[0m \u001b[0mpd\u001b[0m\u001b[0;34m.\u001b[0m\u001b[0mDataFrame\u001b[0m\u001b[0;34m.\u001b[0m\u001b[0mfrom_records\u001b[0m\u001b[0;34m(\u001b[0m\u001b[0mx_test_data\u001b[0m\u001b[0;34m,\u001b[0m \u001b[0mcolumns\u001b[0m \u001b[0;34m=\u001b[0m \u001b[0;34m(\u001b[0m\u001b[0;34m\"compactness\"\u001b[0m\u001b[0;34m,\u001b[0m \u001b[0;34m\"colour\"\u001b[0m\u001b[0;34m)\u001b[0m\u001b[0;34m)\u001b[0m\u001b[0;34m\u001b[0m\u001b[0;34m\u001b[0m\u001b[0m\n\u001b[1;32m      4\u001b[0m \u001b[0mdf_test\u001b[0m\u001b[0;34m.\u001b[0m\u001b[0mto_csv\u001b[0m\u001b[0;34m(\u001b[0m\u001b[0;34m\"../data/test_data.csv\"\u001b[0m\u001b[0;34m)\u001b[0m\u001b[0;34m\u001b[0m\u001b[0;34m\u001b[0m\u001b[0m\n",
            "\u001b[0;31mNameError\u001b[0m: name 'x_train_data' is not defined"
          ]
        }
      ]
    },
    {
      "cell_type": "code",
      "source": "df_healthy = pd.read_csv(\"../data/health_df.csv\")\ndf_ill = pd.read_csv(\"../data/melanoma_data.csv\")\ndf_healthy\ndf_healthy = df_healthy.drop(labels = \"Unnamed: 0\", axis= 1)\ndf_ill = df_ill.drop(labels= \"Unnamed: 0\", axis = 1)\ndf_healthy['melanoma'] = 0\ndf_ill['melanoma'] = 1\n\ndf_training = df_healthy[0:180]\ndf_training = df_training.append(df_ill[0:180])\ndf_verification = df_healthy[180:]\ndf_verification = df_verification.append(df_ill[180:])\ndf_training",
      "metadata": {
        "tags": [],
        "cell_id": "00058-1f67d018-182e-47d4-8da8-dfa86c0829d8",
        "deepnote_to_be_reexecuted": false,
        "source_hash": "d7656759",
        "execution_millis": 85,
        "execution_start": 1619092480455,
        "deepnote_cell_type": "code"
      },
      "outputs": [
        {
          "output_type": "execute_result",
          "execution_count": 242,
          "data": {
            "application/vnd.deepnote.dataframe.v2+json": {
              "row_count": 360,
              "column_count": 4,
              "columns": [
                {
                  "name": "Asymmetry",
                  "dtype": "float64",
                  "stats": {
                    "unique_count": 360,
                    "nan_count": 0,
                    "min": "4.1429275557416405",
                    "max": "99.9757335098169",
                    "histogram": [
                      {
                        "bin_start": 4.1429275557416405,
                        "bin_end": 13.726208151149166,
                        "count": 74
                      },
                      {
                        "bin_start": 13.726208151149166,
                        "bin_end": 23.309488746556692,
                        "count": 105
                      },
                      {
                        "bin_start": 23.309488746556692,
                        "bin_end": 32.89276934196422,
                        "count": 78
                      },
                      {
                        "bin_start": 32.89276934196422,
                        "bin_end": 42.47604993737175,
                        "count": 43
                      },
                      {
                        "bin_start": 42.47604993737175,
                        "bin_end": 52.05933053277928,
                        "count": 27
                      },
                      {
                        "bin_start": 52.05933053277928,
                        "bin_end": 61.6426111281868,
                        "count": 18
                      },
                      {
                        "bin_start": 61.6426111281868,
                        "bin_end": 71.22589172359432,
                        "count": 5
                      },
                      {
                        "bin_start": 71.22589172359432,
                        "bin_end": 80.80917231900185,
                        "count": 4
                      },
                      {
                        "bin_start": 80.80917231900185,
                        "bin_end": 90.39245291440938,
                        "count": 4
                      },
                      {
                        "bin_start": 90.39245291440938,
                        "bin_end": 99.9757335098169,
                        "count": 2
                      }
                    ]
                  }
                },
                {
                  "name": "compactness",
                  "dtype": "float64",
                  "stats": {
                    "unique_count": 360,
                    "nan_count": 0,
                    "min": "7.729364248127775",
                    "max": "92.2908961945483",
                    "histogram": [
                      {
                        "bin_start": 7.729364248127775,
                        "bin_end": 16.18551744276983,
                        "count": 309
                      },
                      {
                        "bin_start": 16.18551744276983,
                        "bin_end": 24.641670637411877,
                        "count": 44
                      },
                      {
                        "bin_start": 24.641670637411877,
                        "bin_end": 33.09782383205393,
                        "count": 2
                      },
                      {
                        "bin_start": 33.09782383205393,
                        "bin_end": 41.55397702669598,
                        "count": 4
                      },
                      {
                        "bin_start": 41.55397702669598,
                        "bin_end": 50.01013022133804,
                        "count": 0
                      },
                      {
                        "bin_start": 50.01013022133804,
                        "bin_end": 58.46628341598009,
                        "count": 0
                      },
                      {
                        "bin_start": 58.46628341598009,
                        "bin_end": 66.92243661062214,
                        "count": 0
                      },
                      {
                        "bin_start": 66.92243661062214,
                        "bin_end": 75.3785898052642,
                        "count": 0
                      },
                      {
                        "bin_start": 75.3785898052642,
                        "bin_end": 83.83474299990625,
                        "count": 0
                      },
                      {
                        "bin_start": 83.83474299990625,
                        "bin_end": 92.2908961945483,
                        "count": 1
                      }
                    ]
                  }
                },
                {
                  "name": "colour",
                  "dtype": "float64",
                  "stats": {
                    "unique_count": 360,
                    "nan_count": 0,
                    "min": "0.010881238897952",
                    "max": "0.4229200463853386",
                    "histogram": [
                      {
                        "bin_start": 0.010881238897952,
                        "bin_end": 0.05208511964669066,
                        "count": 1
                      },
                      {
                        "bin_start": 0.05208511964669066,
                        "bin_end": 0.09328900039542933,
                        "count": 2
                      },
                      {
                        "bin_start": 0.09328900039542933,
                        "bin_end": 0.134492881144168,
                        "count": 17
                      },
                      {
                        "bin_start": 0.134492881144168,
                        "bin_end": 0.17569676189290664,
                        "count": 57
                      },
                      {
                        "bin_start": 0.17569676189290664,
                        "bin_end": 0.2169006426416453,
                        "count": 84
                      },
                      {
                        "bin_start": 0.2169006426416453,
                        "bin_end": 0.258104523390384,
                        "count": 60
                      },
                      {
                        "bin_start": 0.258104523390384,
                        "bin_end": 0.29930840413912263,
                        "count": 37
                      },
                      {
                        "bin_start": 0.29930840413912263,
                        "bin_end": 0.3405122848878613,
                        "count": 59
                      },
                      {
                        "bin_start": 0.3405122848878613,
                        "bin_end": 0.38171616563659994,
                        "count": 38
                      },
                      {
                        "bin_start": 0.38171616563659994,
                        "bin_end": 0.4229200463853386,
                        "count": 5
                      }
                    ]
                  }
                },
                {
                  "name": "melanoma",
                  "dtype": "int64",
                  "stats": {
                    "unique_count": 2,
                    "nan_count": 0,
                    "min": "0",
                    "max": "1",
                    "histogram": [
                      {
                        "bin_start": 0,
                        "bin_end": 0.1,
                        "count": 180
                      },
                      {
                        "bin_start": 0.1,
                        "bin_end": 0.2,
                        "count": 0
                      },
                      {
                        "bin_start": 0.2,
                        "bin_end": 0.30000000000000004,
                        "count": 0
                      },
                      {
                        "bin_start": 0.30000000000000004,
                        "bin_end": 0.4,
                        "count": 0
                      },
                      {
                        "bin_start": 0.4,
                        "bin_end": 0.5,
                        "count": 0
                      },
                      {
                        "bin_start": 0.5,
                        "bin_end": 0.6000000000000001,
                        "count": 0
                      },
                      {
                        "bin_start": 0.6000000000000001,
                        "bin_end": 0.7000000000000001,
                        "count": 0
                      },
                      {
                        "bin_start": 0.7000000000000001,
                        "bin_end": 0.8,
                        "count": 0
                      },
                      {
                        "bin_start": 0.8,
                        "bin_end": 0.9,
                        "count": 0
                      },
                      {
                        "bin_start": 0.9,
                        "bin_end": 1,
                        "count": 180
                      }
                    ]
                  }
                },
                {
                  "name": "_deepnote_index_column",
                  "dtype": "int64"
                }
              ],
              "rows_top": [
                {
                  "Asymmetry": 7.401392689074003,
                  "compactness": 8.817419395949432,
                  "colour": 0.3141447987432436,
                  "melanoma": 0,
                  "_deepnote_index_column": 0
                },
                {
                  "Asymmetry": 25.312582473432123,
                  "compactness": 10.563745366860832,
                  "colour": 0.1764200695539108,
                  "melanoma": 0,
                  "_deepnote_index_column": 1
                },
                {
                  "Asymmetry": 9.413229198261046,
                  "compactness": 11.783488737990924,
                  "colour": 0.2451110445262149,
                  "melanoma": 0,
                  "_deepnote_index_column": 2
                },
                {
                  "Asymmetry": 7.654048746725471,
                  "compactness": 17.26778769944641,
                  "colour": 0.2256358597107939,
                  "melanoma": 0,
                  "_deepnote_index_column": 3
                },
                {
                  "Asymmetry": 7.803700724054706,
                  "compactness": 9.778193892873382,
                  "colour": 0.1786022501057642,
                  "melanoma": 0,
                  "_deepnote_index_column": 4
                },
                {
                  "Asymmetry": 23.362022592791824,
                  "compactness": 12.03127964832984,
                  "colour": 0.2843598444304022,
                  "melanoma": 0,
                  "_deepnote_index_column": 5
                },
                {
                  "Asymmetry": 45.192566074044535,
                  "compactness": 10.58469957064662,
                  "colour": 0.3557029097007974,
                  "melanoma": 0,
                  "_deepnote_index_column": 6
                },
                {
                  "Asymmetry": 9.81272838002436,
                  "compactness": 20.89110811650356,
                  "colour": 0.2551774928316861,
                  "melanoma": 0,
                  "_deepnote_index_column": 7
                },
                {
                  "Asymmetry": 41.58006015306274,
                  "compactness": 11.228367327670648,
                  "colour": 0.3510072230326058,
                  "melanoma": 0,
                  "_deepnote_index_column": 8
                },
                {
                  "Asymmetry": 13.337891646221292,
                  "compactness": 9.84076121089038,
                  "colour": 0.1758201722842494,
                  "melanoma": 0,
                  "_deepnote_index_column": 9
                },
                {
                  "Asymmetry": 7.322279678327598,
                  "compactness": 8.999482892204401,
                  "colour": 0.3595733185326799,
                  "melanoma": 0,
                  "_deepnote_index_column": 10
                },
                {
                  "Asymmetry": 29.418911149920277,
                  "compactness": 12.070618818945617,
                  "colour": 0.235545942217363,
                  "melanoma": 0,
                  "_deepnote_index_column": 11
                },
                {
                  "Asymmetry": 16.84738511470089,
                  "compactness": 10.978147433217297,
                  "colour": 0.322370344395314,
                  "melanoma": 0,
                  "_deepnote_index_column": 12
                },
                {
                  "Asymmetry": 6.7008451155525295,
                  "compactness": 11.20692069705034,
                  "colour": 0.2742101057107847,
                  "melanoma": 0,
                  "_deepnote_index_column": 13
                },
                {
                  "Asymmetry": 17.02016333897007,
                  "compactness": 9.943197469751238,
                  "colour": 0.3531187120022964,
                  "melanoma": 0,
                  "_deepnote_index_column": 14
                },
                {
                  "Asymmetry": 43.14383124982676,
                  "compactness": 9.436107555289302,
                  "colour": 0.3452623209343749,
                  "melanoma": 0,
                  "_deepnote_index_column": 15
                },
                {
                  "Asymmetry": 4.1429275557416405,
                  "compactness": 7.729364248127775,
                  "colour": 0.3383726569219659,
                  "melanoma": 0,
                  "_deepnote_index_column": 16
                },
                {
                  "Asymmetry": 27.86746761779613,
                  "compactness": 10.970796681393736,
                  "colour": 0.143674474540467,
                  "melanoma": 0,
                  "_deepnote_index_column": 17
                },
                {
                  "Asymmetry": 15.026488002492988,
                  "compactness": 10.546182739485102,
                  "colour": 0.326132904802256,
                  "melanoma": 0,
                  "_deepnote_index_column": 18
                },
                {
                  "Asymmetry": 46.62941124702984,
                  "compactness": 14.464908548055767,
                  "colour": 0.2960982324361287,
                  "melanoma": 0,
                  "_deepnote_index_column": 19
                },
                {
                  "Asymmetry": 11.405885689079335,
                  "compactness": 12.78192875306032,
                  "colour": 0.1111565925270709,
                  "melanoma": 0,
                  "_deepnote_index_column": 20
                },
                {
                  "Asymmetry": 6.839630696371854,
                  "compactness": 8.991550481258532,
                  "colour": 0.3119236526218403,
                  "melanoma": 0,
                  "_deepnote_index_column": 21
                },
                {
                  "Asymmetry": 14.320496983368244,
                  "compactness": 9.682456570703176,
                  "colour": 0.357890458962688,
                  "melanoma": 0,
                  "_deepnote_index_column": 22
                },
                {
                  "Asymmetry": 13.707029692855327,
                  "compactness": 12.597531924904368,
                  "colour": 0.2808466771188169,
                  "melanoma": 0,
                  "_deepnote_index_column": 23
                },
                {
                  "Asymmetry": 17.26988847583643,
                  "compactness": 10.518097545506784,
                  "colour": 0.3372829487563239,
                  "melanoma": 0,
                  "_deepnote_index_column": 24
                },
                {
                  "Asymmetry": 13.248223987839864,
                  "compactness": 8.366768967457316,
                  "colour": 0.2224251174638892,
                  "melanoma": 0,
                  "_deepnote_index_column": 25
                },
                {
                  "Asymmetry": 25.756504524886875,
                  "compactness": 10.43686923637454,
                  "colour": 0.3207454760017338,
                  "melanoma": 0,
                  "_deepnote_index_column": 26
                },
                {
                  "Asymmetry": 10.200683811505872,
                  "compactness": 12.656371901476586,
                  "colour": 0.1823144707711468,
                  "melanoma": 0,
                  "_deepnote_index_column": 27
                },
                {
                  "Asymmetry": 7.896657422274121,
                  "compactness": 9.22461206865182,
                  "colour": 0.3116002097831425,
                  "melanoma": 0,
                  "_deepnote_index_column": 28
                },
                {
                  "Asymmetry": 8.564187713012322,
                  "compactness": 9.247592367411848,
                  "colour": 0.162139709657046,
                  "melanoma": 0,
                  "_deepnote_index_column": 29
                },
                {
                  "Asymmetry": 80.96436058700209,
                  "compactness": 10.90046759349497,
                  "colour": 0.337933698482589,
                  "melanoma": 0,
                  "_deepnote_index_column": 30
                },
                {
                  "Asymmetry": 23.694732905675576,
                  "compactness": 11.760547051758676,
                  "colour": 0.1250052303354912,
                  "melanoma": 0,
                  "_deepnote_index_column": 31
                },
                {
                  "Asymmetry": 15.269474025623008,
                  "compactness": 9.795065949327723,
                  "colour": 0.2091446964203899,
                  "melanoma": 0,
                  "_deepnote_index_column": 32
                },
                {
                  "Asymmetry": 18.395351435914627,
                  "compactness": 10.280371928439015,
                  "colour": 0.1940758219171727,
                  "melanoma": 0,
                  "_deepnote_index_column": 33
                },
                {
                  "Asymmetry": 33.64119088681129,
                  "compactness": 11.994139036087915,
                  "colour": 0.2308896726694308,
                  "melanoma": 0,
                  "_deepnote_index_column": 34
                },
                {
                  "Asymmetry": 23.937433461632956,
                  "compactness": 10.172186197751092,
                  "colour": 0.2316697866074928,
                  "melanoma": 0,
                  "_deepnote_index_column": 35
                },
                {
                  "Asymmetry": 15.358499677249275,
                  "compactness": 17.409355770492557,
                  "colour": 0.3361393487115205,
                  "melanoma": 0,
                  "_deepnote_index_column": 36
                },
                {
                  "Asymmetry": 13.90170611935328,
                  "compactness": 9.779992329140535,
                  "colour": 0.2657954771577852,
                  "melanoma": 0,
                  "_deepnote_index_column": 37
                },
                {
                  "Asymmetry": 45.70552147239264,
                  "compactness": 10.364981291527494,
                  "colour": 0.334046522963639,
                  "melanoma": 0,
                  "_deepnote_index_column": 38
                },
                {
                  "Asymmetry": 35.08809983807588,
                  "compactness": 10.86078169783251,
                  "colour": 0.2130994440785962,
                  "melanoma": 0,
                  "_deepnote_index_column": 39
                },
                {
                  "Asymmetry": 22.04536593197404,
                  "compactness": 12.798972743792609,
                  "colour": 0.1533469600922232,
                  "melanoma": 0,
                  "_deepnote_index_column": 40
                },
                {
                  "Asymmetry": 6.126718469814704,
                  "compactness": 10.417465745720191,
                  "colour": 0.2647100502874994,
                  "melanoma": 0,
                  "_deepnote_index_column": 41
                },
                {
                  "Asymmetry": 13.030951386461858,
                  "compactness": 9.943845808554016,
                  "colour": 0.2871564625328839,
                  "melanoma": 0,
                  "_deepnote_index_column": 42
                },
                {
                  "Asymmetry": 60.010391455678594,
                  "compactness": 22.38575409138996,
                  "colour": 0.2496528500525482,
                  "melanoma": 0,
                  "_deepnote_index_column": 43
                },
                {
                  "Asymmetry": 55.987476363185465,
                  "compactness": 11.074694278201886,
                  "colour": 0.0778317123580088,
                  "melanoma": 0,
                  "_deepnote_index_column": 44
                },
                {
                  "Asymmetry": 20.417765905733663,
                  "compactness": 10.796132996704964,
                  "colour": 0.2515343975393779,
                  "melanoma": 0,
                  "_deepnote_index_column": 45
                },
                {
                  "Asymmetry": 14.739475464966064,
                  "compactness": 10.528867742130476,
                  "colour": 0.3725286700451601,
                  "melanoma": 0,
                  "_deepnote_index_column": 46
                },
                {
                  "Asymmetry": 10.3216879214601,
                  "compactness": 10.055916019290676,
                  "colour": 0.273108879641918,
                  "melanoma": 0,
                  "_deepnote_index_column": 47
                },
                {
                  "Asymmetry": 21.81713618866515,
                  "compactness": 9.205271756378435,
                  "colour": 0.1885760283752364,
                  "melanoma": 0,
                  "_deepnote_index_column": 48
                },
                {
                  "Asymmetry": 21.59573072044093,
                  "compactness": 11.23907327587313,
                  "colour": 0.1901117777969027,
                  "melanoma": 0,
                  "_deepnote_index_column": 49
                },
                {
                  "Asymmetry": 11.519422127220462,
                  "compactness": 9.647768904421408,
                  "colour": 0.2428609665055402,
                  "melanoma": 0,
                  "_deepnote_index_column": 50
                },
                {
                  "Asymmetry": 6.195824193541544,
                  "compactness": 11.885810883618957,
                  "colour": 0.146626712143509,
                  "melanoma": 0,
                  "_deepnote_index_column": 51
                },
                {
                  "Asymmetry": 10.466811446742334,
                  "compactness": 9.666077913391648,
                  "colour": 0.2194475274036537,
                  "melanoma": 0,
                  "_deepnote_index_column": 52
                },
                {
                  "Asymmetry": 22.718421040685985,
                  "compactness": 12.889302823436529,
                  "colour": 0.239012666593341,
                  "melanoma": 0,
                  "_deepnote_index_column": 53
                },
                {
                  "Asymmetry": 9.447006927089449,
                  "compactness": 11.08896227722602,
                  "colour": 0.2154630947411888,
                  "melanoma": 0,
                  "_deepnote_index_column": 54
                },
                {
                  "Asymmetry": 82.23733502391794,
                  "compactness": 12.728272413580497,
                  "colour": 0.1796705799278638,
                  "melanoma": 0,
                  "_deepnote_index_column": 55
                },
                {
                  "Asymmetry": 25.09293285468488,
                  "compactness": 9.419029525345966,
                  "colour": 0.143005275109659,
                  "melanoma": 0,
                  "_deepnote_index_column": 56
                },
                {
                  "Asymmetry": 25.09437375625641,
                  "compactness": 15.068255516396984,
                  "colour": 0.1709942798700324,
                  "melanoma": 0,
                  "_deepnote_index_column": 57
                },
                {
                  "Asymmetry": 23.93098274568642,
                  "compactness": 9.47795340950137,
                  "colour": 0.3327817389443394,
                  "melanoma": 0,
                  "_deepnote_index_column": 58
                },
                {
                  "Asymmetry": 14.72634944517585,
                  "compactness": 10.83179148911804,
                  "colour": 0.2834240761915743,
                  "melanoma": 0,
                  "_deepnote_index_column": 59
                },
                {
                  "Asymmetry": 28.185993111366248,
                  "compactness": 10.065625341656546,
                  "colour": 0.3776086277300214,
                  "melanoma": 0,
                  "_deepnote_index_column": 60
                },
                {
                  "Asymmetry": 19.606949139218617,
                  "compactness": 15.378543458638632,
                  "colour": 0.2578284722315485,
                  "melanoma": 0,
                  "_deepnote_index_column": 61
                },
                {
                  "Asymmetry": 18.77627338911801,
                  "compactness": 19.55913871159058,
                  "colour": 0.1878019291866085,
                  "melanoma": 0,
                  "_deepnote_index_column": 62
                },
                {
                  "Asymmetry": 14.979919083539576,
                  "compactness": 9.251324626690266,
                  "colour": 0.3632067924506651,
                  "melanoma": 0,
                  "_deepnote_index_column": 63
                },
                {
                  "Asymmetry": 17.195516327473438,
                  "compactness": 11.521751222864475,
                  "colour": 0.3532950183035748,
                  "melanoma": 0,
                  "_deepnote_index_column": 64
                },
                {
                  "Asymmetry": 13.150755653397884,
                  "compactness": 14.83048213290023,
                  "colour": 0.1362025382306899,
                  "melanoma": 0,
                  "_deepnote_index_column": 65
                },
                {
                  "Asymmetry": 38.15021231422505,
                  "compactness": 9.746240261114137,
                  "colour": 0.1999204446750059,
                  "melanoma": 0,
                  "_deepnote_index_column": 66
                },
                {
                  "Asymmetry": 19.2626144784882,
                  "compactness": 16.629116455619595,
                  "colour": 0.2246355603015833,
                  "melanoma": 0,
                  "_deepnote_index_column": 67
                },
                {
                  "Asymmetry": 20.70819732816112,
                  "compactness": 15.608421696191549,
                  "colour": 0.3316427341396752,
                  "melanoma": 0,
                  "_deepnote_index_column": 68
                },
                {
                  "Asymmetry": 19.34330402369245,
                  "compactness": 18.253045635837363,
                  "colour": 0.3164310507465043,
                  "melanoma": 0,
                  "_deepnote_index_column": 69
                },
                {
                  "Asymmetry": 17.903903538152367,
                  "compactness": 11.22430845828951,
                  "colour": 0.161137932525207,
                  "melanoma": 0,
                  "_deepnote_index_column": 70
                },
                {
                  "Asymmetry": 21.22895775791605,
                  "compactness": 11.251721899413733,
                  "colour": 0.2282287833557174,
                  "melanoma": 0,
                  "_deepnote_index_column": 71
                },
                {
                  "Asymmetry": 13.786455056521826,
                  "compactness": 9.323289524915388,
                  "colour": 0.4229200463853386,
                  "melanoma": 0,
                  "_deepnote_index_column": 72
                },
                {
                  "Asymmetry": 21.628430849487227,
                  "compactness": 11.029907780796306,
                  "colour": 0.2999563061645935,
                  "melanoma": 0,
                  "_deepnote_index_column": 73
                },
                {
                  "Asymmetry": 25.821255754956308,
                  "compactness": 10.105977880622628,
                  "colour": 0.2663864117113589,
                  "melanoma": 0,
                  "_deepnote_index_column": 74
                },
                {
                  "Asymmetry": 23.248820730125495,
                  "compactness": 17.666940118319296,
                  "colour": 0.2370928021696287,
                  "melanoma": 0,
                  "_deepnote_index_column": 75
                },
                {
                  "Asymmetry": 16.04340599265612,
                  "compactness": 11.326777744523014,
                  "colour": 0.2286791168596719,
                  "melanoma": 0,
                  "_deepnote_index_column": 76
                },
                {
                  "Asymmetry": 16.39634535023727,
                  "compactness": 9.785275720406649,
                  "colour": 0.2626724783415894,
                  "melanoma": 0,
                  "_deepnote_index_column": 77
                },
                {
                  "Asymmetry": 20.148711741310738,
                  "compactness": 23.196897232480573,
                  "colour": 0.2618845589928211,
                  "melanoma": 0,
                  "_deepnote_index_column": 78
                },
                {
                  "Asymmetry": 50.03064311505807,
                  "compactness": 21.636556451002583,
                  "colour": 0.1871183765341922,
                  "melanoma": 0,
                  "_deepnote_index_column": 79
                },
                {
                  "Asymmetry": 16.028132094137845,
                  "compactness": 9.630452569279756,
                  "colour": 0.3198397613080407,
                  "melanoma": 0,
                  "_deepnote_index_column": 80
                },
                {
                  "Asymmetry": 31.11264592746074,
                  "compactness": 15.057533498143911,
                  "colour": 0.2005724479848804,
                  "melanoma": 0,
                  "_deepnote_index_column": 81
                },
                {
                  "Asymmetry": 27.57791609554412,
                  "compactness": 13.782180643889005,
                  "colour": 0.1572484361753397,
                  "melanoma": 0,
                  "_deepnote_index_column": 82
                },
                {
                  "Asymmetry": 41.64624183006536,
                  "compactness": 19.264847018194697,
                  "colour": 0.1831401127835978,
                  "melanoma": 0,
                  "_deepnote_index_column": 83
                },
                {
                  "Asymmetry": 21.066197383390215,
                  "compactness": 13.63686623507623,
                  "colour": 0.1698475079573519,
                  "melanoma": 0,
                  "_deepnote_index_column": 84
                },
                {
                  "Asymmetry": 47.64157368766486,
                  "compactness": 9.544958052743477,
                  "colour": 0.2319255561607953,
                  "melanoma": 0,
                  "_deepnote_index_column": 85
                },
                {
                  "Asymmetry": 65.17363499706998,
                  "compactness": 11.68908455044931,
                  "colour": 0.3132738568025222,
                  "melanoma": 0,
                  "_deepnote_index_column": 86
                },
                {
                  "Asymmetry": 47.32889329743517,
                  "compactness": 10.115154124590148,
                  "colour": 0.2936560801033181,
                  "melanoma": 0,
                  "_deepnote_index_column": 87
                },
                {
                  "Asymmetry": 18.599951217812468,
                  "compactness": 10.97945462581942,
                  "colour": 0.1276054201074444,
                  "melanoma": 0,
                  "_deepnote_index_column": 88
                },
                {
                  "Asymmetry": 17.12505080612383,
                  "compactness": 12.199798190443744,
                  "colour": 0.2826040212503291,
                  "melanoma": 0,
                  "_deepnote_index_column": 89
                },
                {
                  "Asymmetry": 14.72811671087533,
                  "compactness": 9.39430028724298,
                  "colour": 0.3271234325439092,
                  "melanoma": 0,
                  "_deepnote_index_column": 90
                },
                {
                  "Asymmetry": 11.023534840793724,
                  "compactness": 9.26622614528141,
                  "colour": 0.1161665147385677,
                  "melanoma": 0,
                  "_deepnote_index_column": 91
                },
                {
                  "Asymmetry": 52.61185233373221,
                  "compactness": 10.148226476615015,
                  "colour": 0.1461427069611157,
                  "melanoma": 0,
                  "_deepnote_index_column": 92
                },
                {
                  "Asymmetry": 29.61883973528363,
                  "compactness": 9.823154188836078,
                  "colour": 0.3741326642533549,
                  "melanoma": 0,
                  "_deepnote_index_column": 93
                },
                {
                  "Asymmetry": 13.107482037799834,
                  "compactness": 9.461008766897235,
                  "colour": 0.3077045182332729,
                  "melanoma": 0,
                  "_deepnote_index_column": 94
                },
                {
                  "Asymmetry": 6.555814132513782,
                  "compactness": 11.53972020684201,
                  "colour": 0.3511534517397414,
                  "melanoma": 0,
                  "_deepnote_index_column": 95
                },
                {
                  "Asymmetry": 11.910032452673642,
                  "compactness": 14.133189163659884,
                  "colour": 0.1237547888873463,
                  "melanoma": 0,
                  "_deepnote_index_column": 96
                },
                {
                  "Asymmetry": 51.51890167262884,
                  "compactness": 10.596579843459716,
                  "colour": 0.3611892003789599,
                  "melanoma": 0,
                  "_deepnote_index_column": 97
                },
                {
                  "Asymmetry": 21.304132653699305,
                  "compactness": 9.269946084566184,
                  "colour": 0.1968874822424301,
                  "melanoma": 0,
                  "_deepnote_index_column": 98
                },
                {
                  "Asymmetry": 11.523269893143052,
                  "compactness": 11.467701488717031,
                  "colour": 0.2044399425221795,
                  "melanoma": 0,
                  "_deepnote_index_column": 99
                },
                {
                  "Asymmetry": 12.383834678405478,
                  "compactness": 10.761336697981395,
                  "colour": 0.3223575357390911,
                  "melanoma": 0,
                  "_deepnote_index_column": 100
                },
                {
                  "Asymmetry": 24.418949658787454,
                  "compactness": 10.238832250498415,
                  "colour": 0.3520823883608445,
                  "melanoma": 0,
                  "_deepnote_index_column": 101
                },
                {
                  "Asymmetry": 36.978993213291474,
                  "compactness": 11.766762371205738,
                  "colour": 0.1926640459465827,
                  "melanoma": 0,
                  "_deepnote_index_column": 102
                },
                {
                  "Asymmetry": 16.996897011331967,
                  "compactness": 14.519978487171484,
                  "colour": 0.2405200901527542,
                  "melanoma": 0,
                  "_deepnote_index_column": 103
                },
                {
                  "Asymmetry": 80.74669809685582,
                  "compactness": 12.662448478359456,
                  "colour": 0.010881238897952,
                  "melanoma": 0,
                  "_deepnote_index_column": 104
                },
                {
                  "Asymmetry": 4.780584353258893,
                  "compactness": 11.05409652232765,
                  "colour": 0.2532750397927401,
                  "melanoma": 0,
                  "_deepnote_index_column": 105
                },
                {
                  "Asymmetry": 14.84395649080004,
                  "compactness": 9.944891846678953,
                  "colour": 0.2478761361053579,
                  "melanoma": 0,
                  "_deepnote_index_column": 106
                },
                {
                  "Asymmetry": 59.6880003488814,
                  "compactness": 19.15536769624589,
                  "colour": 0.2137299515859345,
                  "melanoma": 0,
                  "_deepnote_index_column": 107
                },
                {
                  "Asymmetry": 41.142144736069135,
                  "compactness": 12.853817734747505,
                  "colour": 0.1565181213035128,
                  "melanoma": 0,
                  "_deepnote_index_column": 108
                },
                {
                  "Asymmetry": 40.80820770519263,
                  "compactness": 11.580689393321055,
                  "colour": 0.3272100587494627,
                  "melanoma": 0,
                  "_deepnote_index_column": 109
                },
                {
                  "Asymmetry": 17.109288406118377,
                  "compactness": 12.707843380342911,
                  "colour": 0.1697735144011691,
                  "melanoma": 0,
                  "_deepnote_index_column": 110
                },
                {
                  "Asymmetry": 24.576743552758668,
                  "compactness": 16.685580926999894,
                  "colour": 0.219489287258405,
                  "melanoma": 0,
                  "_deepnote_index_column": 111
                },
                {
                  "Asymmetry": 17.568245374155737,
                  "compactness": 10.288360124281644,
                  "colour": 0.2792799084362978,
                  "melanoma": 0,
                  "_deepnote_index_column": 112
                },
                {
                  "Asymmetry": 11.424685721976177,
                  "compactness": 22.18606875866512,
                  "colour": 0.2014802860588715,
                  "melanoma": 0,
                  "_deepnote_index_column": 113
                },
                {
                  "Asymmetry": 28.2642089093702,
                  "compactness": 9.541294408737604,
                  "colour": 0.3374257581582109,
                  "melanoma": 0,
                  "_deepnote_index_column": 114
                },
                {
                  "Asymmetry": 18.499625926681627,
                  "compactness": 11.945987804813852,
                  "colour": 0.3337191570094299,
                  "melanoma": 0,
                  "_deepnote_index_column": 115
                },
                {
                  "Asymmetry": 15.708336337069056,
                  "compactness": 9.598318244511118,
                  "colour": 0.2927369691907096,
                  "melanoma": 0,
                  "_deepnote_index_column": 116
                },
                {
                  "Asymmetry": 18.487869099116043,
                  "compactness": 12.781524027026231,
                  "colour": 0.1966805596472481,
                  "melanoma": 0,
                  "_deepnote_index_column": 117
                },
                {
                  "Asymmetry": 18.39900567176155,
                  "compactness": 9.587302332199492,
                  "colour": 0.215407354094601,
                  "melanoma": 0,
                  "_deepnote_index_column": 118
                },
                {
                  "Asymmetry": 6.357320567785503,
                  "compactness": 15.149215336703564,
                  "colour": 0.233731539640879,
                  "melanoma": 0,
                  "_deepnote_index_column": 119
                },
                {
                  "Asymmetry": 13.129021947171209,
                  "compactness": 14.272679371027394,
                  "colour": 0.2771488819754337,
                  "melanoma": 0,
                  "_deepnote_index_column": 120
                },
                {
                  "Asymmetry": 5.9392449704774375,
                  "compactness": 10.655544034061576,
                  "colour": 0.3326516083360412,
                  "melanoma": 0,
                  "_deepnote_index_column": 121
                },
                {
                  "Asymmetry": 17.56735950731332,
                  "compactness": 10.592268622325038,
                  "colour": 0.1145444422557347,
                  "melanoma": 0,
                  "_deepnote_index_column": 122
                },
                {
                  "Asymmetry": 6.256302336796879,
                  "compactness": 9.120025769227944,
                  "colour": 0.371402390175754,
                  "melanoma": 0,
                  "_deepnote_index_column": 123
                },
                {
                  "Asymmetry": 6.184719010444958,
                  "compactness": 8.925052674951536,
                  "colour": 0.3351049576149066,
                  "melanoma": 0,
                  "_deepnote_index_column": 124
                }
              ],
              "rows_bottom": [
                {
                  "Asymmetry": 31.835603406481827,
                  "compactness": 11.497743484755102,
                  "colour": 0.2092658823058549,
                  "melanoma": 1,
                  "_deepnote_index_column": 55
                },
                {
                  "Asymmetry": 15.425353150153075,
                  "compactness": 9.44608112311437,
                  "colour": 0.2953844329532559,
                  "melanoma": 1,
                  "_deepnote_index_column": 56
                },
                {
                  "Asymmetry": 10.51071706739766,
                  "compactness": 8.850909693699682,
                  "colour": 0.2922715089055012,
                  "melanoma": 1,
                  "_deepnote_index_column": 57
                },
                {
                  "Asymmetry": 51.8186282307538,
                  "compactness": 11.678341702261578,
                  "colour": 0.2313710724874964,
                  "melanoma": 1,
                  "_deepnote_index_column": 58
                },
                {
                  "Asymmetry": 17.013177337654835,
                  "compactness": 11.513131221041537,
                  "colour": 0.3160611810403925,
                  "melanoma": 1,
                  "_deepnote_index_column": 59
                },
                {
                  "Asymmetry": 24.02366365607697,
                  "compactness": 10.130040132768595,
                  "colour": 0.1983402021455814,
                  "melanoma": 1,
                  "_deepnote_index_column": 60
                },
                {
                  "Asymmetry": 39.05030228326583,
                  "compactness": 12.152920464928094,
                  "colour": 0.3388993950448155,
                  "melanoma": 1,
                  "_deepnote_index_column": 61
                },
                {
                  "Asymmetry": 14.570900080270826,
                  "compactness": 11.40555139004955,
                  "colour": 0.1392521268491061,
                  "melanoma": 1,
                  "_deepnote_index_column": 62
                },
                {
                  "Asymmetry": 12.875097851613464,
                  "compactness": 14.738319655165697,
                  "colour": 0.172607725190928,
                  "melanoma": 1,
                  "_deepnote_index_column": 63
                },
                {
                  "Asymmetry": 32.77058228915926,
                  "compactness": 13.58415809922123,
                  "colour": 0.1561846762964984,
                  "melanoma": 1,
                  "_deepnote_index_column": 64
                },
                {
                  "Asymmetry": 28.7675978709332,
                  "compactness": 10.896966871135971,
                  "colour": 0.3528804559953924,
                  "melanoma": 1,
                  "_deepnote_index_column": 65
                },
                {
                  "Asymmetry": 19.343556100067183,
                  "compactness": 12.380432815310652,
                  "colour": 0.1236492829669539,
                  "melanoma": 1,
                  "_deepnote_index_column": 66
                },
                {
                  "Asymmetry": 24.604657209916585,
                  "compactness": 12.133565481479533,
                  "colour": 0.2724543319995591,
                  "melanoma": 1,
                  "_deepnote_index_column": 67
                },
                {
                  "Asymmetry": 18.723514658825565,
                  "compactness": 10.146386755163576,
                  "colour": 0.1854829750699083,
                  "melanoma": 1,
                  "_deepnote_index_column": 68
                },
                {
                  "Asymmetry": 32.01636989345101,
                  "compactness": 21.94788204318599,
                  "colour": 0.2680146064773724,
                  "melanoma": 1,
                  "_deepnote_index_column": 69
                },
                {
                  "Asymmetry": 27.87023277609741,
                  "compactness": 15.972970816395854,
                  "colour": 0.2111799195496106,
                  "melanoma": 1,
                  "_deepnote_index_column": 70
                },
                {
                  "Asymmetry": 51.852151243861535,
                  "compactness": 20.494777396730683,
                  "colour": 0.2702509894534179,
                  "melanoma": 1,
                  "_deepnote_index_column": 71
                },
                {
                  "Asymmetry": 22.85841357122641,
                  "compactness": 11.890340260723832,
                  "colour": 0.3057599938998403,
                  "melanoma": 1,
                  "_deepnote_index_column": 72
                },
                {
                  "Asymmetry": 30.182829038811075,
                  "compactness": 11.29440878085181,
                  "colour": 0.1645467808815143,
                  "melanoma": 1,
                  "_deepnote_index_column": 73
                },
                {
                  "Asymmetry": 33.07663644267792,
                  "compactness": 15.535837446127328,
                  "colour": 0.1995236872651692,
                  "melanoma": 1,
                  "_deepnote_index_column": 74
                },
                {
                  "Asymmetry": 15.604568829625034,
                  "compactness": 9.751089523847387,
                  "colour": 0.3356243087917674,
                  "melanoma": 1,
                  "_deepnote_index_column": 75
                },
                {
                  "Asymmetry": 49.40511020089721,
                  "compactness": 10.6219653004585,
                  "colour": 0.3132043726285572,
                  "melanoma": 1,
                  "_deepnote_index_column": 76
                },
                {
                  "Asymmetry": 23.718631364164764,
                  "compactness": 9.710205333265174,
                  "colour": 0.1765931259225694,
                  "melanoma": 1,
                  "_deepnote_index_column": 77
                },
                {
                  "Asymmetry": 20.459303041497357,
                  "compactness": 12.163015291332275,
                  "colour": 0.1789104039493056,
                  "melanoma": 1,
                  "_deepnote_index_column": 78
                },
                {
                  "Asymmetry": 16.566085284170036,
                  "compactness": 10.633455070461553,
                  "colour": 0.1860540692037255,
                  "melanoma": 1,
                  "_deepnote_index_column": 79
                },
                {
                  "Asymmetry": 58.798717732411,
                  "compactness": 18.211895502964392,
                  "colour": 0.18013937242184,
                  "melanoma": 1,
                  "_deepnote_index_column": 80
                },
                {
                  "Asymmetry": 50.52605436647701,
                  "compactness": 9.5858677822981,
                  "colour": 0.2416330299732819,
                  "melanoma": 1,
                  "_deepnote_index_column": 81
                },
                {
                  "Asymmetry": 42.158495844798864,
                  "compactness": 19.424314656815127,
                  "colour": 0.251861050946793,
                  "melanoma": 1,
                  "_deepnote_index_column": 82
                },
                {
                  "Asymmetry": 77.17161876928073,
                  "compactness": 12.963162350794898,
                  "colour": 0.2991961738085175,
                  "melanoma": 1,
                  "_deepnote_index_column": 83
                },
                {
                  "Asymmetry": 58.32405497654554,
                  "compactness": 14.93758260399579,
                  "colour": 0.2272046037688551,
                  "melanoma": 1,
                  "_deepnote_index_column": 84
                },
                {
                  "Asymmetry": 10.959452447431495,
                  "compactness": 11.937230180650866,
                  "colour": 0.2551515048225227,
                  "melanoma": 1,
                  "_deepnote_index_column": 85
                },
                {
                  "Asymmetry": 32.02170201347952,
                  "compactness": 10.658505039417015,
                  "colour": 0.1500769451436937,
                  "melanoma": 1,
                  "_deepnote_index_column": 86
                },
                {
                  "Asymmetry": 15.996257647087123,
                  "compactness": 11.292239384237806,
                  "colour": 0.1839922212721921,
                  "melanoma": 1,
                  "_deepnote_index_column": 87
                },
                {
                  "Asymmetry": 32.27740383384946,
                  "compactness": 17.605804917903043,
                  "colour": 0.1671289159783863,
                  "melanoma": 1,
                  "_deepnote_index_column": 88
                },
                {
                  "Asymmetry": 20.179321486268176,
                  "compactness": 14.090455907887502,
                  "colour": 0.1503706977234202,
                  "melanoma": 1,
                  "_deepnote_index_column": 89
                },
                {
                  "Asymmetry": 10.40539839828922,
                  "compactness": 12.235655212508014,
                  "colour": 0.0967582731203587,
                  "melanoma": 1,
                  "_deepnote_index_column": 90
                },
                {
                  "Asymmetry": 14.36713447980497,
                  "compactness": 10.242174107596876,
                  "colour": 0.2751365638281108,
                  "melanoma": 1,
                  "_deepnote_index_column": 91
                },
                {
                  "Asymmetry": 25.40920779349224,
                  "compactness": 10.072490311892718,
                  "colour": 0.2369757125471552,
                  "melanoma": 1,
                  "_deepnote_index_column": 92
                },
                {
                  "Asymmetry": 8.40501317422035,
                  "compactness": 9.16765434149776,
                  "colour": 0.138762233864109,
                  "melanoma": 1,
                  "_deepnote_index_column": 93
                },
                {
                  "Asymmetry": 54.19144585191019,
                  "compactness": 10.115407158743992,
                  "colour": 0.1938983778475763,
                  "melanoma": 1,
                  "_deepnote_index_column": 94
                },
                {
                  "Asymmetry": 55.88954607739407,
                  "compactness": 11.05241425072767,
                  "colour": 0.3722335947136161,
                  "melanoma": 1,
                  "_deepnote_index_column": 95
                },
                {
                  "Asymmetry": 51.37962948438407,
                  "compactness": 11.530617499059488,
                  "colour": 0.1903904070984131,
                  "melanoma": 1,
                  "_deepnote_index_column": 96
                },
                {
                  "Asymmetry": 53.07399271473459,
                  "compactness": 15.51921196476227,
                  "colour": 0.3099633091675334,
                  "melanoma": 1,
                  "_deepnote_index_column": 97
                },
                {
                  "Asymmetry": 20.31795814632564,
                  "compactness": 9.983988566842312,
                  "colour": 0.1563225050359316,
                  "melanoma": 1,
                  "_deepnote_index_column": 98
                },
                {
                  "Asymmetry": 18.598833573308895,
                  "compactness": 10.725202471502849,
                  "colour": 0.1257317273967978,
                  "melanoma": 1,
                  "_deepnote_index_column": 99
                },
                {
                  "Asymmetry": 26.428732563822987,
                  "compactness": 19.090781853509952,
                  "colour": 0.1646265892643216,
                  "melanoma": 1,
                  "_deepnote_index_column": 100
                },
                {
                  "Asymmetry": 23.06263343222336,
                  "compactness": 9.53212199254036,
                  "colour": 0.2432676250052196,
                  "melanoma": 1,
                  "_deepnote_index_column": 101
                },
                {
                  "Asymmetry": 7.56550900926505,
                  "compactness": 9.210041174278604,
                  "colour": 0.1686486423854203,
                  "melanoma": 1,
                  "_deepnote_index_column": 102
                },
                {
                  "Asymmetry": 24.09897645571256,
                  "compactness": 15.120638712736326,
                  "colour": 0.1652580445296586,
                  "melanoma": 1,
                  "_deepnote_index_column": 103
                },
                {
                  "Asymmetry": 43.69742243757992,
                  "compactness": 10.1446432463847,
                  "colour": 0.2492453058077403,
                  "melanoma": 1,
                  "_deepnote_index_column": 104
                },
                {
                  "Asymmetry": 36.02977991597188,
                  "compactness": 11.26333734280372,
                  "colour": 0.1599800422231108,
                  "melanoma": 1,
                  "_deepnote_index_column": 105
                },
                {
                  "Asymmetry": 84.5264988704744,
                  "compactness": 16.139863083906192,
                  "colour": 0.1812559416921864,
                  "melanoma": 1,
                  "_deepnote_index_column": 106
                },
                {
                  "Asymmetry": 26.660160962558244,
                  "compactness": 23.19834668202617,
                  "colour": 0.1667972499869746,
                  "melanoma": 1,
                  "_deepnote_index_column": 107
                },
                {
                  "Asymmetry": 31.101042596553874,
                  "compactness": 10.392546391139607,
                  "colour": 0.2345446117735584,
                  "melanoma": 1,
                  "_deepnote_index_column": 108
                },
                {
                  "Asymmetry": 42.35552304316021,
                  "compactness": 10.322286779899368,
                  "colour": 0.1842074241344068,
                  "melanoma": 1,
                  "_deepnote_index_column": 109
                },
                {
                  "Asymmetry": 19.09384181116424,
                  "compactness": 11.955524229320718,
                  "colour": 0.1957419943227778,
                  "melanoma": 1,
                  "_deepnote_index_column": 110
                },
                {
                  "Asymmetry": 46.26142084654112,
                  "compactness": 10.623806007893704,
                  "colour": 0.139075371258873,
                  "melanoma": 1,
                  "_deepnote_index_column": 111
                },
                {
                  "Asymmetry": 36.99604870455019,
                  "compactness": 15.07719202083696,
                  "colour": 0.1378911543743918,
                  "melanoma": 1,
                  "_deepnote_index_column": 112
                },
                {
                  "Asymmetry": 16.392141297876563,
                  "compactness": 10.465775829067072,
                  "colour": 0.2073148797759494,
                  "melanoma": 1,
                  "_deepnote_index_column": 113
                },
                {
                  "Asymmetry": 96.0390972826365,
                  "compactness": 12.66295316583912,
                  "colour": 0.2093438101279758,
                  "melanoma": 1,
                  "_deepnote_index_column": 114
                },
                {
                  "Asymmetry": 15.463863143624287,
                  "compactness": 10.84587158892505,
                  "colour": 0.3114233773336763,
                  "melanoma": 1,
                  "_deepnote_index_column": 115
                },
                {
                  "Asymmetry": 28.91110343055149,
                  "compactness": 10.774340497922198,
                  "colour": 0.3160354394166538,
                  "melanoma": 1,
                  "_deepnote_index_column": 116
                },
                {
                  "Asymmetry": 12.398373983739836,
                  "compactness": 10.1468727303431,
                  "colour": 0.3348143149889553,
                  "melanoma": 1,
                  "_deepnote_index_column": 117
                },
                {
                  "Asymmetry": 17.674202251372222,
                  "compactness": 10.2411900754135,
                  "colour": 0.1224392020446994,
                  "melanoma": 1,
                  "_deepnote_index_column": 118
                },
                {
                  "Asymmetry": 19.83956239353363,
                  "compactness": 10.36933888498524,
                  "colour": 0.2503838767991719,
                  "melanoma": 1,
                  "_deepnote_index_column": 119
                },
                {
                  "Asymmetry": 24.909595989447045,
                  "compactness": 9.640543484157648,
                  "colour": 0.1888629546626894,
                  "melanoma": 1,
                  "_deepnote_index_column": 120
                },
                {
                  "Asymmetry": 31.575715959122675,
                  "compactness": 33.57392174535235,
                  "colour": 0.1811740120130001,
                  "melanoma": 1,
                  "_deepnote_index_column": 121
                },
                {
                  "Asymmetry": 39.994101648261626,
                  "compactness": 24.82968381031588,
                  "colour": 0.2114531873469811,
                  "melanoma": 1,
                  "_deepnote_index_column": 122
                },
                {
                  "Asymmetry": 29.018157602034677,
                  "compactness": 16.354986453073778,
                  "colour": 0.2138936444673543,
                  "melanoma": 1,
                  "_deepnote_index_column": 123
                },
                {
                  "Asymmetry": 26.07121593160996,
                  "compactness": 10.133159870092427,
                  "colour": 0.2939643697342226,
                  "melanoma": 1,
                  "_deepnote_index_column": 124
                },
                {
                  "Asymmetry": 22.96274810573032,
                  "compactness": 10.647265362924545,
                  "colour": 0.1951887932719799,
                  "melanoma": 1,
                  "_deepnote_index_column": 125
                },
                {
                  "Asymmetry": 55.21943223306758,
                  "compactness": 17.231773243190673,
                  "colour": 0.1755290470948008,
                  "melanoma": 1,
                  "_deepnote_index_column": 126
                },
                {
                  "Asymmetry": 25.92866891670281,
                  "compactness": 12.47706198766048,
                  "colour": 0.2522257249358083,
                  "melanoma": 1,
                  "_deepnote_index_column": 127
                },
                {
                  "Asymmetry": 41.03809999545888,
                  "compactness": 23.479388081102982,
                  "colour": 0.1623943616487586,
                  "melanoma": 1,
                  "_deepnote_index_column": 128
                },
                {
                  "Asymmetry": 17.44858545214169,
                  "compactness": 10.466732215557265,
                  "colour": 0.1404678386688169,
                  "melanoma": 1,
                  "_deepnote_index_column": 129
                },
                {
                  "Asymmetry": 22.34554973821989,
                  "compactness": 10.286735062835124,
                  "colour": 0.1978401217191054,
                  "melanoma": 1,
                  "_deepnote_index_column": 130
                },
                {
                  "Asymmetry": 16.100099179255725,
                  "compactness": 11.003606196726674,
                  "colour": 0.3295844448385842,
                  "melanoma": 1,
                  "_deepnote_index_column": 131
                },
                {
                  "Asymmetry": 22.455845248107654,
                  "compactness": 12.726132898414626,
                  "colour": 0.1503064479794407,
                  "melanoma": 1,
                  "_deepnote_index_column": 132
                },
                {
                  "Asymmetry": 9.922189040331498,
                  "compactness": 14.11495898273787,
                  "colour": 0.2020159459618262,
                  "melanoma": 1,
                  "_deepnote_index_column": 133
                },
                {
                  "Asymmetry": 12.983763021591107,
                  "compactness": 9.53220509960178,
                  "colour": 0.3379477181454344,
                  "melanoma": 1,
                  "_deepnote_index_column": 134
                },
                {
                  "Asymmetry": 24.74328985449788,
                  "compactness": 12.965187969908648,
                  "colour": 0.1718746758092126,
                  "melanoma": 1,
                  "_deepnote_index_column": 135
                },
                {
                  "Asymmetry": 39.05784611689053,
                  "compactness": 9.397344189884151,
                  "colour": 0.1642997140256554,
                  "melanoma": 1,
                  "_deepnote_index_column": 136
                },
                {
                  "Asymmetry": 23.484134296059818,
                  "compactness": 9.746855392298745,
                  "colour": 0.1869815576226827,
                  "melanoma": 1,
                  "_deepnote_index_column": 137
                },
                {
                  "Asymmetry": 30.673614162847635,
                  "compactness": 11.866850243269916,
                  "colour": 0.2805203810756972,
                  "melanoma": 1,
                  "_deepnote_index_column": 138
                },
                {
                  "Asymmetry": 25.51367684478372,
                  "compactness": 17.79229657262771,
                  "colour": 0.1693224599428718,
                  "melanoma": 1,
                  "_deepnote_index_column": 139
                },
                {
                  "Asymmetry": 14.4690694792965,
                  "compactness": 13.150957641754868,
                  "colour": 0.2335582125939916,
                  "melanoma": 1,
                  "_deepnote_index_column": 140
                },
                {
                  "Asymmetry": 11.439996333298678,
                  "compactness": 9.03078645669846,
                  "colour": 0.3464536662241577,
                  "melanoma": 1,
                  "_deepnote_index_column": 141
                },
                {
                  "Asymmetry": 30.685617055349816,
                  "compactness": 10.981811014990894,
                  "colour": 0.3379563545796397,
                  "melanoma": 1,
                  "_deepnote_index_column": 142
                },
                {
                  "Asymmetry": 7.108130280591207,
                  "compactness": 11.02910565927511,
                  "colour": 0.2664748067770549,
                  "melanoma": 1,
                  "_deepnote_index_column": 143
                },
                {
                  "Asymmetry": 13.058069641416822,
                  "compactness": 9.586006074146162,
                  "colour": 0.3707473300789748,
                  "melanoma": 1,
                  "_deepnote_index_column": 144
                },
                {
                  "Asymmetry": 11.627405508345868,
                  "compactness": 9.53833651122894,
                  "colour": 0.3394950075222701,
                  "melanoma": 1,
                  "_deepnote_index_column": 145
                },
                {
                  "Asymmetry": 25.11565255251986,
                  "compactness": 10.458135777176796,
                  "colour": 0.35774466511263,
                  "melanoma": 1,
                  "_deepnote_index_column": 146
                },
                {
                  "Asymmetry": 39.21313029566866,
                  "compactness": 13.841096484266703,
                  "colour": 0.1428244687336735,
                  "melanoma": 1,
                  "_deepnote_index_column": 147
                },
                {
                  "Asymmetry": 24.24668711138621,
                  "compactness": 10.58165301931542,
                  "colour": 0.3209019871560099,
                  "melanoma": 1,
                  "_deepnote_index_column": 148
                },
                {
                  "Asymmetry": 22.046716265720004,
                  "compactness": 21.74164746631556,
                  "colour": 0.1780468417367979,
                  "melanoma": 1,
                  "_deepnote_index_column": 149
                },
                {
                  "Asymmetry": 54.12912215513237,
                  "compactness": 19.052042004365877,
                  "colour": 0.2955506333297205,
                  "melanoma": 1,
                  "_deepnote_index_column": 150
                },
                {
                  "Asymmetry": 20.241776778183866,
                  "compactness": 9.358538884381822,
                  "colour": 0.1742526313359289,
                  "melanoma": 1,
                  "_deepnote_index_column": 151
                },
                {
                  "Asymmetry": 39.20423339814388,
                  "compactness": 11.883771808293291,
                  "colour": 0.1435761302955067,
                  "melanoma": 1,
                  "_deepnote_index_column": 152
                },
                {
                  "Asymmetry": 39.06360562937338,
                  "compactness": 11.670883165624256,
                  "colour": 0.221086744334768,
                  "melanoma": 1,
                  "_deepnote_index_column": 153
                },
                {
                  "Asymmetry": 21.27809410467357,
                  "compactness": 12.290505052420656,
                  "colour": 0.2641923097212001,
                  "melanoma": 1,
                  "_deepnote_index_column": 154
                },
                {
                  "Asymmetry": 13.213320915596022,
                  "compactness": 11.917185018950322,
                  "colour": 0.2540814844289727,
                  "melanoma": 1,
                  "_deepnote_index_column": 155
                },
                {
                  "Asymmetry": 30.043039298499657,
                  "compactness": 9.735519339637513,
                  "colour": 0.2330360507723631,
                  "melanoma": 1,
                  "_deepnote_index_column": 156
                },
                {
                  "Asymmetry": 35.1270553064275,
                  "compactness": 9.86199204342699,
                  "colour": 0.1910725078078791,
                  "melanoma": 1,
                  "_deepnote_index_column": 157
                },
                {
                  "Asymmetry": 20.5446834074628,
                  "compactness": 14.309938699431063,
                  "colour": 0.228440186068945,
                  "melanoma": 1,
                  "_deepnote_index_column": 158
                },
                {
                  "Asymmetry": 59.13605542001709,
                  "compactness": 13.708493856560224,
                  "colour": 0.3448388593207875,
                  "melanoma": 1,
                  "_deepnote_index_column": 159
                },
                {
                  "Asymmetry": 64.43360393237506,
                  "compactness": 10.357273990216235,
                  "colour": 0.1308788037745802,
                  "melanoma": 1,
                  "_deepnote_index_column": 160
                },
                {
                  "Asymmetry": 79.40101275420402,
                  "compactness": 38.31212576375203,
                  "colour": 0.1315188483095776,
                  "melanoma": 1,
                  "_deepnote_index_column": 161
                },
                {
                  "Asymmetry": 37.64705882352941,
                  "compactness": 15.377740728555988,
                  "colour": 0.3433727043257233,
                  "melanoma": 1,
                  "_deepnote_index_column": 162
                },
                {
                  "Asymmetry": 60.13517936870712,
                  "compactness": 92.2908961945483,
                  "colour": 0.2137645768874404,
                  "melanoma": 1,
                  "_deepnote_index_column": 163
                },
                {
                  "Asymmetry": 28.501628664495115,
                  "compactness": 15.649892335183615,
                  "colour": 0.234248132851196,
                  "melanoma": 1,
                  "_deepnote_index_column": 164
                },
                {
                  "Asymmetry": 12.519060556872072,
                  "compactness": 10.153578614810955,
                  "colour": 0.2906725925041592,
                  "melanoma": 1,
                  "_deepnote_index_column": 165
                },
                {
                  "Asymmetry": 66.03796867584244,
                  "compactness": 10.235429428968088,
                  "colour": 0.1197343810304196,
                  "melanoma": 1,
                  "_deepnote_index_column": 166
                },
                {
                  "Asymmetry": 12.085644858099124,
                  "compactness": 12.64587498759787,
                  "colour": 0.1779281441572863,
                  "melanoma": 1,
                  "_deepnote_index_column": 167
                },
                {
                  "Asymmetry": 25.05388361139937,
                  "compactness": 13.6835085156063,
                  "colour": 0.1818933911565866,
                  "melanoma": 1,
                  "_deepnote_index_column": 168
                },
                {
                  "Asymmetry": 28.38058939424424,
                  "compactness": 9.857277666347477,
                  "colour": 0.2400293303997699,
                  "melanoma": 1,
                  "_deepnote_index_column": 169
                },
                {
                  "Asymmetry": 24.63626507735997,
                  "compactness": 9.93282272680118,
                  "colour": 0.2010198337431215,
                  "melanoma": 1,
                  "_deepnote_index_column": 170
                },
                {
                  "Asymmetry": 59.52083552799892,
                  "compactness": 13.923188286379473,
                  "colour": 0.2169666639771317,
                  "melanoma": 1,
                  "_deepnote_index_column": 171
                },
                {
                  "Asymmetry": 26.21081833347158,
                  "compactness": 9.529606805545113,
                  "colour": 0.3058875319966901,
                  "melanoma": 1,
                  "_deepnote_index_column": 172
                },
                {
                  "Asymmetry": 74.33797011849562,
                  "compactness": 10.181787978343442,
                  "colour": 0.1845081803568476,
                  "melanoma": 1,
                  "_deepnote_index_column": 173
                },
                {
                  "Asymmetry": 17.036804428859696,
                  "compactness": 9.542969065322309,
                  "colour": 0.2276010419063231,
                  "melanoma": 1,
                  "_deepnote_index_column": 174
                },
                {
                  "Asymmetry": 17.535545023696685,
                  "compactness": 11.54645292652351,
                  "colour": 0.1811549514676569,
                  "melanoma": 1,
                  "_deepnote_index_column": 175
                },
                {
                  "Asymmetry": 7.713685274291161,
                  "compactness": 9.569720776050122,
                  "colour": 0.2410726838769294,
                  "melanoma": 1,
                  "_deepnote_index_column": 176
                },
                {
                  "Asymmetry": 32.08590608406268,
                  "compactness": 10.170246172121352,
                  "colour": 0.1880068408131852,
                  "melanoma": 1,
                  "_deepnote_index_column": 177
                },
                {
                  "Asymmetry": 44.42370165027938,
                  "compactness": 13.452071955301983,
                  "colour": 0.1568878616282768,
                  "melanoma": 1,
                  "_deepnote_index_column": 178
                },
                {
                  "Asymmetry": 43.75,
                  "compactness": 10.327490520856626,
                  "colour": 0.2353066981311513,
                  "melanoma": 1,
                  "_deepnote_index_column": 179
                }
              ]
            },
            "text/plain": "     Asymmetry  compactness    colour  melanoma\n0     7.401393     8.817419  0.314145         0\n1    25.312582    10.563745  0.176420         0\n2     9.413229    11.783489  0.245111         0\n3     7.654049    17.267788  0.225636         0\n4     7.803701     9.778194  0.178602         0\n..         ...          ...       ...       ...\n175  17.535545    11.546453  0.181155         1\n176   7.713685     9.569721  0.241073         1\n177  32.085906    10.170246  0.188007         1\n178  44.423702    13.452072  0.156888         1\n179  43.750000    10.327491  0.235307         1\n\n[360 rows x 4 columns]",
            "text/html": "<div>\n<style scoped>\n    .dataframe tbody tr th:only-of-type {\n        vertical-align: middle;\n    }\n\n    .dataframe tbody tr th {\n        vertical-align: top;\n    }\n\n    .dataframe thead th {\n        text-align: right;\n    }\n</style>\n<table border=\"1\" class=\"dataframe\">\n  <thead>\n    <tr style=\"text-align: right;\">\n      <th></th>\n      <th>Asymmetry</th>\n      <th>compactness</th>\n      <th>colour</th>\n      <th>melanoma</th>\n    </tr>\n  </thead>\n  <tbody>\n    <tr>\n      <th>0</th>\n      <td>7.401393</td>\n      <td>8.817419</td>\n      <td>0.314145</td>\n      <td>0</td>\n    </tr>\n    <tr>\n      <th>1</th>\n      <td>25.312582</td>\n      <td>10.563745</td>\n      <td>0.176420</td>\n      <td>0</td>\n    </tr>\n    <tr>\n      <th>2</th>\n      <td>9.413229</td>\n      <td>11.783489</td>\n      <td>0.245111</td>\n      <td>0</td>\n    </tr>\n    <tr>\n      <th>3</th>\n      <td>7.654049</td>\n      <td>17.267788</td>\n      <td>0.225636</td>\n      <td>0</td>\n    </tr>\n    <tr>\n      <th>4</th>\n      <td>7.803701</td>\n      <td>9.778194</td>\n      <td>0.178602</td>\n      <td>0</td>\n    </tr>\n    <tr>\n      <th>...</th>\n      <td>...</td>\n      <td>...</td>\n      <td>...</td>\n      <td>...</td>\n    </tr>\n    <tr>\n      <th>175</th>\n      <td>17.535545</td>\n      <td>11.546453</td>\n      <td>0.181155</td>\n      <td>1</td>\n    </tr>\n    <tr>\n      <th>176</th>\n      <td>7.713685</td>\n      <td>9.569721</td>\n      <td>0.241073</td>\n      <td>1</td>\n    </tr>\n    <tr>\n      <th>177</th>\n      <td>32.085906</td>\n      <td>10.170246</td>\n      <td>0.188007</td>\n      <td>1</td>\n    </tr>\n    <tr>\n      <th>178</th>\n      <td>44.423702</td>\n      <td>13.452072</td>\n      <td>0.156888</td>\n      <td>1</td>\n    </tr>\n    <tr>\n      <th>179</th>\n      <td>43.750000</td>\n      <td>10.327491</td>\n      <td>0.235307</td>\n      <td>1</td>\n    </tr>\n  </tbody>\n</table>\n<p>360 rows × 4 columns</p>\n</div>"
          },
          "metadata": {}
        }
      ],
      "execution_count": 242
    },
    {
      "cell_type": "code",
      "metadata": {
        "tags": [],
        "cell_id": "00052-ec43a881-1ff7-4838-937d-30bcb58f730a",
        "deepnote_to_be_reexecuted": true,
        "source_hash": "e9dc025f",
        "execution_millis": 8,
        "deepnote_cell_type": "code"
      },
      "source": "df_test",
      "execution_count": null,
      "outputs": [
        {
          "output_type": "execute_result",
          "execution_count": 18,
          "data": {
            "application/vnd.deepnote.dataframe.v2+json": {
              "row_count": 33,
              "column_count": 2,
              "columns": [
                {
                  "name": "compactness",
                  "dtype": "float64",
                  "stats": {
                    "unique_count": 33,
                    "nan_count": 0,
                    "min": "8.808482493525876",
                    "max": "25.09928791998398",
                    "histogram": [
                      {
                        "bin_start": 8.808482493525876,
                        "bin_end": 10.437563036171687,
                        "count": 13
                      },
                      {
                        "bin_start": 10.437563036171687,
                        "bin_end": 12.066643578817496,
                        "count": 2
                      },
                      {
                        "bin_start": 12.066643578817496,
                        "bin_end": 13.695724121463307,
                        "count": 1
                      },
                      {
                        "bin_start": 13.695724121463307,
                        "bin_end": 15.324804664109116,
                        "count": 3
                      },
                      {
                        "bin_start": 15.324804664109116,
                        "bin_end": 16.953885206754926,
                        "count": 5
                      },
                      {
                        "bin_start": 16.953885206754926,
                        "bin_end": 18.58296574940074,
                        "count": 4
                      },
                      {
                        "bin_start": 18.58296574940074,
                        "bin_end": 20.212046292046548,
                        "count": 2
                      },
                      {
                        "bin_start": 20.212046292046548,
                        "bin_end": 21.84112683469236,
                        "count": 1
                      },
                      {
                        "bin_start": 21.84112683469236,
                        "bin_end": 23.47020737733817,
                        "count": 1
                      },
                      {
                        "bin_start": 23.47020737733817,
                        "bin_end": 25.09928791998398,
                        "count": 1
                      }
                    ]
                  }
                },
                {
                  "name": "colour",
                  "dtype": "float64",
                  "stats": {
                    "unique_count": 33,
                    "nan_count": 0,
                    "min": "0.10158331485584937",
                    "max": "0.33855138043790056",
                    "histogram": [
                      {
                        "bin_start": 0.10158331485584937,
                        "bin_end": 0.12528012141405448,
                        "count": 2
                      },
                      {
                        "bin_start": 0.12528012141405448,
                        "bin_end": 0.14897692797225962,
                        "count": 4
                      },
                      {
                        "bin_start": 0.14897692797225962,
                        "bin_end": 0.17267373453046472,
                        "count": 4
                      },
                      {
                        "bin_start": 0.17267373453046472,
                        "bin_end": 0.19637054108866986,
                        "count": 8
                      },
                      {
                        "bin_start": 0.19637054108866986,
                        "bin_end": 0.22006734764687497,
                        "count": 5
                      },
                      {
                        "bin_start": 0.22006734764687497,
                        "bin_end": 0.24376415420508007,
                        "count": 3
                      },
                      {
                        "bin_start": 0.24376415420508007,
                        "bin_end": 0.2674609607632852,
                        "count": 1
                      },
                      {
                        "bin_start": 0.2674609607632852,
                        "bin_end": 0.29115776732149035,
                        "count": 2
                      },
                      {
                        "bin_start": 0.29115776732149035,
                        "bin_end": 0.3148545738796954,
                        "count": 2
                      },
                      {
                        "bin_start": 0.3148545738796954,
                        "bin_end": 0.33855138043790056,
                        "count": 2
                      }
                    ]
                  }
                },
                {
                  "name": "_deepnote_index_column",
                  "dtype": "int64"
                }
              ],
              "rows_top": [
                {
                  "compactness": 9.850088481306567,
                  "colour": 0.24125946419579647,
                  "_deepnote_index_column": 0
                },
                {
                  "compactness": 9.364706752332141,
                  "colour": 0.16139606767591363,
                  "_deepnote_index_column": 1
                },
                {
                  "compactness": 15.61083004930915,
                  "colour": 0.2047400871042575,
                  "_deepnote_index_column": 2
                },
                {
                  "compactness": 14.537474089346397,
                  "colour": 0.2525452733039856,
                  "_deepnote_index_column": 3
                },
                {
                  "compactness": 13.088989472137325,
                  "colour": 0.18759380352241373,
                  "_deepnote_index_column": 4
                },
                {
                  "compactness": 9.770455540880874,
                  "colour": 0.21973170523911167,
                  "_deepnote_index_column": 5
                },
                {
                  "compactness": 20.59453917746149,
                  "colour": 0.29926235675811763,
                  "_deepnote_index_column": 6
                },
                {
                  "compactness": 9.307642246135181,
                  "colour": 0.14630521919596784,
                  "_deepnote_index_column": 7
                },
                {
                  "compactness": 9.215936379516656,
                  "colour": 0.16897190896854397,
                  "_deepnote_index_column": 8
                },
                {
                  "compactness": 17.410129290247426,
                  "colour": 0.19158778229159296,
                  "_deepnote_index_column": 9
                },
                {
                  "compactness": 25.09928791998398,
                  "colour": 0.31745048718793056,
                  "_deepnote_index_column": 10
                },
                {
                  "compactness": 9.23704972725585,
                  "colour": 0.1558020942667333,
                  "_deepnote_index_column": 11
                },
                {
                  "compactness": 16.779666495361464,
                  "colour": 0.10158331485584937,
                  "_deepnote_index_column": 12
                },
                {
                  "compactness": 9.62270699373303,
                  "colour": 0.1927541360415581,
                  "_deepnote_index_column": 13
                },
                {
                  "compactness": 9.687153063126557,
                  "colour": 0.20732443282525437,
                  "_deepnote_index_column": 14
                },
                {
                  "compactness": 13.966191147371584,
                  "colour": 0.13570623939023896,
                  "_deepnote_index_column": 15
                },
                {
                  "compactness": 9.261266043728526,
                  "colour": 0.14970650797981333,
                  "_deepnote_index_column": 16
                },
                {
                  "compactness": 8.808482493525876,
                  "colour": 0.33855138043790056,
                  "_deepnote_index_column": 17
                },
                {
                  "compactness": 16.453652608686316,
                  "colour": 0.17671603289027926,
                  "_deepnote_index_column": 18
                },
                {
                  "compactness": 17.848065030122577,
                  "colour": 0.19697215199602824,
                  "_deepnote_index_column": 19
                },
                {
                  "compactness": 17.86323792876363,
                  "colour": 0.2172964148838603,
                  "_deepnote_index_column": 20
                },
                {
                  "compactness": 9.638317109630643,
                  "colour": 0.17510707989400498,
                  "_deepnote_index_column": 21
                },
                {
                  "compactness": 15.732169214184697,
                  "colour": 0.2739765591552982,
                  "_deepnote_index_column": 22
                },
                {
                  "compactness": 10.673681050139416,
                  "colour": 0.17923029437985083,
                  "_deepnote_index_column": 23
                },
                {
                  "compactness": 17.058631859646155,
                  "colour": 0.17989654920408044,
                  "_deepnote_index_column": 24
                },
                {
                  "compactness": 19.322976605301424,
                  "colour": 0.30931490659713745,
                  "_deepnote_index_column": 25
                },
                {
                  "compactness": 15.859342120806406,
                  "colour": 0.23744574189186096,
                  "_deepnote_index_column": 26
                },
                {
                  "compactness": 9.039452922680766,
                  "colour": 0.27229823156902144,
                  "_deepnote_index_column": 27
                },
                {
                  "compactness": 23.404579906252295,
                  "colour": 0.11394776866911505,
                  "_deepnote_index_column": 28
                },
                {
                  "compactness": 19.44368821324617,
                  "colour": 0.13086251106528646,
                  "_deepnote_index_column": 29
                },
                {
                  "compactness": 10.01445125855713,
                  "colour": 0.1379436767235533,
                  "_deepnote_index_column": 30
                },
                {
                  "compactness": 11.235288490480313,
                  "colour": 0.19002736035836354,
                  "_deepnote_index_column": 31
                },
                {
                  "compactness": 14.498301162238878,
                  "colour": 0.22252628422097087,
                  "_deepnote_index_column": 32
                }
              ],
              "rows_bottom": null
            },
            "text/plain": "    compactness    colour\n0      9.850088  0.241259\n1      9.364707  0.161396\n2     15.610830  0.204740\n3     14.537474  0.252545\n4     13.088989  0.187594\n5      9.770456  0.219732\n6     20.594539  0.299262\n7      9.307642  0.146305\n8      9.215936  0.168972\n9     17.410129  0.191588\n10    25.099288  0.317450\n11     9.237050  0.155802\n12    16.779666  0.101583\n13     9.622707  0.192754\n14     9.687153  0.207324\n15    13.966191  0.135706\n16     9.261266  0.149707\n17     8.808482  0.338551\n18    16.453653  0.176716\n19    17.848065  0.196972\n20    17.863238  0.217296\n21     9.638317  0.175107\n22    15.732169  0.273977\n23    10.673681  0.179230\n24    17.058632  0.179897\n25    19.322977  0.309315\n26    15.859342  0.237446\n27     9.039453  0.272298\n28    23.404580  0.113948\n29    19.443688  0.130863\n30    10.014451  0.137944\n31    11.235288  0.190027\n32    14.498301  0.222526",
            "text/html": "<div>\n<style scoped>\n    .dataframe tbody tr th:only-of-type {\n        vertical-align: middle;\n    }\n\n    .dataframe tbody tr th {\n        vertical-align: top;\n    }\n\n    .dataframe thead th {\n        text-align: right;\n    }\n</style>\n<table border=\"1\" class=\"dataframe\">\n  <thead>\n    <tr style=\"text-align: right;\">\n      <th></th>\n      <th>compactness</th>\n      <th>colour</th>\n    </tr>\n  </thead>\n  <tbody>\n    <tr>\n      <th>0</th>\n      <td>9.850088</td>\n      <td>0.241259</td>\n    </tr>\n    <tr>\n      <th>1</th>\n      <td>9.364707</td>\n      <td>0.161396</td>\n    </tr>\n    <tr>\n      <th>2</th>\n      <td>15.610830</td>\n      <td>0.204740</td>\n    </tr>\n    <tr>\n      <th>3</th>\n      <td>14.537474</td>\n      <td>0.252545</td>\n    </tr>\n    <tr>\n      <th>4</th>\n      <td>13.088989</td>\n      <td>0.187594</td>\n    </tr>\n    <tr>\n      <th>5</th>\n      <td>9.770456</td>\n      <td>0.219732</td>\n    </tr>\n    <tr>\n      <th>6</th>\n      <td>20.594539</td>\n      <td>0.299262</td>\n    </tr>\n    <tr>\n      <th>7</th>\n      <td>9.307642</td>\n      <td>0.146305</td>\n    </tr>\n    <tr>\n      <th>8</th>\n      <td>9.215936</td>\n      <td>0.168972</td>\n    </tr>\n    <tr>\n      <th>9</th>\n      <td>17.410129</td>\n      <td>0.191588</td>\n    </tr>\n    <tr>\n      <th>10</th>\n      <td>25.099288</td>\n      <td>0.317450</td>\n    </tr>\n    <tr>\n      <th>11</th>\n      <td>9.237050</td>\n      <td>0.155802</td>\n    </tr>\n    <tr>\n      <th>12</th>\n      <td>16.779666</td>\n      <td>0.101583</td>\n    </tr>\n    <tr>\n      <th>13</th>\n      <td>9.622707</td>\n      <td>0.192754</td>\n    </tr>\n    <tr>\n      <th>14</th>\n      <td>9.687153</td>\n      <td>0.207324</td>\n    </tr>\n    <tr>\n      <th>15</th>\n      <td>13.966191</td>\n      <td>0.135706</td>\n    </tr>\n    <tr>\n      <th>16</th>\n      <td>9.261266</td>\n      <td>0.149707</td>\n    </tr>\n    <tr>\n      <th>17</th>\n      <td>8.808482</td>\n      <td>0.338551</td>\n    </tr>\n    <tr>\n      <th>18</th>\n      <td>16.453653</td>\n      <td>0.176716</td>\n    </tr>\n    <tr>\n      <th>19</th>\n      <td>17.848065</td>\n      <td>0.196972</td>\n    </tr>\n    <tr>\n      <th>20</th>\n      <td>17.863238</td>\n      <td>0.217296</td>\n    </tr>\n    <tr>\n      <th>21</th>\n      <td>9.638317</td>\n      <td>0.175107</td>\n    </tr>\n    <tr>\n      <th>22</th>\n      <td>15.732169</td>\n      <td>0.273977</td>\n    </tr>\n    <tr>\n      <th>23</th>\n      <td>10.673681</td>\n      <td>0.179230</td>\n    </tr>\n    <tr>\n      <th>24</th>\n      <td>17.058632</td>\n      <td>0.179897</td>\n    </tr>\n    <tr>\n      <th>25</th>\n      <td>19.322977</td>\n      <td>0.309315</td>\n    </tr>\n    <tr>\n      <th>26</th>\n      <td>15.859342</td>\n      <td>0.237446</td>\n    </tr>\n    <tr>\n      <th>27</th>\n      <td>9.039453</td>\n      <td>0.272298</td>\n    </tr>\n    <tr>\n      <th>28</th>\n      <td>23.404580</td>\n      <td>0.113948</td>\n    </tr>\n    <tr>\n      <th>29</th>\n      <td>19.443688</td>\n      <td>0.130863</td>\n    </tr>\n    <tr>\n      <th>30</th>\n      <td>10.014451</td>\n      <td>0.137944</td>\n    </tr>\n    <tr>\n      <th>31</th>\n      <td>11.235288</td>\n      <td>0.190027</td>\n    </tr>\n    <tr>\n      <th>32</th>\n      <td>14.498301</td>\n      <td>0.222526</td>\n    </tr>\n  </tbody>\n</table>\n</div>"
          },
          "metadata": {}
        }
      ]
    },
    {
      "cell_type": "code",
      "metadata": {
        "tags": [],
        "cell_id": "00051-bc5e82c8-dbb1-44a4-9e15-ec49a8f523c3",
        "deepnote_to_be_reexecuted": true,
        "source_hash": "346a3bf7",
        "execution_millis": 34,
        "deepnote_cell_type": "code"
      },
      "source": "# df_train = pd.read_csv(\"../data/training_data.csv\")\n# df_test = pd.read_csv(\"../data/test_data.csv\")\n# df_train = df_train.drop(labels = \"Unnamed: 0\", axis= 1)\n# df_test = df_test.drop(labels= \"Unnamed: 0\", axis = 1)\n# df_test",
      "execution_count": null,
      "outputs": [
        {
          "output_type": "execute_result",
          "execution_count": 45,
          "data": {
            "application/vnd.deepnote.dataframe.v2+json": {
              "row_count": 33,
              "column_count": 2,
              "columns": [
                {
                  "name": "compactness",
                  "dtype": "float64",
                  "stats": {
                    "unique_count": 33,
                    "nan_count": 0,
                    "min": "8.808482493525876",
                    "max": "25.09928791998398",
                    "histogram": [
                      {
                        "bin_start": 8.808482493525876,
                        "bin_end": 10.437563036171687,
                        "count": 13
                      },
                      {
                        "bin_start": 10.437563036171687,
                        "bin_end": 12.066643578817496,
                        "count": 2
                      },
                      {
                        "bin_start": 12.066643578817496,
                        "bin_end": 13.695724121463307,
                        "count": 1
                      },
                      {
                        "bin_start": 13.695724121463307,
                        "bin_end": 15.324804664109116,
                        "count": 3
                      },
                      {
                        "bin_start": 15.324804664109116,
                        "bin_end": 16.953885206754926,
                        "count": 5
                      },
                      {
                        "bin_start": 16.953885206754926,
                        "bin_end": 18.58296574940074,
                        "count": 4
                      },
                      {
                        "bin_start": 18.58296574940074,
                        "bin_end": 20.212046292046548,
                        "count": 2
                      },
                      {
                        "bin_start": 20.212046292046548,
                        "bin_end": 21.84112683469236,
                        "count": 1
                      },
                      {
                        "bin_start": 21.84112683469236,
                        "bin_end": 23.47020737733817,
                        "count": 1
                      },
                      {
                        "bin_start": 23.47020737733817,
                        "bin_end": 25.09928791998398,
                        "count": 1
                      }
                    ]
                  }
                },
                {
                  "name": "colour",
                  "dtype": "float64",
                  "stats": {
                    "unique_count": 33,
                    "nan_count": 0,
                    "min": "0.1015833148558493",
                    "max": "0.3385513804379005",
                    "histogram": [
                      {
                        "bin_start": 0.1015833148558493,
                        "bin_end": 0.12528012141405442,
                        "count": 2
                      },
                      {
                        "bin_start": 0.12528012141405442,
                        "bin_end": 0.14897692797225953,
                        "count": 4
                      },
                      {
                        "bin_start": 0.14897692797225953,
                        "bin_end": 0.17267373453046464,
                        "count": 4
                      },
                      {
                        "bin_start": 0.17267373453046464,
                        "bin_end": 0.19637054108866978,
                        "count": 8
                      },
                      {
                        "bin_start": 0.19637054108866978,
                        "bin_end": 0.2200673476468749,
                        "count": 5
                      },
                      {
                        "bin_start": 0.2200673476468749,
                        "bin_end": 0.24376415420508002,
                        "count": 3
                      },
                      {
                        "bin_start": 0.24376415420508002,
                        "bin_end": 0.2674609607632851,
                        "count": 1
                      },
                      {
                        "bin_start": 0.2674609607632851,
                        "bin_end": 0.29115776732149024,
                        "count": 2
                      },
                      {
                        "bin_start": 0.29115776732149024,
                        "bin_end": 0.31485457387969534,
                        "count": 2
                      },
                      {
                        "bin_start": 0.31485457387969534,
                        "bin_end": 0.3385513804379005,
                        "count": 2
                      }
                    ]
                  }
                },
                {
                  "name": "_deepnote_index_column",
                  "dtype": "int64"
                }
              ],
              "rows_top": [
                {
                  "compactness": 9.850088481306567,
                  "colour": 0.2412594641957964,
                  "_deepnote_index_column": 0
                },
                {
                  "compactness": 9.36470675233214,
                  "colour": 0.1613960676759136,
                  "_deepnote_index_column": 1
                },
                {
                  "compactness": 15.61083004930915,
                  "colour": 0.2047400871042575,
                  "_deepnote_index_column": 2
                },
                {
                  "compactness": 14.537474089346397,
                  "colour": 0.2525452733039856,
                  "_deepnote_index_column": 3
                },
                {
                  "compactness": 13.088989472137325,
                  "colour": 0.1875938035224137,
                  "_deepnote_index_column": 4
                },
                {
                  "compactness": 9.770455540880874,
                  "colour": 0.2197317052391116,
                  "_deepnote_index_column": 5
                },
                {
                  "compactness": 20.59453917746149,
                  "colour": 0.2992623567581176,
                  "_deepnote_index_column": 6
                },
                {
                  "compactness": 9.30764224613518,
                  "colour": 0.1463052191959678,
                  "_deepnote_index_column": 7
                },
                {
                  "compactness": 9.215936379516656,
                  "colour": 0.1689719089685439,
                  "_deepnote_index_column": 8
                },
                {
                  "compactness": 17.410129290247426,
                  "colour": 0.1915877822915929,
                  "_deepnote_index_column": 9
                },
                {
                  "compactness": 25.09928791998398,
                  "colour": 0.3174504871879305,
                  "_deepnote_index_column": 10
                },
                {
                  "compactness": 9.23704972725585,
                  "colour": 0.1558020942667333,
                  "_deepnote_index_column": 11
                },
                {
                  "compactness": 16.779666495361464,
                  "colour": 0.1015833148558493,
                  "_deepnote_index_column": 12
                },
                {
                  "compactness": 9.62270699373303,
                  "colour": 0.1927541360415581,
                  "_deepnote_index_column": 13
                },
                {
                  "compactness": 9.687153063126557,
                  "colour": 0.2073244328252543,
                  "_deepnote_index_column": 14
                },
                {
                  "compactness": 13.966191147371584,
                  "colour": 0.1357062393902389,
                  "_deepnote_index_column": 15
                },
                {
                  "compactness": 9.261266043728526,
                  "colour": 0.1497065079798133,
                  "_deepnote_index_column": 16
                },
                {
                  "compactness": 8.808482493525876,
                  "colour": 0.3385513804379005,
                  "_deepnote_index_column": 17
                },
                {
                  "compactness": 16.453652608686316,
                  "colour": 0.1767160328902792,
                  "_deepnote_index_column": 18
                },
                {
                  "compactness": 17.848065030122577,
                  "colour": 0.1969721519960282,
                  "_deepnote_index_column": 19
                },
                {
                  "compactness": 17.86323792876363,
                  "colour": 0.2172964148838603,
                  "_deepnote_index_column": 20
                },
                {
                  "compactness": 9.638317109630645,
                  "colour": 0.1751070798940049,
                  "_deepnote_index_column": 21
                },
                {
                  "compactness": 15.732169214184696,
                  "colour": 0.2739765591552982,
                  "_deepnote_index_column": 22
                },
                {
                  "compactness": 10.673681050139416,
                  "colour": 0.1792302943798508,
                  "_deepnote_index_column": 23
                },
                {
                  "compactness": 17.058631859646155,
                  "colour": 0.1798965492040804,
                  "_deepnote_index_column": 24
                },
                {
                  "compactness": 19.322976605301424,
                  "colour": 0.3093149065971374,
                  "_deepnote_index_column": 25
                },
                {
                  "compactness": 15.859342120806406,
                  "colour": 0.2374457418918609,
                  "_deepnote_index_column": 26
                },
                {
                  "compactness": 9.039452922680766,
                  "colour": 0.2722982315690214,
                  "_deepnote_index_column": 27
                },
                {
                  "compactness": 23.40457990625229,
                  "colour": 0.113947768669115,
                  "_deepnote_index_column": 28
                },
                {
                  "compactness": 19.44368821324617,
                  "colour": 0.1308625110652864,
                  "_deepnote_index_column": 29
                },
                {
                  "compactness": 10.01445125855713,
                  "colour": 0.1379436767235533,
                  "_deepnote_index_column": 30
                },
                {
                  "compactness": 11.235288490480311,
                  "colour": 0.1900273603583635,
                  "_deepnote_index_column": 31
                },
                {
                  "compactness": 14.498301162238878,
                  "colour": 0.2225262842209708,
                  "_deepnote_index_column": 32
                }
              ],
              "rows_bottom": null
            },
            "text/plain": "    compactness    colour\n0      9.850088  0.241259\n1      9.364707  0.161396\n2     15.610830  0.204740\n3     14.537474  0.252545\n4     13.088989  0.187594\n5      9.770456  0.219732\n6     20.594539  0.299262\n7      9.307642  0.146305\n8      9.215936  0.168972\n9     17.410129  0.191588\n10    25.099288  0.317450\n11     9.237050  0.155802\n12    16.779666  0.101583\n13     9.622707  0.192754\n14     9.687153  0.207324\n15    13.966191  0.135706\n16     9.261266  0.149707\n17     8.808482  0.338551\n18    16.453653  0.176716\n19    17.848065  0.196972\n20    17.863238  0.217296\n21     9.638317  0.175107\n22    15.732169  0.273977\n23    10.673681  0.179230\n24    17.058632  0.179897\n25    19.322977  0.309315\n26    15.859342  0.237446\n27     9.039453  0.272298\n28    23.404580  0.113948\n29    19.443688  0.130863\n30    10.014451  0.137944\n31    11.235288  0.190027\n32    14.498301  0.222526",
            "text/html": "<div>\n<style scoped>\n    .dataframe tbody tr th:only-of-type {\n        vertical-align: middle;\n    }\n\n    .dataframe tbody tr th {\n        vertical-align: top;\n    }\n\n    .dataframe thead th {\n        text-align: right;\n    }\n</style>\n<table border=\"1\" class=\"dataframe\">\n  <thead>\n    <tr style=\"text-align: right;\">\n      <th></th>\n      <th>compactness</th>\n      <th>colour</th>\n    </tr>\n  </thead>\n  <tbody>\n    <tr>\n      <th>0</th>\n      <td>9.850088</td>\n      <td>0.241259</td>\n    </tr>\n    <tr>\n      <th>1</th>\n      <td>9.364707</td>\n      <td>0.161396</td>\n    </tr>\n    <tr>\n      <th>2</th>\n      <td>15.610830</td>\n      <td>0.204740</td>\n    </tr>\n    <tr>\n      <th>3</th>\n      <td>14.537474</td>\n      <td>0.252545</td>\n    </tr>\n    <tr>\n      <th>4</th>\n      <td>13.088989</td>\n      <td>0.187594</td>\n    </tr>\n    <tr>\n      <th>5</th>\n      <td>9.770456</td>\n      <td>0.219732</td>\n    </tr>\n    <tr>\n      <th>6</th>\n      <td>20.594539</td>\n      <td>0.299262</td>\n    </tr>\n    <tr>\n      <th>7</th>\n      <td>9.307642</td>\n      <td>0.146305</td>\n    </tr>\n    <tr>\n      <th>8</th>\n      <td>9.215936</td>\n      <td>0.168972</td>\n    </tr>\n    <tr>\n      <th>9</th>\n      <td>17.410129</td>\n      <td>0.191588</td>\n    </tr>\n    <tr>\n      <th>10</th>\n      <td>25.099288</td>\n      <td>0.317450</td>\n    </tr>\n    <tr>\n      <th>11</th>\n      <td>9.237050</td>\n      <td>0.155802</td>\n    </tr>\n    <tr>\n      <th>12</th>\n      <td>16.779666</td>\n      <td>0.101583</td>\n    </tr>\n    <tr>\n      <th>13</th>\n      <td>9.622707</td>\n      <td>0.192754</td>\n    </tr>\n    <tr>\n      <th>14</th>\n      <td>9.687153</td>\n      <td>0.207324</td>\n    </tr>\n    <tr>\n      <th>15</th>\n      <td>13.966191</td>\n      <td>0.135706</td>\n    </tr>\n    <tr>\n      <th>16</th>\n      <td>9.261266</td>\n      <td>0.149707</td>\n    </tr>\n    <tr>\n      <th>17</th>\n      <td>8.808482</td>\n      <td>0.338551</td>\n    </tr>\n    <tr>\n      <th>18</th>\n      <td>16.453653</td>\n      <td>0.176716</td>\n    </tr>\n    <tr>\n      <th>19</th>\n      <td>17.848065</td>\n      <td>0.196972</td>\n    </tr>\n    <tr>\n      <th>20</th>\n      <td>17.863238</td>\n      <td>0.217296</td>\n    </tr>\n    <tr>\n      <th>21</th>\n      <td>9.638317</td>\n      <td>0.175107</td>\n    </tr>\n    <tr>\n      <th>22</th>\n      <td>15.732169</td>\n      <td>0.273977</td>\n    </tr>\n    <tr>\n      <th>23</th>\n      <td>10.673681</td>\n      <td>0.179230</td>\n    </tr>\n    <tr>\n      <th>24</th>\n      <td>17.058632</td>\n      <td>0.179897</td>\n    </tr>\n    <tr>\n      <th>25</th>\n      <td>19.322977</td>\n      <td>0.309315</td>\n    </tr>\n    <tr>\n      <th>26</th>\n      <td>15.859342</td>\n      <td>0.237446</td>\n    </tr>\n    <tr>\n      <th>27</th>\n      <td>9.039453</td>\n      <td>0.272298</td>\n    </tr>\n    <tr>\n      <th>28</th>\n      <td>23.404580</td>\n      <td>0.113948</td>\n    </tr>\n    <tr>\n      <th>29</th>\n      <td>19.443688</td>\n      <td>0.130863</td>\n    </tr>\n    <tr>\n      <th>30</th>\n      <td>10.014451</td>\n      <td>0.137944</td>\n    </tr>\n    <tr>\n      <th>31</th>\n      <td>11.235288</td>\n      <td>0.190027</td>\n    </tr>\n    <tr>\n      <th>32</th>\n      <td>14.498301</td>\n      <td>0.222526</td>\n    </tr>\n  </tbody>\n</table>\n</div>"
          },
          "metadata": {}
        }
      ]
    },
    {
      "cell_type": "code",
      "metadata": {
        "tags": [],
        "cell_id": "00052-de85581c-94f4-4903-8b88-0ae15334173e",
        "deepnote_to_be_reexecuted": false,
        "source_hash": "a776abd9",
        "execution_millis": 23,
        "execution_start": 1619092058723,
        "deepnote_cell_type": "code"
      },
      "source": "# Let's scale the features\nfrom sklearn import preprocessing\n\n#Fit scaler on our data\nscaler = preprocessing.StandardScaler().fit(df_training[['Asymmetry', 'compactness', 'colour']])\n\n#Apply to data itself\ndf_train = scaler.transform(df_training[['Asymmetry', 'compactness', 'colour']])\ndf_test = scaler.transform(df)\ndf_train",
      "execution_count": 208,
      "outputs": [
        {
          "output_type": "execute_result",
          "execution_count": 208,
          "data": {
            "text/plain": "array([[-1.17979714, -0.68483134,  0.96260012],\n       [-0.13198337, -0.39146291, -0.85023259],\n       [-1.06210368, -0.18655604,  0.05392781],\n       ...,\n       [ 0.26425952, -0.45756755, -0.6977191 ],\n       [ 0.98602688,  0.09375224, -1.10732966],\n       [ 0.94661499, -0.43115179, -0.0751241 ]])"
          },
          "metadata": {}
        }
      ]
    },
    {
      "cell_type": "code",
      "metadata": {
        "tags": [],
        "cell_id": "00053-d0da7b32-8367-459a-bb0e-d9bd713b4397",
        "deepnote_to_be_reexecuted": false,
        "source_hash": "f8908e9",
        "execution_millis": 59,
        "execution_start": 1619092442014,
        "deepnote_cell_type": "code"
      },
      "source": "import seaborn as sns\ndf = pd.DataFrame(df_train, columns = [\"Asymmetry\",\"Border\", \"Colour\"])\ndf\n# df['illens'] = df_training['melanoma']\n# df\n#sns.pairplot(df, hue=\"illens\", size=3,diag_kind=\"hist\")",
      "execution_count": 237,
      "outputs": [
        {
          "output_type": "execute_result",
          "execution_count": 237,
          "data": {
            "application/vnd.deepnote.dataframe.v2+json": {
              "row_count": 360,
              "column_count": 3,
              "columns": [
                {
                  "name": "Asymmetry",
                  "dtype": "float64",
                  "stats": {
                    "unique_count": 360,
                    "nan_count": 0,
                    "min": "-1.3704190220401136",
                    "max": "4.235849176127224",
                    "histogram": [
                      {
                        "bin_start": -1.3704190220401136,
                        "bin_end": -0.8097922022233798,
                        "count": 74
                      },
                      {
                        "bin_start": -0.8097922022233798,
                        "bin_end": -0.24916538240664599,
                        "count": 105
                      },
                      {
                        "bin_start": -0.24916538240664599,
                        "bin_end": 0.3114614374100879,
                        "count": 78
                      },
                      {
                        "bin_start": 0.3114614374100879,
                        "bin_end": 0.8720882572268216,
                        "count": 43
                      },
                      {
                        "bin_start": 0.8720882572268216,
                        "bin_end": 1.4327150770435553,
                        "count": 27
                      },
                      {
                        "bin_start": 1.4327150770435553,
                        "bin_end": 1.9933418968602894,
                        "count": 18
                      },
                      {
                        "bin_start": 1.9933418968602894,
                        "bin_end": 2.553968716677023,
                        "count": 5
                      },
                      {
                        "bin_start": 2.553968716677023,
                        "bin_end": 3.1145955364937565,
                        "count": 4
                      },
                      {
                        "bin_start": 3.1145955364937565,
                        "bin_end": 3.67522235631049,
                        "count": 4
                      },
                      {
                        "bin_start": 3.67522235631049,
                        "bin_end": 4.235849176127224,
                        "count": 2
                      }
                    ]
                  }
                },
                {
                  "name": "Border",
                  "dtype": "float64",
                  "stats": {
                    "unique_count": 360,
                    "nan_count": 0,
                    "min": "-0.8676156740493953",
                    "max": "13.33802751783352",
                    "histogram": [
                      {
                        "bin_start": -0.8676156740493953,
                        "bin_end": 0.5529486451388962,
                        "count": 309
                      },
                      {
                        "bin_start": 0.5529486451388962,
                        "bin_end": 1.9735129643271878,
                        "count": 44
                      },
                      {
                        "bin_start": 1.9735129643271878,
                        "bin_end": 3.3940772835154793,
                        "count": 2
                      },
                      {
                        "bin_start": 3.3940772835154793,
                        "bin_end": 4.81464160270377,
                        "count": 4
                      },
                      {
                        "bin_start": 4.81464160270377,
                        "bin_end": 6.235205921892062,
                        "count": 0
                      },
                      {
                        "bin_start": 6.235205921892062,
                        "bin_end": 7.655770241080353,
                        "count": 0
                      },
                      {
                        "bin_start": 7.655770241080353,
                        "bin_end": 9.076334560268647,
                        "count": 0
                      },
                      {
                        "bin_start": 9.076334560268647,
                        "bin_end": 10.496898879456937,
                        "count": 0
                      },
                      {
                        "bin_start": 10.496898879456937,
                        "bin_end": 11.917463198645228,
                        "count": 0
                      },
                      {
                        "bin_start": 11.917463198645228,
                        "bin_end": 13.33802751783352,
                        "count": 1
                      }
                    ]
                  }
                },
                {
                  "name": "Colour",
                  "dtype": "float64",
                  "stats": {
                    "unique_count": 360,
                    "nan_count": 0,
                    "min": "-3.029174653951229",
                    "max": "2.39437876689441",
                    "histogram": [
                      {
                        "bin_start": -3.029174653951229,
                        "bin_end": -2.486819311866665,
                        "count": 1
                      },
                      {
                        "bin_start": -2.486819311866665,
                        "bin_end": -1.9444639697821011,
                        "count": 2
                      },
                      {
                        "bin_start": -1.9444639697821011,
                        "bin_end": -1.4021086276975372,
                        "count": 17
                      },
                      {
                        "bin_start": -1.4021086276975372,
                        "bin_end": -0.8597532856129733,
                        "count": 57
                      },
                      {
                        "bin_start": -0.8597532856129733,
                        "bin_end": -0.31739794352840933,
                        "count": 84
                      },
                      {
                        "bin_start": -0.31739794352840933,
                        "bin_end": 0.2249573985561546,
                        "count": 60
                      },
                      {
                        "bin_start": 0.2249573985561546,
                        "bin_end": 0.7673127406407185,
                        "count": 37
                      },
                      {
                        "bin_start": 0.7673127406407185,
                        "bin_end": 1.3096680827252825,
                        "count": 59
                      },
                      {
                        "bin_start": 1.3096680827252825,
                        "bin_end": 1.8520234248098464,
                        "count": 38
                      },
                      {
                        "bin_start": 1.8520234248098464,
                        "bin_end": 2.39437876689441,
                        "count": 5
                      }
                    ]
                  }
                },
                {
                  "name": "_deepnote_index_column",
                  "dtype": "int64"
                }
              ],
              "rows_top": [
                {
                  "Asymmetry": -1.1797971439685,
                  "Border": -0.6848313411823018,
                  "Colour": 0.9626001195137855,
                  "_deepnote_index_column": 0
                },
                {
                  "Asymmetry": -0.1319833741462204,
                  "Border": -0.3914629138552712,
                  "Colour": -0.8502325859412975,
                  "_deepnote_index_column": 1
                },
                {
                  "Asymmetry": -1.0621036784680498,
                  "Border": -0.18655604051578037,
                  "Colour": 0.05392781235726991,
                  "_deepnote_index_column": 2
                },
                {
                  "Asymmetry": -1.1650166352796014,
                  "Border": 0.7347611637824382,
                  "Colour": -0.20241868537040128,
                  "_deepnote_index_column": 3
                },
                {
                  "Asymmetry": -1.1562619180098617,
                  "Border": -0.5234291128048608,
                  "Colour": -0.8215091439211677,
                  "_deepnote_index_column": 4
                },
                {
                  "Asymmetry": -0.24609212551363002,
                  "Border": -0.14492920172226337,
                  "Colour": 0.5705489633661036,
                  "_deepnote_index_column": 5
                },
                {
                  "Asymmetry": 1.0310058416095151,
                  "Border": -0.3879427796346718,
                  "Colour": 1.5096180963450656,
                  "_deepnote_index_column": 6
                },
                {
                  "Asymmetry": -1.0387327718602766,
                  "Border": 1.3434492496036774,
                  "Colour": 0.18642970089497873,
                  "_deepnote_index_column": 7
                },
                {
                  "Asymmetry": 0.8196723962526413,
                  "Border": -0.2798118803955647,
                  "Colour": 1.4478100650875503,
                  "_deepnote_index_column": 8
                },
                {
                  "Asymmetry": -0.8325089165126796,
                  "Border": -0.5129183170001479,
                  "Colour": -0.8581288685969732,
                  "_deepnote_index_column": 9
                },
                {
                  "Asymmetry": -1.18442529558937,
                  "Border": -0.6542461683911616,
                  "Colour": 1.5605632225777935,
                  "_deepnote_index_column": 10
                },
                {
                  "Asymmetry": 0.10823895515978214,
                  "Border": -0.13832054399848384,
                  "Colour": -0.07197499680834576,
                  "_deepnote_index_column": 11
                },
                {
                  "Asymmetry": -0.6272017523517779,
                  "Border": -0.32184676858050354,
                  "Colour": 1.0708707130815383,
                  "_deepnote_index_column": 12
                },
                {
                  "Asymmetry": -1.2207795355789353,
                  "Border": -0.28341473828197644,
                  "Colour": 0.4369507460303348,
                  "_deepnote_index_column": 13
                },
                {
                  "Asymmetry": -0.6170941377994051,
                  "Border": -0.4957098664222807,
                  "Colour": 1.4756030132675437,
                  "_deepnote_index_column": 14
                },
                {
                  "Asymmetry": 0.911153805794199,
                  "Border": -0.5808968092938096,
                  "Colour": 1.3721914998915108,
                  "_deepnote_index_column": 15
                },
                {
                  "Asymmetry": -1.3704190220401136,
                  "Border": -0.8676156740493953,
                  "Colour": 1.2815047486827136,
                  "_deepnote_index_column": 16
                },
                {
                  "Asymmetry": 0.017478714459242196,
                  "Border": -0.32308163454371414,
                  "Colour": -1.281253840797797,
                  "_deepnote_index_column": 17
                },
                {
                  "Asymmetry": -0.7337251654009375,
                  "Border": -0.39441329108081263,
                  "Colour": 1.1203962601790247,
                  "_deepnote_index_column": 18
                },
                {
                  "Asymmetry": 1.1150620196458552,
                  "Border": 0.263900475498651,
                  "Colour": 0.7250581340238222,
                  "_deepnote_index_column": 19
                },
                {
                  "Asymmetry": -0.9455322538590301,
                  "Border": -0.018826314290374197,
                  "Colour": -1.709277772106277,
                  "_deepnote_index_column": 20
                },
                {
                  "Asymmetry": -1.2126605080667445,
                  "Border": -0.655578748312015,
                  "Colour": 0.9333637844258494,
                  "_deepnote_index_column": 21
                },
                {
                  "Asymmetry": -0.7750260013652681,
                  "Border": -0.5395121970110223,
                  "Colour": 1.5384122052178286,
                  "_deepnote_index_column": 22
                },
                {
                  "Asymmetry": -0.8109141518496294,
                  "Border": -0.049803467686295955,
                  "Colour": 0.5243061089443517,
                  "_deepnote_index_column": 23
                },
                {
                  "Asymmetry": -0.6024850894765607,
                  "Border": -0.3991313731146576,
                  "Colour": 1.2671612200099396,
                  "_deepnote_index_column": 24
                },
                {
                  "Asymmetry": -0.8377545204223557,
                  "Border": -0.7605369137289819,
                  "Colour": -0.24468080189976862,
                  "_deepnote_index_column": 25
                },
                {
                  "Asymmetry": -0.10601370692465716,
                  "Border": -0.41277706223655947,
                  "Colour": 1.0494830176162382,
                  "_deepnote_index_column": 26
                },
                {
                  "Asymmetry": -1.0160371805523964,
                  "Border": -0.0399188346461414,
                  "Colour": -0.7726462049872276,
                  "_deepnote_index_column": 27
                },
                {
                  "Asymmetry": -1.1508239035862429,
                  "Border": -0.6164263148586965,
                  "Colour": 0.9291063953586289,
                  "_deepnote_index_column": 28
                },
                {
                  "Asymmetry": -1.1117730399177788,
                  "Border": -0.6125658133148661,
                  "Colour": -1.03820103299569,
                  "_deepnote_index_column": 29
                },
                {
                  "Asymmetry": 3.1236741296013752,
                  "Border": -0.33489634397132334,
                  "Colour": 1.2757268595561788,
                  "_deepnote_index_column": 30
                },
                {
                  "Asymmetry": -0.226628401919683,
                  "Border": -0.19041005547191828,
                  "Colour": -1.526991964082698,
                  "_deepnote_index_column": 31
                },
                {
                  "Asymmetry": -0.7195103586809317,
                  "Border": -0.5205947458251384,
                  "Colour": -0.4194873290324003,
                  "_deepnote_index_column": 32
                },
                {
                  "Asymmetry": -0.5366449302692288,
                  "Border": -0.43906732526574516,
                  "Colour": -0.6178347768337075,
                  "_deepnote_index_column": 33
                },
                {
                  "Asymmetry": 0.3552444808462792,
                  "Border": -0.15116851968744813,
                  "Colour": -0.13326419136034212,
                  "_deepnote_index_column": 34
                },
                {
                  "Asymmetry": -0.2124302951753867,
                  "Border": -0.457241639912499,
                  "Colour": -0.12299576629808635,
                  "_deepnote_index_column": 35
                },
                {
                  "Asymmetry": -0.7143023124950292,
                  "Border": 0.7585434375699914,
                  "Colour": 1.25210832736399,
                  "_deepnote_index_column": 36
                },
                {
                  "Asymmetry": -0.799525481258774,
                  "Border": -0.5231269902755444,
                  "Colour": 0.3261913062774106,
                  "_deepnote_index_column": 37
                },
                {
                  "Asymmetry": 1.0610139949574966,
                  "Border": -0.42485364683464766,
                  "Colour": 1.2245610380361418,
                  "_deepnote_index_column": 38
                },
                {
                  "Asymmetry": 0.4398893950628745,
                  "Border": -0.3415632486566407,
                  "Colour": -0.3674320740406659,
                  "_deepnote_index_column": 39
                },
                {
                  "Asymmetry": -0.32311721407239874,
                  "Border": -0.015963063763384466,
                  "Colour": -1.153937575560054,
                  "_deepnote_index_column": 40
                },
                {
                  "Asymmetry": -1.2543662382083345,
                  "Border": -0.41603668938105526,
                  "Colour": 0.31190413111710374,
                  "_deepnote_index_column": 41
                },
                {
                  "Asymmetry": -0.8504650788090352,
                  "Border": -0.4956009508257001,
                  "Colour": 0.6073600777584728,
                  "_deepnote_index_column": 42
                },
                {
                  "Asymmetry": 1.8978562106038412,
                  "Border": 1.59453750366787,
                  "Colour": 0.11371034849596752,
                  "_deepnote_index_column": 43
                },
                {
                  "Asymmetry": 1.6625136186549039,
                  "Border": -0.3056276911869895,
                  "Colour": -2.1479239980342086,
                  "_deepnote_index_column": 44
                },
                {
                  "Asymmetry": -0.4183326486577169,
                  "Border": -0.35242369973761783,
                  "Colour": 0.13847664022199896,
                  "_deepnote_index_column": 45
                },
                {
                  "Asymmetry": -0.7505155457471374,
                  "Border": -0.3973220684956313,
                  "Colour": 1.7310909489398807,
                  "_deepnote_index_column": 46
                },
                {
                  "Asymmetry": -1.0089583781868576,
                  "Border": -0.4767740754188917,
                  "Colour": 0.4224556103673931,
                  "_deepnote_index_column": 47
                },
                {
                  "Asymmetry": -0.3364687708702003,
                  "Border": -0.619675328553829,
                  "Colour": -0.6902270455624886,
                  "_deepnote_index_column": 48
                },
                {
                  "Asymmetry": -0.34942110408269766,
                  "Border": -0.27801336898387935,
                  "Colour": -0.6700123985969965,
                  "_deepnote_index_column": 49
                },
                {
                  "Asymmetry": -0.9388903141167166,
                  "Border": -0.5453394401914098,
                  "Colour": 0.024310654641917017,
                  "_deepnote_index_column": 50
                },
                {
                  "Asymmetry": -1.2503235180001129,
                  "Border": -0.16936676002425952,
                  "Colour": -1.24239434974945,
                  "_deepnote_index_column": 51
                },
                {
                  "Asymmetry": -1.0004685776796534,
                  "Border": -0.542263676985121,
                  "Colour": -0.2838740003646017,
                  "_deepnote_index_column": 52
                },
                {
                  "Asymmetry": -0.28374314572471737,
                  "Border": -0.0007883519129778006,
                  "Colour": -0.026343457965878767,
                  "_deepnote_index_column": 53
                },
                {
                  "Asymmetry": -1.0601276640432218,
                  "Border": -0.3032307844785418,
                  "Colour": -0.3363199908974282,
                  "_deepnote_index_column": 54
                },
                {
                  "Asymmetry": 3.198143785704122,
                  "Border": -0.02784013885206586,
                  "Colour": -0.807447012500653,
                  "_deepnote_index_column": 55
                },
                {
                  "Asymmetry": -0.14483298926562296,
                  "Border": -0.5837657781288237,
                  "Colour": -1.290062328727172,
                  "_deepnote_index_column": 56
                },
                {
                  "Asymmetry": -0.14474869578619554,
                  "Border": 0.3652578132369299,
                  "Colour": -0.9216507622539459,
                  "_deepnote_index_column": 57
                },
                {
                  "Asymmetry": -0.21280766535991202,
                  "Border": -0.5738670493035005,
                  "Colour": 1.2079130340863842,
                  "_deepnote_index_column": 58
                },
                {
                  "Asymmetry": -0.7512834246231211,
                  "Border": -0.3464333657367914,
                  "Colour": 0.5582317035823413,
                  "_deepnote_index_column": 59
                },
                {
                  "Asymmetry": 0.03611261886316272,
                  "Border": -0.47514298896634366,
                  "Colour": 1.7979570338300135,
                  "_deepnote_index_column": 60
                },
                {
                  "Asymmetry": -0.4657658444970679,
                  "Border": 0.41738364034494974,
                  "Colour": 0.2213238131277324,
                  "_deepnote_index_column": 61
                },
                {
                  "Asymmetry": -0.5143608010405457,
                  "Border": 1.1196893238647807,
                  "Colour": -0.7004163001333342,
                  "_deepnote_index_column": 62
                },
                {
                  "Asymmetry": -0.7364494709949597,
                  "Border": -0.6119388243946275,
                  "Colour": 1.6083896397485729,
                  "_deepnote_index_column": 63
                },
                {
                  "Asymmetry": -0.6068358982214976,
                  "Border": -0.23052579442435733,
                  "Colour": 1.4779236845879131,
                  "_deepnote_index_column": 64
                },
                {
                  "Asymmetry": -0.8434564678741737,
                  "Border": 0.3253138367178926,
                  "Colour": -1.3796048820027516,
                  "_deepnote_index_column": 65
                },
                {
                  "Asymmetry": 0.6190245421906053,
                  "Border": -0.5287970606294611,
                  "Colour": -0.540903616040634,
                  "_deepnote_index_column": 66
                },
                {
                  "Asymmetry": -0.48590959838970443,
                  "Border": 0.6274696377435249,
                  "Colour": -0.21558535118951846,
                  "_deepnote_index_column": 67
                },
                {
                  "Asymmetry": -0.40134226179495686,
                  "Border": 0.4560012971575623,
                  "Colour": 1.1929206273216766,
                  "_deepnote_index_column": 68
                },
                {
                  "Asymmetry": -0.48118921869613723,
                  "Border": 0.9002764090030309,
                  "Colour": 0.9926934254060452,
                  "_deepnote_index_column": 69
                },
                {
                  "Asymmetry": -0.5653948838248106,
                  "Border": -0.2804937371318812,
                  "Colour": -1.0513871496710634,
                  "_deepnote_index_column": 70
                },
                {
                  "Asymmetry": -0.37087751011484743,
                  "Border": -0.2758885040630297,
                  "Colour": -0.16828874506169167,
                  "_deepnote_index_column": 71
                },
                {
                  "Asymmetry": -0.8062677274230635,
                  "Border": -0.5998493122607413,
                  "Colour": 2.39437876689441,
                  "_deepnote_index_column": 72
                },
                {
                  "Asymmetry": -0.3475081297966679,
                  "Border": -0.31315145509373826,
                  "Colour": 0.7758408966851538,
                  "_deepnote_index_column": 73
                },
                {
                  "Asymmetry": -0.10222572682414292,
                  "Border": -0.46836409367856746,
                  "Colour": 0.3339696151679605,
                  "_deepnote_index_column": 74
                },
                {
                  "Asymmetry": -0.252714492419423,
                  "Border": 0.8018154934660343,
                  "Colour": -0.05161410498643516,
                  "_deepnote_index_column": 75
                },
                {
                  "Asymmetry": -0.6742349424899242,
                  "Border": -0.26327973822653505,
                  "Colour": -0.16236112909078904,
                  "_deepnote_index_column": 76
                },
                {
                  "Asymmetry": -0.6535878094274005,
                  "Border": -0.5222394239147898,
                  "Colour": 0.2850841323775494,
                  "_deepnote_index_column": 77
                },
                {
                  "Asymmetry": -0.434072454985746,
                  "Border": 1.730802892605921,
                  "Colour": 0.2747129668423864,
                  "_deepnote_index_column": 78
                },
                {
                  "Asymmetry": 1.3140358247691002,
                  "Border": 1.4686784503303887,
                  "Colour": -0.7094137155684183,
                  "_deepnote_index_column": 79
                },
                {
                  "Asymmetry": -0.6751284733708427,
                  "Border": -0.5482484423434668,
                  "Colour": 1.0375613443756908,
                  "_deepnote_index_column": 80
                },
                {
                  "Asymmetry": 0.20732330654573186,
                  "Border": 0.363456602188666,
                  "Colour": -0.5323214759183573,
                  "_deepnote_index_column": 81
                },
                {
                  "Asymmetry": 0.0005398022071026657,
                  "Border": 0.1492077921887006,
                  "Colour": -1.1025835196497216,
                  "_deepnote_index_column": 82
                },
                {
                  "Asymmetry": 0.8235440582308887,
                  "Border": 1.0702507352478452,
                  "Colour": -0.7617785064121132,
                  "_deepnote_index_column": 83
                },
                {
                  "Asymmetry": -0.38039907532982475,
                  "Border": 0.12479616441046158,
                  "Colour": -0.9367454053237942,
                  "_deepnote_index_column": 84
                },
                {
                  "Asymmetry": 1.174274040475453,
                  "Border": -0.5626108192874707,
                  "Colour": -0.11962914206135249,
                  "_deepnote_index_column": 85
                },
                {
                  "Asymmetry": 2.199908600464649,
                  "Border": -0.20241516904819012,
                  "Colour": 0.9511361504503809,
                  "_deepnote_index_column": 86
                },
                {
                  "Asymmetry": 1.1559820776086318,
                  "Border": -0.4668225600208417,
                  "Colour": 0.6929127550008852,
                  "_deepnote_index_column": 87
                },
                {
                  "Asymmetry": -0.5246757383084348,
                  "Border": -0.3216271709542377,
                  "Colour": -1.492766381743694,
                  "_deepnote_index_column": 88
                },
                {
                  "Asymmetry": -0.6109581672866328,
                  "Border": -0.11661947003477166,
                  "Colour": 0.5474375460878244,
                  "_deepnote_index_column": 89
                },
                {
                  "Asymmetry": -0.7511800386751667,
                  "Border": -0.5879200871250314,
                  "Colour": 1.133434304227461,
                  "_deepnote_index_column": 90
                },
                {
                  "Asymmetry": -0.967899974181371,
                  "Border": -0.6094354915995557,
                  "Colour": -1.643333544876744,
                  "_deepnote_index_column": 91
                },
                {
                  "Asymmetry": 1.4650378851950876,
                  "Border": -0.4612666763753174,
                  "Colour": -1.2487651767564587,
                  "_deepnote_index_column": 92
                },
                {
                  "Asymmetry": 0.11993487973246217,
                  "Border": -0.5158761521672485,
                  "Colour": 1.7522038832479865,
                  "_deepnote_index_column": 93
                },
                {
                  "Asymmetry": -0.845987996535281,
                  "Border": -0.5767136101605205,
                  "Colour": 0.8778284796673947,
                  "_deepnote_index_column": 94
                },
                {
                  "Asymmetry": -1.22926392231753,
                  "Border": -0.22750715262553983,
                  "Colour": 1.4497348333142308,
                  "_deepnote_index_column": 95
                },
                {
                  "Asymmetry": -0.9160394101526463,
                  "Border": 0.2081743420418357,
                  "Colour": -1.543451180715736,
                  "_deepnote_index_column": 96
                },
                {
                  "Asymmetry": 1.4010997121184678,
                  "Border": -0.3859469913285658,
                  "Colour": 1.5818326305942767,
                  "_deepnote_index_column": 97
                },
                {
                  "Asymmetry": -0.36647974023495705,
                  "Border": -0.608810572337113,
                  "Colour": -0.5808256658028915,
                  "_deepnote_index_column": 98
                },
                {
                  "Asymmetry": -0.9386652178408531,
                  "Border": -0.23960570606078818,
                  "Colour": -0.48141470974315287,
                  "_deepnote_index_column": 99
                },
                {
                  "Asymmetry": -0.8883217374423824,
                  "Border": -0.358269192276452,
                  "Colour": 1.0707021162648995,
                  "_deepnote_index_column": 100
                },
                {
                  "Asymmetry": -0.1842613511886752,
                  "Border": -0.446045650155883,
                  "Colour": 1.4619621703940926,
                  "_deepnote_index_column": 101
                },
                {
                  "Asymmetry": 0.550507625323988,
                  "Border": -0.18936593282706748,
                  "Colour": -0.6364175953828934,
                  "_deepnote_index_column": 102
                },
                {
                  "Asymmetry": -0.6184552298745778,
                  "Border": 0.27315177319477435,
                  "Colour": -0.006501656529325998,
                  "_deepnote_index_column": 103
                },
                {
                  "Asymmetry": 3.1109407625221968,
                  "Border": -0.03889801961312145,
                  "Colour": -3.029174653951229,
                  "_deepnote_index_column": 104
                },
                {
                  "Asymmetry": -1.3331157730151466,
                  "Border": -0.30908794508456894,
                  "Colour": 0.16138823514010606,
                  "_deepnote_index_column": 105
                },
                {
                  "Asymmetry": -0.7444033522596002,
                  "Border": -0.49542522500775527,
                  "Colour": 0.09032395179972186,
                  "_deepnote_index_column": 106
                },
                {
                  "Asymmetry": 1.8789961658476106,
                  "Border": 1.051859107888499,
                  "Colour": -0.35913287725105747,
                  "_deepnote_index_column": 107
                },
                {
                  "Asymmetry": 0.7940541202214152,
                  "Border": -0.00674955551165419,
                  "Colour": -1.1121964533089195,
                  "_deepnote_index_column": 108
                },
                {
                  "Asymmetry": 0.7745186329970242,
                  "Border": -0.22062466561771454,
                  "Colour": 1.1345745411297312,
                  "_deepnote_index_column": 109
                },
                {
                  "Asymmetry": -0.6118802757545797,
                  "Border": -0.03127204873175124,
                  "Colour": -0.9377193621391798,
                  "_deepnote_index_column": 110
                },
                {
                  "Asymmetry": -0.17503032762812398,
                  "Border": 0.636955205412226,
                  "Colour": -0.28332432688973763,
                  "_deepnote_index_column": 111
                },
                {
                  "Asymmetry": -0.5850310582176519,
                  "Border": -0.4377253739401807,
                  "Colour": 0.5036831639854344,
                  "_deepnote_index_column": 112
                },
                {
                  "Asymmetry": -0.9444324423121933,
                  "Border": 1.5609920070094268,
                  "Colour": -0.5203718532073481,
                  "_deepnote_index_column": 113
                },
                {
                  "Asymmetry": 0.04068828307938088,
                  "Border": -0.5632262814051919,
                  "Colour": 1.2690409808627006,
                  "_deepnote_index_column": 114
                },
                {
                  "Asymmetry": -0.5305448191888199,
                  "Border": -0.15925753126262382,
                  "Colour": 1.220252010079173,
                  "_deepnote_index_column": 115
                },
                {
                  "Asymmetry": -0.6938366888395912,
                  "Border": -0.5536467451103159,
                  "Colour": 0.6808147510176871,
                  "_deepnote_index_column": 116
                },
                {
                  "Asymmetry": -0.5312325996188728,
                  "Border": -0.018894304941659727,
                  "Colour": -0.5835493309736388,
                  "_deepnote_index_column": 117
                },
                {
                  "Asymmetry": -0.5364311556018457,
                  "Border": -0.5554973279478073,
                  "Colour": -0.3370536896874159,
                  "_deepnote_index_column": 118
                },
                {
                  "Asymmetry": -1.2408758974485752,
                  "Border": 0.3788583984401751,
                  "Colour": -0.09585747855924767,
                  "_deepnote_index_column": 119
                },
                {
                  "Asymmetry": -0.8447279008123402,
                  "Border": 0.23160755178879425,
                  "Colour": 0.47563304918626986,
                  "_deepnote_index_column": 120
                },
                {
                  "Asymmetry": -1.2653335338736345,
                  "Border": -0.37604149135111836,
                  "Colour": 1.2062001607041506,
                  "_deepnote_index_column": 121
                },
                {
                  "Asymmetry": -0.5850828818813442,
                  "Border": -0.3866712410878931,
                  "Colour": -1.6646844385383752,
                  "_deepnote_index_column": 122
                },
                {
                  "Asymmetry": -1.2467855156653063,
                  "Border": -0.6339959546012262,
                  "Colour": 1.7162660369957938,
                  "_deepnote_index_column": 123
                },
                {
                  "Asymmetry": -1.2509731768952,
                  "Border": -0.6667498338836277,
                  "Colour": 1.2384929220463625,
                  "_deepnote_index_column": 124
                },
                {
                  "Asymmetry": -1.0658366455082333,
                  "Border": 0.035691457650347404,
                  "Colour": -1.2511640639632826,
                  "_deepnote_index_column": 125
                },
                {
                  "Asymmetry": -0.5948684240100945,
                  "Border": -0.2176223301870528,
                  "Colour": 1.0859094856067097,
                  "_deepnote_index_column": 126
                },
                {
                  "Asymmetry": 0.7506970463391649,
                  "Border": -0.5263858796867898,
                  "Colour": -0.5043174838231069,
                  "_deepnote_index_column": 127
                },
                {
                  "Asymmetry": -0.27721114042255324,
                  "Border": -0.4093665382978074,
                  "Colour": 1.741864065259691,
                  "_deepnote_index_column": 128
                },
                {
                  "Asymmetry": -0.4334756794455409,
                  "Border": -0.023020979679257716,
                  "Colour": 1.163390832796383,
                  "_deepnote_index_column": 129
                },
                {
                  "Asymmetry": -1.0176769638230847,
                  "Border": 0.08112606872248339,
                  "Colour": 0.8634367191736055,
                  "_deepnote_index_column": 130
                },
                {
                  "Asymmetry": 0.32966711797135,
                  "Border": -0.3963161498674309,
                  "Colour": -1.2536027270683208,
                  "_deepnote_index_column": 131
                },
                {
                  "Asymmetry": -0.9338418964721775,
                  "Border": -0.5649313506519832,
                  "Colour": 0.825045295318748,
                  "_deepnote_index_column": 132
                },
                {
                  "Asymmetry": -0.5585142718291644,
                  "Border": 0.7739536659423256,
                  "Colour": -0.029099579431659858,
                  "_deepnote_index_column": 133
                },
                {
                  "Asymmetry": 0.7703820359556967,
                  "Border": -0.5185981620512085,
                  "Colour": 0.8174485174402314,
                  "_deepnote_index_column": 134
                },
                {
                  "Asymmetry": -0.15218703957254823,
                  "Border": -0.5439908241594685,
                  "Colour": 0.9804226015511351,
                  "_deepnote_index_column": 135
                },
                {
                  "Asymmetry": 0.7676998456185762,
                  "Border": 0.3570244971225115,
                  "Colour": 0.4518591195280789,
                  "_deepnote_index_column": 136
                },
                {
                  "Asymmetry": 0.03847895996272973,
                  "Border": 1.4919235653992646,
                  "Colour": 1.3878263671521953,
                  "_deepnote_index_column": 137
                },
                {
                  "Asymmetry": -0.5451977117694484,
                  "Border": -0.3656355215318497,
                  "Colour": 1.6546579386939657,
                  "_deepnote_index_column": 138
                },
                {
                  "Asymmetry": 0.24307729793648852,
                  "Border": 0.41335756711597266,
                  "Colour": -1.034783018233856,
                  "_deepnote_index_column": 139
                },
                {
                  "Asymmetry": -0.5303964510244598,
                  "Border": -0.5995058306584553,
                  "Colour": 0.46518684535861266,
                  "_deepnote_index_column": 140
                },
                {
                  "Asymmetry": -0.6869718022323738,
                  "Border": 1.2026255036564097,
                  "Colour": -0.41499256295618037,
                  "_deepnote_index_column": 141
                },
                {
                  "Asymmetry": -0.9969967951776036,
                  "Border": -0.3898234116757547,
                  "Colour": 1.79708027998361,
                  "_deepnote_index_column": 142
                },
                {
                  "Asymmetry": 0.1519338347383224,
                  "Border": -0.549145334554046,
                  "Colour": -0.11154947628714294,
                  "_deepnote_index_column": 143
                },
                {
                  "Asymmetry": -0.3151674079283426,
                  "Border": -0.5352739703786222,
                  "Colour": 1.8438171184945524,
                  "_deepnote_index_column": 144
                },
                {
                  "Asymmetry": 1.267360080057157,
                  "Border": 0.26729807214774626,
                  "Colour": -0.5385201687431354,
                  "_deepnote_index_column": 145
                },
                {
                  "Asymmetry": 0.23643581782291995,
                  "Border": 0.48524171017103496,
                  "Colour": -0.9608031465405418,
                  "_deepnote_index_column": 146
                },
                {
                  "Asymmetry": -0.38109670199923257,
                  "Border": -0.033943388143154715,
                  "Colour": -0.15202214364229433,
                  "_deepnote_index_column": 147
                },
                {
                  "Asymmetry": -0.7771018814455363,
                  "Border": -0.4708794927893685,
                  "Colour": -0.6333424233631917,
                  "_deepnote_index_column": 148
                },
                {
                  "Asymmetry": -1.199809450619114,
                  "Border": -0.21474374475729677,
                  "Colour": 1.53848289089623,
                  "_deepnote_index_column": 149
                },
                {
                  "Asymmetry": -1.0264675661552711,
                  "Border": 0.08008247137074206,
                  "Colour": -0.6033225087764357,
                  "_deepnote_index_column": 150
                },
                {
                  "Asymmetry": -1.0872981318934096,
                  "Border": 0.41700389287710804,
                  "Colour": -1.1875835758890885,
                  "_deepnote_index_column": 151
                },
                {
                  "Asymmetry": -0.8702483725831773,
                  "Border": 0.3775161411178921,
                  "Colour": 0.10322141154331112,
                  "_deepnote_index_column": 152
                },
                {
                  "Asymmetry": -0.04632928145061069,
                  "Border": -0.3700500397292881,
                  "Colour": 1.2262474493781934,
                  "_deepnote_index_column": 153
                },
                {
                  "Asymmetry": 1.4695798644726006,
                  "Border": 0.03830439397665551,
                  "Colour": -1.0502516091346001,
                  "_deepnote_index_column": 154
                },
                {
                  "Asymmetry": -0.8461398391573067,
                  "Border": -0.5691380752587563,
                  "Colour": 1.4508975701093636,
                  "_deepnote_index_column": 155
                },
                {
                  "Asymmetry": -0.6901296130261758,
                  "Border": -0.4906505134286899,
                  "Colour": 1.160858719638224,
                  "_deepnote_index_column": 156
                },
                {
                  "Asymmetry": -1.092910644659594,
                  "Border": -0.5990341448883422,
                  "Colour": 1.1902949222769141,
                  "_deepnote_index_column": 157
                },
                {
                  "Asymmetry": 0.0648305891398558,
                  "Border": -0.45150177694882576,
                  "Colour": 1.6340685518190958,
                  "_deepnote_index_column": 158
                },
                {
                  "Asymmetry": 0.5930759269308866,
                  "Border": 0.22199313759930112,
                  "Colour": -0.19203409376330813,
                  "_deepnote_index_column": 159
                },
                {
                  "Asymmetry": 1.742384704663698,
                  "Border": -0.027054219212860636,
                  "Colour": -1.3614310199517872,
                  "_deepnote_index_column": 160
                },
                {
                  "Asymmetry": -0.23876937623412856,
                  "Border": 0.949755281148535,
                  "Colour": -0.35714000676915575,
                  "_deepnote_index_column": 161
                },
                {
                  "Asymmetry": -0.5342138096050328,
                  "Border": -0.358003778152876,
                  "Colour": 1.8607294491660413,
                  "_deepnote_index_column": 162
                },
                {
                  "Asymmetry": 2.2922992991286204,
                  "Border": 0.9328363558481759,
                  "Colour": 1.4488865307468026,
                  "_deepnote_index_column": 163
                },
                {
                  "Asymmetry": 1.3674267958879436,
                  "Border": 0.039249485890078734,
                  "Colour": 1.244395958011677,
                  "_deepnote_index_column": 164
                },
                {
                  "Asymmetry": 0.5009765470088797,
                  "Border": 0.17858730406073067,
                  "Colour": -1.4837554981453427,
                  "_deepnote_index_column": 165
                }
              ],
              "rows_bottom": [
                {
                  "Asymmetry": -0.5533823121286338,
                  "Border": -0.014985622377149472,
                  "Colour": 0.433223027815147,
                  "_deepnote_index_column": 193
                },
                {
                  "Asymmetry": -0.45085611251807195,
                  "Border": 0.2669437598920564,
                  "Colour": -0.7747184257134417,
                  "_deepnote_index_column": 194
                },
                {
                  "Asymmetry": 0.13621033184057074,
                  "Border": 0.47890579192404054,
                  "Colour": -0.4678929656911186,
                  "_deepnote_index_column": 195
                },
                {
                  "Asymmetry": 0.6965642758679875,
                  "Border": -0.28703028178479945,
                  "Colour": -0.20834697556810497,
                  "_deepnote_index_column": 196
                },
                {
                  "Asymmetry": 0.4421799475757006,
                  "Border": -0.45596941891472065,
                  "Colour": -1.602934135816037,
                  "_deepnote_index_column": 197
                },
                {
                  "Asymmetry": -0.9833320370075893,
                  "Border": -0.40908910994338205,
                  "Colour": 1.3165544885635252,
                  "_deepnote_index_column": 198
                },
                {
                  "Asymmetry": -0.22345787916367704,
                  "Border": 0.39404567430099824,
                  "Colour": 0.4264572577383282,
                  "_deepnote_index_column": 199
                },
                {
                  "Asymmetry": 0.34917690070574026,
                  "Border": -0.5567556982533208,
                  "Colour": -0.9137347294162808,
                  "_deepnote_index_column": 200
                },
                {
                  "Asymmetry": 0.6917888195019396,
                  "Border": -0.5688150143033842,
                  "Colour": -0.7742936251712718,
                  "_deepnote_index_column": 201
                },
                {
                  "Asymmetry": 0.0627519514340389,
                  "Border": 0.38840268286505797,
                  "Colour": -0.4886676626977569,
                  "_deepnote_index_column": 202
                },
                {
                  "Asymmetry": 0.42816893411879775,
                  "Border": -0.17566737852029557,
                  "Colour": 0.7758183660715344,
                  "_deepnote_index_column": 203
                },
                {
                  "Asymmetry": 0.2292151032614918,
                  "Border": 2.9739206079139957,
                  "Colour": -0.07145646826699135,
                  "_deepnote_index_column": 204
                },
                {
                  "Asymmetry": -0.387794994815945,
                  "Border": -0.40590120884934705,
                  "Colour": -0.546686925444894,
                  "_deepnote_index_column": 205
                },
                {
                  "Asymmetry": 0.5848137899919382,
                  "Border": 1.4528340713927106,
                  "Colour": -0.8538748454888424,
                  "_deepnote_index_column": 206
                },
                {
                  "Asymmetry": 4.235849176127224,
                  "Border": -0.3046138408440922,
                  "Colour": -1.1008560817968416,
                  "_deepnote_index_column": 207
                },
                {
                  "Asymmetry": 0.521659079404932,
                  "Border": -0.010459544566557339,
                  "Colour": -1.0052224753777015,
                  "_deepnote_index_column": 208
                },
                {
                  "Asymmetry": -0.9546967338532636,
                  "Border": -0.6331608734915705,
                  "Colour": 1.9380237535842404,
                  "_deepnote_index_column": 209
                },
                {
                  "Asymmetry": -0.568406944262404,
                  "Border": 1.7459476513309917,
                  "Colour": -0.3804297687696014,
                  "_deepnote_index_column": 210
                },
                {
                  "Asymmetry": 1.384907943689993,
                  "Border": -0.35081259793759173,
                  "Colour": -0.4710073342305734,
                  "_deepnote_index_column": 211
                },
                {
                  "Asymmetry": 0.5894423953705396,
                  "Border": -0.0999541864524061,
                  "Colour": 2.0386644881889016,
                  "_deepnote_index_column": 212
                },
                {
                  "Asymmetry": 0.35139123974359737,
                  "Border": 0.23097706083238215,
                  "Colour": -1.000735612561356,
                  "_deepnote_index_column": 213
                },
                {
                  "Asymmetry": -0.4620270322770554,
                  "Border": -0.5847872468850522,
                  "Colour": 0.8259171500105039,
                  "_deepnote_index_column": 214
                },
                {
                  "Asymmetry": -0.6369084953468556,
                  "Border": 0.8575424130251645,
                  "Colour": -0.8180151739696838,
                  "_deepnote_index_column": 215
                },
                {
                  "Asymmetry": -0.47938002402135627,
                  "Border": -0.026879406694962398,
                  "Colour": -0.43505045471311043,
                  "_deepnote_index_column": 216
                },
                {
                  "Asymmetry": 0.02155089086185635,
                  "Border": 0.5871731893984125,
                  "Colour": -1.8152842160128055,
                  "_deepnote_index_column": 217
                },
                {
                  "Asymmetry": 1.0770215180091391,
                  "Border": 4.111971745490754,
                  "Colour": -0.17987787236156869,
                  "_deepnote_index_column": 218
                },
                {
                  "Asymmetry": -0.000015289927936193473,
                  "Border": 0.05886133380983483,
                  "Colour": -0.47937286005052376,
                  "_deepnote_index_column": 219
                },
                {
                  "Asymmetry": 0.032209865891459896,
                  "Border": -0.47428535502388397,
                  "Colour": -0.6860938439781281,
                  "_deepnote_index_column": 220
                },
                {
                  "Asymmetry": -0.07380417080482961,
                  "Border": -0.2688601809701039,
                  "Colour": 1.4648550814779715,
                  "_deepnote_index_column": 221
                },
                {
                  "Asymmetry": 3.1158816431652085,
                  "Border": -0.18953059081352353,
                  "Colour": 1.0046899736156503,
                  "_deepnote_index_column": 222
                },
                {
                  "Asymmetry": 1.5695565348571505,
                  "Border": 1.1513727433943697,
                  "Colour": -0.6658782531543728,
                  "_deepnote_index_column": 223
                },
                {
                  "Asymmetry": 0.6538543816721077,
                  "Border": 0.5758952984419212,
                  "Colour": 0.31251289455424125,
                  "_deepnote_index_column": 224
                },
                {
                  "Asymmetry": 0.18360821274855008,
                  "Border": -0.3340432581317331,
                  "Colour": 1.6072665881992971,
                  "_deepnote_index_column": 225
                },
                {
                  "Asymmetry": 0.3558724799472733,
                  "Border": 1.194393695923273,
                  "Colour": -0.12981202942934728,
                  "_deepnote_index_column": 226
                },
                {
                  "Asymmetry": 1.3924078462964866,
                  "Border": 0.6347902472728743,
                  "Colour": 1.0876417590873024,
                  "_deepnote_index_column": 227
                },
                {
                  "Asymmetry": 0.7521537911692562,
                  "Border": -0.14376874542426824,
                  "Colour": -0.4671965087957597,
                  "_deepnote_index_column": 228
                },
                {
                  "Asymmetry": -0.2024257152585965,
                  "Border": -0.032540653949003844,
                  "Colour": 1.065648619767749,
                  "_deepnote_index_column": 229
                },
                {
                  "Asymmetry": 0.8581202570653367,
                  "Border": 3.9341796364422192,
                  "Colour": -0.7717104771988524,
                  "_deepnote_index_column": 230
                },
                {
                  "Asymmetry": 0.17849232261147743,
                  "Border": 0.9621073192637272,
                  "Colour": -0.11504694626720036,
                  "_deepnote_index_column": 231
                },
                {
                  "Asymmetry": 2.4176075644929695,
                  "Border": -0.3504310086631219,
                  "Colour": 1.6394825245780376,
                  "_deepnote_index_column": 232
                },
                {
                  "Asymmetry": -0.641602784851012,
                  "Border": -0.5408953538770253,
                  "Colour": 0.1917821741774145,
                  "_deepnote_index_column": 233
                },
                {
                  "Asymmetry": -0.32572685273210983,
                  "Border": 0.2528844078198351,
                  "Colour": 0.2697680810956437,
                  "_deepnote_index_column": 234
                },
                {
                  "Asymmetry": 0.2496166890978974,
                  "Border": -0.23455889734451285,
                  "Colour": -0.4178921925750363,
                  "_deepnote_index_column": 235
                },
                {
                  "Asymmetry": -0.710391350112719,
                  "Border": -0.579221331773337,
                  "Colour": 0.7156625878840301,
                  "_deepnote_index_column": 236
                },
                {
                  "Asymmetry": -0.9979000763992179,
                  "Border": -0.6792052460858765,
                  "Colour": 0.6746880253883615,
                  "_deepnote_index_column": 237
                },
                {
                  "Asymmetry": 1.4186338691770368,
                  "Border": -0.20421987935448144,
                  "Colour": -0.12692765804692607,
                  "_deepnote_index_column": 238
                },
                {
                  "Asymmetry": -0.6175028224519732,
                  "Border": -0.2319738839680477,
                  "Colour": 0.9878249322607454,
                  "_deepnote_index_column": 239
                },
                {
                  "Asymmetry": -0.20738578466543747,
                  "Border": -0.4643218328477761,
                  "Colour": -0.5617039135380688,
                  "_deepnote_index_column": 240
                },
                {
                  "Asymmetry": 0.6716802660701809,
                  "Border": -0.1244945430968856,
                  "Colour": 1.2884380576239063,
                  "_deepnote_index_column": 241
                },
                {
                  "Asymmetry": -0.7603772920333062,
                  "Border": -0.2500464124397827,
                  "Colour": -1.3394639863321673,
                  "_deepnote_index_column": 242
                },
                {
                  "Asymmetry": -0.8595825903677726,
                  "Border": 0.30983129703062473,
                  "Colour": -0.9004134255505126,
                  "_deepnote_index_column": 243
                },
                {
                  "Asymmetry": 0.30431343228231844,
                  "Border": 0.11594163027383039,
                  "Colour": -1.1165854981648757,
                  "_deepnote_index_column": 244
                },
                {
                  "Asymmetry": 0.07013679497906947,
                  "Border": -0.33548443658981186,
                  "Colour": 1.472466915021942,
                  "_deepnote_index_column": 245
                },
                {
                  "Asymmetry": -0.48117447209919584,
                  "Border": -0.08627433590705988,
                  "Colour": -1.5448399261083192,
                  "_deepnote_index_column": 246
                },
                {
                  "Asymmetry": -0.17339736439741182,
                  "Border": -0.1277460214290104,
                  "Colour": 0.4138399798968804,
                  "_deepnote_index_column": 247
                },
                {
                  "Asymmetry": -0.5174472137660165,
                  "Border": -0.4615757344766791,
                  "Colour": -0.7309400549444598,
                  "_deepnote_index_column": 248
                },
                {
                  "Asymmetry": 0.2601916211068317,
                  "Border": 1.5209785941104395,
                  "Colour": 0.35540109475811005,
                  "_deepnote_index_column": 249
                },
                {
                  "Asymmetry": 0.01764047763515079,
                  "Border": 0.517242556727203,
                  "Colour": -0.39269824712048124,
                  "_deepnote_index_column": 250
                },
                {
                  "Asymmetry": 1.4205949826018351,
                  "Border": 1.2768689422052382,
                  "Colour": 0.38483798837018524,
                  "_deepnote_index_column": 251
                },
                {
                  "Asymmetry": -0.2755535110360925,
                  "Border": -0.16860586185280602,
                  "Colour": 0.8522332410421383,
                  "_deepnote_index_column": 252
                },
                {
                  "Asymmetry": 0.15292854265398503,
                  "Border": -0.268717458402838,
                  "Colour": -1.0065174169467725,
                  "_deepnote_index_column": 253
                },
                {
                  "Asymmetry": 0.3222177569100557,
                  "Border": 0.44380773899903636,
                  "Colour": -0.5461260246299791,
                  "_deepnote_index_column": 254
                },
                {
                  "Asymmetry": -0.6999071411361178,
                  "Border": -0.5279824242984176,
                  "Colour": 1.2453289986505545,
                  "_deepnote_index_column": 255
                },
                {
                  "Asymmetry": 1.2774418291258178,
                  "Border": -0.38168244294483855,
                  "Colour": 0.9502215493920477,
                  "_deepnote_index_column": 256
                },
                {
                  "Asymmetry": -0.22523032986618008,
                  "Border": -0.5348506326933159,
                  "Colour": -0.8479546925895498,
                  "_deepnote_index_column": 257
                },
                {
                  "Asymmetry": -0.4159027049556975,
                  "Border": -0.12279869513054721,
                  "Colour": -0.817452999689324,
                  "_deepnote_index_column": 258
                },
                {
                  "Asymmetry": -0.6436579364147881,
                  "Border": -0.3797522559051385,
                  "Colour": -0.7234229000386467,
                  "_deepnote_index_column": 259
                },
                {
                  "Asymmetry": 1.8269726776249007,
                  "Border": 0.8933635244864354,
                  "Colour": -0.8012764259244136,
                  "_deepnote_index_column": 260
                },
                {
                  "Asymmetry": 1.343017636542151,
                  "Border": -0.5557383205548597,
                  "Colour": 0.00814766402284836,
                  "_deepnote_index_column": 261
                },
                {
                  "Asymmetry": 0.8535111802784289,
                  "Border": 1.097039989448317,
                  "Colour": 0.14277628912162682,
                  "_deepnote_index_column": 262
                },
                {
                  "Asymmetry": 2.90179679203557,
                  "Border": 0.011619442362070444,
                  "Colour": 0.7658354836872099,
                  "_deepnote_index_column": 263
                },
                {
                  "Asymmetry": 1.7992046634613768,
                  "Border": 0.3433058366621473,
                  "Colour": -0.18176973908688993,
                  "_deepnote_index_column": 264
                },
                {
                  "Asymmetry": -0.9716488269921849,
                  "Border": -0.16072874022968472,
                  "Colour": 0.18608762788283031,
                  "_deepnote_index_column": 265
                },
                {
                  "Asymmetry": 0.2605035528576247,
                  "Border": -0.3755440667586301,
                  "Colour": -1.1969798823477622,
                  "_deepnote_index_column": 266
                },
                {
                  "Asymmetry": -0.6769931448375246,
                  "Border": -0.2690818992251702,
                  "Colour": -0.7505624368956786,
                  "_deepnote_index_column": 267
                },
                {
                  "Asymmetry": 0.27546224022445903,
                  "Border": 0.7915452816618322,
                  "Colour": -0.97252948332682,
                  "_deepnote_index_column": 268
                },
                {
                  "Asymmetry": -0.43228176923883027,
                  "Border": 0.20099550587417314,
                  "Colour": -1.1931132979879706,
                  "_deepnote_index_column": 269
                },
                {
                  "Asymmetry": -1.0040612724470401,
                  "Border": -0.11059578468229667,
                  "Colour": -1.8987988877237487,
                  "_deepnote_index_column": 270
                },
                {
                  "Asymmetry": -0.7722976839533722,
                  "Border": -0.445484245597022,
                  "Colour": 0.4491454592471185,
                  "_deepnote_index_column": 271
                },
                {
                  "Asymmetry": -0.12633074346721926,
                  "Border": -0.47398973032197855,
                  "Colour": -0.05315532346142343,
                  "_deepnote_index_column": 272
                },
                {
                  "Asymmetry": -1.121084831906996,
                  "Border": -0.6259947454481976,
                  "Colour": -1.3459123128643975,
                  "_deepnote_index_column": 273
                },
                {
                  "Asymmetry": 1.5574449144877103,
                  "Border": -0.4667800523601819,
                  "Colour": -0.6201704242853079,
                  "_deepnote_index_column": 274
                },
                {
                  "Asymmetry": 1.6567846468127059,
                  "Border": -0.3093705529034091,
                  "Colour": 1.7272069535619659,
                  "_deepnote_index_column": 275
                },
                {
                  "Asymmetry": 1.3929522178228295,
                  "Border": -0.22903633280785254,
                  "Colour": -0.6663448777861057,
                  "_deepnote_index_column": 276
                },
                {
                  "Asymmetry": 1.4920733340198267,
                  "Border": 0.44101479461015103,
                  "Colour": 0.9075603230662929,
                  "_deepnote_index_column": 277
                },
                {
                  "Asymmetry": -0.4241714536674302,
                  "Border": -0.48885729696967906,
                  "Colour": -1.1147712964012066,
                  "_deepnote_index_column": 278
                },
                {
                  "Asymmetry": -0.524741121083935,
                  "Border": -0.3643394456949232,
                  "Colour": -1.517429283212634,
                  "_deepnote_index_column": 279
                },
                {
                  "Asymmetry": -0.06668802258217907,
                  "Border": 1.0410092165013003,
                  "Colour": -1.0054669211688962,
                  "_deepnote_index_column": 280
                },
                {
                  "Asymmetry": -0.2636065446424546,
                  "Border": -0.5647671720289341,
                  "Colour": 0.02966338855186457,
                  "_deepnote_index_column": 281
                },
                {
                  "Asymmetry": -1.1701962552380978,
                  "Border": -0.618874105499288,
                  "Colour": -0.952525742893048,
                  "_deepnote_index_column": 282
                },
                {
                  "Asymmetry": -0.20297994733960256,
                  "Border": 0.3740577602023957,
                  "Colour": -0.9971552493015947,
                  "_deepnote_index_column": 283
                },
                {
                  "Asymmetry": 0.9435391736208856,
                  "Border": -0.4618686296388709,
                  "Colour": 0.10834595576666972,
                  "_deepnote_index_column": 284
                },
                {
                  "Asymmetry": 0.4949781615974372,
                  "Border": -0.27393720492599166,
                  "Colour": -1.066628141040766,
                  "_deepnote_index_column": 285
                },
                {
                  "Asymmetry": 3.332061042384408,
                  "Border": 0.5452790876315664,
                  "Colour": -0.7865793319231801,
                  "_deepnote_index_column": 286
                },
                {
                  "Asymmetry": -0.05314934280477566,
                  "Border": 1.7310463882308869,
                  "Colour": -0.9768951114900222,
                  "_deepnote_index_column": 287
                },
                {
                  "Asymmetry": 0.2066445057487778,
                  "Border": -0.4202229363848121,
                  "Colour": -0.08515523385206054,
                  "_deepnote_index_column": 288
                },
                {
                  "Asymmetry": 0.8650373722264822,
                  "Border": -0.43202597430413037,
                  "Colour": -0.7477297808488912,
                  "_deepnote_index_column": 289
                },
                {
                  "Asymmetry": -0.4957828858106281,
                  "Border": -0.15765549023105047,
                  "Colour": -0.5959034080258926,
                  "_deepnote_index_column": 290
                },
                {
                  "Asymmetry": 1.0935343928697026,
                  "Border": -0.3813732192062985,
                  "Colour": -1.341790571519393,
                  "_deepnote_index_column": 291
                },
                {
                  "Asymmetry": 0.5515053802920903,
                  "Border": 0.366759072622077,
                  "Colour": -1.3573780924473768,
                  "_deepnote_index_column": 292
                },
                {
                  "Asymmetry": -0.6538337486422509,
                  "Border": -0.4079209919616809,
                  "Colour": -0.44357270191752457,
                  "_deepnote_index_column": 293
                },
                {
                  "Asymmetry": 4.005553941958967,
                  "Border": -0.03881323625957416,
                  "Colour": -0.41686645009990386,
                  "_deepnote_index_column": 294
                },
                {
                  "Asymmetry": -0.7081384957841841,
                  "Border": -0.3440680245543348,
                  "Colour": 0.9267787984944712,
                  "_deepnote_index_column": 295
                },
                {
                  "Asymmetry": 0.07853194366681378,
                  "Border": -0.3560846606360517,
                  "Colour": 0.9874861023521321,
                  "_deepnote_index_column": 296
                },
                {
                  "Asymmetry": -0.8874711806387079,
                  "Border": -0.4614940946359439,
                  "Colour": 1.2346672731521866,
                  "_deepnote_index_column": 297
                },
                {
                  "Asymmetry": -0.5788325266688568,
                  "Border": -0.4456495549257982,
                  "Colour": -1.5607678882471632,
                  "_deepnote_index_column": 298
                },
                {
                  "Asymmetry": -0.4521578500618073,
                  "Border": -0.4241216069057206,
                  "Colour": 0.12333265236719211,
                  "_deepnote_index_column": 299
                },
                {
                  "Asymmetry": -0.15555828971886354,
                  "Border": -0.5465532514814347,
                  "Colour": -0.6864503138091479,
                  "_deepnote_index_column": 300
                },
                {
                  "Asymmetry": 0.23441314040987588,
                  "Border": 3.474057824608356,
                  "Colour": -0.7876577497414659,
                  "_deepnote_index_column": 301
                },
                {
                  "Asymmetry": 0.7268930119847908,
                  "Border": 2.005097633953801,
                  "Colour": -0.3891012983129807,
                  "_deepnote_index_column": 302
                },
                {
                  "Asymmetry": 0.08479466749183634,
                  "Border": 0.5814180476798154,
                  "Colour": -0.3569782329047975,
                  "_deepnote_index_column": 303
                },
                {
                  "Asymmetry": -0.08760292855344214,
                  "Border": -0.4637977425876465,
                  "Colour": 0.6969706865644172,
                  "_deepnote_index_column": 304
                },
                {
                  "Asymmetry": -0.2694498873663424,
                  "Border": -0.3774322401415982,
                  "Colour": -0.6031850412044911,
                  "_deepnote_index_column": 305
                },
                {
                  "Asymmetry": 1.6175826439369931,
                  "Border": 0.728711030778192,
                  "Colour": -0.8619608693416522,
                  "_deepnote_index_column": 306
                },
                {
                  "Asymmetry": -0.09594200188497537,
                  "Border": -0.07004142819202018,
                  "Colour": 0.14757639247276053,
                  "_deepnote_index_column": 307
                },
                {
                  "Asymmetry": 0.7879674496427682,
                  "Border": 1.7782590361753732,
                  "Colour": -1.0348491189145868,
                  "_deepnote_index_column": 308
                },
                {
                  "Asymmetry": -0.592031224900698,
                  "Border": -0.4077603268824126,
                  "Colour": -1.3234619062398527,
                  "_deepnote_index_column": 309
                },
                {
                  "Asymmetry": -0.30555630776472553,
                  "Border": -0.43799837092288396,
                  "Colour": -0.5682863345586785,
                  "_deepnote_index_column": 310
                },
                {
                  "Asymmetry": -0.6709183620567222,
                  "Border": -0.31756990530477797,
                  "Colour": 1.1658279317377442,
                  "_deepnote_index_column": 311
                },
                {
                  "Asymmetry": -0.2991039639840296,
                  "Border": -0.02819955983641175,
                  "Colour": -1.193958999685035,
                  "_deepnote_index_column": 312
                },
                {
                  "Asymmetry": -1.032329267207346,
                  "Border": 0.20511182130054056,
                  "Colour": -0.5133211093301012,
                  "_deepnote_index_column": 313
                },
                {
                  "Asymmetry": -0.8532256223062713,
                  "Border": -0.5647532107248505,
                  "Colour": 1.2759113965196947,
                  "_deepnote_index_column": 314
                },
                {
                  "Asymmetry": -0.16528728373342283,
                  "Border": 0.011959729744645608,
                  "Colour": -0.910062352810776,
                  "_deepnote_index_column": 315
                },
                {
                  "Asymmetry": 0.6721215841983667,
                  "Border": -0.5874087364690536,
                  "Colour": -1.0097694899722294,
                  "_deepnote_index_column": 316
                },
                {
                  "Asymmetry": -0.23894852837233932,
                  "Border": -0.528693723640128,
                  "Colour": -0.7112146252450545,
                  "_deepnote_index_column": 317
                },
                {
                  "Asymmetry": 0.18163972360738764,
                  "Border": -0.1725519919528717,
                  "Colour": 0.5200111639325902,
                  "_deepnote_index_column": 318
                },
                {
                  "Asymmetry": -0.12021925049654685,
                  "Border": 0.8228743487246313,
                  "Colour": -0.9436564678336744,
                  "_deepnote_index_column": 319
                },
                {
                  "Asymmetry": -0.7663344343099939,
                  "Border": 0.04316750961070427,
                  "Colour": -0.09813893477402441,
                  "_deepnote_index_column": 320
                },
                {
                  "Asymmetry": -0.943536763713437,
                  "Border": -0.6489874265306375,
                  "Colour": 1.3878728500565858,
                  "_deepnote_index_column": 321
                },
                {
                  "Asymmetry": 0.18234189896217426,
                  "Border": -0.32123131691729345,
                  "Colour": 1.2760250755262028,
                  "_deepnote_index_column": 322
                },
                {
                  "Asymmetry": -1.1969531449644737,
                  "Border": -0.31328620492459336,
                  "Colour": 0.33513313508945697,
                  "_deepnote_index_column": 323
                },
                {
                  "Asymmetry": -0.8488786470143045,
                  "Border": -0.5557150886596387,
                  "Colour": 1.7076436612287855,
                  "_deepnote_index_column": 324
                },
                {
                  "Asymmetry": -0.9325732310520294,
                  "Border": -0.5637231839049347,
                  "Colour": 1.2962779407390328,
                  "_deepnote_index_column": 325
                },
                {
                  "Asymmetry": -0.14350387531371303,
                  "Border": -0.4092044579612029,
                  "Colour": 1.536493160895178,
                  "_deepnote_index_column": 326
                },
                {
                  "Asymmetry": 0.6812057881355816,
                  "Border": 0.15910516972540148,
                  "Colour": -1.2924422332923915,
                  "_deepnote_index_column": 327
                },
                {
                  "Asymmetry": -0.19433879838033633,
                  "Border": -0.3884545752488313,
                  "Colour": 1.0515431308646745,
                  "_deepnote_index_column": 328
                },
                {
                  "Asymmetry": -0.32303821885712203,
                  "Border": 1.4863328781990177,
                  "Colour": -0.8288198314213143,
                  "_deepnote_index_column": 329
                },
                {
                  "Asymmetry": 1.5537989463272337,
                  "Border": 1.0345012398648694,
                  "Colour": 0.717850237697447,
                  "_deepnote_index_column": 330
                },
                {
                  "Asymmetry": -0.42862810269543405,
                  "Border": -0.5939277092363324,
                  "Colour": -0.87876197867809,
                  "_deepnote_index_column": 331
                },
                {
                  "Asymmetry": 0.6806853150767059,
                  "Border": -0.1697093079399729,
                  "Colour": -1.2825483190277176,
                  "_deepnote_index_column": 332
                },
                {
                  "Asymmetry": 0.6724585186264893,
                  "Border": -0.2054728522815865,
                  "Colour": -0.2622974390487718,
                  "_deepnote_index_column": 333
                },
                {
                  "Asymmetry": -0.36800300868020486,
                  "Border": -0.10138146184547078,
                  "Colour": 0.305089254536458,
                  "_deepnote_index_column": 334
                },
                {
                  "Asymmetry": -0.8397963680129685,
                  "Border": -0.1640961628423918,
                  "Colour": 0.17200324393559685,
                  "_deepnote_index_column": 335
                },
                {
                  "Asymmetry": 0.14475077129755062,
                  "Border": -0.5305980874282851,
                  "Colour": -0.10501200712174212,
                  "_deepnote_index_column": 336
                },
                {
                  "Asymmetry": 0.4421683098999198,
                  "Border": -0.5093517114202867,
                  "Colour": -0.6573665738764702,
                  "_deepnote_index_column": 337
                },
                {
                  "Asymmetry": -0.4109079098467102,
                  "Border": 0.23786681309459798,
                  "Colour": -0.16550610933013674,
                  "_deepnote_index_column": 338
                },
                {
                  "Asymmetry": 1.8467071050085213,
                  "Border": 0.13682901682058093,
                  "Colour": 1.366617591217777,
                  "_deepnote_index_column": 339
                },
                {
                  "Asymmetry": 2.1566164044118357,
                  "Border": -0.42614841018483673,
                  "Colour": -1.4496797334401164,
                  "_deepnote_index_column": 340
                },
                {
                  "Asymmetry": 3.0322174812184635,
                  "Border": 4.270037203250406,
                  "Colour": -1.4412550033802298,
                  "_deepnote_index_column": 341
                },
                {
                  "Asymmetry": 0.589589805457178,
                  "Border": 0.41724878828076706,
                  "Colour": 1.3473189965357366,
                  "_deepnote_index_column": 342
                },
                {
                  "Asymmetry": 1.9051563673858805,
                  "Border": 13.33802751783352,
                  "Colour": -0.358677113936977,
                  "_deepnote_index_column": 343
                },
                {
                  "Asymmetry": 0.05457746027211948,
                  "Border": 0.46296802407109505,
                  "Colour": -0.08905770430961917,
                  "_deepnote_index_column": 344
                },
                {
                  "Asymmetry": -0.8804109543397796,
                  "Border": -0.4603675610947031,
                  "Colour": 0.6536419288543357,
                  "_deepnote_index_column": 345
                },
                {
                  "Asymmetry": 2.250472563062479,
                  "Border": -0.4466172962388338,
                  "Colour": -1.5963707028321013,
                  "_deepnote_index_column": 346
                },
                {
                  "Asymmetry": -0.9057659945520183,
                  "Border": -0.04168223000742048,
                  "Colour": -0.8303822149922502,
                  "_deepnote_index_column": 347
                },
                {
                  "Asymmetry": -0.14711738998429702,
                  "Border": 0.1326316846477926,
                  "Colour": -0.7781887600633444,
                  "_deepnote_index_column": 348
                },
                {
                  "Asymmetry": 0.04749660101123076,
                  "Border": -0.510143688068794,
                  "Colour": -0.012961392090017825,
                  "_deepnote_index_column": 349
                },
                {
                  "Asymmetry": -0.1715482879742019,
                  "Border": -0.49745273807046,
                  "Colour": -0.5264326603129961,
                  "_deepnote_index_column": 350
                },
                {
                  "Asymmetry": 1.869216938266453,
                  "Border": 0.17289591857952064,
                  "Colour": -0.3165289228599204,
                  "_deepnote_index_column": 351
                },
                {
                  "Asymmetry": -0.07943611659220588,
                  "Border": -0.5651897027966829,
                  "Colour": 0.8539119899096924,
                  "_deepnote_index_column": 352
                },
                {
                  "Asymmetry": 2.736026895625678,
                  "Border": -0.45562861959507983,
                  "Colour": -0.7437710094676072,
                  "_deepnote_index_column": 353
                },
                {
                  "Asymmetry": -0.6161206255234967,
                  "Border": -0.5629449528464057,
                  "Colour": -0.17655153299186305,
                  "_deepnote_index_column": 354
                },
                {
                  "Asymmetry": -0.5869440454564412,
                  "Border": -0.22637611098869984,
                  "Colour": -0.7879086384539387,
                  "_deepnote_index_column": 355
                },
                {
                  "Asymmetry": -1.161527867893401,
                  "Border": -0.5584508850519317,
                  "Colour": 0.0007719825760877236,
                  "_deepnote_index_column": 356
                },
                {
                  "Asymmetry": 0.2642595238481407,
                  "Border": -0.4575675482924069,
                  "Colour": -0.6977191047888762,
                  "_deepnote_index_column": 357
                },
                {
                  "Asymmetry": 0.9860268792933902,
                  "Border": 0.09375224240539136,
                  "Colour": -1.107329663174692,
                  "_deepnote_index_column": 358
                },
                {
                  "Asymmetry": 0.9466149879330964,
                  "Border": -0.4311517885414051,
                  "Colour": -0.07512410086993418,
                  "_deepnote_index_column": 359
                }
              ]
            },
            "text/plain": "     Asymmetry    Border    Colour\n0    -1.179797 -0.684831  0.962600\n1    -0.131983 -0.391463 -0.850233\n2    -1.062104 -0.186556  0.053928\n3    -1.165017  0.734761 -0.202419\n4    -1.156262 -0.523429 -0.821509\n..         ...       ...       ...\n355  -0.586944 -0.226376 -0.787909\n356  -1.161528 -0.558451  0.000772\n357   0.264260 -0.457568 -0.697719\n358   0.986027  0.093752 -1.107330\n359   0.946615 -0.431152 -0.075124\n\n[360 rows x 3 columns]",
            "text/html": "<div>\n<style scoped>\n    .dataframe tbody tr th:only-of-type {\n        vertical-align: middle;\n    }\n\n    .dataframe tbody tr th {\n        vertical-align: top;\n    }\n\n    .dataframe thead th {\n        text-align: right;\n    }\n</style>\n<table border=\"1\" class=\"dataframe\">\n  <thead>\n    <tr style=\"text-align: right;\">\n      <th></th>\n      <th>Asymmetry</th>\n      <th>Border</th>\n      <th>Colour</th>\n    </tr>\n  </thead>\n  <tbody>\n    <tr>\n      <th>0</th>\n      <td>-1.179797</td>\n      <td>-0.684831</td>\n      <td>0.962600</td>\n    </tr>\n    <tr>\n      <th>1</th>\n      <td>-0.131983</td>\n      <td>-0.391463</td>\n      <td>-0.850233</td>\n    </tr>\n    <tr>\n      <th>2</th>\n      <td>-1.062104</td>\n      <td>-0.186556</td>\n      <td>0.053928</td>\n    </tr>\n    <tr>\n      <th>3</th>\n      <td>-1.165017</td>\n      <td>0.734761</td>\n      <td>-0.202419</td>\n    </tr>\n    <tr>\n      <th>4</th>\n      <td>-1.156262</td>\n      <td>-0.523429</td>\n      <td>-0.821509</td>\n    </tr>\n    <tr>\n      <th>...</th>\n      <td>...</td>\n      <td>...</td>\n      <td>...</td>\n    </tr>\n    <tr>\n      <th>355</th>\n      <td>-0.586944</td>\n      <td>-0.226376</td>\n      <td>-0.787909</td>\n    </tr>\n    <tr>\n      <th>356</th>\n      <td>-1.161528</td>\n      <td>-0.558451</td>\n      <td>0.000772</td>\n    </tr>\n    <tr>\n      <th>357</th>\n      <td>0.264260</td>\n      <td>-0.457568</td>\n      <td>-0.697719</td>\n    </tr>\n    <tr>\n      <th>358</th>\n      <td>0.986027</td>\n      <td>0.093752</td>\n      <td>-1.107330</td>\n    </tr>\n    <tr>\n      <th>359</th>\n      <td>0.946615</td>\n      <td>-0.431152</td>\n      <td>-0.075124</td>\n    </tr>\n  </tbody>\n</table>\n<p>360 rows × 3 columns</p>\n</div>"
          },
          "metadata": {}
        }
      ]
    },
    {
      "cell_type": "code",
      "metadata": {
        "tags": [],
        "cell_id": "00055-7cd55423-ac9d-4955-aa63-7a65d19b8145",
        "deepnote_to_be_reexecuted": true,
        "source_hash": "43cb0a59",
        "execution_millis": 18,
        "deepnote_cell_type": "code"
      },
      "source": "from sklearn.neighbors import KNeighborsClassifier\ndef make_knn_prediction(k):\n    knn = KNeighborsClassifier(n_neighbors = k)\n    knn.fit(df[['Border', 'Colour']], df['illens'])\n    answer = knn.predict(df_test)\n    return answer\n\nmake_knn_prediction(1)",
      "execution_count": null,
      "outputs": [
        {
          "output_type": "execute_result",
          "execution_count": 148,
          "data": {
            "text/plain": "array([0., 0., 0., 0., 0., 0., 0., 0., 0., 0., 1., 0., 0., 0., 0., 0., 0.,\n       1., 0., 0., 0., 0., 0., 0., 0., 0., 1., 0., 1., 0., 0., 0., 0.])"
          },
          "metadata": {}
        }
      ]
    },
    {
      "cell_type": "code",
      "metadata": {
        "tags": [],
        "cell_id": "00056-72dc3e81-4dc7-430b-b6ff-d89f178f0040",
        "deepnote_to_be_reexecuted": true,
        "source_hash": "ed10c6af",
        "execution_millis": 713,
        "deepnote_cell_type": "code"
      },
      "source": "from sklearn.metrics import accuracy_score\nacc_list = []\nacc_dict = {}\nfor i in range(1,10):\n    acc_list.append(accuracy_score(y_test, make_knn_prediction(i)))\nfig = plt.figure(figsize=(4, 3))\naxes = fig.add_axes([0, 0, 1.5, 1])\naxes.plot(range(1,10), acc_list)\naxes.set_xlabel('Value of k')\naxes.set_ylabel('Test accuracy')\naxes.set_title('Illnes classification accuracy of KNN for diffirent values of k')\naxes.grid(True)",
      "execution_count": null,
      "outputs": [
        {
          "data": {
            "text/plain": "<Figure size 288x216 with 1 Axes>",
            "image/png": "[encoded data removed]"
          },
          "metadata": {
            "needs_background": "light"
          },
          "output_type": "display_data"
        }
      ]
    },
    {
      "cell_type": "code",
      "metadata": {
        "tags": [],
        "cell_id": "00052-7e29d131-d8be-4eab-984f-287cb225d253",
        "deepnote_to_be_reexecuted": true,
        "source_hash": "b0fedf65",
        "execution_millis": 239,
        "deepnote_cell_type": "code"
      },
      "source": "### Idea from https://scikit-learn.org/stable/auto_examples/classification/plot_classifier_comparison.html#sphx-glr-auto-examples-classification-plot-classifier-comparison-py\nfrom matplotlib.colors import ListedColormap\nfrom sklearn.model_selection import train_test_split\nfrom sklearn.preprocessing import StandardScaler\nfrom sklearn.datasets import make_moons, make_circles, make_classification\nfrom sklearn.neural_network import MLPClassifier\nfrom sklearn.neighbors import KNeighborsClassifier\nfrom sklearn.svm import SVC\nfrom sklearn.gaussian_process import GaussianProcessClassifier\nfrom sklearn.gaussian_process.kernels import RBF\nfrom sklearn.tree import DecisionTreeClassifier\nfrom sklearn.ensemble import RandomForestClassifier, AdaBoostClassifier\nfrom sklearn.naive_bayes import GaussianNB\nfrom sklearn.discriminant_analysis import QuadraticDiscriminantAnalysis\n\n\nnames = [\"Nearest Neighbors\", \"Linear SVM\", \"RBF SVM\", \"Gaussian Process\",\n         \"Decision Tree\", \"Random Forest\", \"Neural Net\", \"AdaBoost\",\n         \"Naive Bayes\", \"QDA\"]\n\nclassifiers = [\n    KNeighborsClassifier(3),\n    SVC(kernel=\"linear\", C=0.025),\n    SVC(gamma=2, C=1),\n    GaussianProcessClassifier(1.0 * RBF(1.0)),\n    DecisionTreeClassifier(max_depth=5),\n    RandomForestClassifier(max_depth=5, n_estimators=10, max_features=1),\n    MLPClassifier(alpha=1, max_iter=1000),\n    AdaBoostClassifier(),\n    GaussianNB(),\n    QuadraticDiscriminantAnalysis()]\nh = 0.2\nX, y = make_classification(n_features=2, n_redundant=0, n_informative=2,\n                           random_state=1, n_clusters_per_class=1)\nrng = np.random.RandomState(2)\nX += 2 * rng.uniform(size=X.shape)\nlinearly_separable = (X, y)\nfigure = plt.figure(figsize=(27, 9))\ndatasets = df_train\n\ni = 1\nax = plt.subplot(2, 5, i)\ncm = plt.cm.RdBu\ncm_bright = ListedColormap(['#FF0000', '#0000FF'])\n\n\nX, y  = datasets[make_moons(noise=0.3, random_state=0),\n            make_circles(noise=0.2, factor=0.5, random_state=1),\n            linearly_separable\n            ]\n\nfor name, clf in zip(names, classifiers):\n        ax = plt.subplot(2, 5, i)\n        clf.fit(df_train, y_train)\n        score = clf.score(df_test, y_test)\n        print(xx)\n        # Plot the decision boundary. For that, we will assign a color to each\n        # point in the mesh [x_min, x_max]x[y_min, y_max].\n        if hasattr(clf, \"decision_function\"):\n            Z = clf.decision_function(np.c_[xx.ravel(), yy.ravel()])\n            print(xx)\n        else:\n            Z = clf.predict_proba(np.c_[xx.ravel(), yy.ravel()])[:, 1]\n            print(xx)\n\n        #Put the result into a color plot\n        Z = Z.reshape(xx.shape)\n        ax.contourf(xx, yy, Z, cmap=cm, alpha=.8)\n\n        # Plot the training points\n        ax.scatter(df_train[:,0], df_train[:,1], c=y_train, cmap=cm_bright,\n                   edgecolors='k')\n        # Plot the testing points\n        ax.scatter(df_test[:,0], df_test[:,], c=y_test, cmap=cm_bright,\n                   edgecolors='k', alpha=0.6)\n\n        ax.set_xlim(xx.min(), xx.max())\n        ax.set_ylim(yy.min(), yy.max())\n        ax.set_xticks(())\n        ax.set_yticks(())\n        \n        ax.set_title(name)\n        ax.text(xx.max() - .3, yy.min() + .3, ('%.2f' % score).lstrip('0'),\n                size=15, horizontalalignment='right')\n        i += 1\n",
      "execution_count": null,
      "outputs": [
        {
          "name": "stderr",
          "text": "/shared-libs/python3.7/py-core/lib/python3.7/site-packages/ipykernel_launcher.py:49: VisibleDeprecationWarning: Creating an ndarray from ragged nested sequences (which is a list-or-tuple of lists-or-tuples-or ndarrays with different lengths or shapes) is deprecated. If you meant to do this, you must specify 'dtype=object' when creating the ndarray\n",
          "output_type": "stream"
        },
        {
          "output_type": "error",
          "ename": "ValueError",
          "evalue": "could not broadcast input array from shape (100,2) into shape (100)",
          "traceback": [
            "\u001b[0;31m---------------------------------------------------------------------------\u001b[0m",
            "\u001b[0;31mValueError\u001b[0m                                Traceback (most recent call last)",
            "\u001b[0;32m<ipython-input-179-52f143681758>\u001b[0m in \u001b[0;36m<module>\u001b[0;34m\u001b[0m\n\u001b[1;32m     47\u001b[0m X, y  = datasets[make_moons(noise=0.3, random_state=0),\n\u001b[1;32m     48\u001b[0m             \u001b[0mmake_circles\u001b[0m\u001b[0;34m(\u001b[0m\u001b[0mnoise\u001b[0m\u001b[0;34m=\u001b[0m\u001b[0;36m0.2\u001b[0m\u001b[0;34m,\u001b[0m \u001b[0mfactor\u001b[0m\u001b[0;34m=\u001b[0m\u001b[0;36m0.5\u001b[0m\u001b[0;34m,\u001b[0m \u001b[0mrandom_state\u001b[0m\u001b[0;34m=\u001b[0m\u001b[0;36m1\u001b[0m\u001b[0;34m)\u001b[0m\u001b[0;34m,\u001b[0m\u001b[0;34m\u001b[0m\u001b[0;34m\u001b[0m\u001b[0m\n\u001b[0;32m---> 49\u001b[0;31m             \u001b[0mlinearly_separable\u001b[0m\u001b[0;34m\u001b[0m\u001b[0;34m\u001b[0m\u001b[0m\n\u001b[0m\u001b[1;32m     50\u001b[0m             ]\n\u001b[1;32m     51\u001b[0m \u001b[0;34m\u001b[0m\u001b[0m\n",
            "\u001b[0;31mValueError\u001b[0m: could not broadcast input array from shape (100,2) into shape (100)"
          ]
        },
        {
          "data": {
            "text/plain": "<Figure size 1944x648 with 1 Axes>",
            "image/png": "[encoded data removed]"
          },
          "metadata": {
            "needs_background": "light"
          },
          "output_type": "display_data"
        }
      ]
    },
    {
      "cell_type": "code",
      "metadata": {
        "tags": [],
        "cell_id": "00060-462a3c4e-b8a1-4159-91b1-382948ae70ef",
        "deepnote_to_be_reexecuted": true,
        "source_hash": "ad43d1f9",
        "execution_millis": 20,
        "deepnote_cell_type": "code"
      },
      "source": "\ndatasets = [make_moons(noise=0.3, random_state=0),\n            make_circles(noise=0.2, factor=0.5, random_state=1),\n            linearly_separable\n            ]\n\nfor i, j in datasets:\n    print(j)",
      "execution_count": null,
      "outputs": [
        {
          "name": "stdout",
          "text": "[0 1 0 1 1 1 0 1 1 1 1 1 1 0 0 0 0 0 0 0 0 1 0 1 0 0 0 1 1 1 1 1 1 1 1 0 0\n 1 1 1 0 1 0 0 0 0 0 0 0 0 1 1 0 0 0 1 0 0 0 1 0 0 1 1 1 1 0 1 0 1 0 0 0 1\n 1 1 0 1 1 1 0 0 1 0 0 1 1 0 1 1 1 0 0 1 0 1 1 1 0 0]\n[1 1 0 1 1 0 0 1 1 1 1 0 1 1 1 0 0 0 1 0 0 1 1 1 0 0 1 0 0 0 1 1 1 1 1 0 0\n 1 0 0 1 1 1 0 1 0 0 1 0 1 0 1 0 0 1 0 0 1 0 1 0 1 1 0 0 1 0 1 0 1 1 0 1 1\n 0 1 0 1 1 0 0 0 0 0 0 1 0 0 1 1 0 0 1 1 0 1 0 1 0 0]\n[1 0 0 1 1 1 0 1 0 1 0 0 0 0 0 0 1 1 1 1 1 0 1 0 0 1 0 0 0 1 1 1 1 0 0 1 0\n 0 0 0 1 1 0 0 1 0 1 1 0 1 1 0 1 1 1 0 0 0 1 1 0 0 1 0 0 1 0 0 0 1 0 0 0 1\n 1 1 0 1 1 1 0 0 0 1 1 1 0 1 1 1 0 1 0 0 1 0 1 1 0 1]\n",
          "output_type": "stream"
        }
      ]
    },
    {
      "cell_type": "code",
      "metadata": {
        "tags": [],
        "cell_id": "00059-7f83c677-b33f-400c-8cf6-628e1d961b40",
        "deepnote_to_be_reexecuted": true,
        "source_hash": "4d2be12e",
        "execution_millis": 8,
        "deepnote_cell_type": "code"
      },
      "source": "def accuracy_matrix(prediction, answer):\n    \"\"\"Takes in the predictions of a model for a test-case, as well as the true values, \n    and returns a matrix of true and false for positive and negative cases.\"\"\"\n    total_sick = np.sum(answer)\n    total_healthy = len(answer)-total_sick\n    predictions_of_sick = answer[prediction == 1]\n    predictions_of_healthy = answer[prediction == 0]\n    if len(predictions_of_sick):\n        true_positive = len(predictions_of_sick[predictions_of_sick == 1])/len(predictions_of_sick)\n    else: \n        true_positive = 0\n    false_positive = 1-true_positive\n    if len(predictions_of_healthy):\n        true_negative = len(predictions_of_healthy[predictions_of_healthy == 0])/len(predictions_of_healthy)\n    else:\n        true_negative = 0\n    false_negative = 1-true_negative\n    return true_positive, false_positive, true_negative, false_negative\n\n",
      "execution_count": null,
      "outputs": []
    },
    {
      "cell_type": "code",
      "metadata": {
        "tags": [],
        "cell_id": "00062-5a7c1bd4-8395-4a0f-93d1-babfb88f8a72",
        "deepnote_to_be_reexecuted": true,
        "source_hash": "bb629201",
        "execution_millis": 145,
        "deepnote_cell_type": "code"
      },
      "source": "knn_predict = pd.DataFrame(columns = [ \"true_positive\", \"false_positive\", \"true_negative\", \"false_negative\"])\nfor i in range(1,9):\n    gues = make_knn_prediction(i)\n    true_positive, false_positive, true_negative, false_negative = accuracy_matrix(gues, y_test)\n    knn_predict.loc[i-1] = [true_positive, false_positive,  true_negative, false_negative]\nknn_predict\n",
      "execution_count": null,
      "outputs": [
        {
          "output_type": "execute_result",
          "execution_count": 209,
          "data": {
            "application/vnd.deepnote.dataframe.v2+json": {
              "row_count": 8,
              "column_count": 4,
              "columns": [
                {
                  "name": "true_positive",
                  "dtype": "float64",
                  "stats": {
                    "unique_count": 2,
                    "nan_count": 0,
                    "min": "0.0",
                    "max": "0.5",
                    "histogram": [
                      {
                        "bin_start": 0,
                        "bin_end": 0.05,
                        "count": 3
                      },
                      {
                        "bin_start": 0.05,
                        "bin_end": 0.1,
                        "count": 0
                      },
                      {
                        "bin_start": 0.1,
                        "bin_end": 0.15000000000000002,
                        "count": 0
                      },
                      {
                        "bin_start": 0.15000000000000002,
                        "bin_end": 0.2,
                        "count": 0
                      },
                      {
                        "bin_start": 0.2,
                        "bin_end": 0.25,
                        "count": 0
                      },
                      {
                        "bin_start": 0.25,
                        "bin_end": 0.30000000000000004,
                        "count": 0
                      },
                      {
                        "bin_start": 0.30000000000000004,
                        "bin_end": 0.35000000000000003,
                        "count": 0
                      },
                      {
                        "bin_start": 0.35000000000000003,
                        "bin_end": 0.4,
                        "count": 0
                      },
                      {
                        "bin_start": 0.4,
                        "bin_end": 0.45,
                        "count": 0
                      },
                      {
                        "bin_start": 0.45,
                        "bin_end": 0.5,
                        "count": 5
                      }
                    ]
                  }
                },
                {
                  "name": "false_positive",
                  "dtype": "float64",
                  "stats": {
                    "unique_count": 2,
                    "nan_count": 0,
                    "min": "0.5",
                    "max": "1.0",
                    "histogram": [
                      {
                        "bin_start": 0.5,
                        "bin_end": 0.55,
                        "count": 5
                      },
                      {
                        "bin_start": 0.55,
                        "bin_end": 0.6,
                        "count": 0
                      },
                      {
                        "bin_start": 0.6,
                        "bin_end": 0.65,
                        "count": 0
                      },
                      {
                        "bin_start": 0.65,
                        "bin_end": 0.7,
                        "count": 0
                      },
                      {
                        "bin_start": 0.7,
                        "bin_end": 0.75,
                        "count": 0
                      },
                      {
                        "bin_start": 0.75,
                        "bin_end": 0.8,
                        "count": 0
                      },
                      {
                        "bin_start": 0.8,
                        "bin_end": 0.8500000000000001,
                        "count": 0
                      },
                      {
                        "bin_start": 0.8500000000000001,
                        "bin_end": 0.9,
                        "count": 0
                      },
                      {
                        "bin_start": 0.9,
                        "bin_end": 0.95,
                        "count": 0
                      },
                      {
                        "bin_start": 0.95,
                        "bin_end": 1,
                        "count": 3
                      }
                    ]
                  }
                },
                {
                  "name": "true_negative",
                  "dtype": "float64",
                  "stats": {
                    "unique_count": 3,
                    "nan_count": 0,
                    "min": "0.6666666666666666",
                    "max": "0.6896551724137931",
                    "histogram": [
                      {
                        "bin_start": 0.6666666666666666,
                        "bin_end": 0.6689655172413793,
                        "count": 3
                      },
                      {
                        "bin_start": 0.6689655172413793,
                        "bin_end": 0.6712643678160919,
                        "count": 0
                      },
                      {
                        "bin_start": 0.6712643678160919,
                        "bin_end": 0.6735632183908046,
                        "count": 0
                      },
                      {
                        "bin_start": 0.6735632183908046,
                        "bin_end": 0.6758620689655173,
                        "count": 0
                      },
                      {
                        "bin_start": 0.6758620689655173,
                        "bin_end": 0.6781609195402298,
                        "count": 3
                      },
                      {
                        "bin_start": 0.6781609195402298,
                        "bin_end": 0.6804597701149425,
                        "count": 0
                      },
                      {
                        "bin_start": 0.6804597701149425,
                        "bin_end": 0.6827586206896552,
                        "count": 0
                      },
                      {
                        "bin_start": 0.6827586206896552,
                        "bin_end": 0.6850574712643679,
                        "count": 0
                      },
                      {
                        "bin_start": 0.6850574712643679,
                        "bin_end": 0.6873563218390805,
                        "count": 0
                      },
                      {
                        "bin_start": 0.6873563218390805,
                        "bin_end": 0.6896551724137931,
                        "count": 2
                      }
                    ]
                  }
                },
                {
                  "name": "false_negative",
                  "dtype": "float64",
                  "stats": {
                    "unique_count": 3,
                    "nan_count": 0,
                    "min": "0.31034482758620685",
                    "max": "0.33333333333333337",
                    "histogram": [
                      {
                        "bin_start": 0.31034482758620685,
                        "bin_end": 0.3126436781609195,
                        "count": 2
                      },
                      {
                        "bin_start": 0.3126436781609195,
                        "bin_end": 0.31494252873563217,
                        "count": 0
                      },
                      {
                        "bin_start": 0.31494252873563217,
                        "bin_end": 0.3172413793103448,
                        "count": 0
                      },
                      {
                        "bin_start": 0.3172413793103448,
                        "bin_end": 0.3195402298850575,
                        "count": 0
                      },
                      {
                        "bin_start": 0.3195402298850575,
                        "bin_end": 0.3218390804597701,
                        "count": 0
                      },
                      {
                        "bin_start": 0.3218390804597701,
                        "bin_end": 0.32413793103448274,
                        "count": 3
                      },
                      {
                        "bin_start": 0.32413793103448274,
                        "bin_end": 0.3264367816091954,
                        "count": 0
                      },
                      {
                        "bin_start": 0.3264367816091954,
                        "bin_end": 0.32873563218390806,
                        "count": 0
                      },
                      {
                        "bin_start": 0.32873563218390806,
                        "bin_end": 0.33103448275862074,
                        "count": 0
                      },
                      {
                        "bin_start": 0.33103448275862074,
                        "bin_end": 0.33333333333333337,
                        "count": 3
                      }
                    ]
                  }
                },
                {
                  "name": "_deepnote_index_column",
                  "dtype": "int64"
                }
              ],
              "rows_top": [
                {
                  "true_positive": 0.5,
                  "false_positive": 0.5,
                  "true_negative": 0.6896551724137931,
                  "false_negative": 0.31034482758620685,
                  "_deepnote_index_column": 0
                },
                {
                  "true_positive": 0.5,
                  "false_positive": 0.5,
                  "true_negative": 0.6774193548387096,
                  "false_negative": 0.32258064516129037,
                  "_deepnote_index_column": 1
                },
                {
                  "true_positive": 0.5,
                  "false_positive": 0.5,
                  "true_negative": 0.6896551724137931,
                  "false_negative": 0.31034482758620685,
                  "_deepnote_index_column": 2
                },
                {
                  "true_positive": 0.5,
                  "false_positive": 0.5,
                  "true_negative": 0.6774193548387096,
                  "false_negative": 0.32258064516129037,
                  "_deepnote_index_column": 3
                },
                {
                  "true_positive": 0.5,
                  "false_positive": 0.5,
                  "true_negative": 0.6774193548387096,
                  "false_negative": 0.32258064516129037,
                  "_deepnote_index_column": 4
                },
                {
                  "true_positive": 0,
                  "false_positive": 1,
                  "true_negative": 0.6666666666666666,
                  "false_negative": 0.33333333333333337,
                  "_deepnote_index_column": 5
                },
                {
                  "true_positive": 0,
                  "false_positive": 1,
                  "true_negative": 0.6666666666666666,
                  "false_negative": 0.33333333333333337,
                  "_deepnote_index_column": 6
                },
                {
                  "true_positive": 0,
                  "false_positive": 1,
                  "true_negative": 0.6666666666666666,
                  "false_negative": 0.33333333333333337,
                  "_deepnote_index_column": 7
                }
              ],
              "rows_bottom": null
            },
            "text/plain": "   true_positive  false_positive  true_negative  false_negative\n0            0.5             0.5       0.689655        0.310345\n1            0.5             0.5       0.677419        0.322581\n2            0.5             0.5       0.689655        0.310345\n3            0.5             0.5       0.677419        0.322581\n4            0.5             0.5       0.677419        0.322581\n5            0.0             1.0       0.666667        0.333333\n6            0.0             1.0       0.666667        0.333333\n7            0.0             1.0       0.666667        0.333333",
            "text/html": "<div>\n<style scoped>\n    .dataframe tbody tr th:only-of-type {\n        vertical-align: middle;\n    }\n\n    .dataframe tbody tr th {\n        vertical-align: top;\n    }\n\n    .dataframe thead th {\n        text-align: right;\n    }\n</style>\n<table border=\"1\" class=\"dataframe\">\n  <thead>\n    <tr style=\"text-align: right;\">\n      <th></th>\n      <th>true_positive</th>\n      <th>false_positive</th>\n      <th>true_negative</th>\n      <th>false_negative</th>\n    </tr>\n  </thead>\n  <tbody>\n    <tr>\n      <th>0</th>\n      <td>0.5</td>\n      <td>0.5</td>\n      <td>0.689655</td>\n      <td>0.310345</td>\n    </tr>\n    <tr>\n      <th>1</th>\n      <td>0.5</td>\n      <td>0.5</td>\n      <td>0.677419</td>\n      <td>0.322581</td>\n    </tr>\n    <tr>\n      <th>2</th>\n      <td>0.5</td>\n      <td>0.5</td>\n      <td>0.689655</td>\n      <td>0.310345</td>\n    </tr>\n    <tr>\n      <th>3</th>\n      <td>0.5</td>\n      <td>0.5</td>\n      <td>0.677419</td>\n      <td>0.322581</td>\n    </tr>\n    <tr>\n      <th>4</th>\n      <td>0.5</td>\n      <td>0.5</td>\n      <td>0.677419</td>\n      <td>0.322581</td>\n    </tr>\n    <tr>\n      <th>5</th>\n      <td>0.0</td>\n      <td>1.0</td>\n      <td>0.666667</td>\n      <td>0.333333</td>\n    </tr>\n    <tr>\n      <th>6</th>\n      <td>0.0</td>\n      <td>1.0</td>\n      <td>0.666667</td>\n      <td>0.333333</td>\n    </tr>\n    <tr>\n      <th>7</th>\n      <td>0.0</td>\n      <td>1.0</td>\n      <td>0.666667</td>\n      <td>0.333333</td>\n    </tr>\n  </tbody>\n</table>\n</div>"
          },
          "metadata": {}
        }
      ]
    },
    {
      "cell_type": "code",
      "metadata": {
        "tags": [],
        "cell_id": "00063-3629a235-a070-4ced-9b39-336ab65676c7",
        "deepnote_to_be_reexecuted": true,
        "source_hash": "8e0a8ab6",
        "execution_millis": 348,
        "deepnote_cell_type": "code"
      },
      "source": "knn_predict = pd.DataFrame(columns = [ \"true_positive\", \"false_positive\", \"true_negative\", \"false_negative\"])\nfor i in [1, 10, 100]:\n    gaus = GaussianProcessClassifier(max_iter_predict = i).fit(X = df_train, y = y_train)\n    guess = gaus.predict(df_test)\n    true_positive, false_positive, true_negative, false_negative = accuracy_matrix(guess, y_test)\n    knn_predict.loc[i] = [true_positive, false_positive,  true_negative, false_negative]\nknn_predict\n\n",
      "execution_count": null,
      "outputs": [
        {
          "output_type": "execute_result",
          "execution_count": 232,
          "data": {
            "application/vnd.deepnote.dataframe.v2+json": {
              "row_count": 3,
              "column_count": 4,
              "columns": [
                {
                  "name": "true_positive",
                  "dtype": "float64",
                  "stats": {
                    "unique_count": 2,
                    "nan_count": 0,
                    "min": "0.0",
                    "max": "0.5",
                    "histogram": [
                      {
                        "bin_start": 0,
                        "bin_end": 0.05,
                        "count": 1
                      },
                      {
                        "bin_start": 0.05,
                        "bin_end": 0.1,
                        "count": 0
                      },
                      {
                        "bin_start": 0.1,
                        "bin_end": 0.15000000000000002,
                        "count": 0
                      },
                      {
                        "bin_start": 0.15000000000000002,
                        "bin_end": 0.2,
                        "count": 0
                      },
                      {
                        "bin_start": 0.2,
                        "bin_end": 0.25,
                        "count": 0
                      },
                      {
                        "bin_start": 0.25,
                        "bin_end": 0.30000000000000004,
                        "count": 0
                      },
                      {
                        "bin_start": 0.30000000000000004,
                        "bin_end": 0.35000000000000003,
                        "count": 0
                      },
                      {
                        "bin_start": 0.35000000000000003,
                        "bin_end": 0.4,
                        "count": 0
                      },
                      {
                        "bin_start": 0.4,
                        "bin_end": 0.45,
                        "count": 0
                      },
                      {
                        "bin_start": 0.45,
                        "bin_end": 0.5,
                        "count": 2
                      }
                    ]
                  }
                },
                {
                  "name": "false_positive",
                  "dtype": "float64",
                  "stats": {
                    "unique_count": 2,
                    "nan_count": 0,
                    "min": "0.5",
                    "max": "1.0",
                    "histogram": [
                      {
                        "bin_start": 0.5,
                        "bin_end": 0.55,
                        "count": 2
                      },
                      {
                        "bin_start": 0.55,
                        "bin_end": 0.6,
                        "count": 0
                      },
                      {
                        "bin_start": 0.6,
                        "bin_end": 0.65,
                        "count": 0
                      },
                      {
                        "bin_start": 0.65,
                        "bin_end": 0.7,
                        "count": 0
                      },
                      {
                        "bin_start": 0.7,
                        "bin_end": 0.75,
                        "count": 0
                      },
                      {
                        "bin_start": 0.75,
                        "bin_end": 0.8,
                        "count": 0
                      },
                      {
                        "bin_start": 0.8,
                        "bin_end": 0.8500000000000001,
                        "count": 0
                      },
                      {
                        "bin_start": 0.8500000000000001,
                        "bin_end": 0.9,
                        "count": 0
                      },
                      {
                        "bin_start": 0.9,
                        "bin_end": 0.95,
                        "count": 0
                      },
                      {
                        "bin_start": 0.95,
                        "bin_end": 1,
                        "count": 1
                      }
                    ]
                  }
                },
                {
                  "name": "true_negative",
                  "dtype": "float64",
                  "stats": {
                    "unique_count": 2,
                    "nan_count": 0,
                    "min": "0.65625",
                    "max": "0.6774193548387096",
                    "histogram": [
                      {
                        "bin_start": 0.65625,
                        "bin_end": 0.6583669354838709,
                        "count": 1
                      },
                      {
                        "bin_start": 0.6583669354838709,
                        "bin_end": 0.660483870967742,
                        "count": 0
                      },
                      {
                        "bin_start": 0.660483870967742,
                        "bin_end": 0.6626008064516129,
                        "count": 0
                      },
                      {
                        "bin_start": 0.6626008064516129,
                        "bin_end": 0.6647177419354838,
                        "count": 0
                      },
                      {
                        "bin_start": 0.6647177419354838,
                        "bin_end": 0.6668346774193548,
                        "count": 0
                      },
                      {
                        "bin_start": 0.6668346774193548,
                        "bin_end": 0.6689516129032258,
                        "count": 0
                      },
                      {
                        "bin_start": 0.6689516129032258,
                        "bin_end": 0.6710685483870967,
                        "count": 0
                      },
                      {
                        "bin_start": 0.6710685483870967,
                        "bin_end": 0.6731854838709677,
                        "count": 0
                      },
                      {
                        "bin_start": 0.6731854838709677,
                        "bin_end": 0.6753024193548387,
                        "count": 0
                      },
                      {
                        "bin_start": 0.6753024193548387,
                        "bin_end": 0.6774193548387096,
                        "count": 2
                      }
                    ]
                  }
                },
                {
                  "name": "false_negative",
                  "dtype": "float64",
                  "stats": {
                    "unique_count": 2,
                    "nan_count": 0,
                    "min": "0.32258064516129037",
                    "max": "0.34375",
                    "histogram": [
                      {
                        "bin_start": 0.32258064516129037,
                        "bin_end": 0.32469758064516135,
                        "count": 2
                      },
                      {
                        "bin_start": 0.32469758064516135,
                        "bin_end": 0.3268145161290323,
                        "count": 0
                      },
                      {
                        "bin_start": 0.3268145161290323,
                        "bin_end": 0.32893145161290327,
                        "count": 0
                      },
                      {
                        "bin_start": 0.32893145161290327,
                        "bin_end": 0.3310483870967742,
                        "count": 0
                      },
                      {
                        "bin_start": 0.3310483870967742,
                        "bin_end": 0.3331653225806452,
                        "count": 0
                      },
                      {
                        "bin_start": 0.3331653225806452,
                        "bin_end": 0.33528225806451617,
                        "count": 0
                      },
                      {
                        "bin_start": 0.33528225806451617,
                        "bin_end": 0.3373991935483871,
                        "count": 0
                      },
                      {
                        "bin_start": 0.3373991935483871,
                        "bin_end": 0.3395161290322581,
                        "count": 0
                      },
                      {
                        "bin_start": 0.3395161290322581,
                        "bin_end": 0.341633064516129,
                        "count": 0
                      },
                      {
                        "bin_start": 0.341633064516129,
                        "bin_end": 0.34375,
                        "count": 1
                      }
                    ]
                  }
                },
                {
                  "name": "_deepnote_index_column",
                  "dtype": "int64"
                }
              ],
              "rows_top": [
                {
                  "true_positive": 0,
                  "false_positive": 1,
                  "true_negative": 0.65625,
                  "false_negative": 0.34375,
                  "_deepnote_index_column": 1
                },
                {
                  "true_positive": 0.5,
                  "false_positive": 0.5,
                  "true_negative": 0.6774193548387096,
                  "false_negative": 0.32258064516129037,
                  "_deepnote_index_column": 10
                },
                {
                  "true_positive": 0.5,
                  "false_positive": 0.5,
                  "true_negative": 0.6774193548387096,
                  "false_negative": 0.32258064516129037,
                  "_deepnote_index_column": 100
                }
              ],
              "rows_bottom": null
            },
            "text/plain": "     true_positive  false_positive  true_negative  false_negative\n1              0.0             1.0       0.656250        0.343750\n10             0.5             0.5       0.677419        0.322581\n100            0.5             0.5       0.677419        0.322581",
            "text/html": "<div>\n<style scoped>\n    .dataframe tbody tr th:only-of-type {\n        vertical-align: middle;\n    }\n\n    .dataframe tbody tr th {\n        vertical-align: top;\n    }\n\n    .dataframe thead th {\n        text-align: right;\n    }\n</style>\n<table border=\"1\" class=\"dataframe\">\n  <thead>\n    <tr style=\"text-align: right;\">\n      <th></th>\n      <th>true_positive</th>\n      <th>false_positive</th>\n      <th>true_negative</th>\n      <th>false_negative</th>\n    </tr>\n  </thead>\n  <tbody>\n    <tr>\n      <th>1</th>\n      <td>0.0</td>\n      <td>1.0</td>\n      <td>0.656250</td>\n      <td>0.343750</td>\n    </tr>\n    <tr>\n      <th>10</th>\n      <td>0.5</td>\n      <td>0.5</td>\n      <td>0.677419</td>\n      <td>0.322581</td>\n    </tr>\n    <tr>\n      <th>100</th>\n      <td>0.5</td>\n      <td>0.5</td>\n      <td>0.677419</td>\n      <td>0.322581</td>\n    </tr>\n  </tbody>\n</table>\n</div>"
          },
          "metadata": {}
        }
      ]
    },
    {
      "cell_type": "markdown",
      "source": "# Task 3: open question\nUse the data to formulate, motivate, answer, and discuss another research question of your choice. You may use other data or features here, that we did not\ncover",
      "metadata": {
        "tags": [],
        "cell_id": "00016-a34d0ca6-4ad9-47c7-9629-e46a064730fa",
        "deepnote_cell_type": "markdown"
      }
    },
    {
      "cell_type": "markdown",
      "source": "## Research Question: How effective is checking skin lesions for asymmetry, border, and colour in diagnosing Melanomas?",
      "metadata": {
        "tags": [],
        "cell_id": "00045-e4b4255b-5291-47e0-b337-9338fdf03db0",
        "deepnote_cell_type": "markdown"
      }
    },
    {
      "cell_type": "markdown",
      "source": "#### Cleaning the External Data\nThe data is cleaned based on resolution, blurriness, and contrast.",
      "metadata": {
        "tags": [],
        "cell_id": "00059-6033e1d2-ab65-4f07-86a4-1863f05af67e",
        "deepnote_cell_type": "markdown"
      }
    },
    {
      "cell_type": "code",
      "metadata": {
        "tags": [],
        "cell_id": "00060-3fc5e29e-0fb0-45cc-85b4-da557a46db20",
        "deepnote_to_be_reexecuted": true,
        "source_hash": "e9dc025f",
        "execution_millis": 15,
        "deepnote_cell_type": "code"
      },
      "source": "df_test",
      "execution_count": null,
      "outputs": [
        {
          "output_type": "execute_result",
          "execution_count": 231,
          "data": {
            "text/plain": "array([[-1.16985054,  0.4497183 ],\n       [-1.29039495, -0.6180586 ],\n       [ 0.26082796, -0.03854727],\n       [-0.00573968,  0.60061003],\n       [-0.36547042, -0.26779379],\n       [-1.18962735,  0.16189128],\n       [ 1.49853067,  1.22521936],\n       [-1.3045669 , -0.81982386],\n       [-1.32734203, -0.51676929],\n       [ 0.7076834 , -0.21439413],\n       [ 2.61728371,  1.46839541],\n       [-1.32209853, -0.69285025],\n       [ 0.55110815, -1.41775756],\n       [-1.22632066, -0.19879993],\n       [-1.2103155 , -0.00399447],\n       [-0.14761764, -0.96153266],\n       [-1.31608442, -0.77434849],\n       [-1.42853308,  1.75051522],\n       [ 0.47014269, -0.41323003],\n       [ 0.81644461, -0.14240489],\n       [ 0.8202128 ,  0.12933134],\n       [-1.22244389, -0.4347418 ],\n       [ 0.2909625 ,  0.88714721],\n       [-0.96531156, -0.37961425],\n       [ 0.62038911, -0.3707064 ],\n       [ 1.18273847,  1.35962237],\n       [ 0.32254586,  0.39872868],\n       [-1.37117164,  0.8647079 ],\n       [ 2.19640346, -1.25244431],\n       [ 1.21271717, -1.02629351],\n       [-1.12903109, -0.93161803],\n       [-0.82583652, -0.23525704],\n       [-0.01546827,  0.19925491]])"
          },
          "metadata": {}
        }
      ]
    },
    {
      "cell_type": "markdown",
      "source": "#### Predicting the Diagnosis",
      "metadata": {
        "tags": [],
        "cell_id": "00061-5292882c-011f-48cb-b8c4-ff6110a543bc",
        "deepnote_cell_type": "markdown"
      }
    },
    {
      "cell_type": "markdown",
      "source": "",
      "metadata": {
        "tags": [],
        "cell_id": "00062-027ab979-78d6-4246-bb8c-442a8c4a13a9",
        "deepnote_cell_type": "markdown"
      }
    },
    {
      "cell_type": "markdown",
      "source": "<a style='text-decoration:none;line-height:16px;display:flex;color:#5B5B62;padding:10px;justify-content:end;' href='https://deepnote.com?utm_source=created-in-deepnote-cell&projectId=6c6ff636-1d68-49e2-b04b-ee0d9895f3db' target=\"_blank\">\n<img alt='Created in deepnote.com' style='display:inline;max-height:16px;margin:0px;margin-right:7.5px;' src='data:image/svg+xml;base64,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' > </img>\nCreated in <span style='font-weight:600;margin-left:4px;'>Deepnote</span></a>",
      "metadata": {
        "tags": [],
        "created_in_deepnote_cell": true,
        "deepnote_cell_type": "markdown"
      }
    }
  ],
  "nbformat": 4,
  "nbformat_minor": 2,
  "metadata": {
    "orig_nbformat": 2,
    "deepnote_notebook_id": "e50eb8b2-04a0-4ded-9e69-06ff860d3ad0",
    "deepnote": {},
    "deepnote_execution_queue": []
  }
}